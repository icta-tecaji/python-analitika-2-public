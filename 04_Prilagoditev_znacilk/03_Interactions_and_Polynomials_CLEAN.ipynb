{
 "cells": [
  {
   "cell_type": "markdown",
   "id": "7e701063",
   "metadata": {},
   "source": [
    "# Interactions and Polynomials"
   ]
  },
  {
   "cell_type": "code",
   "execution_count": null,
   "id": "14ed0d2d",
   "metadata": {},
   "outputs": [],
   "source": [
    "import pandas as pd\n",
    "import numpy as np\n",
    "%matplotlib inline\n",
    "import matplotlib.pyplot as plt"
   ]
  },
  {
   "cell_type": "code",
   "execution_count": null,
   "id": "ba076feb",
   "metadata": {},
   "outputs": [],
   "source": [
    "from sklearn.linear_model import LinearRegression\n",
    "from sklearn.tree import DecisionTreeRegressor\n",
    "from sklearn.preprocessing import KBinsDiscretizer\n",
    "from helpers.datasets import make_wave\n",
    "\n",
    "X, y = make_wave(n_samples=100)\n",
    "line = np.linspace(-3, 3, 1000, endpoint=False).reshape(-1, 1)\n",
    "\n",
    "kb = KBinsDiscretizer(n_bins=10, strategy='uniform', encode='onehot-dense')\n",
    "kb.fit(X)\n",
    "X_binned = kb.transform(X)"
   ]
  },
  {
   "cell_type": "code",
   "execution_count": null,
   "id": "3291fb48",
   "metadata": {},
   "outputs": [],
   "source": [
    "X_combined = np.hstack([X, X_binned])\n",
    "print(X_combined.shape)"
   ]
  },
  {
   "cell_type": "code",
   "execution_count": null,
   "id": "5db1a471",
   "metadata": {},
   "outputs": [],
   "source": [
    "X_combined[:3]"
   ]
  },
  {
   "cell_type": "code",
   "execution_count": null,
   "id": "e5b2f676",
   "metadata": {},
   "outputs": [],
   "source": [
    "line_binned = kb.transform(line)\n",
    "reg = LinearRegression().fit(X_combined, y)\n",
    "\n",
    "line_combined = np.hstack([line, line_binned])\n",
    "\n",
    "plt.figure(figsize=(7,7))\n",
    "plt.plot(line, reg.predict(line_combined), label='linear regression combined')\n",
    "\n",
    "plt.vlines(kb.bin_edges_[0], -3, 3, linewidth=1, alpha=.2)\n",
    "plt.legend(loc=\"best\")\n",
    "plt.ylabel(\"Regression output\")\n",
    "plt.xlabel(\"Input feature\")\n",
    "plt.plot(X[:, 0], y, 'o', c='k')\n",
    "plt.show()"
   ]
  },
  {
   "cell_type": "code",
   "execution_count": null,
   "id": "bac17a2f",
   "metadata": {},
   "outputs": [],
   "source": [
    "X_product = np.hstack([X_binned, X * X_binned])\n",
    "print(X_product.shape)"
   ]
  },
  {
   "cell_type": "code",
   "execution_count": null,
   "id": "21692343",
   "metadata": {},
   "outputs": [],
   "source": [
    "X_product[:2]"
   ]
  },
  {
   "cell_type": "code",
   "execution_count": null,
   "id": "36980075",
   "metadata": {},
   "outputs": [],
   "source": [
    "reg = LinearRegression().fit(X_product, y)\n",
    "\n",
    "line_product = np.hstack([line_binned, line * line_binned])\n",
    "plt.plot(line, reg.predict(line_product), label='linear regression product')\n",
    "\n",
    "plt.vlines(kb.bin_edges_[0], -3, 3, linewidth=1, alpha=.2)\n",
    "\n",
    "plt.plot(X[:, 0], y, 'o', c='k')\n",
    "plt.ylabel(\"Regression output\")\n",
    "plt.xlabel(\"Input feature\")\n",
    "plt.legend(loc=\"best\")\n",
    "plt.show()"
   ]
  },
  {
   "cell_type": "code",
   "execution_count": null,
   "id": "71f4d751",
   "metadata": {},
   "outputs": [],
   "source": [
    "from sklearn.preprocessing import PolynomialFeatures\n",
    "\n",
    "# include polynomials up to x ** 10:\n",
    "# the default \"include_bias=True\" adds a feature that's constantly 1\n",
    "poly = PolynomialFeatures(degree=10, include_bias=False)\n",
    "poly.fit(X)\n",
    "X_poly = poly.transform(X)"
   ]
  },
  {
   "cell_type": "code",
   "execution_count": null,
   "id": "df88e6a7",
   "metadata": {},
   "outputs": [],
   "source": [
    "print(f\"X_poly.shape: {X_poly.shape}\")"
   ]
  },
  {
   "cell_type": "code",
   "execution_count": null,
   "id": "52487196",
   "metadata": {},
   "outputs": [],
   "source": [
    "print(f\"Entries of X:\\n{X[:5]}\")\n",
    "print(f\"Entries of X_poly:\\n{X_poly[:5]}\")"
   ]
  },
  {
   "cell_type": "code",
   "execution_count": null,
   "id": "8b742063",
   "metadata": {},
   "outputs": [],
   "source": [
    "print(f\"Polynomial feature names:\\n{poly.get_feature_names_out()}\")"
   ]
  },
  {
   "cell_type": "code",
   "execution_count": null,
   "id": "869cf6bb",
   "metadata": {},
   "outputs": [],
   "source": [
    "reg = LinearRegression().fit(X_poly, y)\n",
    "\n",
    "line_poly = poly.transform(line)\n",
    "plt.plot(line, reg.predict(line_poly), label='polynomial linear regression')\n",
    "plt.plot(X[:, 0], y, 'o', c='k')\n",
    "plt.ylabel(\"Regression output\")\n",
    "plt.xlabel(\"Input feature\")\n",
    "plt.legend(loc=\"best\")\n",
    "plt.show()"
   ]
  },
  {
   "cell_type": "code",
   "execution_count": null,
   "id": "b712784e",
   "metadata": {},
   "outputs": [],
   "source": [
    "from ipywidgets import interact\n",
    "\n",
    "def plot_ploynomal_interactive():\n",
    "    def interactive_polynomal(degree):\n",
    "        poly = PolynomialFeatures(degree=degree, include_bias=False)\n",
    "        poly.fit(X)\n",
    "        X_poly = poly.transform(X)\n",
    "        \n",
    "        reg = LinearRegression().fit(X_poly, y)\n",
    "        line_poly = poly.transform(line)\n",
    "        plt.plot(line, reg.predict(line_poly), label='polynomial linear regression')\n",
    "        plt.plot(X[:, 0], y, 'o', c='k')\n",
    "        plt.ylabel(\"Regression output\")\n",
    "        plt.xlabel(\"Input feature\")\n",
    "        plt.legend(loc=\"best\")\n",
    "    return interact(interactive_polynomal, degree=list(range(1,15)))\n",
    "\n",
    "plot_ploynomal_interactive()\n",
    "plt.show()"
   ]
  },
  {
   "cell_type": "code",
   "execution_count": null,
   "id": "8bb9a1ef",
   "metadata": {},
   "outputs": [],
   "source": [
    "from sklearn.svm import SVR\n",
    "\n",
    "for gamma in [1, 10]:\n",
    "    svr = SVR(gamma=gamma).fit(X, y)\n",
    "    plt.plot(line, svr.predict(line), label='SVR gamma={}'.format(gamma))\n",
    "\n",
    "plt.plot(X[:, 0], y, 'o', c='k')\n",
    "plt.ylabel(\"Regression output\")\n",
    "plt.xlabel(\"Input feature\")\n",
    "plt.legend(loc=\"best\")\n",
    "plt.show()"
   ]
  },
  {
   "cell_type": "code",
   "execution_count": null,
   "id": "b3963cd0",
   "metadata": {},
   "outputs": [],
   "source": [
    "from sklearn.model_selection import train_test_split\n",
    "from sklearn.preprocessing import MinMaxScaler\n",
    "\n",
    "data_url = \"http://lib.stat.cmu.edu/datasets/boston\"\n",
    "raw_df = pd.read_csv(data_url, sep=\"\\s+\", skiprows=22, header=None)\n",
    "X = np.hstack([raw_df.values[::2, :], raw_df.values[1::2, :2]])\n",
    "y = raw_df.values[1::2, 2]\n",
    "    \n",
    "X_train, X_test, y_train, y_test = train_test_split(X, y, random_state=0)\n",
    "\n",
    "# rescale data\n",
    "scaler = MinMaxScaler()\n",
    "X_train_scaled = scaler.fit_transform(X_train)\n",
    "X_test_scaled = scaler.transform(X_test)"
   ]
  },
  {
   "cell_type": "code",
   "execution_count": null,
   "id": "d742fc2d",
   "metadata": {},
   "outputs": [],
   "source": [
    "poly = PolynomialFeatures(degree=2).fit(X_train_scaled)\n",
    "X_train_poly = poly.transform(X_train_scaled)\n",
    "X_test_poly = poly.transform(X_test_scaled)\n",
    "print(f\"X_train.shape: {X_train.shape}\")\n",
    "print(f\"X_train_poly.shape: {X_train_poly.shape}\")"
   ]
  },
  {
   "cell_type": "code",
   "execution_count": null,
   "id": "6d5bc54c",
   "metadata": {},
   "outputs": [],
   "source": [
    "print(f\"Polynomial feature names:\\n{poly.get_feature_names_out()}\")"
   ]
  },
  {
   "cell_type": "code",
   "execution_count": null,
   "id": "dd73f117",
   "metadata": {},
   "outputs": [],
   "source": [
    "from sklearn.linear_model import Ridge\n",
    "\n",
    "ridge = Ridge().fit(X_train_scaled, y_train)\n",
    "print(f\"Score without interactions: {ridge.score(X_test_scaled, y_test):.3f}\")\n",
    "\n",
    "ridge = Ridge().fit(X_train_poly, y_train)\n",
    "print(f\"Score with interactions: {ridge.score(X_test_poly, y_test):.3f}\")"
   ]
  }
 ],
 "metadata": {
  "kernelspec": {
   "display_name": "Python 3 (ipykernel)",
   "language": "python",
   "name": "python3"
  },
  "language_info": {
   "codemirror_mode": {
    "name": "ipython",
    "version": 3
   },
   "file_extension": ".py",
   "mimetype": "text/x-python",
   "name": "python",
   "nbconvert_exporter": "python",
   "pygments_lexer": "ipython3",
   "version": "3.8.10"
  }
 },
 "nbformat": 4,
 "nbformat_minor": 5
}
