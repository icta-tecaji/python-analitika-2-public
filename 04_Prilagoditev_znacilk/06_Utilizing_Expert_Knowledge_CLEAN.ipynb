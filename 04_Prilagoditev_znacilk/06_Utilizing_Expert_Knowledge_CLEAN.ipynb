{
 "cells": [
  {
   "cell_type": "markdown",
   "id": "e2af04b1",
   "metadata": {},
   "source": [
    "# Utilizing Expert Knowledge"
   ]
  },
  {
   "cell_type": "code",
   "execution_count": null,
   "id": "99be87f7",
   "metadata": {},
   "outputs": [],
   "source": [
    "import pandas as pd\n",
    "import numpy as np\n",
    "%matplotlib inline\n",
    "import matplotlib.pyplot as plt"
   ]
  },
  {
   "cell_type": "code",
   "execution_count": null,
   "id": "d0896f68",
   "metadata": {},
   "outputs": [],
   "source": [
    "citibike = pd.read_csv(\"data/citibike.csv\")"
   ]
  },
  {
   "cell_type": "code",
   "execution_count": null,
   "id": "9a68dd3d",
   "metadata": {},
   "outputs": [],
   "source": [
    "citibike.head()"
   ]
  },
  {
   "cell_type": "code",
   "execution_count": null,
   "id": "867646d3",
   "metadata": {},
   "outputs": [],
   "source": [
    "citibike[\"start station name\"].unique()"
   ]
  },
  {
   "cell_type": "code",
   "execution_count": null,
   "id": "6351ebd8",
   "metadata": {},
   "outputs": [],
   "source": [
    "citibike['one'] = 1\n",
    "citibike['starttime'] = pd.to_datetime(citibike['starttime'])\n",
    "citibike = citibike.set_index(\"starttime\")\n",
    "citibike = citibike.resample(\"3h\").sum().fillna(0)"
   ]
  },
  {
   "cell_type": "code",
   "execution_count": null,
   "id": "7aee9fb8",
   "metadata": {},
   "outputs": [],
   "source": [
    "citibike = citibike[\"one\"]"
   ]
  },
  {
   "cell_type": "code",
   "execution_count": null,
   "id": "95dec93b",
   "metadata": {},
   "outputs": [],
   "source": [
    "citibike.head()"
   ]
  },
  {
   "cell_type": "code",
   "execution_count": null,
   "id": "efbd6c0a",
   "metadata": {},
   "outputs": [],
   "source": [
    "import matplotlib.dates as mdates\n",
    "\n",
    "plt.figure(figsize=(10, 3))\n",
    "plt.gca().xaxis.set_major_formatter(mdates.DateFormatter(\"%a %m-%d\"))\n",
    "plt.gca().xaxis.set_major_locator(mdates.DayLocator(interval=2))\n",
    "plt.plot(citibike, linewidth=1)\n",
    "plt.gcf().autofmt_xdate()\n",
    "plt.xlabel(\"Date\")\n",
    "plt.ylabel(\"Rentals\")\n",
    "plt.show()"
   ]
  },
  {
   "cell_type": "code",
   "execution_count": null,
   "id": "8a3c652c",
   "metadata": {},
   "outputs": [],
   "source": [
    "# extract the target values (number of rentals)\n",
    "y = citibike.values"
   ]
  },
  {
   "cell_type": "code",
   "execution_count": null,
   "id": "c6088c58",
   "metadata": {},
   "outputs": [],
   "source": [
    "# convert to POSIX time by dividing by 10**9\n",
    "X = citibike.index.view(np.int64).reshape(-1, 1) // 10 ** 9"
   ]
  },
  {
   "cell_type": "code",
   "execution_count": null,
   "id": "cad35824",
   "metadata": {},
   "outputs": [],
   "source": [
    "X.shape"
   ]
  },
  {
   "cell_type": "code",
   "execution_count": null,
   "id": "46690a6a",
   "metadata": {},
   "outputs": [],
   "source": [
    "X[:5]"
   ]
  },
  {
   "cell_type": "code",
   "execution_count": null,
   "id": "be9292dd",
   "metadata": {},
   "outputs": [],
   "source": [
    "# use the first 184 data points for training, and the rest for testing\n",
    "n_train = 184\n",
    "xticks = pd.date_range(start=citibike.index.min(), end=citibike.index.max(), freq='D')\n",
    "\n",
    "# function to evaluate and plot a regressor on a given feature set\n",
    "def eval_on_features(features, target, regressor):\n",
    "    # split the given features into a training and a test set\n",
    "    X_train, X_test = features[:n_train], features[n_train:]\n",
    "    # also split the target array\n",
    "    y_train, y_test = target[:n_train], target[n_train:]\n",
    "    regressor.fit(X_train, y_train)\n",
    "    print(f\"Test-set R^2: {regressor.score(X_test, y_test):.2f}\")\n",
    "    y_pred = regressor.predict(X_test)\n",
    "    y_pred_train = regressor.predict(X_train)\n",
    "    plt.figure(figsize=(10, 3))\n",
    "    plt.xticks(range(0, len(X), 8), xticks.strftime(\"%a %m-%d\"), rotation=90, ha=\"left\")\n",
    "    plt.plot(range(n_train), y_train, label=\"train\")\n",
    "    plt.plot(range(n_train, len(y_test) + n_train), y_test, '-', label=\"test\")\n",
    "    plt.plot(range(n_train), y_pred_train, '--', label=\"prediction train\")\n",
    "    plt.plot(range(n_train, len(y_test) + n_train), y_pred, '--', label=\"prediction test\")\n",
    "    plt.legend(loc=(1.01, 0))\n",
    "    plt.xlabel(\"Date\")\n",
    "    plt.ylabel(\"Rentals\")"
   ]
  },
  {
   "cell_type": "code",
   "execution_count": null,
   "id": "de12f723",
   "metadata": {},
   "outputs": [],
   "source": [
    "from sklearn.ensemble import RandomForestRegressor\n",
    "\n",
    "regressor = RandomForestRegressor(n_estimators=100, random_state=0)\n",
    "eval_on_features(X, y, regressor)"
   ]
  },
  {
   "cell_type": "code",
   "execution_count": null,
   "id": "053e8869",
   "metadata": {},
   "outputs": [],
   "source": [
    "X_hour = citibike.index.hour.values.reshape(-1, 1)"
   ]
  },
  {
   "cell_type": "code",
   "execution_count": null,
   "id": "79675e1a",
   "metadata": {},
   "outputs": [],
   "source": [
    "print(X_hour[:12])"
   ]
  },
  {
   "cell_type": "code",
   "execution_count": null,
   "id": "027f70c8",
   "metadata": {},
   "outputs": [],
   "source": [
    "eval_on_features(X_hour, y, regressor)"
   ]
  },
  {
   "cell_type": "code",
   "execution_count": null,
   "id": "0934aef9",
   "metadata": {},
   "outputs": [],
   "source": [
    "X_hour_week = np.hstack([citibike.index.dayofweek.values.reshape(-1, 1), citibike.index.hour.values.reshape(-1, 1)])"
   ]
  },
  {
   "cell_type": "code",
   "execution_count": null,
   "id": "43c3638b",
   "metadata": {},
   "outputs": [],
   "source": [
    "X_hour_week[:10]"
   ]
  },
  {
   "cell_type": "code",
   "execution_count": null,
   "id": "ea55b9e9",
   "metadata": {},
   "outputs": [],
   "source": [
    "eval_on_features(X_hour_week, y, regressor)"
   ]
  },
  {
   "cell_type": "code",
   "execution_count": null,
   "id": "fd563532",
   "metadata": {},
   "outputs": [],
   "source": [
    "from sklearn.linear_model import LinearRegression\n",
    "\n",
    "eval_on_features(X_hour_week, y, LinearRegression())"
   ]
  },
  {
   "cell_type": "code",
   "execution_count": null,
   "id": "71019ba6",
   "metadata": {},
   "outputs": [],
   "source": [
    "from sklearn.preprocessing import OneHotEncoder\n",
    "\n",
    "enc = OneHotEncoder()\n",
    "\n",
    "X_hour_week_onehot = enc.fit_transform(X_hour_week).toarray()"
   ]
  },
  {
   "cell_type": "code",
   "execution_count": null,
   "id": "38737e50",
   "metadata": {},
   "outputs": [],
   "source": [
    "X_hour_week_onehot[:5]"
   ]
  },
  {
   "cell_type": "code",
   "execution_count": null,
   "id": "02b47716",
   "metadata": {},
   "outputs": [],
   "source": [
    "from sklearn.linear_model import Ridge\n",
    "\n",
    "eval_on_features(X_hour_week_onehot, y, Ridge())"
   ]
  },
  {
   "cell_type": "code",
   "execution_count": null,
   "id": "ee629e61",
   "metadata": {},
   "outputs": [],
   "source": [
    "from sklearn.preprocessing import PolynomialFeatures\n",
    "\n",
    "poly_transformer = PolynomialFeatures(degree=2, interaction_only=True, include_bias=False)\n",
    "\n",
    "X_hour_week_onehot_poly = poly_transformer.fit_transform(X_hour_week_onehot)\n",
    "\n",
    "lr = Ridge()\n",
    "eval_on_features(X_hour_week_onehot_poly, y, lr)"
   ]
  },
  {
   "cell_type": "code",
   "execution_count": null,
   "id": "244dcba2",
   "metadata": {},
   "outputs": [],
   "source": [
    "hour = [\"%02d:00\" % i for i in range(0, 24, 3)]\n",
    "day = [\"Mon\", \"Tue\", \"Wed\", \"Thu\", \"Fri\", \"Sat\", \"Sun\"]\n",
    "features =  day + hour"
   ]
  },
  {
   "cell_type": "code",
   "execution_count": null,
   "id": "c830f61f",
   "metadata": {},
   "outputs": [],
   "source": [
    "features_poly = poly_transformer.get_feature_names_out(features)\n",
    "features_nonzero = np.array(features_poly)[lr.coef_ != 0]\n",
    "coef_nonzero = lr.coef_[lr.coef_ != 0]"
   ]
  },
  {
   "cell_type": "code",
   "execution_count": null,
   "id": "fdd624c3",
   "metadata": {},
   "outputs": [],
   "source": [
    "plt.figure(figsize=(15, 2))\n",
    "plt.plot(coef_nonzero, 'o')\n",
    "plt.xticks(np.arange(len(coef_nonzero)), features_nonzero, rotation=90)\n",
    "plt.xlabel(\"Feature name\")\n",
    "plt.ylabel(\"Feature magnitude\")\n",
    "plt.show()"
   ]
  }
 ],
 "metadata": {
  "kernelspec": {
   "display_name": "Python 3 (ipykernel)",
   "language": "python",
   "name": "python3"
  },
  "language_info": {
   "codemirror_mode": {
    "name": "ipython",
    "version": 3
   },
   "file_extension": ".py",
   "mimetype": "text/x-python",
   "name": "python",
   "nbconvert_exporter": "python",
   "pygments_lexer": "ipython3",
   "version": "3.8.10"
  }
 },
 "nbformat": 4,
 "nbformat_minor": 5
}
