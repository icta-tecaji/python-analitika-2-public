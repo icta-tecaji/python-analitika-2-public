{
 "cells": [
  {
   "cell_type": "markdown",
   "id": "dab3dffc",
   "metadata": {},
   "source": [
    "# Dimension Rduction"
   ]
  },
  {
   "cell_type": "code",
   "execution_count": null,
   "id": "9a6e3108",
   "metadata": {},
   "outputs": [],
   "source": [
    "import pandas as pd\n",
    "import numpy as np\n",
    "%matplotlib inline\n",
    "import matplotlib.pyplot as plt"
   ]
  },
  {
   "cell_type": "markdown",
   "id": "662ccb06",
   "metadata": {},
   "source": [
    "## Principal Component Analysis (PCA)"
   ]
  },
  {
   "cell_type": "markdown",
   "id": "907f5da9",
   "metadata": {},
   "source": [
    "**Principal component analysis** is a method that **rotates the dataset in a way such that\n",
    "the rotated features are statistically uncorrelated**. "
   ]
  },
  {
   "cell_type": "code",
   "execution_count": null,
   "id": "79cb650e",
   "metadata": {},
   "outputs": [],
   "source": [
    "from helpers.plot_pca import plot_pca_illustration\n",
    "\n",
    "plot_pca_illustration()"
   ]
  },
  {
   "cell_type": "markdown",
   "id": "6eb17ce3",
   "metadata": {},
   "source": [
    "### Applying PCA to the cancer dataset for visualization"
   ]
  },
  {
   "cell_type": "markdown",
   "id": "78a839c9",
   "metadata": {},
   "source": [
    "**One of the most common applications of PCA is visualizing high-dimensional datasets.**"
   ]
  },
  {
   "cell_type": "code",
   "execution_count": null,
   "id": "4498ef52",
   "metadata": {},
   "outputs": [],
   "source": [
    "from helpers import plot_helpers\n",
    "from sklearn.datasets import load_breast_cancer\n",
    "\n",
    "cancer = load_breast_cancer()\n",
    "\n",
    "fig, axes = plt.subplots(15, 2, figsize=(10, 20))\n",
    "malignant = cancer.data[cancer.target == 0]\n",
    "benign = cancer.data[cancer.target == 1]\n",
    "ax = axes.ravel()\n",
    "\n",
    "for i in range(30):\n",
    "    _, bins = np.histogram(cancer.data[:, i], bins=50)\n",
    "    ax[i].hist(malignant[:, i], bins=bins, color=plot_helpers.cm3(0), alpha=.5)\n",
    "    ax[i].hist(benign[:, i], bins=bins, color=plot_helpers.cm3(2), alpha=.5)\n",
    "    ax[i].set_title(cancer.feature_names[i])\n",
    "    ax[i].set_yticks(())\n",
    "    \n",
    "ax[0].set_xlabel(\"Feature magnitude\")\n",
    "ax[0].set_ylabel(\"Frequency\")\n",
    "ax[0].legend([\"malignant\", \"benign\"], loc=\"best\")\n",
    "fig.tight_layout()\n",
    "plt.show()"
   ]
  },
  {
   "cell_type": "code",
   "execution_count": null,
   "id": "8e8e1b1c",
   "metadata": {},
   "outputs": [],
   "source": [
    "from sklearn.datasets import load_breast_cancer\n",
    "from sklearn.preprocessing import StandardScaler\n",
    "\n",
    "cancer = load_breast_cancer()\n",
    "\n",
    "scaler = StandardScaler()\n",
    "scaler.fit(cancer.data)\n",
    "X_scaled = scaler.transform(cancer.data)"
   ]
  },
  {
   "cell_type": "code",
   "execution_count": null,
   "id": "3987ec04",
   "metadata": {},
   "outputs": [],
   "source": [
    "from sklearn.decomposition import PCA\n",
    "\n",
    "# keep the first two principal components of the data\n",
    "pca = PCA(n_components=2)\n",
    "\n",
    "# fit PCA model to breast cancer data\n",
    "pca.fit(X_scaled)"
   ]
  },
  {
   "cell_type": "code",
   "execution_count": null,
   "id": "b3aaefb7",
   "metadata": {},
   "outputs": [],
   "source": [
    "# transform data onto the first two principal components\n",
    "X_pca = pca.transform(X_scaled)\n",
    "print(f\"Original shape: {str(X_scaled.shape)}\")\n",
    "print(f\"Reduced shape: {str(X_pca.shape)}\")"
   ]
  },
  {
   "cell_type": "code",
   "execution_count": null,
   "id": "2eb14058",
   "metadata": {},
   "outputs": [],
   "source": [
    "from helpers.plot_helpers import discrete_scatter\n",
    "\n",
    "# plot first vs. second principal component, colored by class\n",
    "plt.figure(figsize=(8, 8))\n",
    "discrete_scatter(X_pca[:, 0], X_pca[:, 1], cancer.target)\n",
    "\n",
    "plt.legend(cancer.target_names, loc=\"best\")\n",
    "plt.gca().set_aspect(\"equal\")\n",
    "plt.xlabel(\"First principal component\")\n",
    "plt.ylabel(\"Second principal component\")\n",
    "\n",
    "plt.show()"
   ]
  },
  {
   "cell_type": "code",
   "execution_count": null,
   "id": "2bbbbf0c",
   "metadata": {},
   "outputs": [],
   "source": [
    "print(f\"PCA component shape: {pca.components_.shape}\")"
   ]
  },
  {
   "cell_type": "code",
   "execution_count": null,
   "id": "3dbcb06e",
   "metadata": {},
   "outputs": [],
   "source": [
    "print(f\"PCA components:\\n{pca.components_}\")"
   ]
  },
  {
   "cell_type": "markdown",
   "id": "d6e1696d",
   "metadata": {},
   "source": [
    "### Eigenfaces for feature extraction"
   ]
  },
  {
   "cell_type": "markdown",
   "id": "831d4643",
   "metadata": {},
   "source": [
    "**Another application of PCA that we mentioned earlier is feature extraction.**"
   ]
  },
  {
   "cell_type": "markdown",
   "id": "96b945a4",
   "metadata": {},
   "source": [
    "**A great\n",
    "example of an application where feature extraction is helpful is with images.**\n"
   ]
  },
  {
   "cell_type": "code",
   "execution_count": null,
   "id": "de208157",
   "metadata": {},
   "outputs": [],
   "source": [
    "from sklearn.datasets import fetch_lfw_people\n",
    "\n",
    "people = fetch_lfw_people(min_faces_per_person=20, resize=0.7)\n",
    "image_shape = people.images[0].shape\n",
    "\n",
    "fix, axes = plt.subplots(2, 5, figsize=(15, 8), subplot_kw={'xticks': (), 'yticks': ()})\n",
    "\n",
    "for target, image, ax in zip(people.target, people.images, axes.ravel()):\n",
    "    ax.imshow(image)\n",
    "    ax.set_title(people.target_names[target])\n",
    "    \n",
    "plt.show()"
   ]
  },
  {
   "cell_type": "code",
   "execution_count": null,
   "id": "68e4ed2e",
   "metadata": {},
   "outputs": [],
   "source": [
    "print(f\"people.images.shape: {people.images.shape}\")\n",
    "print(f\"Number of classes: {len(people.target_names)}\")"
   ]
  },
  {
   "cell_type": "code",
   "execution_count": null,
   "id": "67fc7636",
   "metadata": {},
   "outputs": [],
   "source": [
    "#count how often each target appears\n",
    "counts = np.bincount(people.target)\n",
    "\n",
    "# print counts next to target names\n",
    "for i, (count, name) in enumerate(zip(counts, people.target_names)):\n",
    "    print(f\"{name:25} {count:3}\", end=' ')\n",
    "    if (i + 1) % 3 == 0:\n",
    "        print()"
   ]
  },
  {
   "cell_type": "code",
   "execution_count": null,
   "id": "e11f0499",
   "metadata": {},
   "outputs": [],
   "source": [
    "mask = np.zeros(people.target.shape, dtype=bool)\n",
    "\n",
    "for target in np.unique(people.target):\n",
    "    mask[np.where(people.target == target)[0][:50]] = 1\n",
    "\n",
    "X_people = people.data[mask]\n",
    "y_people = people.target[mask]\n",
    "\n",
    "# scale the grayscale values to be between 0 and 1\n",
    "# instead of 0 and 255 for better numeric stability\n",
    "X_people = X_people / 255."
   ]
  },
  {
   "cell_type": "code",
   "execution_count": null,
   "id": "c0702e4f",
   "metadata": {},
   "outputs": [],
   "source": [
    "from sklearn.neighbors import KNeighborsClassifier\n",
    "from sklearn.model_selection import train_test_split\n",
    "\n",
    "# split the data into training and test sets\n",
    "X_train, X_test, y_train, y_test = train_test_split(X_people, y_people, stratify=y_people, random_state=0)\n",
    "\n",
    "# build a KNeighborsClassifier using one neighbor\n",
    "knn = KNeighborsClassifier(n_neighbors=1)\n",
    "knn.fit(X_train, y_train)\n",
    "\n",
    "print(f\"Test set score of 1-nn: {knn.score(X_test, y_test):.2f}\")"
   ]
  },
  {
   "cell_type": "code",
   "execution_count": null,
   "id": "c724dd86",
   "metadata": {},
   "outputs": [],
   "source": []
  },
  {
   "cell_type": "markdown",
   "id": "e4d599c4",
   "metadata": {},
   "source": [
    "**This is where PCA comes in. Computing distances in the original pixel space is quite\n",
    "a bad way to measure similarity between faces.**"
   ]
  },
  {
   "cell_type": "code",
   "execution_count": null,
   "id": "1e68c890",
   "metadata": {},
   "outputs": [],
   "source": [
    "from helpers.plot_pca import plot_pca_whitening\n",
    "\n",
    "plot_pca_whitening()"
   ]
  },
  {
   "cell_type": "code",
   "execution_count": null,
   "id": "f3bc88b6",
   "metadata": {},
   "outputs": [],
   "source": [
    "pca = PCA(n_components=100, whiten=True, random_state=0).fit(X_train)\n",
    "\n",
    "X_train_pca = pca.transform(X_train)\n",
    "X_test_pca = pca.transform(X_test)"
   ]
  },
  {
   "cell_type": "code",
   "execution_count": null,
   "id": "3fee2289",
   "metadata": {},
   "outputs": [],
   "source": [
    "print(f\"X_train_pca.shape: {X_train_pca.shape}\")"
   ]
  },
  {
   "cell_type": "code",
   "execution_count": null,
   "id": "56bb5123",
   "metadata": {},
   "outputs": [],
   "source": [
    "knn = KNeighborsClassifier(n_neighbors=1)\n",
    "knn.fit(X_train_pca, y_train)\n",
    "\n",
    "print(f\"Test set accuracy: {knn.score(X_test_pca, y_test):.2f}\")"
   ]
  },
  {
   "cell_type": "code",
   "execution_count": null,
   "id": "fc7d684a",
   "metadata": {},
   "outputs": [],
   "source": [
    "print(f\"pca.components_.shape: {pca.components_.shape}\")"
   ]
  },
  {
   "cell_type": "code",
   "execution_count": null,
   "id": "1dc3246b",
   "metadata": {},
   "outputs": [],
   "source": [
    "fix, axes = plt.subplots(3, 5, figsize=(15, 12), subplot_kw={'xticks': (), 'yticks': ()})\n",
    "\n",
    "for i, (component, ax) in enumerate(zip(pca.components_, axes.ravel())):\n",
    "    ax.imshow(component.reshape(image_shape), cmap='viridis')\n",
    "    ax.set_title(\"{}. component\".format((i + 1)))\n",
    "    \n",
    "plt.show()"
   ]
  },
  {
   "cell_type": "markdown",
   "id": "e015e90c",
   "metadata": {},
   "source": [
    "---"
   ]
  },
  {
   "cell_type": "code",
   "execution_count": null,
   "id": "b86b9d64",
   "metadata": {},
   "outputs": [],
   "source": [
    "from helpers.plot_pca import plot_pca_faces\n",
    "\n",
    "plot_pca_faces(X_train, X_test, image_shape)"
   ]
  },
  {
   "cell_type": "code",
   "execution_count": null,
   "id": "fa4ada25",
   "metadata": {},
   "outputs": [],
   "source": [
    "discrete_scatter(X_train_pca[:, 0], X_train_pca[:, 1], y_train)\n",
    "plt.xlabel(\"First principal component\")\n",
    "plt.ylabel(\"Second principal component\")\n",
    "plt.show()"
   ]
  },
  {
   "cell_type": "markdown",
   "id": "e2e1c36c",
   "metadata": {},
   "source": [
    "---"
   ]
  },
  {
   "cell_type": "markdown",
   "id": "cac1fdc4",
   "metadata": {},
   "source": [
    "## Non-Negative Matrix Factorization (NMF)"
   ]
  },
  {
   "cell_type": "markdown",
   "id": "ccdf452b",
   "metadata": {},
   "source": [
    "**Non-negative matrix factorization is another unsupervised learning algorithm that\n",
    "aims to extract useful features.**"
   ]
  },
  {
   "cell_type": "code",
   "execution_count": null,
   "id": "8568ad3d",
   "metadata": {},
   "outputs": [],
   "source": []
  },
  {
   "cell_type": "code",
   "execution_count": null,
   "id": "7644fada",
   "metadata": {},
   "outputs": [],
   "source": []
  },
  {
   "cell_type": "markdown",
   "id": "050a96cc",
   "metadata": {},
   "source": [
    "### Applying NMF to synthetic data"
   ]
  },
  {
   "cell_type": "code",
   "execution_count": null,
   "id": "d00a495f",
   "metadata": {},
   "outputs": [],
   "source": [
    "from helpers.plot_nmf import plot_nmf_illustration\n",
    "\n",
    "plot_nmf_illustration()"
   ]
  },
  {
   "cell_type": "code",
   "execution_count": null,
   "id": "44e47778",
   "metadata": {},
   "outputs": [],
   "source": []
  },
  {
   "cell_type": "code",
   "execution_count": null,
   "id": "63f1b823",
   "metadata": {},
   "outputs": [],
   "source": []
  },
  {
   "cell_type": "markdown",
   "id": "b29c6d47",
   "metadata": {},
   "source": [
    "### Example: Dimensionality Reduction in Eurovision Data"
   ]
  },
  {
   "cell_type": "code",
   "execution_count": null,
   "id": "c1ba64ee",
   "metadata": {},
   "outputs": [],
   "source": [
    "import seaborn as sns"
   ]
  },
  {
   "cell_type": "code",
   "execution_count": null,
   "id": "628a3fc9",
   "metadata": {},
   "outputs": [],
   "source": [
    "eurovision = pd.read_csv(\"data/eurovision-2016.csv\")\n",
    "televote_rank = eurovision.pivot(index='From country', columns='To country', values='Televote Rank')\n",
    "\n",
    "# fill NAs by min per country\n",
    "televote_rank.fillna(televote_rank.min(), inplace=True)\n",
    "televote_rank.head()"
   ]
  },
  {
   "cell_type": "code",
   "execution_count": null,
   "id": "e20193ed",
   "metadata": {},
   "outputs": [],
   "source": [
    "televote_rank.shape"
   ]
  },
  {
   "cell_type": "code",
   "execution_count": null,
   "id": "558d478a",
   "metadata": {},
   "outputs": [],
   "source": [
    "# Import NMF\n",
    "from sklearn.decomposition import NMF\n",
    " \n",
    "# Create an NMF instance: model\n",
    "model = NMF(n_components=2, init=\"random\", max_iter=5000)\n",
    " \n",
    "# Fit the model to televote_Rank\n",
    "model.fit(televote_rank)\n",
    " \n",
    "# Transform the televote_Rank: nmf_features\n",
    "nmf_features = model.transform(televote_rank)\n",
    " \n",
    "# Print the NMF features\n",
    "print(nmf_features.shape)\n",
    " \n",
    "print(model.components_.shape)"
   ]
  },
  {
   "cell_type": "code",
   "execution_count": null,
   "id": "a2df8c58",
   "metadata": {},
   "outputs": [],
   "source": [
    "nmf_features[:5]"
   ]
  },
  {
   "cell_type": "code",
   "execution_count": null,
   "id": "83cf6c5c",
   "metadata": {},
   "outputs": [],
   "source": [
    "plt.figure(figsize=(20,12))\n",
    "\n",
    "countries = np.array(televote_rank.index)\n",
    "xs = nmf_features[:,0]\n",
    " \n",
    "# Select the 1th feature: ys\n",
    "ys = nmf_features[:,1]\n",
    " \n",
    "# Scatter plot\n",
    "plt.scatter(xs, ys, alpha=0.5)\n",
    " \n",
    "# Annotate the points\n",
    "for x, y, countries in zip(xs, ys, countries):\n",
    "    plt.annotate(countries, (x, y), fontsize=10, alpha=0.5)\n",
    "    \n",
    "plt.show()"
   ]
  },
  {
   "cell_type": "markdown",
   "id": "cb1f278b",
   "metadata": {},
   "source": [
    "## Manifold Learning with t-SNE"
   ]
  },
  {
   "cell_type": "code",
   "execution_count": null,
   "id": "d09123bd",
   "metadata": {},
   "outputs": [],
   "source": [
    "from sklearn.datasets import load_digits\n",
    "\n",
    "digits = load_digits()\n",
    "fig, axes = plt.subplots(2, 5, figsize=(10, 5), subplot_kw={'xticks':(), 'yticks': ()})\n",
    "\n",
    "for ax, img in zip(axes.ravel(), digits.images):\n",
    "    ax.imshow(img)\n",
    "    \n",
    "plt.show()"
   ]
  },
  {
   "cell_type": "code",
   "execution_count": null,
   "id": "1e11d9c3",
   "metadata": {},
   "outputs": [],
   "source": [
    "# build a PCA model\n",
    "pca = PCA(n_components=2)\n",
    "pca.fit(digits.data)\n",
    "\n",
    "# transform the digits data onto the first two principal components\n",
    "digits_pca = pca.transform(digits.data)\n",
    "\n",
    "colors = [\"#476A2A\", \"#7851B8\", \"#BD3430\", \"#4A2D4E\", \"#875525\", \"#A83683\", \"#4E655E\", \"#853541\", \"#3A3120\", \"#535D8E\"]\n",
    "\n",
    "plt.figure(figsize=(10, 10))\n",
    "plt.xlim(digits_pca[:, 0].min(), digits_pca[:, 0].max())\n",
    "plt.ylim(digits_pca[:, 1].min(), digits_pca[:, 1].max())\n",
    "\n",
    "for i in range(len(digits.data)):\n",
    "    # actually plot the digits as text instead of using scatter\n",
    "    plt.text(digits_pca[i, 0], digits_pca[i, 1], str(digits.target[i]), color = colors[digits.target[i]], fontdict={'weight': 'bold', 'size': 9})\n",
    "\n",
    "plt.xlabel(\"First principal component\")\n",
    "plt.ylabel(\"Second principal component\")\n",
    "plt.show()"
   ]
  },
  {
   "cell_type": "code",
   "execution_count": null,
   "id": "3b7b5bcb",
   "metadata": {},
   "outputs": [],
   "source": [
    "from sklearn.manifold import TSNE\n",
    "\n",
    "tsne = TSNE(n_components=2, learning_rate=200, init=\"random\", random_state=42)\n",
    "\n",
    "# use fit_transform instead of fit, as TSNE has no transform method\n",
    "digits_tsne = tsne.fit_transform(digits.data)"
   ]
  },
  {
   "cell_type": "code",
   "execution_count": null,
   "id": "91ab2283",
   "metadata": {},
   "outputs": [],
   "source": [
    "plt.figure(figsize=(10, 10))\n",
    "plt.xlim(digits_tsne[:, 0].min(), digits_tsne[:, 0].max() + 1)\n",
    "plt.ylim(digits_tsne[:, 1].min(), digits_tsne[:, 1].max() + 1)\n",
    "\n",
    "for i in range(len(digits.data)):\n",
    "    # actually plot the digits as text instead of using scatter\n",
    "    plt.text(digits_tsne[i, 0], digits_tsne[i, 1], str(digits.target[i]), color = colors[digits.target[i]], fontdict={'weight': 'bold', 'size': 9})\n",
    "\n",
    "plt.xlabel(\"t-SNE feature 0\")\n",
    "plt.xlabel(\"t-SNE feature 1\")\n",
    "plt.show()"
   ]
  }
 ],
 "metadata": {
  "kernelspec": {
   "display_name": "Python 3 (ipykernel)",
   "language": "python",
   "name": "python3"
  },
  "language_info": {
   "codemirror_mode": {
    "name": "ipython",
    "version": 3
   },
   "file_extension": ".py",
   "mimetype": "text/x-python",
   "name": "python",
   "nbconvert_exporter": "python",
   "pygments_lexer": "ipython3",
   "version": "3.10.7"
  }
 },
 "nbformat": 4,
 "nbformat_minor": 5
}
