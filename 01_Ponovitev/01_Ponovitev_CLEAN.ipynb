{
 "cells": [
  {
   "cell_type": "markdown",
   "metadata": {},
   "source": [
    "Analizirali bomo podatke o SAT rezultatih na srednjih šolah v New York-u.\n",
    "\n",
    "SAT je standardizirani test (kot naša matura). Test opravijo vsi srednješolci in na podlagi rezultata se univerze odločajo glede sprejema oziroma zavrnitve vpisa študenta.\n",
    "\n",
    "Uprašanja kera imamo so:\n",
    "* Ali so bolj uspešni razredi z več ali z manj otroki.\n",
    "* Kateri kriteriji korelirajo z SAT rezultati\n",
    "* * ell_per - English language learners - procent otrok v razredu, ki se uči angleški jezik\n",
    "* * white_per - procent belih otrok\n",
    "* * black_per - procent črnih otrok\n",
    "* * asian_per - procent azijskih otrok\n",
    "* * hispanic_per - procent južnoameriških otrok"
   ]
  },
  {
   "cell_type": "markdown",
   "metadata": {},
   "source": [
    "## Uvoz podatkov"
   ]
  },
  {
   "cell_type": "markdown",
   "metadata": {},
   "source": [
    "sat_results_2012.csv hrani podatke o doseženih SAT rezultatih v letu 2012\n",
    "> V letu 2012 je bil test sestavljen iz 3 sklopov: \"Critical readig\", \"Math\" ,\"Writing\". Vsak sklop je bil vreden od 0 do 800 točk, skupaj 2400 točk.\n",
    "\n",
    "\n",
    "class_size_2010_2011.csv hrani podatke o velikosti razredov šol v letih 2010/2011 (ni ista letnica, vendar bomo operirali s temi podatki).\n",
    "> 9-12 razred pri njih pomeni High School\n",
    "\n",
    "demographics_2006_2012.csv hrani podatke o sestavi razredo od leta 2006 do 2012."
   ]
  },
  {
   "cell_type": "markdown",
   "metadata": {},
   "source": [
    "<div class=\"alert alert-block alert-info\">\n",
    "<b>Naloga: </b> \n",
    "Uvozite podatke. \n",
    "</div>"
   ]
  },
  {
   "cell_type": "code",
   "execution_count": null,
   "metadata": {},
   "outputs": [],
   "source": [
    "import pandas as pd\n",
    "\n",
    "sat_results =\n",
    "class_size =\n",
    "demographics ="
   ]
  },
  {
   "cell_type": "markdown",
   "metadata": {},
   "source": [
    "## Cleaning datasets"
   ]
  },
  {
   "cell_type": "markdown",
   "metadata": {},
   "source": [
    "<div class=\"alert alert-block alert-info\">\n",
    "<b>Naloga: </b> \n",
    "Preglejte sat_results dataset.\n",
    "Prikažite prvih 10 vrstic in izpišite osnovne informacije o datasetu (imena stolpcev, število vrstic, datatip stolpca)\n",
    "</div>\n"
   ]
  },
  {
   "cell_type": "code",
   "execution_count": null,
   "metadata": {},
   "outputs": [],
   "source": []
  },
  {
   "cell_type": "code",
   "execution_count": null,
   "metadata": {},
   "outputs": [],
   "source": []
  },
  {
   "cell_type": "markdown",
   "metadata": {},
   "source": [
    "<div class=\"alert alert-block alert-info\">\n",
    "<b>Naloga: </b> \n",
    "    Ustvarite nov stolpec <i>SAT Avg. Score</i> in vanj shranite seštevek vseh treh stolpcev.\n",
    "Vrstice z nepravilnimi vrednostmi odstranite.\n",
    "</div>\n"
   ]
  },
  {
   "cell_type": "code",
   "execution_count": null,
   "metadata": {},
   "outputs": [],
   "source": []
  },
  {
   "cell_type": "code",
   "execution_count": null,
   "metadata": {},
   "outputs": [],
   "source": []
  },
  {
   "cell_type": "markdown",
   "metadata": {},
   "source": [
    "<div class=\"alert alert-block alert-info\">\n",
    "<b>Naloga: </b> \n",
    "Izpišite prvih 5 vrstica class_size dataseta in izpišite osnovne informacije.</div>"
   ]
  },
  {
   "cell_type": "code",
   "execution_count": null,
   "metadata": {},
   "outputs": [],
   "source": []
  },
  {
   "cell_type": "code",
   "execution_count": null,
   "metadata": {},
   "outputs": [],
   "source": []
  },
  {
   "cell_type": "markdown",
   "metadata": {},
   "source": [
    "<div class=\"alert alert-block alert-info\">\n",
    "<b>Naloga: </b> \n",
    "V class_size datasetu obdržite le vrstice, ki se nanašajo na High School (vrednost 09-12 v GRAD stolpcu).\n",
    "</div>"
   ]
  },
  {
   "cell_type": "code",
   "execution_count": null,
   "metadata": {},
   "outputs": [],
   "source": []
  },
  {
   "cell_type": "code",
   "execution_count": null,
   "metadata": {},
   "outputs": [],
   "source": []
  },
  {
   "cell_type": "markdown",
   "metadata": {},
   "source": [
    "<div class=\"alert alert-block alert-info\">\n",
    "<b>Naloga: </b> \n",
    "Da bomo kasneje združili class_size in sat_results dataseta potrebujemo edinstven ključ po katerem ju bomo združili. Ta ključ je vrednost DBN (identifikacijska številka šole). DBN vrednosti v class_sizes ni, vendar pa jo lahko ustvarimo s pomočjo CSD in SCHOOL CODE stolpcev.\n",
    "    \n",
    "CSD vrednost mora biti 2-mestna številka kateri nato dodamo SCHOOL CODE.\n",
    "</div>"
   ]
  },
  {
   "cell_type": "code",
   "execution_count": null,
   "metadata": {},
   "outputs": [],
   "source": []
  },
  {
   "cell_type": "code",
   "execution_count": null,
   "metadata": {},
   "outputs": [],
   "source": []
  },
  {
   "cell_type": "markdown",
   "metadata": {},
   "source": [
    "<div class=\"alert alert-block alert-info\">\n",
    "<b>Naloga: </b> \n",
    "V class_size datasetu imamo tudi več različnih programov poučevanja. Za naše potrebe želimo obdržati le GEN ED program.\n",
    "</div>"
   ]
  },
  {
   "cell_type": "code",
   "execution_count": null,
   "metadata": {},
   "outputs": [],
   "source": []
  },
  {
   "cell_type": "code",
   "execution_count": null,
   "metadata": {},
   "outputs": [],
   "source": []
  },
  {
   "cell_type": "markdown",
   "metadata": {},
   "source": [
    "<div class=\"alert alert-block alert-info\">\n",
    "<b>Naloga: </b> \n",
    "V class_size še vedno nimamo edinstvenega ključa, saj je vsak razred prikazan kot svoja vrstica.\n",
    "    \n",
    "Ustvarite nov DataFrame, ki ima stolpca \"DBN\" in \"AVERAGE CLASS SIZE\".\n",
    "DBN naj ima \"unique\" DBN vrednost, AVERAGE CLASS SIZE pa pridobite tako, da vzemete vse povprečne velikosti razredov za isto šolo in pridobite povprečno vrednost.\n",
    "\n",
    "Pomagate si lahko s funckijo <i>groupby()</i>\n",
    "</div>"
   ]
  },
  {
   "cell_type": "code",
   "execution_count": null,
   "metadata": {},
   "outputs": [],
   "source": []
  },
  {
   "cell_type": "code",
   "execution_count": null,
   "metadata": {},
   "outputs": [],
   "source": []
  },
  {
   "cell_type": "markdown",
   "metadata": {},
   "source": [
    "<div class=\"alert alert-block alert-info\">\n",
    "<b>Naloga: </b> \n",
    "Združite sat_results in novo pridobljen dataframe, tako da obdržite vrstice, ki imajo ne-nično vrednost. Prikažite v grafu odvisnost SAT rezultatov od povprečne velikosti razreda.\n",
    "</div>"
   ]
  },
  {
   "cell_type": "code",
   "execution_count": null,
   "metadata": {},
   "outputs": [],
   "source": [
    "import matplotlib.pyplot as plt\n"
   ]
  },
  {
   "cell_type": "code",
   "execution_count": null,
   "metadata": {},
   "outputs": [],
   "source": []
  },
  {
   "cell_type": "markdown",
   "metadata": {},
   "source": [
    "<div class=\"alert alert-block alert-info\">\n",
    "<b>Naloga: </b> \n",
    "Poglejmo si še demographics dataframe.\n",
    "\n",
    "V demographics datafram-u obdržite le vrstice za šolsko leto 20112012</div>"
   ]
  },
  {
   "cell_type": "code",
   "execution_count": null,
   "metadata": {},
   "outputs": [],
   "source": []
  },
  {
   "cell_type": "code",
   "execution_count": null,
   "metadata": {},
   "outputs": [],
   "source": []
  },
  {
   "cell_type": "markdown",
   "metadata": {},
   "source": [
    "<div class=\"alert alert-block alert-info\">\n",
    "<b>Naloga: </b> \n",
    "Združite sat_results in demographics dataframes in obdržite le vrstice, ki imajo ne-nične vrednosti.</div>"
   ]
  },
  {
   "cell_type": "code",
   "execution_count": null,
   "metadata": {},
   "outputs": [],
   "source": []
  },
  {
   "cell_type": "code",
   "execution_count": null,
   "metadata": {},
   "outputs": [],
   "source": []
  },
  {
   "cell_type": "markdown",
   "metadata": {},
   "source": [
    "<div class=\"alert alert-block alert-info\">\n",
    "<b>Naloga: </b> \n",
    "    Ustvarite korelacijsko matriko (<i> .corr()</i> ) in jo prikažite v obliki \"heatmap\". Uporabite stolpce:\n",
    "    \n",
    "    white_per, \n",
    "    black_per, \n",
    "    asian_per, \n",
    "    hispanic_per, \n",
    "    ell_per (english language learners), \n",
    "    male_per, \n",
    "    female_per\n",
    "</div>"
   ]
  },
  {
   "cell_type": "code",
   "execution_count": null,
   "metadata": {},
   "outputs": [],
   "source": [
    "import seaborn as sns\n"
   ]
  },
  {
   "cell_type": "code",
   "execution_count": null,
   "metadata": {},
   "outputs": [],
   "source": []
  },
  {
   "cell_type": "code",
   "execution_count": null,
   "metadata": {},
   "outputs": [],
   "source": []
  },
  {
   "cell_type": "code",
   "execution_count": null,
   "metadata": {},
   "outputs": [],
   "source": []
  }
 ],
 "metadata": {
  "kernelspec": {
   "display_name": "Python 3",
   "language": "python",
   "name": "python3"
  },
  "language_info": {
   "codemirror_mode": {
    "name": "ipython",
    "version": 3
   },
   "file_extension": ".py",
   "mimetype": "text/x-python",
   "name": "python",
   "nbconvert_exporter": "python",
   "pygments_lexer": "ipython3",
   "version": "3.8.5"
  },
  "toc": {
   "base_numbering": 1,
   "nav_menu": {},
   "number_sections": true,
   "sideBar": true,
   "skip_h1_title": false,
   "title_cell": "Table of Contents",
   "title_sidebar": "Contents",
   "toc_cell": false,
   "toc_position": {},
   "toc_section_display": true,
   "toc_window_display": false
  }
 },
 "nbformat": 4,
 "nbformat_minor": 4
}
