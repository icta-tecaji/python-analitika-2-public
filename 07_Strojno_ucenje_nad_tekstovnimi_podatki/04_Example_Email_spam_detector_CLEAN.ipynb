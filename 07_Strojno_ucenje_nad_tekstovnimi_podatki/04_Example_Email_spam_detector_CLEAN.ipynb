{
 "cells": [
  {
   "cell_type": "markdown",
   "id": "7c4919f9",
   "metadata": {},
   "source": [
    "# Example: Email spam detector"
   ]
  },
  {
   "cell_type": "code",
   "execution_count": null,
   "id": "4ec543a1",
   "metadata": {},
   "outputs": [],
   "source": [
    "import pandas as pd\n",
    "\n",
    "from sklearn.model_selection import train_test_split\n",
    "from sklearn import svm "
   ]
  },
  {
   "cell_type": "code",
   "execution_count": null,
   "id": "abccd778",
   "metadata": {},
   "outputs": [],
   "source": [
    "spam = pd.read_csv('data/spam.csv')"
   ]
  },
  {
   "cell_type": "code",
   "execution_count": null,
   "id": "01642239",
   "metadata": {},
   "outputs": [],
   "source": [
    "spam.head()"
   ]
  },
  {
   "cell_type": "code",
   "execution_count": null,
   "id": "3534567d",
   "metadata": {},
   "outputs": [],
   "source": [
    "spam.drop(columns=[\"Unnamed: 2\", \"Unnamed: 3\", \"Unnamed: 4\"], inplace=True)"
   ]
  },
  {
   "cell_type": "code",
   "execution_count": null,
   "id": "9f613266",
   "metadata": {},
   "outputs": [],
   "source": [
    "spam.columns = [\"is_spam\", \"email\"]"
   ]
  },
  {
   "cell_type": "code",
   "execution_count": null,
   "id": "593197f0",
   "metadata": {},
   "outputs": [],
   "source": [
    "spam.shape"
   ]
  },
  {
   "cell_type": "code",
   "execution_count": null,
   "id": "34f51a64",
   "metadata": {},
   "outputs": [],
   "source": [
    "spam = spam[pd.notnull(spam['email'])]"
   ]
  },
  {
   "cell_type": "code",
   "execution_count": null,
   "id": "2d259a84",
   "metadata": {},
   "outputs": [],
   "source": [
    "spam.shape"
   ]
  },
  {
   "cell_type": "code",
   "execution_count": null,
   "id": "2c81b340",
   "metadata": {},
   "outputs": [],
   "source": [
    "spam.head()"
   ]
  },
  {
   "cell_type": "code",
   "execution_count": null,
   "id": "6209a4d9",
   "metadata": {},
   "outputs": [],
   "source": [
    "spam[\"is_spam\"].value_counts()"
   ]
  },
  {
   "cell_type": "code",
   "execution_count": null,
   "id": "a47e72f6",
   "metadata": {},
   "outputs": [],
   "source": [
    "X = spam['email']\n",
    "y = spam[\"is_spam\"]\n",
    "X_train, X_test, y_train, y_test = train_test_split(X,y,test_size = 0.2)"
   ]
  },
  {
   "cell_type": "markdown",
   "id": "b74d2e20",
   "metadata": {},
   "source": [
    "**Extracting features**"
   ]
  },
  {
   "cell_type": "code",
   "execution_count": null,
   "id": "743805a4",
   "metadata": {},
   "outputs": [],
   "source": [
    "from sklearn.feature_extraction.text import TfidfVectorizer\n",
    "from sklearn.feature_extraction.text import CountVectorizer\n",
    "from sklearn.naive_bayes import MultinomialNB\n",
    "from sklearn.pipeline import make_pipeline\n",
    "from sklearn.model_selection import GridSearchCV"
   ]
  },
  {
   "cell_type": "code",
   "execution_count": null,
   "id": "841cad80",
   "metadata": {},
   "outputs": [],
   "source": [
    "# CountVectorizer\n",
    "pipe = make_pipeline(TfidfVectorizer(norm=None), MultinomialNB())\n",
    "\n",
    "param_grid = {'tfidfvectorizer__min_df': [1,5,10,15,20,25]}\n",
    "\n",
    "grid = GridSearchCV(pipe, param_grid, cv=5, n_jobs=-1, verbose=1)\n",
    "\n",
    "grid.fit(X_train, y_train)"
   ]
  },
  {
   "cell_type": "code",
   "execution_count": null,
   "id": "c24dba50",
   "metadata": {},
   "outputs": [],
   "source": [
    "print(f\"Best params:\\n{grid.best_params_}\\n\")"
   ]
  },
  {
   "cell_type": "code",
   "execution_count": null,
   "id": "1976acdc",
   "metadata": {},
   "outputs": [],
   "source": [
    "print(f\"Test-set score: {grid.score(X_test, y_test):.2f}\")"
   ]
  },
  {
   "cell_type": "code",
   "execution_count": null,
   "id": "8012492d",
   "metadata": {},
   "outputs": [],
   "source": [
    "prediction = grid.predict(X_test)"
   ]
  },
  {
   "cell_type": "code",
   "execution_count": null,
   "id": "86a8d6f0",
   "metadata": {},
   "outputs": [],
   "source": [
    "from sklearn.metrics import confusion_matrix\n",
    "\n",
    "confusion = confusion_matrix(y_test, prediction)"
   ]
  },
  {
   "cell_type": "code",
   "execution_count": null,
   "id": "5a995575",
   "metadata": {},
   "outputs": [],
   "source": [
    "confusion"
   ]
  },
  {
   "cell_type": "code",
   "execution_count": null,
   "id": "4fd566e1",
   "metadata": {},
   "outputs": [],
   "source": [
    "from sklearn.metrics import classification_report\n",
    "\n",
    "print(classification_report(y_test, prediction, target_names=[\"not spam\", \"spam\"], zero_division=0))"
   ]
  },
  {
   "cell_type": "markdown",
   "id": "6f5a8f67",
   "metadata": {},
   "source": [
    "### Find best model"
   ]
  },
  {
   "cell_type": "code",
   "execution_count": null,
   "id": "cd83dded",
   "metadata": {},
   "outputs": [],
   "source": [
    "def score_pipelines(pipeline, parameters, X, y):\n",
    "    X_train, X_test, y_train, y_test = train_test_split(X, y, test_size = 0.2, random_state=0)  \n",
    "    grid = GridSearchCV(pipeline, parameters, cv=5, n_jobs=-1, verbose=1)\n",
    "    grid.fit(X_train, y_train)\n",
    "    print(f\"Best params:\\n{grid.best_params_}\\n\")\n",
    "    print(f\"\\nTest-set score: {grid.score(X_test, y_test):.2f}\\n\")\n",
    "    # -- predicton --\n",
    "    prediction = grid.predict(X_test)\n",
    "    confusion = confusion_matrix(y_test, prediction)\n",
    "    print(f\"\\nConfusion matrix:\\n {confusion}\\n\\n\")\n",
    "    print(classification_report(y_test, prediction, target_names=[\"not spam\", \"spam\"], zero_division=0))"
   ]
  },
  {
   "cell_type": "code",
   "execution_count": null,
   "id": "323d0f0e",
   "metadata": {},
   "outputs": [],
   "source": [
    "pipe = make_pipeline(CountVectorizer(), MultinomialNB())\n",
    "param_grid = {'countvectorizer__min_df': [1,5,10,15,20]}\n",
    "\n",
    "score_pipelines(pipe, param_grid, X, y)"
   ]
  },
  {
   "cell_type": "code",
   "execution_count": null,
   "id": "1aa99ed9",
   "metadata": {},
   "outputs": [],
   "source": [
    "pipe = make_pipeline(TfidfVectorizer(norm=None), MultinomialNB())\n",
    "param_grid = {'tfidfvectorizer__min_df': [1,5,10,15,20,25]}\n",
    "\n",
    "score_pipelines(pipe, param_grid, X, y)"
   ]
  },
  {
   "cell_type": "code",
   "execution_count": null,
   "id": "74c3c1a1",
   "metadata": {},
   "outputs": [],
   "source": [
    "from sklearn.svm import SVC\n",
    "\n",
    "pipe = make_pipeline(TfidfVectorizer(norm=None), SVC())\n",
    "param_grid = {'tfidfvectorizer__min_df': [1,5]}\n",
    "\n",
    "score_pipelines(pipe, param_grid, X, y)"
   ]
  },
  {
   "cell_type": "code",
   "execution_count": null,
   "id": "e3e0b594",
   "metadata": {},
   "outputs": [],
   "source": []
  },
  {
   "cell_type": "code",
   "execution_count": null,
   "id": "283bba44",
   "metadata": {},
   "outputs": [],
   "source": []
  },
  {
   "cell_type": "code",
   "execution_count": null,
   "id": "5db10fc0",
   "metadata": {},
   "outputs": [],
   "source": []
  },
  {
   "cell_type": "code",
   "execution_count": null,
   "id": "7b0898c1",
   "metadata": {},
   "outputs": [],
   "source": []
  },
  {
   "cell_type": "code",
   "execution_count": null,
   "id": "9fd4e1a9",
   "metadata": {},
   "outputs": [],
   "source": []
  },
  {
   "cell_type": "code",
   "execution_count": null,
   "id": "042eb6d5",
   "metadata": {},
   "outputs": [],
   "source": []
  },
  {
   "cell_type": "code",
   "execution_count": null,
   "id": "6d122da0",
   "metadata": {},
   "outputs": [],
   "source": []
  },
  {
   "cell_type": "code",
   "execution_count": null,
   "id": "332bd5d9",
   "metadata": {},
   "outputs": [],
   "source": []
  },
  {
   "cell_type": "code",
   "execution_count": null,
   "id": "dd61dfc1",
   "metadata": {},
   "outputs": [],
   "source": []
  },
  {
   "cell_type": "code",
   "execution_count": null,
   "id": "0026586f",
   "metadata": {},
   "outputs": [],
   "source": []
  }
 ],
 "metadata": {
  "kernelspec": {
   "display_name": "Python 3 (ipykernel)",
   "language": "python",
   "name": "python3"
  },
  "language_info": {
   "codemirror_mode": {
    "name": "ipython",
    "version": 3
   },
   "file_extension": ".py",
   "mimetype": "text/x-python",
   "name": "python",
   "nbconvert_exporter": "python",
   "pygments_lexer": "ipython3",
   "version": "3.8.10"
  }
 },
 "nbformat": 4,
 "nbformat_minor": 5
}
