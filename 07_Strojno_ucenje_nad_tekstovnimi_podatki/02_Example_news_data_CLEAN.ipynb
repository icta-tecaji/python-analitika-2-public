{
 "cells": [
  {
   "cell_type": "markdown",
   "id": "330976dc",
   "metadata": {},
   "source": [
    "# Example: news data "
   ]
  },
  {
   "cell_type": "markdown",
   "id": "03399e1d",
   "metadata": {},
   "source": [
    "> Prenesemo dataset: https://www.kaggle.com/keitazoumana/abcnewsdata"
   ]
  },
  {
   "cell_type": "markdown",
   "id": "0b75f7b3",
   "metadata": {},
   "source": [
    "## LDA Topic Modelling With Gensim"
   ]
  },
  {
   "cell_type": "code",
   "execution_count": null,
   "id": "d9da6446",
   "metadata": {},
   "outputs": [],
   "source": [
    "import pandas as pd\n",
    "import gensim\n",
    "from sklearn.feature_extraction.text import CountVectorizer\n",
    "\n",
    "documents = pd.read_csv('data/news-data.csv')\n",
    " \n",
    "documents.head()"
   ]
  },
  {
   "cell_type": "code",
   "execution_count": null,
   "id": "369576b3",
   "metadata": {},
   "outputs": [],
   "source": [
    "# Use CountVectorizor to find three letter tokens, remove stop_words, \n",
    "# remove tokens that don't appear in at least 20 documents,\n",
    "# remove tokens that appear in more than 20% of the documents\n",
    "\n",
    "vect = CountVectorizer(min_df=20, max_df=0.2, stop_words='english', token_pattern='(?u)\\\\b\\\\w\\\\w\\\\w+\\\\b')"
   ]
  },
  {
   "cell_type": "code",
   "execution_count": null,
   "id": "202ce6f4",
   "metadata": {},
   "outputs": [],
   "source": [
    "# Fit and transform\n",
    "X = vect.fit_transform(documents.headline_text)"
   ]
  },
  {
   "cell_type": "code",
   "execution_count": null,
   "id": "87f986c5",
   "metadata": {},
   "outputs": [],
   "source": [
    "X"
   ]
  },
  {
   "cell_type": "code",
   "execution_count": null,
   "id": "d65907f5",
   "metadata": {},
   "outputs": [],
   "source": [
    "# Convert sparse matrix to gensim corpus.\n",
    "corpus = gensim.matutils.Sparse2Corpus(X, documents_columns=False)"
   ]
  },
  {
   "cell_type": "code",
   "execution_count": null,
   "id": "d2505098",
   "metadata": {},
   "outputs": [],
   "source": [
    "# Mapping from word IDs to words (To be used in LdaModel's id2word parameter)\n",
    "id_map = dict((v, k) for k, v in vect.vocabulary_.items())"
   ]
  },
  {
   "cell_type": "code",
   "execution_count": null,
   "id": "a476039c",
   "metadata": {},
   "outputs": [],
   "source": [
    "# Use the gensim.models.ldamodel.LdaModel constructor to estimate \n",
    "# LDA model parameters on the corpus, and save to the variable `ldamodel`\n",
    " \n",
    "ldamodel = gensim.models.LdaMulticore(corpus=corpus, id2word=id_map, passes=2,  random_state=5, num_topics=10, workers=3)"
   ]
  },
  {
   "cell_type": "code",
   "execution_count": null,
   "id": "0e6a5fc2",
   "metadata": {},
   "outputs": [],
   "source": [
    "for idx, topic in ldamodel.print_topics(-1):\n",
    "    print(\"Topic: {} \\nWords: {}\".format(idx, topic))\n",
    "    print(\"\\n\")"
   ]
  },
  {
   "cell_type": "code",
   "execution_count": null,
   "id": "97e0ace4",
   "metadata": {},
   "outputs": [],
   "source": [
    "my_document = documents.headline_text[17]\n",
    "my_document"
   ]
  },
  {
   "cell_type": "code",
   "execution_count": null,
   "id": "fd24a146",
   "metadata": {},
   "outputs": [],
   "source": [
    "def topic_distribution(string_input):\n",
    "    string_input = [string_input]\n",
    "    \n",
    "    # Fit and transform\n",
    "    X = vect.transform(string_input)\n",
    "    # Convert sparse matrix to gensim corpus.\n",
    "    corpus = gensim.matutils.Sparse2Corpus(X, documents_columns=False)\n",
    "    output = list(ldamodel[corpus])[0]\n",
    "    return output\n",
    "\n",
    "topic_distribution(my_document)"
   ]
  },
  {
   "cell_type": "code",
   "execution_count": null,
   "id": "f71f1a6e",
   "metadata": {},
   "outputs": [],
   "source": [
    "topic_distribution(\"elections start tommorow\")"
   ]
  },
  {
   "cell_type": "markdown",
   "id": "4fdb1ce1",
   "metadata": {},
   "source": [
    "## Topic Modelling With NMF"
   ]
  },
  {
   "cell_type": "code",
   "execution_count": null,
   "id": "203d648f",
   "metadata": {},
   "outputs": [],
   "source": [
    "import pandas as pd\n",
    "from sklearn.decomposition import NMF\n",
    "from sklearn.feature_extraction.text import TfidfVectorizer\n",
    " \n",
    "documents = pd.read_csv('data/news-data.csv')\n",
    "documents.head()"
   ]
  },
  {
   "cell_type": "code",
   "execution_count": null,
   "id": "63318e20",
   "metadata": {},
   "outputs": [],
   "source": [
    "# use tfidf by removing tokens that don't appear in at least 50 documents\n",
    "vect = TfidfVectorizer(min_df=50, stop_words='english')\n",
    " \n",
    "# Fit and transform\n",
    "X = vect.fit_transform(documents.headline_text)"
   ]
  },
  {
   "cell_type": "code",
   "execution_count": null,
   "id": "708e0fda",
   "metadata": {},
   "outputs": [],
   "source": [
    "# Create an NMF instance: model\n",
    "# the 10 components will be the topics\n",
    "model = NMF(init=\"nndsvd\", n_components=10, random_state=5)\n",
    " \n",
    "# Fit the model to TF-IDF\n",
    "model.fit(X)\n",
    " \n",
    "# Transform the TF-IDF: nmf_features\n",
    "nmf_features = model.transform(X)"
   ]
  },
  {
   "cell_type": "code",
   "execution_count": null,
   "id": "d286cf36",
   "metadata": {},
   "outputs": [],
   "source": [
    "# TF-IDF Dimensions:\n",
    "X.shape"
   ]
  },
  {
   "cell_type": "code",
   "execution_count": null,
   "id": "b59c81c2",
   "metadata": {},
   "outputs": [],
   "source": [
    "# Features Dimensions:\n",
    "nmf_features.shape"
   ]
  },
  {
   "cell_type": "code",
   "execution_count": null,
   "id": "34ab7662",
   "metadata": {},
   "outputs": [],
   "source": [
    "# Components Dimensions:\n",
    "model.components_.shape"
   ]
  },
  {
   "cell_type": "code",
   "execution_count": null,
   "id": "cb99dbad",
   "metadata": {},
   "outputs": [],
   "source": [
    "# Create a DataFrame: components_df\n",
    "components_df = pd.DataFrame(model.components_, columns=vect.get_feature_names_out())\n",
    "components_df"
   ]
  },
  {
   "cell_type": "code",
   "execution_count": null,
   "id": "f761fc6a",
   "metadata": {},
   "outputs": [],
   "source": [
    "for topic in range(components_df.shape[0]):\n",
    "    tmp = components_df.iloc[topic]\n",
    "    print(f'For topic {topic+1} the words with the highest value are:')\n",
    "    print(tmp.nlargest(10))\n",
    "    print('\\n')"
   ]
  },
  {
   "cell_type": "code",
   "execution_count": null,
   "id": "8a55cf5c",
   "metadata": {},
   "outputs": [],
   "source": [
    "my_document = documents.headline_text[55]\n",
    "my_document"
   ]
  },
  {
   "cell_type": "code",
   "execution_count": null,
   "id": "ddd7c79c",
   "metadata": {},
   "outputs": [],
   "source": [
    "pd.DataFrame(nmf_features).loc[55]"
   ]
  },
  {
   "cell_type": "code",
   "execution_count": null,
   "id": "6782cac9",
   "metadata": {},
   "outputs": [],
   "source": [
    "pd.DataFrame(nmf_features).loc[55].idxmax()"
   ]
  },
  {
   "cell_type": "code",
   "execution_count": null,
   "id": "ebda8239",
   "metadata": {},
   "outputs": [],
   "source": [
    "pd.DataFrame(nmf_features).idxmax(axis=1).value_counts()"
   ]
  },
  {
   "cell_type": "code",
   "execution_count": null,
   "id": "72b2ebf7",
   "metadata": {},
   "outputs": [],
   "source": [
    "my_news = \"\"\"15-year-old girl stabbed to death in grocery store during fight with 4 younger girls\n",
    "Authorities said they gathered lots of evidence from videos on social media\"\"\"\n",
    " \n",
    "# Transform the TF-IDF\n",
    "X = vect.transform([my_news])\n",
    "\n",
    "# Transform the TF-IDF: nmf_features\n",
    "nmf_features = model.transform(X)\n",
    " \n",
    "pd.DataFrame(nmf_features)"
   ]
  },
  {
   "cell_type": "code",
   "execution_count": null,
   "id": "bf963ec3",
   "metadata": {},
   "outputs": [],
   "source": [
    "pd.DataFrame(nmf_features).idxmax(axis=1)"
   ]
  }
 ],
 "metadata": {
  "kernelspec": {
   "display_name": "Python 3 (ipykernel)",
   "language": "python",
   "name": "python3"
  },
  "language_info": {
   "codemirror_mode": {
    "name": "ipython",
    "version": 3
   },
   "file_extension": ".py",
   "mimetype": "text/x-python",
   "name": "python",
   "nbconvert_exporter": "python",
   "pygments_lexer": "ipython3",
   "version": "3.8.10"
  }
 },
 "nbformat": 4,
 "nbformat_minor": 5
}
