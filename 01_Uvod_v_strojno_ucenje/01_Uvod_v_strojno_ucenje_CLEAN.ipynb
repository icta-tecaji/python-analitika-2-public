{
 "cells": [
  {
   "cell_type": "markdown",
   "id": "6de25df3",
   "metadata": {},
   "source": [
    "# Uvod v strojno ucenje"
   ]
  },
  {
   "cell_type": "markdown",
   "id": "4ba7a46e",
   "metadata": {},
   "source": [
    "Viri:\n",
    "- [AI For Everyone](https://www.coursera.org/learn/ai-for-everyone)\n",
    "- [Artificial general intelligence (AGI)](https://www.techtarget.com/searchenterpriseai/definition/artificial-general-intelligence-AGI)\n",
    "- [What is a Turing Test? A Brief History of the Turing Test and its Impact](https://www.youtube.com/watch?v=4VROUIAF2Do)\n",
    "- [The history of deep learning](https://www.youtube.com/watch?v=mTtDfKgLm54)\n",
    "- [History of AI](https://www.youtube.com/watch?v=EJt3_bFYKss)\n",
    "- [Fairness-related harms in AI systems: Examples, assessment, and mitigation](https://www.youtube.com/watch?v=1RptHwfkx_k)\n",
    "- [Responsible AI resources](https://www.microsoft.com/en-us/ai/responsible-ai-resources?activetab=pivot1:primaryr4&rtc=1)\n",
    "- [Machine Learning for Everyone](https://vas3k.com/blog/machine_learning/)\n",
    "- [Introduction to machine learning](https://learn.microsoft.com/sl-si/training/modules/introduction-to-machine-learning/)\n",
    "- [AI Show - Deep Learning vs. Machine Learning](https://www.youtube.com/watch?v=lTd9RSxS9ZE)\n",
    "- [Introduction to Machine Learning](https://www.youtube.com/watch?v=h0e2HAPTGF4)"
   ]
  },
  {
   "cell_type": "markdown",
   "id": "1419c564",
   "metadata": {},
   "source": [
    "## Teoretičen uvod v strojno učenje"
   ]
  },
  {
   "cell_type": "markdown",
   "id": "2d13f0c3",
   "metadata": {},
   "source": [
    "Priložen PPT."
   ]
  },
  {
   "cell_type": "markdown",
   "id": "786a4da4",
   "metadata": {},
   "source": [
    "## Workflow of a machine learning project"
   ]
  },
  {
   "cell_type": "markdown",
   "id": "9d2b41b1",
   "metadata": {},
   "source": [
    "**Data**\n",
    "\n",
    "    "
   ]
  },
  {
   "cell_type": "code",
   "execution_count": null,
   "id": "099f0015",
   "metadata": {},
   "outputs": [],
   "source": []
  },
  {
   "cell_type": "markdown",
   "id": "92319ed8",
   "metadata": {},
   "source": [
    "**Features and Target**\n"
   ]
  },
  {
   "cell_type": "code",
   "execution_count": null,
   "id": "2a13906f",
   "metadata": {},
   "outputs": [],
   "source": []
  },
  {
   "cell_type": "markdown",
   "id": "3d3184bc",
   "metadata": {},
   "source": [
    "**Selecting your feature variable**\n"
   ]
  },
  {
   "cell_type": "code",
   "execution_count": null,
   "id": "4ff75a14",
   "metadata": {},
   "outputs": [],
   "source": []
  },
  {
   "cell_type": "markdown",
   "id": "c0c5226b",
   "metadata": {},
   "source": [
    "**Visualize your data**\n"
   ]
  },
  {
   "cell_type": "code",
   "execution_count": null,
   "id": "d61a4d3c",
   "metadata": {},
   "outputs": [],
   "source": []
  },
  {
   "cell_type": "markdown",
   "id": "a92e2bf4",
   "metadata": {},
   "source": [
    "**Split your dataset**\n"
   ]
  },
  {
   "cell_type": "code",
   "execution_count": null,
   "id": "aefe43b8",
   "metadata": {},
   "outputs": [],
   "source": []
  },
  {
   "cell_type": "markdown",
   "id": "ce39f8e8",
   "metadata": {},
   "source": [
    "**Decide on a training method**\n"
   ]
  },
  {
   "cell_type": "code",
   "execution_count": null,
   "id": "bcf7f566",
   "metadata": {},
   "outputs": [],
   "source": []
  },
  {
   "cell_type": "markdown",
   "id": "5245df9e",
   "metadata": {},
   "source": [
    "**Train a model**\n"
   ]
  },
  {
   "cell_type": "code",
   "execution_count": null,
   "id": "5dab8222",
   "metadata": {},
   "outputs": [],
   "source": []
  },
  {
   "cell_type": "markdown",
   "id": "11a9819d",
   "metadata": {},
   "source": [
    "**Evaluate the model**\n"
   ]
  },
  {
   "cell_type": "code",
   "execution_count": null,
   "id": "576bce51",
   "metadata": {},
   "outputs": [],
   "source": []
  },
  {
   "cell_type": "markdown",
   "id": "78d46331",
   "metadata": {},
   "source": [
    "**Parameter tuning**\n"
   ]
  },
  {
   "cell_type": "code",
   "execution_count": null,
   "id": "36566bc4",
   "metadata": {},
   "outputs": [],
   "source": []
  },
  {
   "cell_type": "markdown",
   "id": "fc14a37c",
   "metadata": {},
   "source": [
    "**Prediction**\n"
   ]
  },
  {
   "cell_type": "code",
   "execution_count": null,
   "id": "18fb4074",
   "metadata": {},
   "outputs": [],
   "source": []
  },
  {
   "cell_type": "markdown",
   "id": "b637682f",
   "metadata": {},
   "source": [
    "## What is machine learning?"
   ]
  },
  {
   "cell_type": "markdown",
   "id": "504b93f0",
   "metadata": {},
   "source": [
    "Machine learning is about **extracting knowledge from data**. \n",
    "\n",
    "\n"
   ]
  },
  {
   "cell_type": "code",
   "execution_count": null,
   "id": "ed7fb47d",
   "metadata": {},
   "outputs": [],
   "source": []
  },
  {
   "cell_type": "code",
   "execution_count": null,
   "id": "3e1c6230",
   "metadata": {},
   "outputs": [],
   "source": []
  },
  {
   "cell_type": "code",
   "execution_count": null,
   "id": "71df9a52",
   "metadata": {},
   "outputs": [],
   "source": []
  },
  {
   "cell_type": "markdown",
   "id": "ddbcbcb0",
   "metadata": {},
   "source": [
    "## What are machine learning models?"
   ]
  },
  {
   "cell_type": "markdown",
   "id": "cd77e4fc",
   "metadata": {},
   "source": [
    "The model is the **core component of machine learning**, and ultimately **what we are trying to build**. \n",
    "\n"
   ]
  },
  {
   "cell_type": "code",
   "execution_count": null,
   "id": "f64d1a65",
   "metadata": {},
   "outputs": [],
   "source": []
  },
  {
   "cell_type": "code",
   "execution_count": null,
   "id": "9ba0e955",
   "metadata": {},
   "outputs": [],
   "source": []
  },
  {
   "cell_type": "code",
   "execution_count": null,
   "id": "a57d2168",
   "metadata": {},
   "outputs": [],
   "source": []
  },
  {
   "cell_type": "markdown",
   "id": "6b1ee7bc",
   "metadata": {},
   "source": [
    "## Why Machine Learning?"
   ]
  },
  {
   "cell_type": "code",
   "execution_count": null,
   "id": "48281369",
   "metadata": {},
   "outputs": [],
   "source": []
  },
  {
   "cell_type": "code",
   "execution_count": null,
   "id": "37061fa1",
   "metadata": {},
   "outputs": [],
   "source": []
  },
  {
   "cell_type": "code",
   "execution_count": null,
   "id": "441ea4ff",
   "metadata": {},
   "outputs": [],
   "source": []
  },
  {
   "cell_type": "code",
   "execution_count": null,
   "id": "0991b307",
   "metadata": {},
   "outputs": [],
   "source": []
  },
  {
   "cell_type": "markdown",
   "id": "e03c5226",
   "metadata": {},
   "source": [
    "## Problems Machine Learning Can Solve"
   ]
  },
  {
   "cell_type": "markdown",
   "id": "4ec6bf5c",
   "metadata": {},
   "source": [
    "**Machine learning algorithms that learn from input/output pairs are called supervised\n",
    "learning algorithms.** \n",
    "\n",
    "Examples of supervised machine learning tasks include:\n",
    "- *Identifying the zip code from handwritten digits on an envelope*\n",
    "- *Determining whether a tumor is benign based on a medical image*\n",
    "- *Detecting fraudulent activity in credit card transactions*\n"
   ]
  },
  {
   "cell_type": "code",
   "execution_count": null,
   "id": "b9f0408e",
   "metadata": {},
   "outputs": [],
   "source": []
  },
  {
   "cell_type": "code",
   "execution_count": null,
   "id": "d78a18b4",
   "metadata": {},
   "outputs": [],
   "source": []
  },
  {
   "cell_type": "code",
   "execution_count": null,
   "id": "440bb9f7",
   "metadata": {},
   "outputs": [],
   "source": []
  },
  {
   "cell_type": "markdown",
   "id": "e1975368",
   "metadata": {},
   "source": [
    "**Unsupervised algorithms** are the other type of algorithm that we will cover in this\n",
    "book. In unsupervised learning, **only the input data is known, and no known output\n",
    "data is given to the algorithm**. \n"
   ]
  },
  {
   "cell_type": "markdown",
   "id": "c92be6b8",
   "metadata": {},
   "source": [
    "Examples of unsupervised learning include:\n",
    "- *Identifying topics in a set of blog posts*\n",
    "- *Segmenting customers into groups with similar preferences*\n",
    "- *Detecting abnormal access patterns to a website*"
   ]
  },
  {
   "cell_type": "code",
   "execution_count": null,
   "id": "bd024ea5",
   "metadata": {},
   "outputs": [],
   "source": []
  },
  {
   "cell_type": "code",
   "execution_count": null,
   "id": "f3a9359d",
   "metadata": {},
   "outputs": [],
   "source": []
  },
  {
   "cell_type": "code",
   "execution_count": null,
   "id": "57c6caed",
   "metadata": {},
   "outputs": [],
   "source": []
  },
  {
   "cell_type": "markdown",
   "id": "12946e40",
   "metadata": {},
   "source": [
    "## scikit-learn"
   ]
  },
  {
   "cell_type": "markdown",
   "id": "7d998083",
   "metadata": {},
   "source": [
    "- scikit-learn is an **open source project**, meaning that it is free to use and distribute,\n",
    "and anyone can easily obtain the source code to see what is going on behind the scenes.\n",
    "- The scikit-learn project is constantly being developed and improved, and it\n",
    "has a **very active user community**.\n",
    "- It contains a number of **state-of-the-art machine learning algorithms**, as well as **comprehensive documentation** about each algorithm.\n",
    "- scikit-learn is a very popular tool, and **the most prominent Python library for machine learning**. \n",
    "- It is widely used in industry and academia, and a wealth of tutorials and code snippets are available online. scikit-learn works well with a number of other scientific Python tools, which we will discuss later in this chapter."
   ]
  },
  {
   "cell_type": "markdown",
   "id": "ec6d45a9",
   "metadata": {},
   "source": [
    "> scikit-learn is built on top of\n",
    "the NumPy and SciPy scientific Python libraries."
   ]
  },
  {
   "cell_type": "markdown",
   "id": "52c2e258",
   "metadata": {},
   "source": [
    "Spletna stran: https://scikit-learn.org/stable/\n",
    "\n",
    "API reference: https://scikit-learn.org/stable/modules/classes.html\n",
    "\n",
    "Primeri: https://scikit-learn.org/stable/auto_examples/index.html"
   ]
  },
  {
   "cell_type": "markdown",
   "id": "451da28c",
   "metadata": {},
   "source": [
    "Scikit-learn makes it straightforward to build models and evaluate them for use. It is primarily focused on **using numeric data** and contains several **ready-made datasets for use as learning tools**."
   ]
  },
  {
   "cell_type": "code",
   "execution_count": null,
   "id": "99d805d5",
   "metadata": {},
   "outputs": [],
   "source": []
  },
  {
   "cell_type": "code",
   "execution_count": null,
   "id": "68ed662a",
   "metadata": {},
   "outputs": [],
   "source": []
  },
  {
   "cell_type": "markdown",
   "id": "dc24121c",
   "metadata": {},
   "source": [
    "## A First Application: Classifying Iris Species"
   ]
  },
  {
   "cell_type": "markdown",
   "id": "7912926b",
   "metadata": {},
   "source": [
    "### The data"
   ]
  },
  {
   "cell_type": "code",
   "execution_count": null,
   "id": "d1c67bc6",
   "metadata": {},
   "outputs": [],
   "source": [
    "import numpy as np\n",
    "%matplotlib inline\n",
    "import matplotlib.pyplot as plt\n",
    "import pandas as pd\n",
    "from sklearn.datasets import load_iris\n",
    "\n",
    "iris_dataset = load_iris()"
   ]
  },
  {
   "cell_type": "code",
   "execution_count": null,
   "id": "30e44ccd",
   "metadata": {},
   "outputs": [],
   "source": [
    "iris_dataset.keys()"
   ]
  },
  {
   "cell_type": "code",
   "execution_count": null,
   "id": "745dfe81",
   "metadata": {},
   "outputs": [],
   "source": [
    "print(iris_dataset['DESCR'][:293])"
   ]
  },
  {
   "cell_type": "code",
   "execution_count": null,
   "id": "d80a9263",
   "metadata": {},
   "outputs": [],
   "source": [
    "iris_dataset['target_names']"
   ]
  },
  {
   "cell_type": "code",
   "execution_count": null,
   "id": "80aa31a1",
   "metadata": {},
   "outputs": [],
   "source": [
    "iris_dataset['feature_names']"
   ]
  },
  {
   "cell_type": "code",
   "execution_count": null,
   "id": "56de59ee",
   "metadata": {},
   "outputs": [],
   "source": [
    "type(iris_dataset['data'])"
   ]
  },
  {
   "cell_type": "code",
   "execution_count": null,
   "id": "d0e37ad4",
   "metadata": {},
   "outputs": [],
   "source": [
    "iris_dataset['data'].shape"
   ]
  },
  {
   "cell_type": "code",
   "execution_count": null,
   "id": "90f4f62d",
   "metadata": {},
   "outputs": [],
   "source": [
    "iris_dataset['data'][:5]"
   ]
  },
  {
   "cell_type": "code",
   "execution_count": null,
   "id": "aff0608e",
   "metadata": {},
   "outputs": [],
   "source": [
    "type(iris_dataset['target'])"
   ]
  },
  {
   "cell_type": "code",
   "execution_count": null,
   "id": "269ee9c1",
   "metadata": {},
   "outputs": [],
   "source": [
    "iris_dataset['target'].shape"
   ]
  },
  {
   "cell_type": "code",
   "execution_count": null,
   "id": "7fff6803",
   "metadata": {},
   "outputs": [],
   "source": [
    "iris_dataset['target']"
   ]
  },
  {
   "cell_type": "markdown",
   "id": "876e4672",
   "metadata": {},
   "source": [
    "The meanings of the numbers are given by the `iris['target_names']` array:\n",
    "- 0 means setosa\n",
    "- 1 means versicolor\n",
    "- 2 means virginica"
   ]
  },
  {
   "cell_type": "code",
   "execution_count": null,
   "id": "04f5a610",
   "metadata": {},
   "outputs": [],
   "source": []
  },
  {
   "cell_type": "code",
   "execution_count": null,
   "id": "236f490d",
   "metadata": {},
   "outputs": [],
   "source": []
  },
  {
   "cell_type": "markdown",
   "id": "7a1a5ddd",
   "metadata": {},
   "source": [
    "### Training and Testing Data"
   ]
  },
  {
   "cell_type": "code",
   "execution_count": null,
   "id": "a0f7c47a",
   "metadata": {},
   "outputs": [],
   "source": [
    "from sklearn.model_selection import train_test_split\n",
    "\n",
    "X_train, X_test, y_train, y_test = train_test_split(iris_dataset['data'], iris_dataset['target'], random_state=0)"
   ]
  },
  {
   "cell_type": "code",
   "execution_count": null,
   "id": "4fe967d8",
   "metadata": {},
   "outputs": [],
   "source": [
    "print(f\"X_train shape: {X_train.shape}\")\n",
    "print(f\"y_train shape: {y_train.shape}\")"
   ]
  },
  {
   "cell_type": "code",
   "execution_count": null,
   "id": "126c369b",
   "metadata": {},
   "outputs": [],
   "source": [
    "print(f\"X_test shape: {X_test.shape}\")\n",
    "print(f\"y_test shape: {y_test.shape}\")"
   ]
  },
  {
   "cell_type": "code",
   "execution_count": null,
   "id": "f30e26b1",
   "metadata": {},
   "outputs": [],
   "source": []
  },
  {
   "cell_type": "code",
   "execution_count": null,
   "id": "fa48d665",
   "metadata": {},
   "outputs": [],
   "source": []
  },
  {
   "cell_type": "markdown",
   "id": "2c4dea34",
   "metadata": {},
   "source": [
    "### Look at Your Data"
   ]
  },
  {
   "cell_type": "code",
   "execution_count": null,
   "id": "e89f73bf",
   "metadata": {},
   "outputs": [],
   "source": [
    "# create dataframe from data in X_train\n",
    "# label the columns using the strings in iris_dataset.feature_names\n",
    "iris_dataframe = pd.DataFrame(X_train, columns=iris_dataset.feature_names)\n",
    "iris_dataframe.head()"
   ]
  },
  {
   "cell_type": "code",
   "execution_count": null,
   "id": "ccdaba92",
   "metadata": {},
   "outputs": [],
   "source": [
    "from matplotlib.colors import ListedColormap\n",
    "from pandas.plotting import scatter_matrix\n",
    "\n",
    "# create a scatter matrix from the dataframe, color by y_train\n",
    "grr = scatter_matrix(iris_dataframe, \n",
    "                     c=y_train, \n",
    "                     figsize=(15, 15), \n",
    "                     marker='o', \n",
    "                     hist_kwds={'bins': 20}, \n",
    "                     s=60, \n",
    "                     alpha=.8, \n",
    "                     cmap=ListedColormap(['#0000aa', '#ff2020', '#50ff50']))\n",
    "plt.show()"
   ]
  },
  {
   "cell_type": "code",
   "execution_count": null,
   "id": "e4e89f40",
   "metadata": {},
   "outputs": [],
   "source": []
  },
  {
   "cell_type": "code",
   "execution_count": null,
   "id": "a2a6bc5d",
   "metadata": {},
   "outputs": [],
   "source": []
  },
  {
   "cell_type": "markdown",
   "id": "b08e1cb9",
   "metadata": {},
   "source": [
    "### Building Your First Model: k-Nearest Neighbors"
   ]
  },
  {
   "cell_type": "code",
   "execution_count": null,
   "id": "dcf2cc90",
   "metadata": {},
   "outputs": [],
   "source": [
    "from sklearn.neighbors import KNeighborsClassifier\n",
    "\n",
    "knn = KNeighborsClassifier(n_neighbors=1)"
   ]
  },
  {
   "cell_type": "code",
   "execution_count": null,
   "id": "1a08439b",
   "metadata": {},
   "outputs": [],
   "source": [
    "knn.fit(X_train, y_train)"
   ]
  },
  {
   "cell_type": "code",
   "execution_count": null,
   "id": "617f144f",
   "metadata": {},
   "outputs": [],
   "source": []
  },
  {
   "cell_type": "code",
   "execution_count": null,
   "id": "916a6ddd",
   "metadata": {},
   "outputs": [],
   "source": []
  },
  {
   "cell_type": "markdown",
   "id": "8a39dc69",
   "metadata": {},
   "source": [
    "### Making Predictions"
   ]
  },
  {
   "cell_type": "code",
   "execution_count": null,
   "id": "74151b23",
   "metadata": {},
   "outputs": [],
   "source": [
    "X_new = np.array([[5, 2.9, 1, 0.2]])\n",
    "print(f\"X_new.shape: {X_new.shape}\")"
   ]
  },
  {
   "cell_type": "code",
   "execution_count": null,
   "id": "e8fa24b2",
   "metadata": {},
   "outputs": [],
   "source": [
    "prediction = knn.predict(X_new)\n",
    "\n",
    "print(f\"Prediction: {prediction}\")\n",
    "print(f\"Predicted target name: {iris_dataset['target_names'][prediction]}\")"
   ]
  },
  {
   "cell_type": "code",
   "execution_count": null,
   "id": "c9761651",
   "metadata": {},
   "outputs": [],
   "source": []
  },
  {
   "cell_type": "code",
   "execution_count": null,
   "id": "7668112f",
   "metadata": {},
   "outputs": [],
   "source": []
  },
  {
   "cell_type": "markdown",
   "id": "b08ade90",
   "metadata": {},
   "source": [
    "### Evaluating the Model"
   ]
  },
  {
   "cell_type": "code",
   "execution_count": null,
   "id": "55ed6a12",
   "metadata": {},
   "outputs": [],
   "source": [
    "y_pred = knn.predict(X_test)\n",
    "\n",
    "print(f\"Test set predictions:\\n {y_pred}\")"
   ]
  },
  {
   "cell_type": "code",
   "execution_count": null,
   "id": "06438139",
   "metadata": {},
   "outputs": [],
   "source": [
    "print(f\"Test set score: {np.mean(y_pred == y_test):.2f}\")"
   ]
  },
  {
   "cell_type": "code",
   "execution_count": null,
   "id": "a99d545d",
   "metadata": {},
   "outputs": [],
   "source": [
    "knn.score(X_test, y_test)"
   ]
  },
  {
   "cell_type": "code",
   "execution_count": null,
   "id": "404be5b9",
   "metadata": {},
   "outputs": [],
   "source": [
    "X_train, X_test, y_train, y_test = train_test_split(iris_dataset['data'], iris_dataset['target'], random_state=0)\n",
    "\n",
    "knn = KNeighborsClassifier(n_neighbors=1)\n",
    "knn.fit(X_train, y_train)\n",
    "\n",
    "print(f\"Test set score: {knn.score(X_test, y_test):.2f}\")"
   ]
  },
  {
   "cell_type": "code",
   "execution_count": null,
   "id": "f4368d96",
   "metadata": {},
   "outputs": [],
   "source": []
  },
  {
   "cell_type": "code",
   "execution_count": null,
   "id": "88d72a92",
   "metadata": {},
   "outputs": [],
   "source": []
  }
 ],
 "metadata": {
  "kernelspec": {
   "display_name": "Python 3 (ipykernel)",
   "language": "python",
   "name": "python3"
  },
  "language_info": {
   "codemirror_mode": {
    "name": "ipython",
    "version": 3
   },
   "file_extension": ".py",
   "mimetype": "text/x-python",
   "name": "python",
   "nbconvert_exporter": "python",
   "pygments_lexer": "ipython3",
   "version": "3.11.4"
  }
 },
 "nbformat": 4,
 "nbformat_minor": 5
}
