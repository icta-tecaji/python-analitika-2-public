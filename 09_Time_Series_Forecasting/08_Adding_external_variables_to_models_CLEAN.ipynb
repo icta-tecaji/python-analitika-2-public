{
 "cells": [
  {
   "cell_type": "markdown",
   "id": "29fb6f98",
   "metadata": {},
   "source": [
    "# Adding external variables to models"
   ]
  },
  {
   "cell_type": "code",
   "execution_count": null,
   "id": "74d6fd11",
   "metadata": {},
   "outputs": [],
   "source": [
    "import pandas as pd\n",
    "import numpy as np\n",
    "%matplotlib inline\n",
    "import matplotlib.pyplot as plt\n",
    "\n",
    "from sklearn.metrics import mean_squared_error, mean_absolute_error\n",
    "from statsmodels.graphics.tsaplots import plot_acf, plot_pacf\n",
    "from statsmodels.tsa.seasonal import seasonal_decompose, STL\n",
    "from statsmodels.stats.diagnostic import acorr_ljungbox\n",
    "from statsmodels.tsa.statespace.sarimax import SARIMAX\n",
    "from statsmodels.tsa.arima_process import ArmaProcess\n",
    "from statsmodels.graphics.gofplots import qqplot\n",
    "from statsmodels.tsa.stattools import adfuller\n",
    "from tqdm.notebook import tqdm\n",
    "from itertools import product\n",
    "from typing import Union"
   ]
  },
  {
   "cell_type": "markdown",
   "id": "4b92ba2d",
   "metadata": {},
   "source": [
    "## Examining the SARIMAX model"
   ]
  },
  {
   "cell_type": "markdown",
   "id": "1d935c75",
   "metadata": {},
   "source": [
    "**The SARIMAX model simply adds a linear combination of exogenous variables to the\n",
    "SARIMA model. This allows us to model the impact of external variables on the future\n",
    "value of a time series.**"
   ]
  },
  {
   "cell_type": "markdown",
   "id": "6ddb2e4c",
   "metadata": {},
   "source": [
    "## Forecasting the real GDP using the SARIMAX model"
   ]
  },
  {
   "cell_type": "markdown",
   "id": "f4532ead",
   "metadata": {},
   "source": [
    "### Exploring the exogenous variables of the US macroeconomics dataset"
   ]
  },
  {
   "cell_type": "code",
   "execution_count": null,
   "id": "5aeccad2",
   "metadata": {},
   "outputs": [],
   "source": [
    "import statsmodels.api as sm\n",
    "\n",
    "macro_econ_data = sm.datasets.macrodata.load_pandas().data\n",
    "macro_econ_data"
   ]
  },
  {
   "cell_type": "code",
   "execution_count": null,
   "id": "a2238014",
   "metadata": {},
   "outputs": [],
   "source": [
    "fig, ax = plt.subplots()\n",
    "\n",
    "ax.plot(macro_econ_data['realgdp'])\n",
    "ax.set_xlabel('Date')\n",
    "ax.set_ylabel('Real GDP (k$)')\n",
    "\n",
    "plt.xticks(np.arange(0, 208, 16), np.arange(1959, 2010, 4))\n",
    "\n",
    "fig.autofmt_xdate()\n",
    "plt.tight_layout()"
   ]
  },
  {
   "cell_type": "markdown",
   "id": "0b9cba45",
   "metadata": {},
   "source": [
    "- realgdp - Real gross domestic product (the target variable or endogenous variable)\n",
    "- realcons - Real personal consumption expenditure\n",
    "- realinv - Real gross private domestic investment\n",
    "- realgovt - Real federal consumption expenditure and investment\n",
    "- realdpi - Real private disposable income\n",
    "- cpi - Consumer price index for the end of the quarter\n",
    "- m1 - M1 nominal money stock\n",
    "- tbilrate - Quarterly monthly average of the monthly 3-month treasury bill\n",
    "- unemp - Unemployment rate\n",
    "- pop - Total population at the end of the quarter\n",
    "- infl - Inflation rate\n",
    "- realint - Real interest rate"
   ]
  },
  {
   "cell_type": "code",
   "execution_count": null,
   "id": "ecb76844",
   "metadata": {},
   "outputs": [],
   "source": [
    "fig, axes = plt.subplots(nrows=3, ncols=2, dpi=300, figsize=(11,6))\n",
    "\n",
    "for i, ax in enumerate(axes.flatten()[:6]):\n",
    "    data = macro_econ_data[macro_econ_data.columns[i+2]]\n",
    "    \n",
    "    ax.plot(data, color='black', linewidth=1)\n",
    "    ax.set_title(macro_econ_data.columns[i+2])\n",
    "    ax.xaxis.set_ticks_position('none')\n",
    "    ax.yaxis.set_ticks_position('none')\n",
    "    ax.spines['top'].set_alpha(0)\n",
    "    ax.tick_params(labelsize=6)\n",
    "\n",
    "plt.setp(axes, xticks=np.arange(0, 208, 8), xticklabels=np.arange(1959, 2010, 2))\n",
    "fig.autofmt_xdate()\n",
    "plt.tight_layout()"
   ]
  },
  {
   "cell_type": "markdown",
   "id": "07538ba5",
   "metadata": {},
   "source": [
    "### Caveat for using SARIMAX"
   ]
  },
  {
   "cell_type": "markdown",
   "id": "79b26969",
   "metadata": {},
   "source": [
    "**If your exogenous variable is easy to predict, meaning that it\n",
    "follows a known function that can be accurately predicted, there is no harm in forecasting\n",
    "the exogenous variable and using these forecasts to predict the target.**"
   ]
  },
  {
   "cell_type": "markdown",
   "id": "6bbfb68e",
   "metadata": {},
   "source": [
    "### Forecasting"
   ]
  },
  {
   "cell_type": "code",
   "execution_count": null,
   "id": "909333e0",
   "metadata": {},
   "outputs": [],
   "source": [
    "target = macro_econ_data['realgdp']\n",
    "exog = macro_econ_data[['realcons', 'realinv', 'realgovt', 'realdpi', 'cpi']]"
   ]
  },
  {
   "cell_type": "code",
   "execution_count": null,
   "id": "1a499d2f",
   "metadata": {},
   "outputs": [],
   "source": [
    "ad_fuller_result = adfuller(target)\n",
    "\n",
    "print(f'ADF Statistic: {ad_fuller_result[0]}')\n",
    "print(\"Critical values:\")\n",
    "for key, value in ad_fuller_result[4].items():\n",
    "    print(f'   {key}: {value}')\n",
    "print(f'p-value: {ad_fuller_result[1]}')"
   ]
  },
  {
   "cell_type": "code",
   "execution_count": null,
   "id": "97ec0ed9",
   "metadata": {},
   "outputs": [],
   "source": [
    "target_diff = target.diff()\n",
    "\n",
    "ad_fuller_result = adfuller(target_diff[1:])\n",
    "\n",
    "print(f'ADF Statistic: {ad_fuller_result[0]}')\n",
    "print(\"Critical values:\")\n",
    "for key, value in ad_fuller_result[4].items():\n",
    "    print(f'   {key}: {value}')\n",
    "print(f'p-value: {ad_fuller_result[1]}')"
   ]
  },
  {
   "cell_type": "code",
   "execution_count": null,
   "id": "06a86793",
   "metadata": {},
   "outputs": [],
   "source": [
    "def optimize_SARIMAX(endog: Union[pd.Series, list], exog: Union[pd.Series, list], order_list: list, d: int, D: int, s: int) -> pd.DataFrame:\n",
    "    \n",
    "    results = []\n",
    "    \n",
    "    for order in tqdm(order_list):\n",
    "        try: \n",
    "            model = SARIMAX(\n",
    "                endog,\n",
    "                exog,\n",
    "                order=(order[0], d, order[1]),\n",
    "                seasonal_order=(order[2], D, order[3], s),\n",
    "                simple_differencing=False).fit(disp=False)\n",
    "        except:\n",
    "            continue\n",
    "            \n",
    "        aic = model.aic\n",
    "        results.append([order, aic])\n",
    "        \n",
    "    result_df = pd.DataFrame(results)\n",
    "    result_df.columns = ['(p,q,P,Q)', 'AIC']\n",
    "    \n",
    "    #Sort in ascending order, lower AIC is better\n",
    "    result_df = result_df.sort_values(by='AIC', ascending=True).reset_index(drop=True)\n",
    "    \n",
    "    return result_df"
   ]
  },
  {
   "cell_type": "code",
   "execution_count": null,
   "id": "95af75a5",
   "metadata": {},
   "outputs": [],
   "source": [
    "p = range(0, 4, 1)\n",
    "d = 1\n",
    "q = range(0, 4, 1)\n",
    "P = range(0, 4, 1)\n",
    "D = 0\n",
    "Q = range(0, 4, 1)\n",
    "s = 4\n",
    "\n",
    "parameters = product(p, q, P, Q)\n",
    "parameters_list = list(parameters)"
   ]
  },
  {
   "cell_type": "code",
   "execution_count": null,
   "id": "49759b20",
   "metadata": {},
   "outputs": [],
   "source": [
    "import warnings\n",
    "warnings.filterwarnings('ignore')\n",
    "\n",
    "target_train = target[:200]\n",
    "exog_train = exog[:200]\n",
    "\n",
    "result_df = optimize_SARIMAX(target_train, exog_train, parameters_list, d, D, s)\n",
    "result_df"
   ]
  },
  {
   "cell_type": "code",
   "execution_count": null,
   "id": "46d349ea",
   "metadata": {},
   "outputs": [],
   "source": [
    "best_model = SARIMAX(target_train, exog_train, order=(3,1,3), seasonal_order=(0,0,0,4), simple_differencing=False)\n",
    "best_model_fit = best_model.fit(disp=False)\n",
    "print(best_model_fit.summary())"
   ]
  },
  {
   "cell_type": "code",
   "execution_count": null,
   "id": "e300515d",
   "metadata": {},
   "outputs": [],
   "source": [
    "best_model_fit.plot_diagnostics(figsize=(10,8));"
   ]
  },
  {
   "cell_type": "code",
   "execution_count": null,
   "id": "25f41a47",
   "metadata": {},
   "outputs": [],
   "source": [
    "residuals = best_model_fit.resid\n",
    "\n",
    "res = acorr_ljungbox(residuals, np.arange(1, 11, 1))\n",
    "print(list(res[\"lb_pvalue\"]))"
   ]
  },
  {
   "cell_type": "code",
   "execution_count": null,
   "id": "416b8b8d",
   "metadata": {},
   "outputs": [],
   "source": [
    "def recursive_forecast(endog: Union[pd.Series, list], exog: Union[pd.Series, list], train_len: int, horizon: int, window: int, method: str) -> list:\n",
    "    \n",
    "    total_len = train_len + horizon\n",
    "\n",
    "    if method == 'last':\n",
    "        pred_last_value = []\n",
    "        \n",
    "        for i in range(train_len, total_len, window):\n",
    "            last_value = endog[:i].iloc[-1]\n",
    "            pred_last_value.extend(last_value for _ in range(window))\n",
    "            \n",
    "        return pred_last_value\n",
    "    \n",
    "    elif method == 'SARIMAX':\n",
    "        pred_SARIMAX = []\n",
    "        \n",
    "        for i in range(train_len, total_len, window):\n",
    "            model = SARIMAX(endog[:i], exog[:i], order=(3,1,3), seasonal_order=(0,0,0,4), simple_differencing=False)\n",
    "            res = model.fit(disp=False)\n",
    "            predictions = res.get_prediction(exog=exog)\n",
    "            oos_pred = predictions.predicted_mean.iloc[-window:]\n",
    "            pred_SARIMAX.extend(oos_pred)\n",
    "            \n",
    "        return pred_SARIMAX"
   ]
  },
  {
   "cell_type": "code",
   "execution_count": null,
   "id": "ff854e01",
   "metadata": {},
   "outputs": [],
   "source": [
    "target_train = target[:196]\n",
    "target_test = target[196:]\n",
    "\n",
    "pred_df = pd.DataFrame({'actual': target_test})\n",
    "\n",
    "TRAIN_LEN = len(target_train)\n",
    "HORIZON = len(target_test)\n",
    "WINDOW = 1\n",
    "\n",
    "pred_last_value = recursive_forecast(target, exog, TRAIN_LEN, HORIZON, WINDOW, 'last')\n",
    "pred_SARIMAX = recursive_forecast(target, exog, TRAIN_LEN, HORIZON, WINDOW, 'SARIMAX')\n",
    "\n",
    "pred_df['pred_last_value'] = pred_last_value\n",
    "pred_df['pred_SARIMAX'] = pred_SARIMAX\n",
    "\n",
    "pred_df"
   ]
  },
  {
   "cell_type": "code",
   "execution_count": null,
   "id": "32710950",
   "metadata": {},
   "outputs": [],
   "source": [
    "def mape(y_true, y_pred):\n",
    "    return np.mean(np.abs((y_true - y_pred) / y_true)) * 100"
   ]
  },
  {
   "cell_type": "code",
   "execution_count": null,
   "id": "0db9fdae",
   "metadata": {},
   "outputs": [],
   "source": [
    "mape_last = mape(pred_df.actual, pred_df.pred_last_value)\n",
    "mape_SARIMAX = mape(pred_df.actual, pred_df.pred_SARIMAX)\n",
    "\n",
    "print(mape_last, mape_SARIMAX)"
   ]
  },
  {
   "cell_type": "code",
   "execution_count": 1,
   "id": "97a29365",
   "metadata": {},
   "outputs": [
    {
     "ename": "NameError",
     "evalue": "name 'plt' is not defined",
     "output_type": "error",
     "traceback": [
      "\u001b[1;31m---------------------------------------------------------------------------\u001b[0m",
      "\u001b[1;31mNameError\u001b[0m                                 Traceback (most recent call last)",
      "Cell \u001b[1;32mIn[1], line 1\u001b[0m\n\u001b[1;32m----> 1\u001b[0m fig, ax \u001b[38;5;241m=\u001b[39m \u001b[43mplt\u001b[49m\u001b[38;5;241m.\u001b[39msubplots()\n\u001b[0;32m      3\u001b[0m x \u001b[38;5;241m=\u001b[39m [\u001b[38;5;124m'\u001b[39m\u001b[38;5;124mnaive last value\u001b[39m\u001b[38;5;124m'\u001b[39m, \u001b[38;5;124m'\u001b[39m\u001b[38;5;124mSARIMAX\u001b[39m\u001b[38;5;124m'\u001b[39m]\n\u001b[0;32m      4\u001b[0m y \u001b[38;5;241m=\u001b[39m [mape_last, mape_SARIMAX]\n",
      "\u001b[1;31mNameError\u001b[0m: name 'plt' is not defined"
     ]
    }
   ],
   "source": [
    "fig, ax = plt.subplots()\n",
    "\n",
    "x = ['naive last value', 'SARIMAX']\n",
    "y = [mape_last, mape_SARIMAX]\n",
    "\n",
    "ax.bar(x, y, width=0.4)\n",
    "ax.set_xlabel('Models')\n",
    "ax.set_ylabel('MAPE (%)')\n",
    "ax.set_ylim(0, 1)\n",
    "\n",
    "for index, value in enumerate(y):\n",
    "    plt.text(x=index, y=value + 0.05, s=str(round(value,2)), ha='center')\n",
    "\n",
    "plt.tight_layout()"
   ]
  },
  {
   "cell_type": "code",
   "execution_count": null,
   "id": "d71b6760-fac6-48b4-a363-e90807bf1add",
   "metadata": {},
   "outputs": [],
   "source": []
  },
  {
   "cell_type": "markdown",
   "id": "a8f5bd8f-502f-478a-bdf1-a4b3e3e6d61e",
   "metadata": {},
   "source": [
    "# Summary"
   ]
  },
  {
   "cell_type": "markdown",
   "id": "f71680b5-50f7-4266-8e37-bcbd994ec25f",
   "metadata": {},
   "source": [
    "Models are good when we have **small dataset (less than 10'000 points)**. Otherwise they take a long time. If we have larger datasets we usually use deep learning.\n",
    "\n",
    "If data has more than 1 seasonality effect we again, use deep learing."
   ]
  },
  {
   "cell_type": "code",
   "execution_count": null,
   "id": "a49c9391-420c-412c-a8dd-57c06456515c",
   "metadata": {},
   "outputs": [],
   "source": []
  },
  {
   "cell_type": "code",
   "execution_count": null,
   "id": "c41aa474-263f-40be-a55f-b43dacc1f91c",
   "metadata": {},
   "outputs": [],
   "source": []
  }
 ],
 "metadata": {
  "kernelspec": {
   "display_name": "Python 3 (ipykernel)",
   "language": "python",
   "name": "python3"
  },
  "language_info": {
   "codemirror_mode": {
    "name": "ipython",
    "version": 3
   },
   "file_extension": ".py",
   "mimetype": "text/x-python",
   "name": "python",
   "nbconvert_exporter": "python",
   "pygments_lexer": "ipython3",
   "version": "3.11.3"
  }
 },
 "nbformat": 4,
 "nbformat_minor": 5
}
