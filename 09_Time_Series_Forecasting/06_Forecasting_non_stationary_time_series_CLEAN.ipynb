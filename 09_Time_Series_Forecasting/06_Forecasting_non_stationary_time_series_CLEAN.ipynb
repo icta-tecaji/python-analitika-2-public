{
 "cells": [
  {
   "cell_type": "markdown",
   "id": "fd1b3dcf",
   "metadata": {},
   "source": [
    "# Forecasting non-stationary time series"
   ]
  },
  {
   "cell_type": "code",
   "execution_count": null,
   "id": "e23fe2db",
   "metadata": {},
   "outputs": [],
   "source": [
    "import pandas as pd\n",
    "import numpy as np\n",
    "%matplotlib inline\n",
    "import matplotlib.pyplot as plt\n",
    "\n",
    "from sklearn.metrics import mean_squared_error, mean_absolute_error\n",
    "from statsmodels.graphics.tsaplots import plot_acf, plot_pacf\n",
    "from statsmodels.stats.diagnostic import acorr_ljungbox\n",
    "from statsmodels.tsa.statespace.sarimax import SARIMAX\n",
    "from statsmodels.tsa.arima_process import ArmaProcess\n",
    "from statsmodels.graphics.gofplots import qqplot\n",
    "from statsmodels.tsa.stattools import adfuller\n",
    "from tqdm.notebook import tqdm\n",
    "from itertools import product\n",
    "from typing import Union"
   ]
  },
  {
   "cell_type": "markdown",
   "id": "50e32478",
   "metadata": {},
   "source": [
    "Now we’ll **add another component to the `ARMA(p,q)` model so we can forecast\n",
    "non-stationary time series.**"
   ]
  },
  {
   "cell_type": "markdown",
   "id": "0f6918ee",
   "metadata": {},
   "source": [
    "## Defining the autoregressive integrated moving average model"
   ]
  },
  {
   "cell_type": "markdown",
   "id": "d55ff9f4",
   "metadata": {},
   "source": [
    "**An autoregressive integrated moving average (ARIMA) process is the combination of\n",
    "the AR(p) and MA(q) processes, but in terms of the differenced series.**"
   ]
  },
  {
   "cell_type": "markdown",
   "id": "1da735dd",
   "metadata": {},
   "source": [
    "## Modifying the general modeling procedure to account for non-stationary series"
   ]
  },
  {
   "cell_type": "markdown",
   "id": "1190c532",
   "metadata": {},
   "source": [
    "<img src=\"images/tsf_07.png\">"
   ]
  },
  {
   "cell_type": "markdown",
   "id": "55ba0321",
   "metadata": {},
   "source": [
    "## Forecasting a non-stationary times series"
   ]
  },
  {
   "cell_type": "code",
   "execution_count": null,
   "id": "fd44cfa9",
   "metadata": {},
   "outputs": [],
   "source": [
    "df = pd.read_csv('data/jj.csv')\n",
    "df.head()"
   ]
  },
  {
   "cell_type": "code",
   "execution_count": null,
   "id": "77e5f708",
   "metadata": {},
   "outputs": [],
   "source": [
    "fig, ax = plt.subplots()\n",
    "\n",
    "ax.plot(df.date, df['data'])\n",
    "ax.set_xlabel('Date')\n",
    "ax.set_ylabel('Earnings per share (USD)')\n",
    "\n",
    "plt.xticks(np.arange(0, 81, 8), [1960, 1962, 1964, 1966, 1968, 1970, 1972, 1974, 1976, 1978, 1980])\n",
    "\n",
    "fig.autofmt_xdate()\n",
    "plt.tight_layout()"
   ]
  },
  {
   "cell_type": "code",
   "execution_count": null,
   "id": "229241ac",
   "metadata": {},
   "outputs": [],
   "source": [
    "ad_fuller_result = adfuller(df['data'])\n",
    "\n",
    "print(f'ADF Statistic: {ad_fuller_result[0]}')\n",
    "print(f'p-value: {ad_fuller_result[1]}')"
   ]
  },
  {
   "cell_type": "code",
   "execution_count": null,
   "id": "e6011ea4",
   "metadata": {},
   "outputs": [],
   "source": [
    "eps_diff = np.diff(df['data'], n=1)\n",
    "\n",
    "ad_fuller_result = adfuller(eps_diff)\n",
    "\n",
    "print(f'ADF Statistic: {ad_fuller_result[0]}')\n",
    "print(f'p-value: {ad_fuller_result[1]}')"
   ]
  },
  {
   "cell_type": "code",
   "execution_count": null,
   "id": "899354c3",
   "metadata": {},
   "outputs": [],
   "source": [
    "eps_diff2 = np.diff(eps_diff, n=1)\n",
    "\n",
    "ad_fuller_result = adfuller(eps_diff2)\n",
    "\n",
    "print(f'ADF Statistic: {ad_fuller_result[0]}')\n",
    "print(f'p-value: {ad_fuller_result[1]}')"
   ]
  },
  {
   "cell_type": "code",
   "execution_count": null,
   "id": "effe27f7",
   "metadata": {},
   "outputs": [],
   "source": [
    "fig, ax = plt.subplots()\n",
    "\n",
    "ax.plot(df['date'][2:], eps_diff2)\n",
    "ax.set_xlabel('Date')\n",
    "ax.set_ylabel('Earnings per share - diff (USD)')\n",
    "\n",
    "plt.xticks(np.arange(0, 81, 8), [1960, 1962, 1964, 1966, 1968, 1970, 1972, 1974, 1976, 1978, 1980])\n",
    "\n",
    "fig.autofmt_xdate()\n",
    "plt.tight_layout()"
   ]
  },
  {
   "cell_type": "code",
   "execution_count": null,
   "id": "8c583fdb",
   "metadata": {},
   "outputs": [],
   "source": [
    "fig, ax = plt.subplots()\n",
    "\n",
    "ax.plot(df.date, df.data)\n",
    "ax.set_xlabel('Date')\n",
    "ax.set_ylabel('Earnings per share (USD)')\n",
    "ax.axvspan(80, 83, color='#808080', alpha=0.2)\n",
    "\n",
    "plt.xticks(np.arange(0, 81, 8), [1960, 1962, 1964, 1966, 1968, 1970, 1972, 1974, 1976, 1978, 1980])\n",
    "\n",
    "fig.autofmt_xdate()\n",
    "plt.tight_layout()"
   ]
  },
  {
   "cell_type": "code",
   "execution_count": null,
   "id": "133303a0",
   "metadata": {},
   "outputs": [],
   "source": [
    "def optimize_ARIMA(endog: Union[pd.Series, list], order_list: list, d: int) -> pd.DataFrame:\n",
    "    \n",
    "    results = []\n",
    "    \n",
    "    for order in tqdm(order_list):\n",
    "        try: \n",
    "            model = SARIMAX(endog, order=(order[0], d, order[1]), simple_differencing=False).fit(disp=False)\n",
    "        except:\n",
    "            continue\n",
    "            \n",
    "        aic = model.aic\n",
    "        results.append([order, aic])\n",
    "        \n",
    "    result_df = pd.DataFrame(results)\n",
    "    result_df.columns = ['(p,q)', 'AIC']\n",
    "    \n",
    "    #Sort in ascending order, lower AIC is better\n",
    "    result_df = result_df.sort_values(by='AIC', ascending=True).reset_index(drop=True)\n",
    "    \n",
    "    return result_df"
   ]
  },
  {
   "cell_type": "code",
   "execution_count": null,
   "id": "381bd8e3",
   "metadata": {},
   "outputs": [],
   "source": [
    "ps = range(0, 4, 1)\n",
    "qs = range(0, 4, 1)\n",
    "d = 2\n",
    "\n",
    "order_list = list(product(ps, qs))"
   ]
  },
  {
   "cell_type": "code",
   "execution_count": null,
   "id": "2101b11f",
   "metadata": {},
   "outputs": [],
   "source": [
    "train = df['data'][:-4]\n",
    "\n",
    "result_df = optimize_ARIMA(train, order_list, d)\n",
    "result_df\n"
   ]
  },
  {
   "cell_type": "code",
   "execution_count": null,
   "id": "026c3f46",
   "metadata": {},
   "outputs": [],
   "source": [
    "model = SARIMAX(train, order=(3,2,3), simple_differencing=False)\n",
    "model_fit = model.fit(disp=False)\n",
    "model_fit.plot_diagnostics(figsize=(10,8));\n",
    "plt.show()"
   ]
  },
  {
   "cell_type": "code",
   "execution_count": null,
   "id": "a12682db",
   "metadata": {},
   "outputs": [],
   "source": [
    "residuals = model_fit.resid\n",
    "\n",
    "res = acorr_ljungbox(residuals, np.arange(1, 11, 1))\n",
    "\n",
    "print(list(res[\"lb_pvalue\"]))"
   ]
  },
  {
   "cell_type": "code",
   "execution_count": null,
   "id": "8a6b0819",
   "metadata": {},
   "outputs": [],
   "source": [
    "test = df.iloc[-4:]\n",
    "\n",
    "test['naive_seasonal'] = df['data'].iloc[76:80].values\n",
    "test"
   ]
  },
  {
   "cell_type": "code",
   "execution_count": null,
   "id": "58d784df",
   "metadata": {},
   "outputs": [],
   "source": [
    "ARIMA_pred = model_fit.get_prediction(80, 83).predicted_mean\n",
    "\n",
    "test['ARIMA_pred'] = ARIMA_pred\n",
    "test"
   ]
  },
  {
   "cell_type": "code",
   "execution_count": null,
   "id": "5dbd3106",
   "metadata": {},
   "outputs": [],
   "source": [
    "fig, ax = plt.subplots()\n",
    "\n",
    "ax.plot(df['date'], df['data'])\n",
    "ax.plot(test['data'], 'b-', label='actual')\n",
    "ax.plot(test['naive_seasonal'], 'r:', label='naive seasonal')\n",
    "ax.plot(test['ARIMA_pred'], 'k--', label='ARIMA(3,2,3)')\n",
    "\n",
    "ax.set_xlabel('Date')\n",
    "ax.set_ylabel('Earnings per share (USD)')\n",
    "ax.axvspan(80, 83, color='#808080', alpha=0.2)\n",
    "\n",
    "ax.legend(loc=2)\n",
    "\n",
    "plt.xticks(np.arange(0, 81, 8), [1960, 1962, 1964, 1966, 1968, 1970, 1972, 1974, 1976, 1978, 1980])\n",
    "ax.set_xlim(60, 83)\n",
    "\n",
    "fig.autofmt_xdate()\n",
    "plt.tight_layout()"
   ]
  },
  {
   "cell_type": "code",
   "execution_count": null,
   "id": "782a0970",
   "metadata": {},
   "outputs": [],
   "source": [
    "def mape(y_true, y_pred):\n",
    "    return np.mean(np.abs((y_true - y_pred) / y_true)) * 100"
   ]
  },
  {
   "cell_type": "code",
   "execution_count": null,
   "id": "68b53cee",
   "metadata": {},
   "outputs": [],
   "source": [
    "mape_naive_seasonal = mape(test['data'], test['naive_seasonal'])\n",
    "mape_ARIMA = mape(test['data'], test['ARIMA_pred'])\n",
    "\n",
    "print(mape_naive_seasonal, mape_ARIMA)"
   ]
  },
  {
   "cell_type": "code",
   "execution_count": null,
   "id": "e2fe143d",
   "metadata": {},
   "outputs": [],
   "source": [
    "fig, ax = plt.subplots()\n",
    "\n",
    "x = ['naive seasonal', 'ARIMA(3,2,3)']\n",
    "y = [mape_naive_seasonal, mape_ARIMA]\n",
    "\n",
    "ax.bar(x, y, width=0.4)\n",
    "ax.set_xlabel('Models')\n",
    "ax.set_ylabel('MAPE (%)')\n",
    "ax.set_ylim(0, 15)\n",
    "\n",
    "for index, value in enumerate(y):\n",
    "    plt.text(x=index, y=value + 1, s=str(round(value,2)), ha='center')\n",
    "\n",
    "plt.tight_layout()"
   ]
  },
  {
   "cell_type": "markdown",
   "id": "b183adce",
   "metadata": {},
   "source": [
    "## Summary"
   ]
  },
  {
   "cell_type": "markdown",
   "id": "e8dcc0bb",
   "metadata": {},
   "source": [
    "- The autoregressive integrated moving average model, denoted as ARIMA(p,d,q),\n",
    "is the combination of the autoregressive model AR(p), the order of integration\n",
    "d, and the moving average model MA(q).\n",
    "- The ARIMA(p,d,q) model can be applied on non-stationary time series and\n",
    "has the added advantage of returning forecasts in the same scale as the original\n",
    "series.\n",
    "- The order of integration d is equal to the minimum number of times a series\n",
    "must be differenced to become stationary.\n",
    "- An ARIMA(p,0,q) model is equivalent to an ARMA(p,q) model."
   ]
  }
 ],
 "metadata": {
  "kernelspec": {
   "display_name": "Python 3 (ipykernel)",
   "language": "python",
   "name": "python3"
  },
  "language_info": {
   "codemirror_mode": {
    "name": "ipython",
    "version": 3
   },
   "file_extension": ".py",
   "mimetype": "text/x-python",
   "name": "python",
   "nbconvert_exporter": "python",
   "pygments_lexer": "ipython3",
   "version": "3.10.7"
  }
 },
 "nbformat": 4,
 "nbformat_minor": 5
}
