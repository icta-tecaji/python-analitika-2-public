{
 "cells": [
  {
   "cell_type": "markdown",
   "id": "0ae625e5",
   "metadata": {},
   "source": [
    "# Understanding time series forecasting"
   ]
  },
  {
   "cell_type": "code",
   "execution_count": null,
   "id": "44d9fba5",
   "metadata": {},
   "outputs": [],
   "source": [
    "import pandas as pd\n",
    "import numpy as np\n",
    "%matplotlib inline\n",
    "import matplotlib.pyplot as plt"
   ]
  },
  {
   "cell_type": "markdown",
   "id": "651c447d",
   "metadata": {},
   "source": [
    "## Introducing time series"
   ]
  },
  {
   "cell_type": "code",
   "execution_count": null,
   "id": "c881aa3d",
   "metadata": {},
   "outputs": [],
   "source": [
    "df = pd.read_csv(\"data/quarterly_earnings.csv\")\n",
    "df['year'] = pd.DatetimeIndex(df['date']).year\n",
    "df.head()"
   ]
  },
  {
   "cell_type": "code",
   "execution_count": null,
   "id": "7753f21c",
   "metadata": {},
   "outputs": [],
   "source": [
    "fig, ax = plt.subplots()\n",
    "\n",
    "ax.plot(df.date, df.data)\n",
    "ax.set_xlabel('Date')\n",
    "ax.set_ylabel('Earnings per share (USD)')\n",
    "\n",
    "plt.xticks(np.arange(0, 85, 8), [1960, 1962, 1964, 1966, 1968, 1970, 1972, 1974, 1976, 1978, 1980])\n",
    "\n",
    "fig.autofmt_xdate()\n",
    "plt.tight_layout()\n",
    "plt.show()"
   ]
  },
  {
   "cell_type": "markdown",
   "id": "578643e4",
   "metadata": {},
   "source": [
    "**Visualizing the components of a time series is known as `decomposition`**. \n"
   ]
  },
  {
   "cell_type": "code",
   "execution_count": null,
   "id": "e0cc027b",
   "metadata": {},
   "outputs": [],
   "source": [
    "from statsmodels.tsa.seasonal import seasonal_decompose, STL\n",
    "\n",
    "advanced_decomposition = STL(df.data, period=4).fit()\n",
    "\n",
    "fig, (ax1, ax2, ax3, ax4) = plt.subplots(nrows=4, ncols=1, sharex=True)\n",
    "\n",
    "ax1.plot(advanced_decomposition.observed)\n",
    "ax1.set_ylabel('Observed')\n",
    "\n",
    "ax2.plot(advanced_decomposition.trend)\n",
    "ax2.set_ylabel('Trend')\n",
    "\n",
    "ax3.plot(advanced_decomposition.seasonal)\n",
    "ax3.set_ylabel('Seasonal')\n",
    "\n",
    "ax4.plot(advanced_decomposition.resid)\n",
    "ax4.set_ylabel('Residuals')\n",
    "\n",
    "\n",
    "plt.xticks(np.arange(0, 85, 8), [1960, 1962, 1964, 1966, 1968, 1970, 1972, 1974, 1976, 1978, 1980])\n",
    "\n",
    "fig.autofmt_xdate()\n",
    "plt.tight_layout()\n",
    "plt.show()"
   ]
  },
  {
   "cell_type": "markdown",
   "id": "74468638",
   "metadata": {},
   "source": [
    "## Bird’s-eye view of time series forecasting"
   ]
  },
  {
   "cell_type": "markdown",
   "id": "a5be4694",
   "metadata": {},
   "source": [
    "<img src=\"images/tsf_01.png\">"
   ]
  },
  {
   "cell_type": "markdown",
   "id": "7a4bf20c",
   "metadata": {},
   "source": [
    "Forecasting project roadmap.\n",
    "1. **The first step is naturally to set a goal that justifies the need for forecasting.**\n",
    "2. **Then you must determine what needs to be forecast in order to achieve that goal.**\n",
    "3. **Then you set the horizon of the forecast.**\n",
    "4. **Once that’s done, you can gather the data and develop a forecasting model.**\n",
    "5. **Then the model is deployed to production, its performance is monitored, and new data is collected in order to retrain the forecasting model and make sure it is still relevant.**"
   ]
  },
  {
   "cell_type": "markdown",
   "id": "fa8c98b5",
   "metadata": {},
   "source": [
    "> It is important to have a goal when forecasting and to monitor the model once\n",
    "it’s deployed. This will ensure the success and longevity of the project."
   ]
  },
  {
   "cell_type": "markdown",
   "id": "d1af11be",
   "metadata": {},
   "source": [
    "## How time series forecasting is different from other regression tasks"
   ]
  },
  {
   "cell_type": "markdown",
   "id": "9b87826d",
   "metadata": {},
   "source": [
    "However, there are some key differences between time series forecasting and regression\n",
    "for time-independent scenarios:\n",
    "- **Time series have an order**\n",
    "- **Time series sometimes do not have features**"
   ]
  },
  {
   "cell_type": "markdown",
   "id": "4639c0b2",
   "metadata": {},
   "source": [
    "> Never change the order of a time series when modeling. Shuffling the data is\n",
    "not allowed."
   ]
  },
  {
   "cell_type": "markdown",
   "id": "acf1a3d4",
   "metadata": {},
   "source": [
    "## Defining a baseline model"
   ]
  },
  {
   "cell_type": "markdown",
   "id": "26e140fc",
   "metadata": {},
   "source": [
    "- In the context of time series, **one simple statistic we can use to build a baseline is the\n",
    "arithmetic mean.**"
   ]
  },
  {
   "cell_type": "markdown",
   "id": "0ce8aeb4",
   "metadata": {},
   "source": [
    "- Another possible baseline is to naively forecast the **last recorded data point**."
   ]
  },
  {
   "cell_type": "markdown",
   "id": "624071ca",
   "metadata": {},
   "source": [
    "- Or, if we see a cyclical pattern in our data, we can **simply repeat that pattern into the\n",
    "future.**"
   ]
  },
  {
   "cell_type": "markdown",
   "id": "5a0174a4",
   "metadata": {},
   "source": [
    "> A baseline model is a trivial solution to our forecasting problem because it only\n",
    "uses heuristics, or simple statistics, such as the mean."
   ]
  },
  {
   "cell_type": "markdown",
   "id": "b5abb132",
   "metadata": {},
   "source": [
    "## Forecasting the historical mean"
   ]
  },
  {
   "cell_type": "code",
   "execution_count": null,
   "id": "7a7cac96",
   "metadata": {},
   "outputs": [],
   "source": [
    "df.head()"
   ]
  },
  {
   "cell_type": "code",
   "execution_count": null,
   "id": "bf71337e",
   "metadata": {},
   "outputs": [],
   "source": [
    "fig, ax = plt.subplots()\n",
    "\n",
    "ax.plot(df['date'], df['data'])\n",
    "ax.set_xlabel('Date')\n",
    "ax.set_ylabel('Earnings per share (USD)')\n",
    "ax.axvspan(80, 83, color='#808080', alpha=0.2)\n",
    "\n",
    "plt.xticks(np.arange(0, 81, 8), [1960, 1962, 1964, 1966, 1968, 1970, 1972, 1974, 1976, 1978, 1980])\n",
    "\n",
    "fig.autofmt_xdate()\n",
    "plt.tight_layout()\n",
    "plt.show()"
   ]
  },
  {
   "cell_type": "code",
   "execution_count": null,
   "id": "991422b7",
   "metadata": {},
   "outputs": [],
   "source": [
    "train = df[:-4].copy()\n",
    "test = df[-4:].copy()"
   ]
  },
  {
   "cell_type": "code",
   "execution_count": null,
   "id": "053cddde",
   "metadata": {},
   "outputs": [],
   "source": [
    "historical_mean = np.mean(train['data'])\n",
    "historical_mean"
   ]
  },
  {
   "cell_type": "code",
   "execution_count": null,
   "id": "81dfa29e",
   "metadata": {},
   "outputs": [],
   "source": [
    "test.loc[:, 'pred_mean'] = historical_mean\n",
    "test"
   ]
  },
  {
   "cell_type": "markdown",
   "id": "a56353ce",
   "metadata": {},
   "source": [
    "Next, we need to define and **calculate an error metric in order to evaluate the performance\n",
    "of our forecasts on the test set.**"
   ]
  },
  {
   "cell_type": "code",
   "execution_count": null,
   "id": "5b27d83d",
   "metadata": {},
   "outputs": [],
   "source": [
    "def mape(y_true, y_pred):\n",
    "    return np.mean(np.abs((y_true - y_pred) / y_true)) * 100"
   ]
  },
  {
   "cell_type": "code",
   "execution_count": null,
   "id": "cf25d394",
   "metadata": {},
   "outputs": [],
   "source": [
    "mape_hist_mean = mape(test['data'], test['pred_mean'])\n",
    "mape_hist_mean"
   ]
  },
  {
   "cell_type": "code",
   "execution_count": null,
   "id": "c036e642",
   "metadata": {},
   "outputs": [],
   "source": [
    "fig, ax = plt.subplots()\n",
    "\n",
    "ax.plot(train['date'], train['data'], 'g-.', label='Train')\n",
    "ax.plot(test['date'], test['data'], 'b-', label='Test')\n",
    "ax.plot(test['date'], test['pred_mean'], 'r--', label='Predicted')\n",
    "ax.set_xlabel('Date')\n",
    "ax.set_ylabel('Earnings per share (USD)')\n",
    "ax.axvspan(80, 83, color='#808080', alpha=0.2)\n",
    "ax.legend(loc=2)\n",
    "\n",
    "plt.xticks(np.arange(0, 85, 8), [1960, 1962, 1964, 1966, 1968, 1970, 1972, 1974, 1976, 1978, 1980])\n",
    "\n",
    "fig.autofmt_xdate()\n",
    "plt.tight_layout()\n",
    "plt.show()"
   ]
  },
  {
   "cell_type": "markdown",
   "id": "5624420e",
   "metadata": {},
   "source": [
    "## Forecasting last year’s mean"
   ]
  },
  {
   "cell_type": "code",
   "execution_count": null,
   "id": "3dd584b3",
   "metadata": {},
   "outputs": [],
   "source": [
    "last_year_mean = np.mean(train['data'][-4:])\n",
    "last_year_mean"
   ]
  },
  {
   "cell_type": "code",
   "execution_count": null,
   "id": "0f46b89a",
   "metadata": {},
   "outputs": [],
   "source": [
    "test.loc[:, 'pred__last_yr_mean'] = last_year_mean\n",
    "\n",
    "test"
   ]
  },
  {
   "cell_type": "code",
   "execution_count": null,
   "id": "39bfc40a",
   "metadata": {},
   "outputs": [],
   "source": [
    "mape_last_year_mean = mape(test['data'], test['pred__last_yr_mean'])\n",
    "mape_last_year_mean"
   ]
  },
  {
   "cell_type": "code",
   "execution_count": null,
   "id": "c65a71f7",
   "metadata": {},
   "outputs": [],
   "source": [
    "fig, ax = plt.subplots()\n",
    "\n",
    "ax.plot(train['date'], train['data'], 'g-.', label='Train')\n",
    "ax.plot(test['date'], test['data'], 'b-', label='Test')\n",
    "ax.plot(test['date'], test['pred__last_yr_mean'], 'r--', label='Predicted')\n",
    "ax.set_xlabel('Date')\n",
    "ax.set_ylabel('Earnings per share (USD)')\n",
    "ax.axvspan(80, 83, color='#808080', alpha=0.2)\n",
    "ax.legend(loc=2)\n",
    "\n",
    "plt.xticks(np.arange(0, 85, 8), [1960, 1962, 1964, 1966, 1968, 1970, 1972, 1974, 1976, 1978, 1980])\n",
    "\n",
    "fig.autofmt_xdate()\n",
    "plt.tight_layout()\n",
    "plt.show()"
   ]
  },
  {
   "cell_type": "markdown",
   "id": "52d54c28",
   "metadata": {},
   "source": [
    "## Predicting using the last known value"
   ]
  },
  {
   "cell_type": "code",
   "execution_count": null,
   "id": "ee4eba5c",
   "metadata": {},
   "outputs": [],
   "source": [
    "last = train['data'].iloc[-1]\n",
    "last"
   ]
  },
  {
   "cell_type": "code",
   "execution_count": null,
   "id": "dd2952c3",
   "metadata": {},
   "outputs": [],
   "source": [
    "test.loc[:, 'pred_last'] = last\n",
    "\n",
    "test"
   ]
  },
  {
   "cell_type": "code",
   "execution_count": null,
   "id": "5a4eee1c",
   "metadata": {},
   "outputs": [],
   "source": [
    "mape_last = mape(test['data'], test['pred_last'])\n",
    "mape_last"
   ]
  },
  {
   "cell_type": "code",
   "execution_count": null,
   "id": "72219ee5",
   "metadata": {},
   "outputs": [],
   "source": [
    "fig, ax = plt.subplots()\n",
    "\n",
    "ax.plot(train['date'], train['data'], 'g-.', label='Train')\n",
    "ax.plot(test['date'], test['data'], 'b-', label='Test')\n",
    "ax.plot(test['date'], test['pred_last'], 'r--', label='Predicted')\n",
    "ax.set_xlabel('Date')\n",
    "ax.set_ylabel('Earnings per share (USD)')\n",
    "ax.axvspan(80, 83, color='#808080', alpha=0.2)\n",
    "ax.legend(loc=2)\n",
    "\n",
    "plt.xticks(np.arange(0, 85, 8), [1960, 1962, 1964, 1966, 1968, 1970, 1972, 1974, 1976, 1978, 1980])\n",
    "\n",
    "fig.autofmt_xdate()\n",
    "plt.tight_layout()\n",
    "plt.show()"
   ]
  },
  {
   "cell_type": "markdown",
   "id": "8ea71b9d",
   "metadata": {},
   "source": [
    "## Implementing the naive seasonal forecast"
   ]
  },
  {
   "cell_type": "code",
   "execution_count": null,
   "id": "0081a97d",
   "metadata": {},
   "outputs": [],
   "source": [
    "test.loc[:, 'pred_last_season'] = train['data'][-4:].values\n",
    "\n",
    "test"
   ]
  },
  {
   "cell_type": "code",
   "execution_count": null,
   "id": "d67750be",
   "metadata": {},
   "outputs": [],
   "source": [
    "mape_naive_seasonal = mape(test['data'], test['pred_last_season'])\n",
    "mape_naive_seasonal"
   ]
  },
  {
   "cell_type": "code",
   "execution_count": null,
   "id": "8467bb7f",
   "metadata": {},
   "outputs": [],
   "source": [
    "fig, ax = plt.subplots()\n",
    "\n",
    "ax.plot(train['date'], train['data'], 'g-.', label='Train')\n",
    "ax.plot(test['date'], test['data'], 'b-', label='Test')\n",
    "ax.plot(test['date'], test['pred_last_season'], 'r--', label='Predicted')\n",
    "ax.set_xlabel('Date')\n",
    "ax.set_ylabel('Earnings per share (USD)')\n",
    "ax.axvspan(80, 83, color='#808080', alpha=0.2)\n",
    "ax.legend(loc=2)\n",
    "\n",
    "plt.xticks(np.arange(0, 85, 8), [1960, 1962, 1964, 1966, 1968, 1970, 1972, 1974, 1976, 1978, 1980])\n",
    "\n",
    "fig.autofmt_xdate()\n",
    "plt.tight_layout()\n",
    "plt.show()"
   ]
  },
  {
   "cell_type": "markdown",
   "id": "e930baff",
   "metadata": {},
   "source": [
    "**Keep in mind that a baseline model serves as a basis for comparison.**"
   ]
  },
  {
   "cell_type": "markdown",
   "id": "551a6653",
   "metadata": {},
   "source": [
    "> Time series forecasting starts with a baseline model that serves as a benchmark\n",
    "for comparison with more complex models."
   ]
  },
  {
   "cell_type": "markdown",
   "id": "b8e8b49e",
   "metadata": {},
   "source": [
    "## The random walk process"
   ]
  },
  {
   "cell_type": "code",
   "execution_count": null,
   "id": "e0376ba6",
   "metadata": {},
   "outputs": [],
   "source": [
    "df = pd.read_csv('data/GOOGL.csv')\n",
    "df.head()"
   ]
  },
  {
   "cell_type": "code",
   "execution_count": null,
   "id": "e876ca60",
   "metadata": {},
   "outputs": [],
   "source": [
    "fig, ax = plt.subplots()\n",
    "\n",
    "ax.plot(df['Date'], df['Close'])\n",
    "ax.set_xlabel('Date')\n",
    "ax.set_ylabel('Closing price (USD)')\n",
    "\n",
    "plt.xticks(\n",
    "    [4, 24, 46, 68, 89, 110, 132, 152, 174, 193, 212, 235], \n",
    "    ['May', 'June', 'July', 'Aug', 'Sep', 'Oct', 'Nov', 'Dec', 'Jan 2021', 'Feb', 'Mar', 'April'])\n",
    "\n",
    "fig.autofmt_xdate()\n",
    "plt.tight_layout()\n",
    "plt.show()"
   ]
  },
  {
   "cell_type": "markdown",
   "id": "997aa964",
   "metadata": {},
   "source": [
    "**A random walk is a process in which there is an equal chance of going up or down by a\n",
    "random number.** This is usually observed in **financial and economic data**."
   ]
  },
  {
   "cell_type": "markdown",
   "id": "12d23464",
   "metadata": {},
   "source": [
    "### Simulating a random walk process"
   ]
  },
  {
   "cell_type": "code",
   "execution_count": null,
   "id": "6747aa8b",
   "metadata": {},
   "outputs": [],
   "source": [
    "np.random.seed(42)"
   ]
  },
  {
   "cell_type": "code",
   "execution_count": null,
   "id": "4f027162",
   "metadata": {},
   "outputs": [],
   "source": [
    "steps = np.random.standard_normal(1000)"
   ]
  },
  {
   "cell_type": "code",
   "execution_count": null,
   "id": "cb17ed16",
   "metadata": {},
   "outputs": [],
   "source": [
    "steps[0]=0"
   ]
  },
  {
   "cell_type": "code",
   "execution_count": null,
   "id": "15420a1f",
   "metadata": {},
   "outputs": [],
   "source": [
    "random_walk = np.cumsum(steps)"
   ]
  },
  {
   "cell_type": "code",
   "execution_count": null,
   "id": "49eb6e9e",
   "metadata": {},
   "outputs": [],
   "source": [
    "fig, ax = plt.subplots()\n",
    "\n",
    "ax.plot(random_walk)\n",
    "ax.set_xlabel('Timesteps')\n",
    "ax.set_ylabel('Value')\n",
    "\n",
    "plt.tight_layout()\n",
    "plt.show()"
   ]
  },
  {
   "cell_type": "markdown",
   "id": "2ef4c7ef",
   "metadata": {},
   "source": [
    "## Identifying a random walk"
   ]
  },
  {
   "cell_type": "markdown",
   "id": "1751bf0b",
   "metadata": {},
   "source": [
    "In the context of time series, a **random walk is defined\n",
    "as a series whose first difference is stationary and uncorrelated.**"
   ]
  },
  {
   "cell_type": "markdown",
   "id": "85c3996f",
   "metadata": {},
   "source": [
    "> **This means that the process moves completely at random.**"
   ]
  },
  {
   "cell_type": "markdown",
   "id": "168dec21",
   "metadata": {},
   "source": [
    "<img src=\"images/tsf_02.png\">"
   ]
  },
  {
   "cell_type": "markdown",
   "id": "103bb089",
   "metadata": {},
   "source": [
    "### Stationarity"
   ]
  },
  {
   "cell_type": "markdown",
   "id": "181c0738",
   "metadata": {},
   "source": [
    "A stationary time series is one whose **statistical properties do not change over time**. In\n",
    "other words, it **has a constant mean, variance, and autocorrelation, and these properties\n",
    "are independent of time**."
   ]
  },
  {
   "cell_type": "markdown",
   "id": "fe03fdb1",
   "metadata": {},
   "source": [
    "> The augmented Dickey-Fuller (ADF) test helps us determine if a time series is stationary\n",
    "by testing for the presence of a unit root. If a unit root is present, the time series\n",
    "is not stationary."
   ]
  },
  {
   "cell_type": "code",
   "execution_count": null,
   "id": "247ed060",
   "metadata": {},
   "outputs": [],
   "source": [
    "def simulate_process(is_stationary: bool) -> np.array:\n",
    "    np.random.seed(42)\n",
    "    process = np.empty(400)\n",
    "    \n",
    "    if is_stationary:\n",
    "        alpha = 0.5\n",
    "        process[0] = 0\n",
    "    else:\n",
    "        alpha = 1\n",
    "        process[0] = 10\n",
    "        \n",
    "    for i in range(400):\n",
    "        if i+1 < 400:\n",
    "            process[i+1] = alpha*process[i] + np.random.standard_normal()\n",
    "        else:\n",
    "            break\n",
    "        \n",
    "    return process\n",
    "\n",
    "stationary = simulate_process(True)\n",
    "non_stationary = simulate_process(False)\n",
    "\n",
    "fig, ax = plt.subplots()\n",
    "\n",
    "ax.plot(stationary, linestyle='-', label='stationary')\n",
    "ax.plot(non_stationary, linestyle='--', label='non-stationary')\n",
    "ax.set_xlabel('Timesteps')\n",
    "ax.set_ylabel('Value')\n",
    "ax.legend(loc=2)\n",
    "\n",
    "plt.tight_layout()\n",
    "plt.show()"
   ]
  },
  {
   "cell_type": "code",
   "execution_count": null,
   "id": "23e9851c",
   "metadata": {},
   "outputs": [],
   "source": [
    "import warnings\n",
    "warnings.filterwarnings('ignore')\n",
    "\n",
    "def mean_over_time(process: np.array) -> np.array:\n",
    "    mean_func = []\n",
    "    \n",
    "    for i in range(len(process)):\n",
    "        mean_func.append(np.mean(process[:i]))\n",
    "    \n",
    "    return mean_func\n",
    "\n",
    "stationary_mean = mean_over_time(stationary)\n",
    "non_stationary_mean = mean_over_time(non_stationary)\n",
    "\n",
    "fig, ax = plt.subplots()\n",
    "\n",
    "ax.plot(stationary_mean, label='stationary')\n",
    "ax.plot(non_stationary_mean, linestyle='--', label='non-stationary')\n",
    "ax.set_xlabel('Timesteps')\n",
    "ax.set_ylabel('Mean')\n",
    "ax.legend(loc=1)\n",
    "\n",
    "plt.tight_layout()\n",
    "plt.show()"
   ]
  },
  {
   "cell_type": "code",
   "execution_count": null,
   "id": "64811676",
   "metadata": {},
   "outputs": [],
   "source": [
    "def var_over_time(process: np.array) -> np.array:\n",
    "    var_func = []\n",
    "    \n",
    "    for i in range(len(process)):\n",
    "        var_func.append(np.var(process[:i]))\n",
    "    \n",
    "    return var_func\n",
    "\n",
    "stationary_var = var_over_time(stationary)\n",
    "non_stationary_var = var_over_time(non_stationary)\n",
    "\n",
    "fig, ax = plt.subplots()\n",
    "\n",
    "ax.plot(stationary_var, label='stationary')\n",
    "ax.plot(non_stationary_var, linestyle='--', label='non-stationary')\n",
    "ax.set_xlabel('Timesteps')\n",
    "ax.set_ylabel('Variance')\n",
    "ax.legend(loc=2)\n",
    "\n",
    "plt.tight_layout()\n",
    "plt.show()"
   ]
  },
  {
   "cell_type": "markdown",
   "id": "35ee738d",
   "metadata": {},
   "source": [
    "### The autocorrelation function"
   ]
  },
  {
   "cell_type": "markdown",
   "id": "694d03cc",
   "metadata": {},
   "source": [
    "**We know that correlation measures the extent of a linear relationship between two\n",
    "variables.**"
   ]
  },
  {
   "cell_type": "markdown",
   "id": "4677d9c7",
   "metadata": {},
   "source": [
    "**Autocorrelation therefore measures the linear relationship between lagged\n",
    "values of a time series.** Thus, the ACF reveals how the correlation between any two values\n",
    "changes as the lag increases. Here, the lag is simply the number of timesteps separating\n",
    "two values."
   ]
  },
  {
   "cell_type": "markdown",
   "id": "ad65a8db",
   "metadata": {},
   "source": [
    "### Putting it all together"
   ]
  },
  {
   "cell_type": "code",
   "execution_count": null,
   "id": "20770aad",
   "metadata": {},
   "outputs": [],
   "source": [
    "fig, ax = plt.subplots()\n",
    "\n",
    "ax.plot(random_walk)\n",
    "ax.set_xlabel('Timesteps')\n",
    "ax.set_ylabel('Value')\n",
    "\n",
    "plt.tight_layout()\n",
    "plt.show()"
   ]
  },
  {
   "cell_type": "code",
   "execution_count": null,
   "id": "2c75b78e",
   "metadata": {},
   "outputs": [],
   "source": [
    "from statsmodels.tsa.stattools import adfuller"
   ]
  },
  {
   "cell_type": "code",
   "execution_count": null,
   "id": "b3744ef5",
   "metadata": {},
   "outputs": [],
   "source": [
    "ADF_result = adfuller(random_walk)\n",
    "\n",
    "print(f'ADF Statistic: {ADF_result[0]}')\n",
    "print(f'p-value: {ADF_result[1]}')"
   ]
  },
  {
   "cell_type": "code",
   "execution_count": null,
   "id": "94e7c0fc",
   "metadata": {},
   "outputs": [],
   "source": [
    "from statsmodels.graphics.tsaplots import plot_acf\n",
    "\n",
    "plot_acf(random_walk, lags=20);\n",
    "plt.tight_layout()\n",
    "plt.show()"
   ]
  },
  {
   "cell_type": "code",
   "execution_count": null,
   "id": "4d0913a1",
   "metadata": {},
   "outputs": [],
   "source": [
    "diff_random_walk = np.diff(random_walk, n=1)"
   ]
  },
  {
   "cell_type": "code",
   "execution_count": null,
   "id": "3bff25bd",
   "metadata": {},
   "outputs": [],
   "source": [
    "plt.plot(diff_random_walk)\n",
    "plt.title('Differenced Random Walk')\n",
    "plt.xlabel('Timesteps')\n",
    "plt.ylabel('Value')\n",
    "plt.tight_layout()\n",
    "plt.show()"
   ]
  },
  {
   "cell_type": "code",
   "execution_count": null,
   "id": "8cedea5d",
   "metadata": {},
   "outputs": [],
   "source": [
    "ADF_result = adfuller(diff_random_walk)\n",
    "\n",
    "print(f'ADF Statistic: {ADF_result[0]}')\n",
    "print(f'p-value: {ADF_result[1]}')"
   ]
  },
  {
   "cell_type": "code",
   "execution_count": null,
   "id": "daccb60a",
   "metadata": {},
   "outputs": [],
   "source": [
    "plot_acf(diff_random_walk, lags=20);\n",
    "\n",
    "plt.tight_layout()\n",
    "plt.show()"
   ]
  },
  {
   "cell_type": "markdown",
   "id": "5ed32531",
   "metadata": {},
   "source": [
    "**We have demonstrated that our simulated data is indeed a random walk: the series\n",
    "is stationary and uncorrelated after a first-order differencing, which corresponds to\n",
    "the definition of a random walk.**"
   ]
  },
  {
   "cell_type": "markdown",
   "id": "b85b373c",
   "metadata": {},
   "source": [
    "## Is GOOGL a random walk?"
   ]
  },
  {
   "cell_type": "code",
   "execution_count": null,
   "id": "e3216d43",
   "metadata": {},
   "outputs": [],
   "source": [
    "df = pd.read_csv('data/GOOGL.csv')"
   ]
  },
  {
   "cell_type": "code",
   "execution_count": null,
   "id": "bb7301e4",
   "metadata": {},
   "outputs": [],
   "source": [
    "fig, ax = plt.subplots()\n",
    "ax.plot(df['Date'], df['Close'])\n",
    "ax.set_xlabel('Date')\n",
    "ax.set_ylabel('Closing price (USD)')\n",
    "plt.xticks([4, 24, 46, 68, 89, 110, 132, 152, 174, 193, 212, 235],\n",
    "['May', 'June', 'July', 'Aug', 'Sep', 'Oct', 'Nov', 'Dec', 2021, 'Feb', 'Mar', 'April'])\n",
    "fig.autofmt_xdate()\n",
    "plt.tight_layout()\n",
    "plt.show()"
   ]
  },
  {
   "cell_type": "code",
   "execution_count": null,
   "id": "0c89c252",
   "metadata": {},
   "outputs": [],
   "source": [
    "GOOGL_ADF_result = adfuller(df['Close'])\n",
    "\n",
    "print(f'ADF Statistic: {GOOGL_ADF_result[0]}')\n",
    "print(f'p-value: {GOOGL_ADF_result[1]}')"
   ]
  },
  {
   "cell_type": "code",
   "execution_count": null,
   "id": "ed536dbb",
   "metadata": {},
   "outputs": [],
   "source": [
    "diff_close = np.diff(df['Close'], n=1)"
   ]
  },
  {
   "cell_type": "code",
   "execution_count": null,
   "id": "81ff5d17",
   "metadata": {},
   "outputs": [],
   "source": [
    "GOOGL_diff_ADF_result = adfuller(diff_close)\n",
    "\n",
    "print(f'ADF Statistic: {GOOGL_diff_ADF_result[0]}')\n",
    "print(f'p-value: {GOOGL_diff_ADF_result[1]}')"
   ]
  },
  {
   "cell_type": "code",
   "execution_count": null,
   "id": "fc92bedf",
   "metadata": {},
   "outputs": [],
   "source": [
    "plot_acf(diff_close, lags=20);"
   ]
  },
  {
   "cell_type": "markdown",
   "id": "5c2888ee",
   "metadata": {},
   "source": [
    "## Forecasting a random walk"
   ]
  },
  {
   "cell_type": "markdown",
   "id": "22d75d2a",
   "metadata": {},
   "source": [
    "**Since the values change randomly, no statistical learning model can be applied.**"
   ]
  },
  {
   "cell_type": "markdown",
   "id": "647da771",
   "metadata": {},
   "source": [
    "### Forecasting on a long horizon"
   ]
  },
  {
   "cell_type": "code",
   "execution_count": null,
   "id": "685bfea8",
   "metadata": {},
   "outputs": [],
   "source": [
    "df = pd.DataFrame({'value': random_walk})\n",
    "\n",
    "train = df[:800]\n",
    "test = df[800:]\n",
    "\n",
    "fig, ax = plt.subplots()\n",
    "\n",
    "ax.plot(random_walk)\n",
    "ax.set_xlabel('Timesteps')\n",
    "ax.set_ylabel('Value')\n",
    "ax.axvspan(800, 1000, color='#808080', alpha=0.2)\n",
    "\n",
    "plt.tight_layout()"
   ]
  },
  {
   "cell_type": "code",
   "execution_count": null,
   "id": "6a2f94af",
   "metadata": {},
   "outputs": [],
   "source": [
    "mean = np.mean(train.value)\n",
    "test.loc[:, 'pred_mean'] = mean\n",
    "test.head()"
   ]
  },
  {
   "cell_type": "code",
   "execution_count": null,
   "id": "a6a77be7",
   "metadata": {},
   "outputs": [],
   "source": [
    "last_value = train.iloc[-1].value\n",
    "test.loc[:, 'pred_last'] = last_value\n",
    "test.head()"
   ]
  },
  {
   "cell_type": "code",
   "execution_count": null,
   "id": "e5f7ca15",
   "metadata": {},
   "outputs": [],
   "source": [
    "deltaX = 800 - 1\n",
    "deltaY = last_value - 0\n",
    "\n",
    "drift = deltaY / deltaX\n",
    "\n",
    "x_vals = np.arange(801, 1001, 1)\n",
    "\n",
    "pred_drift = drift * x_vals\n",
    "\n",
    "test.loc[:, 'pred_drift'] = pred_drift\n",
    "\n",
    "test.head()"
   ]
  },
  {
   "cell_type": "code",
   "execution_count": null,
   "id": "2ef91b40",
   "metadata": {},
   "outputs": [],
   "source": [
    "fig, ax = plt.subplots()\n",
    "\n",
    "ax.plot(train.value, 'b-')\n",
    "ax.plot(test['value'], 'b-')\n",
    "ax.plot(test['pred_mean'], 'r-.', label='Mean')\n",
    "ax.plot(test['pred_last'], 'g--', label='Last value')\n",
    "ax.plot(test['pred_drift'], 'k:', label='Drift')\n",
    "\n",
    "ax.axvspan(800, 1000, color='#808080', alpha=0.2)\n",
    "ax.legend(loc=2)\n",
    "\n",
    "ax.set_xlabel('Timesteps')\n",
    "ax.set_ylabel('Value')\n",
    "\n",
    "plt.tight_layout()"
   ]
  },
  {
   "cell_type": "code",
   "execution_count": null,
   "id": "1210b495",
   "metadata": {},
   "outputs": [],
   "source": [
    "from sklearn.metrics import mean_squared_error\n",
    "\n",
    "mse_mean = mean_squared_error(test['value'], test['pred_mean'])\n",
    "mse_last = mean_squared_error(test['value'], test['pred_last'])\n",
    "mse_drift = mean_squared_error(test['value'], test['pred_drift'])\n",
    "\n",
    "print(mse_mean, mse_last, mse_drift)"
   ]
  },
  {
   "cell_type": "markdown",
   "id": "9df576d7",
   "metadata": {},
   "source": [
    "### Forecasting the next timestep"
   ]
  },
  {
   "cell_type": "code",
   "execution_count": null,
   "id": "a77ab052",
   "metadata": {},
   "outputs": [],
   "source": [
    "df_shift = df.shift(periods=1)\n",
    "\n",
    "df_shift.head()"
   ]
  },
  {
   "cell_type": "code",
   "execution_count": null,
   "id": "4c98cb65",
   "metadata": {},
   "outputs": [],
   "source": [
    "fig, ax = plt.subplots()\n",
    "\n",
    "ax.plot(df, 'b-', label='actual')\n",
    "ax.plot(df_shift, 'r-.', label='forecast')\n",
    "\n",
    "ax.legend(loc=2)\n",
    "\n",
    "ax.set_xlabel('Timesteps')\n",
    "ax.set_ylabel('Value')\n",
    "\n",
    "plt.tight_layout()"
   ]
  },
  {
   "cell_type": "code",
   "execution_count": null,
   "id": "6a98cb1d",
   "metadata": {},
   "outputs": [],
   "source": [
    "mse_one_step = mean_squared_error(test['value'], df_shift[800:])\n",
    "\n",
    "mse_one_step"
   ]
  },
  {
   "cell_type": "code",
   "execution_count": null,
   "id": "2bcfb1ad",
   "metadata": {},
   "outputs": [],
   "source": [
    "fig, ax = plt.subplots()\n",
    "\n",
    "ax.plot(df, 'b-', label='actual')\n",
    "ax.plot(df_shift, 'r-.', label='forecast')\n",
    "\n",
    "ax.legend(loc=2)\n",
    "\n",
    "ax.set_xlim(900, 1000)\n",
    "ax.set_ylim(15, 28)\n",
    "\n",
    "ax.set_xlabel('Timesteps')\n",
    "ax.set_ylabel('Value')\n",
    "\n",
    "plt.tight_layout()"
   ]
  },
  {
   "cell_type": "markdown",
   "id": "7197ab39",
   "metadata": {},
   "source": [
    "Because a **random process takes random steps into the future, we cannot use statistical\n",
    "or deep learning techniques to fit such a process: there is nothing to learn from\n",
    "randomness and it cannot be predicted. Instead, we must rely on naive forecasting\n",
    "methods.**"
   ]
  },
  {
   "cell_type": "markdown",
   "id": "a650d608",
   "metadata": {},
   "source": [
    "> Ultimately, you cannot predict random\n",
    "movements."
   ]
  },
  {
   "cell_type": "markdown",
   "id": "06fbd8fe",
   "metadata": {},
   "source": [
    "**We cannot use statistical or deep learning techniques on a random walk, since it\n",
    "moves at random in the future. Therefore, we must use naive forecasts.**"
   ]
  },
  {
   "cell_type": "markdown",
   "id": "d203cc28",
   "metadata": {},
   "source": [
    "## Forecast the daily closing price of GOOGL"
   ]
  },
  {
   "cell_type": "code",
   "execution_count": null,
   "id": "e41666ce",
   "metadata": {},
   "outputs": [],
   "source": [
    "df = pd.read_csv('data/GOOGL.csv')\n",
    "df.head()\n",
    "\n",
    "googl_train = df[['Date','Close']][:-5]\n",
    "googl_test = df[['Date','Close']][-5:]"
   ]
  },
  {
   "cell_type": "code",
   "execution_count": null,
   "id": "6a502105",
   "metadata": {},
   "outputs": [],
   "source": [
    "# Forecast the historical mean\n",
    "mean = np.mean(googl_train['Close'])\n",
    "googl_test.loc[:, 'pred_mean'] = mean\n",
    "\n",
    "# Forecast using the last knwon value\n",
    "last_value = googl_train['Close'].iloc[-1]\n",
    "googl_test.loc[:, 'pred_last'] = last_value\n",
    "\n",
    "# Forecast using the drift\n",
    "deltaX = len(googl_train)    # The deltaX is basically the length of the training set\n",
    "deltaY = last_value - googl_train['Close'].iloc[0]    # Remember to subtract the initial value of the training set\n",
    "\n",
    "drift = deltaY / deltaX\n",
    "\n",
    "x_vals = np.arange(248, 253, 1)\n",
    "\n",
    "pred_drift = drift * x_vals + googl_train['Close'].iloc[0]    #A Add the initial value back in the predictions\n",
    "\n",
    "googl_test.loc[:, 'pred_drift'] = pred_drift\n",
    "\n",
    "googl_test"
   ]
  },
  {
   "cell_type": "code",
   "execution_count": null,
   "id": "a52ac041",
   "metadata": {},
   "outputs": [],
   "source": [
    "googl_mse_mean = mean_squared_error(googl_test['Close'], googl_test['pred_mean'])\n",
    "googl_mse_last = mean_squared_error(googl_test['Close'], googl_test['pred_last'])\n",
    "googl_mse_drift = mean_squared_error(googl_test['Close'], googl_test['pred_drift'])\n",
    "\n",
    "print(googl_mse_mean, googl_mse_last, googl_mse_drift)"
   ]
  },
  {
   "cell_type": "code",
   "execution_count": null,
   "id": "32348632",
   "metadata": {},
   "outputs": [],
   "source": [
    "fig, ax = plt.subplots()\n",
    "\n",
    "ax.plot(googl_train['Close'], 'b-')\n",
    "ax.plot(googl_test['Close'], 'b-')\n",
    "ax.plot(googl_test['pred_mean'], 'r-.', label='Mean')\n",
    "ax.plot(googl_test['pred_last'], 'g--', label='Last value')\n",
    "ax.plot(googl_test['pred_drift'], 'k:', label='Drift')\n",
    "\n",
    "ax.axvspan(248, 252, color='#808080', alpha=0.2)\n",
    "ax.legend(loc=2)\n",
    "\n",
    "ax.set_xlabel('Timesteps')\n",
    "ax.set_ylabel('Value')\n",
    "\n",
    "plt.xlim(230, 252)\n",
    "plt.tight_layout()"
   ]
  },
  {
   "cell_type": "code",
   "execution_count": null,
   "id": "4df34a90",
   "metadata": {},
   "outputs": [],
   "source": [
    "# Forecast the next timestep\n",
    "df_shift = df.shift(periods=1)\n",
    "\n",
    "mse_one_step = mean_squared_error(googl_test['Close'], df_shift['Close'].iloc[248:])\n",
    "\n",
    "mse_one_step"
   ]
  },
  {
   "cell_type": "code",
   "execution_count": null,
   "id": "bbf9ced5",
   "metadata": {},
   "outputs": [],
   "source": [
    "fig, ax = plt.subplots()\n",
    "\n",
    "ax.plot(df['Close'], 'b-', label='actual')\n",
    "ax.plot(df_shift['Close'].iloc[248:], 'r-.', label='forecast')\n",
    "\n",
    "ax.axvspan(248, 252, color='#808080', alpha=0.2)\n",
    "\n",
    "ax.legend(loc='best')\n",
    "\n",
    "ax.set_xlabel('Timesteps')\n",
    "ax.set_ylabel('Value')\n",
    "\n",
    "plt.xlim(240, 252)\n",
    "plt.ylim(2200, 2400)\n",
    "plt.tight_layout()"
   ]
  }
 ],
 "metadata": {
  "kernelspec": {
   "display_name": "Python 3 (ipykernel)",
   "language": "python",
   "name": "python3"
  },
  "language_info": {
   "codemirror_mode": {
    "name": "ipython",
    "version": 3
   },
   "file_extension": ".py",
   "mimetype": "text/x-python",
   "name": "python",
   "nbconvert_exporter": "python",
   "pygments_lexer": "ipython3",
   "version": "3.10.7"
  }
 },
 "nbformat": 4,
 "nbformat_minor": 5
}
