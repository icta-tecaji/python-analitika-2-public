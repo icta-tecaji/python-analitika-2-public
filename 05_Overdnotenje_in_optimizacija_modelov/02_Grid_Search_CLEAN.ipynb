{
 "cells": [
  {
   "cell_type": "markdown",
   "id": "ad6310c3",
   "metadata": {},
   "source": [
    "# Grid Search"
   ]
  },
  {
   "cell_type": "code",
   "execution_count": null,
   "id": "59f64c31",
   "metadata": {
    "scrolled": true
   },
   "outputs": [],
   "source": [
    "import pandas as pd\n",
    "import numpy as np\n",
    "%matplotlib inline\n",
    "import matplotlib.pyplot as plt"
   ]
  },
  {
   "cell_type": "markdown",
   "id": "6e793dc0",
   "metadata": {},
   "source": [
    "## Simple Grid Search"
   ]
  },
  {
   "cell_type": "code",
   "execution_count": null,
   "id": "c6554fa5",
   "metadata": {
    "scrolled": true
   },
   "outputs": [],
   "source": [
    "# naive grid search implementation\n",
    "from sklearn.svm import SVC\n",
    "from sklearn.datasets import load_iris\n",
    "from sklearn.model_selection import train_test_split\n",
    "\n",
    "iris = load_iris()\n",
    "X_train, X_test, y_train, y_test = train_test_split(iris.data, iris.target, random_state=0)\n",
    "\n",
    "print(f\"Size of training set: {X_train.shape[0]} size of test set: {X_test.shape[0]}\")\n",
    "\n",
    "best_score = 0\n",
    "for gamma in [0.001, 0.01, 0.1, 1, 10, 100]:\n",
    "    for C in [0.001, 0.01, 0.1, 1, 10, 100]:\n",
    "        # for each combination of parameters, train an SVC\n",
    "        svm = SVC(gamma=gamma, C=C)\n",
    "        svm.fit(X_train, y_train)\n",
    "        # evaluate the SVC on the test set\n",
    "        score = svm.score(X_test, y_test)\n",
    "        # if we got a better score, store the score and parameters\n",
    "        if score > best_score:\n",
    "            best_score = score\n",
    "            best_parameters = {'C': C, 'gamma': gamma}\n",
    "            \n",
    "print(f\"Best score: {best_score:.2f}\")\n",
    "print(f\"Best parameters: {best_parameters}\")"
   ]
  },
  {
   "cell_type": "markdown",
   "id": "344648f7",
   "metadata": {},
   "source": [
    "## The Danger of Overfitting the Parameters and the Validation Set"
   ]
  },
  {
   "cell_type": "code",
   "execution_count": null,
   "id": "43a51281",
   "metadata": {
    "scrolled": true
   },
   "outputs": [],
   "source": [
    "from helpers.plot_cross_validation import plot_threefold_split\n",
    "\n",
    "plot_threefold_split()"
   ]
  },
  {
   "cell_type": "code",
   "execution_count": null,
   "id": "588050e1",
   "metadata": {
    "scrolled": true
   },
   "outputs": [],
   "source": [
    "from sklearn.svm import SVC\n",
    "\n",
    "# split data into train+validation set and test set\n",
    "X_trainval, X_test, y_trainval, y_test = train_test_split(iris.data, iris.target, random_state=0)\n",
    "\n",
    "# split train+validation set into training and validation sets\n",
    "X_train, X_valid, y_train, y_valid = train_test_split(X_trainval, y_trainval, random_state=1)\n",
    "\n",
    "print(f\"Size of training set: {X_train.shape[0]} size of validation set: {X_valid.shape[0]} size of test set: {X_test.shape[0]}\\n\")"
   ]
  },
  {
   "cell_type": "code",
   "execution_count": null,
   "id": "c3802370",
   "metadata": {
    "scrolled": true
   },
   "outputs": [],
   "source": [
    "best_score = 0\n",
    "\n",
    "for gamma in [0.001, 0.01, 0.1, 1, 10, 100]:\n",
    "    for C in [0.001, 0.01, 0.1, 1, 10, 100]:\n",
    "        # for each combination of parameters, train an SVC\n",
    "        svm = SVC(gamma=gamma, C=C)\n",
    "        svm.fit(X_train, y_train)\n",
    "        # evaluate the SVC on the test set\n",
    "        score = svm.score(X_valid, y_valid)\n",
    "        # if we got a better score, store the score and parameters\n",
    "        if score > best_score:\n",
    "            best_score = score\n",
    "            best_parameters = {'C': C, 'gamma': gamma}"
   ]
  },
  {
   "cell_type": "code",
   "execution_count": null,
   "id": "4fac0389",
   "metadata": {
    "scrolled": true
   },
   "outputs": [],
   "source": [
    "# rebuild a model on the combined training and validation set,\n",
    "# and evaluate it on the test set\n",
    "svm = SVC(**best_parameters)\n",
    "svm.fit(X_trainval, y_trainval)\n",
    "test_score = svm.score(X_test, y_test)\n",
    "print(f\"Best score on validation set: {best_score:.2f}\")\n",
    "print(f\"Best parameters: {best_parameters}\")\n",
    "print(f\"Test set score with best parameters: {test_score:.2f}\")"
   ]
  },
  {
   "cell_type": "markdown",
   "id": "dc656d09",
   "metadata": {},
   "source": [
    "## Grid Search with Cross-Validation"
   ]
  },
  {
   "cell_type": "code",
   "execution_count": null,
   "id": "8f1815e0",
   "metadata": {
    "scrolled": true
   },
   "outputs": [],
   "source": [
    "from sklearn.model_selection import cross_val_score\n",
    "\n",
    "for gamma in [0.001, 0.01, 0.1, 1, 10, 100]:\n",
    "    for C in [0.001, 0.01, 0.1, 1, 10, 100]:\n",
    "        # for each combination of parameters,\n",
    "        # train an SVC\n",
    "        svm = SVC(gamma=gamma, C=C)\n",
    "        # perform cross-validation\n",
    "        scores = cross_val_score(svm, X_trainval, y_trainval, cv=5)\n",
    "        # compute mean cross-validation accuracy\n",
    "        score = np.mean(scores)\n",
    "        # if we got a better score, store the score and parameters\n",
    "        if score > best_score:\n",
    "            best_score = score\n",
    "            best_parameters = {'C': C, 'gamma': gamma}\n",
    "            \n",
    "# rebuild a model on the combined training and validation set\n",
    "svm = SVC(**best_parameters)\n",
    "svm.fit(X_trainval, y_trainval)"
   ]
  },
  {
   "cell_type": "code",
   "execution_count": null,
   "id": "bedca65b",
   "metadata": {
    "scrolled": true
   },
   "outputs": [],
   "source": [
    "from helpers.plot_grid_search import plot_cross_val_selection\n",
    "\n",
    "plot_cross_val_selection()\n",
    "plt.show()"
   ]
  },
  {
   "cell_type": "code",
   "execution_count": null,
   "id": "c4802a43",
   "metadata": {
    "scrolled": true
   },
   "outputs": [],
   "source": [
    "from helpers.plot_grid_search import plot_grid_search_overview\n",
    "\n",
    "plot_grid_search_overview()"
   ]
  },
  {
   "cell_type": "code",
   "execution_count": null,
   "id": "14c0fd75",
   "metadata": {
    "scrolled": true
   },
   "outputs": [],
   "source": [
    "param_grid = {'C': [0.001, 0.01, 0.1, 1, 10, 100], 'gamma': [0.001, 0.01, 0.1, 1, 10, 100]}\n",
    "\n",
    "print(f\"Parameter grid:\\n{param_grid}\")"
   ]
  },
  {
   "cell_type": "code",
   "execution_count": null,
   "id": "84773d0e",
   "metadata": {
    "scrolled": true
   },
   "outputs": [],
   "source": [
    "from sklearn.model_selection import GridSearchCV\n",
    "from sklearn.svm import SVC\n",
    "\n",
    "grid_search = GridSearchCV(SVC(), param_grid, cv=5)"
   ]
  },
  {
   "cell_type": "code",
   "execution_count": null,
   "id": "b4131e4d",
   "metadata": {
    "scrolled": true
   },
   "outputs": [],
   "source": [
    "X_train, X_test, y_train, y_test = train_test_split(iris.data, iris.target, random_state=0)"
   ]
  },
  {
   "cell_type": "code",
   "execution_count": null,
   "id": "cf223574",
   "metadata": {
    "scrolled": true
   },
   "outputs": [],
   "source": [
    "grid_search.fit(X_train, y_train)"
   ]
  },
  {
   "cell_type": "code",
   "execution_count": null,
   "id": "e5673c95",
   "metadata": {
    "scrolled": true
   },
   "outputs": [],
   "source": [
    "print(f\"Test set score: {grid_search.score(X_test, y_test):.2f}\")"
   ]
  },
  {
   "cell_type": "code",
   "execution_count": null,
   "id": "ec94f09b",
   "metadata": {
    "scrolled": true
   },
   "outputs": [],
   "source": [
    "print(f\"Best parameters: {grid_search.best_params_}\")\n",
    "print(f\"Best cross-validation score: {grid_search.best_score_:.2f}\")"
   ]
  },
  {
   "cell_type": "code",
   "execution_count": null,
   "id": "6454065c",
   "metadata": {
    "scrolled": true
   },
   "outputs": [],
   "source": [
    "print(f\"Best estimator:\\n{grid_search.best_estimator_}\")"
   ]
  },
  {
   "cell_type": "markdown",
   "id": "e317db9c",
   "metadata": {},
   "source": [
    "### Analyzing the result of cross-validation"
   ]
  },
  {
   "cell_type": "code",
   "execution_count": null,
   "id": "09a6b526",
   "metadata": {
    "scrolled": true
   },
   "outputs": [],
   "source": [
    "# convert to DataFrame\n",
    "results = pd.DataFrame(grid_search.cv_results_)\n",
    "\n",
    "# show the first 5 rows\n",
    "results.head()"
   ]
  },
  {
   "cell_type": "code",
   "execution_count": null,
   "id": "baa1f6ba",
   "metadata": {
    "scrolled": true
   },
   "outputs": [],
   "source": [
    "scores = np.array(results[\"mean_test_score\"]).reshape(6, 6)"
   ]
  },
  {
   "cell_type": "code",
   "execution_count": null,
   "id": "a59d3a2c",
   "metadata": {
    "scrolled": true
   },
   "outputs": [],
   "source": [
    "import seaborn as sns\n",
    "\n",
    "fig, ax = plt.subplots(figsize=(7, 5))\n",
    "sns.heatmap(scores[::-1], vmin=0, vmax=1, cmap=\"viridis\", square=True, annot=True)\n",
    "\n",
    "# axis labels\n",
    "plt.xlabel('gamma')\n",
    "plt.ylabel('C')\n",
    "\n",
    "# xticks\n",
    "xticks_labels = param_grid['gamma']\n",
    "plt.xticks(np.arange(len(xticks_labels)) + .5, labels=xticks_labels)\n",
    "\n",
    "# y ticks\n",
    "yticks_labels = param_grid['C']\n",
    "plt.yticks(np.arange(len(yticks_labels)) + .5, labels=yticks_labels)\n",
    "\n",
    "plt.show()"
   ]
  },
  {
   "cell_type": "code",
   "execution_count": null,
   "id": "a15dd997",
   "metadata": {
    "scrolled": true
   },
   "outputs": [],
   "source": [
    "from helpers.tools import heatmap as heatmap_tools\n",
    "\n",
    "fig, axes = plt.subplots(1, 3, figsize=(13, 5)) \n",
    "\n",
    "param_grid_linear = {'C': np.linspace(1, 2, 6), 'gamma': np.linspace(1, 2, 6)}\n",
    "param_grid_one_log = {'C': np.linspace(1, 2, 6), 'gamma': np.logspace(-3, 2, 6)}\n",
    "param_grid_range = {'C': np.logspace(-3, 2, 6), 'gamma': np.logspace(-7, -2, 6)}\n",
    "\n",
    "\n",
    "for param_grid, ax in zip([param_grid_linear, param_grid_one_log, param_grid_range], axes):\n",
    "    grid_search = GridSearchCV(SVC(), param_grid, cv=5)\n",
    "    grid_search.fit(X_train, y_train)\n",
    "    scores = grid_search.cv_results_['mean_test_score'].reshape(6, 6)\n",
    "    # plot the mean cross-validation scores\n",
    "    scores_image = heatmap_tools(scores, xlabel='gamma', \n",
    "                                               ylabel='C', xticklabels=param_grid['gamma'], \n",
    "                                               yticklabels=param_grid['C'], cmap=\"viridis\", ax=ax)\n",
    "\n",
    "plt.colorbar(scores_image, ax=axes.tolist())\n",
    "plt.show()"
   ]
  },
  {
   "cell_type": "markdown",
   "id": "5ae01902",
   "metadata": {},
   "source": [
    "### Search over spaces that are not grids"
   ]
  },
  {
   "cell_type": "code",
   "execution_count": null,
   "id": "aa101c7f",
   "metadata": {
    "scrolled": true
   },
   "outputs": [],
   "source": [
    "param_grid = [{'kernel': ['rbf'], 'C': [0.001, 0.01, 0.1, 1, 10, 100], 'gamma': [0.001, 0.01, 0.1, 1, 10, 100]},\n",
    "            {'kernel': ['linear'], 'C': [0.001, 0.01, 0.1, 1, 10, 100]}]"
   ]
  },
  {
   "cell_type": "code",
   "execution_count": null,
   "id": "33508624",
   "metadata": {
    "scrolled": true
   },
   "outputs": [],
   "source": [
    "param_grid"
   ]
  },
  {
   "cell_type": "code",
   "execution_count": null,
   "id": "154dce5f",
   "metadata": {
    "scrolled": true
   },
   "outputs": [],
   "source": [
    "grid_search = GridSearchCV(SVC(), param_grid, cv=5)\n",
    "grid_search.fit(X_train, y_train)\n",
    "\n",
    "print(f\"Best parameters: {grid_search.best_params_}\")\n",
    "print(f\"Best cross-validation score: {grid_search.best_score_:.2f}\")"
   ]
  },
  {
   "cell_type": "code",
   "execution_count": null,
   "id": "48332093",
   "metadata": {
    "scrolled": true
   },
   "outputs": [],
   "source": [
    "results = pd.DataFrame(grid_search.cv_results_)\n",
    "results.T"
   ]
  },
  {
   "cell_type": "markdown",
   "id": "b8161555",
   "metadata": {},
   "source": [
    "### Using different cross-validation strategies with grid search"
   ]
  },
  {
   "cell_type": "markdown",
   "id": "08b4df31",
   "metadata": {},
   "source": [
    "### Nested cross-validation"
   ]
  },
  {
   "cell_type": "code",
   "execution_count": null,
   "id": "335a6325",
   "metadata": {
    "scrolled": true
   },
   "outputs": [],
   "source": [
    "scores = cross_val_score(GridSearchCV(SVC(), param_grid, cv=5), iris.data, iris.target, cv=5)\n",
    "\n",
    "print(\"Cross-validation scores: \", scores)\n",
    "print(\"Mean cross-validation score: \", scores.mean())"
   ]
  },
  {
   "cell_type": "markdown",
   "id": "f3e789bb",
   "metadata": {},
   "source": [
    "### Parallelizing cross-validation and grid search"
   ]
  }
 ],
 "metadata": {
  "kernelspec": {
   "display_name": "Python 3 (ipykernel)",
   "language": "python",
   "name": "python3"
  },
  "language_info": {
   "codemirror_mode": {
    "name": "ipython",
    "version": 3
   },
   "file_extension": ".py",
   "mimetype": "text/x-python",
   "name": "python",
   "nbconvert_exporter": "python",
   "pygments_lexer": "ipython3",
   "version": "3.8.10"
  }
 },
 "nbformat": 4,
 "nbformat_minor": 5
}
