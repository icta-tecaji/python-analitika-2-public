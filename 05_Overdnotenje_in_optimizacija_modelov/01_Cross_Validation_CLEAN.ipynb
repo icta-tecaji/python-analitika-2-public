{
 "cells": [
  {
   "cell_type": "markdown",
   "id": "a20c4713",
   "metadata": {},
   "source": [
    "# Cross-Validation"
   ]
  },
  {
   "cell_type": "code",
   "execution_count": null,
   "id": "2bb55c07",
   "metadata": {},
   "outputs": [],
   "source": [
    "import pandas as pd\n",
    "import numpy as np\n",
    "%matplotlib inline\n",
    "import matplotlib.pyplot as plt"
   ]
  },
  {
   "cell_type": "markdown",
   "id": "fe5f2804",
   "metadata": {},
   "source": [
    "## Cross-Validation Basics"
   ]
  },
  {
   "cell_type": "code",
   "execution_count": null,
   "id": "e5187ff8",
   "metadata": {},
   "outputs": [],
   "source": [
    "from helpers.plot_cross_validation import plot_cross_validation\n",
    "\n",
    "plot_cross_validation()"
   ]
  },
  {
   "cell_type": "markdown",
   "id": "2125052d",
   "metadata": {},
   "source": [
    "## Cross-Validation in scikit-learn"
   ]
  },
  {
   "cell_type": "code",
   "execution_count": null,
   "id": "d98fca18",
   "metadata": {},
   "outputs": [],
   "source": [
    "from sklearn.model_selection import cross_val_score\n",
    "from sklearn.datasets import load_iris\n",
    "from sklearn.linear_model import LogisticRegression"
   ]
  },
  {
   "cell_type": "code",
   "execution_count": null,
   "id": "0cd1d3f9",
   "metadata": {},
   "outputs": [],
   "source": [
    "iris = load_iris()\n",
    "logreg = LogisticRegression(max_iter=10000)\n",
    "\n",
    "scores = cross_val_score(logreg, iris.data, iris.target)\n",
    "print(f\"Cross-validation scores: {scores}\")"
   ]
  },
  {
   "cell_type": "code",
   "execution_count": null,
   "id": "deeaf016",
   "metadata": {},
   "outputs": [],
   "source": [
    "scores = cross_val_score(logreg, iris.data, iris.target, cv=3)\n",
    "print(f\"Cross-validation scores: {scores}\")"
   ]
  },
  {
   "cell_type": "code",
   "execution_count": null,
   "id": "b2dbb48d",
   "metadata": {},
   "outputs": [],
   "source": [
    "print(f\"Average cross-validation score: {scores.mean():.2f}\")"
   ]
  },
  {
   "cell_type": "markdown",
   "id": "49e6f747",
   "metadata": {},
   "source": [
    "## Benefits of Cross-Validation"
   ]
  },
  {
   "cell_type": "markdown",
   "id": "e3102ad5",
   "metadata": {},
   "source": [
    "## Stratified k-Fold Cross-Validation and Other Strategies"
   ]
  },
  {
   "cell_type": "code",
   "execution_count": null,
   "id": "e9363dd7",
   "metadata": {},
   "outputs": [],
   "source": [
    "from sklearn.datasets import load_iris\n",
    "\n",
    "iris = load_iris()\n",
    "iris.target"
   ]
  },
  {
   "cell_type": "code",
   "execution_count": null,
   "id": "a1dfe214",
   "metadata": {},
   "outputs": [],
   "source": [
    "from helpers.plot_cross_validation import plot_stratified_cross_validation\n",
    "plot_stratified_cross_validation()"
   ]
  },
  {
   "cell_type": "markdown",
   "id": "84d77983",
   "metadata": {},
   "source": [
    "### More control over cross-validation"
   ]
  },
  {
   "cell_type": "code",
   "execution_count": null,
   "id": "28f5b506",
   "metadata": {},
   "outputs": [],
   "source": [
    "from sklearn.model_selection import KFold\n",
    "\n",
    "kfold = KFold(n_splits=5)"
   ]
  },
  {
   "cell_type": "code",
   "execution_count": null,
   "id": "b6fb823d",
   "metadata": {},
   "outputs": [],
   "source": [
    "print(f\"Cross-validation scores:\\n{cross_val_score(logreg, iris.data, iris.target, cv=kfold)}\")"
   ]
  },
  {
   "cell_type": "code",
   "execution_count": null,
   "id": "55c6c7f4",
   "metadata": {},
   "outputs": [],
   "source": [
    "kfold = KFold(n_splits=3)\n",
    "\n",
    "print(f\"Cross-validation scores:\\n{cross_val_score(logreg, iris.data, iris.target, cv=kfold)}\")"
   ]
  },
  {
   "cell_type": "code",
   "execution_count": null,
   "id": "2eb72980",
   "metadata": {},
   "outputs": [],
   "source": [
    "kfold = KFold(n_splits=3, shuffle=True, random_state=0)\n",
    "\n",
    "print(f\"Cross-validation scores:\\n{cross_val_score(logreg, iris.data, iris.target, cv=kfold)}\")"
   ]
  },
  {
   "cell_type": "markdown",
   "id": "63688c95",
   "metadata": {},
   "source": [
    "### Leave-one-out cross-validation"
   ]
  },
  {
   "cell_type": "code",
   "execution_count": null,
   "id": "b3a2ee73",
   "metadata": {},
   "outputs": [],
   "source": [
    "from sklearn.model_selection import LeaveOneOut\n",
    "\n",
    "loo = LeaveOneOut()\n",
    "scores = cross_val_score(logreg, iris.data, iris.target, cv=loo)\n",
    "\n",
    "print(\"Number of cv iterations: \", len(scores))\n",
    "print(f\"Mean accuracy: {scores.mean():.2f}\")"
   ]
  },
  {
   "cell_type": "markdown",
   "id": "95e8beb1",
   "metadata": {},
   "source": [
    "### Shuffle-split cross-validation"
   ]
  },
  {
   "cell_type": "code",
   "execution_count": null,
   "id": "e878e175",
   "metadata": {},
   "outputs": [],
   "source": [
    "from helpers.plot_cross_validation import plot_shuffle_split\n",
    "plot_shuffle_split()"
   ]
  },
  {
   "cell_type": "code",
   "execution_count": null,
   "id": "72341585",
   "metadata": {},
   "outputs": [],
   "source": [
    "from sklearn.model_selection import ShuffleSplit\n",
    "\n",
    "shuffle_split = ShuffleSplit(test_size=.5, train_size=.5, n_splits=10)\n",
    "scores = cross_val_score(logreg, iris.data, iris.target, cv=shuffle_split)\n",
    "\n",
    "print(f\"Cross-validation scores:\\n{scores}\")"
   ]
  },
  {
   "cell_type": "markdown",
   "id": "a4bfe05d",
   "metadata": {},
   "source": [
    "### Cross-validation with groups"
   ]
  },
  {
   "cell_type": "code",
   "execution_count": null,
   "id": "f09276f9",
   "metadata": {},
   "outputs": [],
   "source": [
    "from sklearn.datasets import make_blobs\n",
    "from sklearn.model_selection import GroupKFold\n",
    "\n",
    "# create synthetic dataset\n",
    "X, y = make_blobs(n_samples=12, random_state=0)\n",
    "\n",
    "# assume the first three samples belong to the same group,\n",
    "# then the next four, etc.\n",
    "groups = [0, 0, 0, 1, 1, 1, 1, 2, 2, 3, 3, 3]\n",
    "\n",
    "scores = cross_val_score(logreg, X, y, groups=groups, cv=GroupKFold(n_splits=3))\n",
    "print(f\"Cross-validation scores:\\n{scores}\")"
   ]
  },
  {
   "cell_type": "code",
   "execution_count": null,
   "id": "96b4da82",
   "metadata": {},
   "outputs": [],
   "source": [
    "from helpers.plot_cross_validation import plot_group_kfold\n",
    "plot_group_kfold()"
   ]
  }
 ],
 "metadata": {
  "kernelspec": {
   "display_name": "Python 3 (ipykernel)",
   "language": "python",
   "name": "python3"
  },
  "language_info": {
   "codemirror_mode": {
    "name": "ipython",
    "version": 3
   },
   "file_extension": ".py",
   "mimetype": "text/x-python",
   "name": "python",
   "nbconvert_exporter": "python",
   "pygments_lexer": "ipython3",
   "version": "3.8.10"
  }
 },
 "nbformat": 4,
 "nbformat_minor": 5
}
