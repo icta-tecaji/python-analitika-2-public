{
 "cells": [
  {
   "cell_type": "markdown",
   "id": "256b3389",
   "metadata": {},
   "source": [
    "# Pregled strojnega učenja"
   ]
  },
  {
   "cell_type": "markdown",
   "id": "0d738001",
   "metadata": {},
   "source": [
    "## Approaching a Machine Learning Problem"
   ]
  },
  {
   "cell_type": "markdown",
   "id": "e904935b",
   "metadata": {},
   "source": [
    "## From Prototype to Production"
   ]
  },
  {
   "cell_type": "markdown",
   "id": "eaf881ab",
   "metadata": {},
   "source": [
    "- [Machine Learning: The High Interest Credit Card of Technical Debt](https://research.google/pubs/pub43146/) -> tiste ki zanima postavljanje modelov v produkcijo\n"
   ]
  },
  {
   "cell_type": "markdown",
   "id": "937a538d",
   "metadata": {},
   "source": [
    "### Model-centric vs Data-centric"
   ]
  },
  {
   "cell_type": "markdown",
   "id": "1e5ad2e8",
   "metadata": {},
   "source": [
    "<img src=\"https://miro.medium.com/max/1400/1*BzxsNxyyP77dVW3_Lto1Hw.png\" jsaction=\"load:XAeZkd;\" jsname=\"HiaYvf\" class=\"n3VNCb\" alt=\"From model-centric to data-centric | by Fabiana Clemente | Towards Data  Science\" data-noaft=\"1\" style=\"width: 434px; height: 141.764px; margin: 29.0182px 0px;\">"
   ]
  },
  {
   "cell_type": "markdown",
   "id": "047dd81b",
   "metadata": {},
   "source": [
    "> Primeri iz prakse"
   ]
  },
  {
   "cell_type": "markdown",
   "id": "d73bfe0d",
   "metadata": {},
   "source": [
    "### What Does it Take to Deploy an ML Model?"
   ]
  },
  {
   "cell_type": "markdown",
   "id": "b98e9e99",
   "metadata": {},
   "source": [
    "\n",
    "- **Tracking**\n",
    "- **Automation & DevOps**\n",
    "- **Monitoring/Observability**\n",
    "- **Reliability**"
   ]
  },
  {
   "cell_type": "markdown",
   "id": "f5f4a947",
   "metadata": {},
   "source": [
    "<img style=\"-webkit-user-select: none;margin: auto;cursor: zoom-in;background-color: hsl(0, 0%, 90%);transition: background-color 300ms;\" src=\"https://testdriven.io/static/images/blog/mlops/mlops_toolkit_lifecycle.png\" width=\"766\" height=\"421\">"
   ]
  },
  {
   "cell_type": "markdown",
   "id": "4cb141e2",
   "metadata": {},
   "source": [
    "### Resources"
   ]
  },
  {
   "cell_type": "markdown",
   "id": "580e7926",
   "metadata": {},
   "source": [
    "- [Machine Learning Engineering for Production (MLOps) Specialization](https://www.coursera.org/specializations/machine-learning-engineering-for-production-mlops#courses)\n",
    "- [The 4 Pillars of MLOps: How to Deploy ML Models to Production](https://www.phdata.io/blog/the-ultimate-mlops-guide-how-to-deploy-ml-models-to-production/)\n",
    "- [Putting Machine Learning Models into Production](https://blog.cloudera.com/putting-machine-learning-models-into-production/)\n",
    "- [The MLOps Toolkit](https://testdriven.io/blog/mlops/)\n",
    "- [Introduction to Machine Learning Reliability Engineering](https://testdriven.io/blog/machine-learning-reliability-engineering/#background)\n",
    "- [Serving a Machine Learning Model with FastAPI and Streamlit](https://testdriven.io/blog/fastapi-streamlit/)\n",
    "- [Awesome production machine learning](https://github.com/EthicalML/awesome-production-machine-learning)"
   ]
  },
  {
   "cell_type": "markdown",
   "id": "1bbf03b0",
   "metadata": {},
   "source": [
    "## Testing Production Systems"
   ]
  },
  {
   "cell_type": "markdown",
   "id": "a68f6b84",
   "metadata": {},
   "source": [
    "Bandit Algorithms for Website Optimization by John Myles White (O’Reilly).\n",
    "- https://www.amazon.com/Bandit-Algorithms-Website-Optimization-Developing/dp/1449341330"
   ]
  },
  {
   "cell_type": "markdown",
   "id": "231ccdda",
   "metadata": {},
   "source": [
    "## ML landscape"
   ]
  },
  {
   "cell_type": "markdown",
   "id": "b7cac7f2",
   "metadata": {},
   "source": [
    "<img style=\"-webkit-user-select: none;margin: auto;background-color: hsl(0, 0%, 90%);transition: background-color 300ms;\" src=\"https://about.sourcegraph.com/blog/strange-loop-2019/machinelearninglandscape.png\">"
   ]
  },
  {
   "cell_type": "markdown",
   "id": "d9e4bccd",
   "metadata": {},
   "source": [
    "<img style=\"-webkit-user-select: none;margin: auto;background-color: hsl(0, 0%, 90%);transition: background-color 300ms;\" src=\"https://i.stack.imgur.com/2EDiO.png\">"
   ]
  },
  {
   "cell_type": "markdown",
   "id": "ee1c6871",
   "metadata": {},
   "source": [
    "<img style=\"-webkit-user-select: none;margin: auto;cursor: zoom-in;background-color: hsl(0, 0%, 90%);transition: background-color 300ms;\" src=\"https://i.stack.imgur.com/42u1r.png\" width=\"766\" height=\"477\">"
   ]
  },
  {
   "cell_type": "markdown",
   "id": "8e336848",
   "metadata": {},
   "source": [
    "<img alt=\"\" class=\"dq jp jq\" src=\"https://miro.medium.com/max/1400/1*yGDZqNVkJINY61ONFV-aiA.jpeg\" width=\"700\" height=\"458\" role=\"presentation\">"
   ]
  },
  {
   "cell_type": "markdown",
   "id": "e881bfbd",
   "metadata": {},
   "source": [
    "https://landscape.lfai.foundation/"
   ]
  },
  {
   "cell_type": "markdown",
   "id": "ae353e64",
   "metadata": {},
   "source": [
    "## Where to Go from Here"
   ]
  },
  {
   "cell_type": "markdown",
   "id": "5676e084",
   "metadata": {},
   "source": [
    "### Theory"
   ]
  },
  {
   "cell_type": "markdown",
   "id": "6642a7d5",
   "metadata": {},
   "source": [
    "- `Hastie, Tibshirani, and Friedman’s book The Elements of Statistical Learning in the Preface`\n",
    "    - https://link.springer.com/content/pdf/10.1007%2F978-0-387-84858-7.pdf\n",
    "- `Machine Learning: An Algorithmic Perspective by Stephen Marsland (Chapman and Hall/CRC)`. \n",
    "    - https://homepages.ecs.vuw.ac.nz/~marslast/MLbook.html\n",
    "- `Pattern Recognition and Machine Learning by Christopher Bishop (Springer)`\n",
    "    - http://users.isr.ist.utl.pt/~wurmd/Livros/school/Bishop%20-%20Pattern%20Recognition%20And%20Machine%20Learning%20-%20Springer%20%202006.pdf\n",
    "- `Machine Learning: A Probabilistic Perspective by Kevin Murphy (MIT Press)`\n",
    "    - http://noiselab.ucsd.edu/ECE228/Murphy_Machine_Learning.pdf"
   ]
  },
  {
   "cell_type": "markdown",
   "id": "dc801b02",
   "metadata": {},
   "source": [
    "### Other Machine Learning Frameworks and Packages"
   ]
  },
  {
   "cell_type": "markdown",
   "id": "77824bc3",
   "metadata": {},
   "source": [
    "- https://vowpalwabbit.org/\n",
    "- https://spark.apache.org/mllib/"
   ]
  },
  {
   "cell_type": "markdown",
   "id": "4657af99",
   "metadata": {},
   "source": [
    "### Ranking, Recommender Systems, and Other Kinds of Learning"
   ]
  },
  {
   "cell_type": "markdown",
   "id": "ce034485",
   "metadata": {},
   "source": [
    "- `Manning, Raghavan, and Schütze’s book Introduction to Information Retrieval`. \n",
    "    - https://nlp.stanford.edu/IR-book/information-retrieval-book.html\n"
   ]
  },
  {
   "cell_type": "markdown",
   "id": "9f233d7b",
   "metadata": {},
   "source": [
    "### Scaling to Larger Datasets"
   ]
  },
  {
   "cell_type": "markdown",
   "id": "abe0034b",
   "metadata": {},
   "source": [
    "## Tools\n",
    "\n",
    "- [Streamlit](https://streamlit.io/):Streamlit is an open-source Python library that makes it easy to create and share beautiful, custom web apps for machine learning and data science. In just a few minutes you can build and deploy powerful data apps. So let’s get started! **The fastest way to build and share data apps**\n",
    "    - https://docs.streamlit.io/library/get-started/create-an-app\n",
    "- [MLflow](https://mlflow.org/): MLflow is an open source platform to manage the ML lifecycle, including experimentation, reproducibility, deployment, and a central model registry.\n",
    "- [Dask](https://docs.dask.org/en/stable/): Dask is a flexible library for parallel computing in Python.\n",
    "- [XGBoost](https://xgboost.readthedocs.io/en/stable/): XGBoost is an optimized distributed gradient boosting library designed to be highly efficient, flexible and portable. It implements machine learning algorithms under the Gradient Boosting framework.\n",
    "- [OpenCV](https://opencv.org/): OpenCV is an open-source platform dedicated to computer vision and image processing. This library has more than 2500 algorithms dedicated to computer vision and ML. It can track human movements, detect moving objects, extract 3d models, stitch images together to create a high-resolution image, exploring the AR possibilities. It is used in various CCTV monitoring activities by many governments, especially in China and Isreal. Also, the major camera companies in the world use OpenCv for making their technology smart and user-friendly.\n",
    "- [Apache Saprk](https://spark.apache.org/)"
   ]
  },
  {
   "cell_type": "markdown",
   "id": "0ffdff4b",
   "metadata": {},
   "source": [
    "**Deep learning**\n",
    "- [TensorFlow](https://www.tensorflow.org/)\n",
    "- [Keras](https://keras.io)\n",
    "- [PyTorch](https://pytorch.org/)\n",
    "\n",
    "**Natural Language Processing**\n",
    "- [Natural Language Toolkit (NLTK)](https://www.nltk.org/)\n",
    "- [spaCy](https://spacy.io/)\n",
    "- [Gensim](https://radimrehurek.com/gensim/index.html)\n"
   ]
  },
  {
   "cell_type": "markdown",
   "id": "2dc00f25",
   "metadata": {},
   "source": [
    "**Other resources**\n",
    "- [Kaggle](https://www.kaggle.com/)\n",
    "- [pandas - User Guide](https://pandas.pydata.org/pandas-docs/stable/user_guide/index.html)\n",
    "- [Open Machine Learning Course mlcourse.ai](https://mlcourse.ai/)\n",
    "- [KDnuggets](https://www.kdnuggets.com/)\n",
    "- [DEV](https://dev.to/)\n",
    "- [DZone](https://dzone.com)\n",
    "- [Medium](https://medium.com/)\n",
    "- [Towards Data Science](https://towardsdatascience.com/)\n",
    "- [Machine Learning Crash Course](https://developers.google.com/machine-learning): Google's fast-paced, practical introduction to machine learning\n",
    "- [Accurately Measuring Model Prediction Error](http://scott.fortmann-roe.com/docs/MeasuringError.html)\n",
    "- [Understanding the Bias-Variance Tradeoff](http://scott.fortmann-roe.com/docs/BiasVariance.html)\n"
   ]
  },
  {
   "cell_type": "markdown",
   "id": "28a54e4d",
   "metadata": {},
   "source": [
    "**Courses**\n",
    "- [Applied Machine Learning in Python](https://www.coursera.org/learn/python-machine-learning#syllabus)\n",
    "- https://realpython.com/tutorials/machine-learning/\n",
    "- https://inria.github.io/scikit-learn-mooc/index.html"
   ]
  }
 ],
 "metadata": {
  "kernelspec": {
   "display_name": "Python 3 (ipykernel)",
   "language": "python",
   "name": "python3"
  },
  "language_info": {
   "codemirror_mode": {
    "name": "ipython",
    "version": 3
   },
   "file_extension": ".py",
   "mimetype": "text/x-python",
   "name": "python",
   "nbconvert_exporter": "python",
   "pygments_lexer": "ipython3",
   "version": "3.8.10"
  }
 },
 "nbformat": 4,
 "nbformat_minor": 5
}
