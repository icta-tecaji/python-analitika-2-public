{
 "cells": [
  {
   "cell_type": "markdown",
   "id": "d5e73fac",
   "metadata": {},
   "source": [
    "# Domača naloga 3"
   ]
  },
  {
   "cell_type": "markdown",
   "id": "1b91b538",
   "metadata": {},
   "source": [
    "<div class=\"alert alert-block alert-info\">\n",
    "<b>Vaja: </b> \n",
    "Uvozite dataset <i>DN_data_covid19_SLO.csv</i>, ki vsebuje COVID-19 indikatorje v Sloveniji v obdobju od 12.3.2020 do 6.2.2022.\n",
    "<br><br>\n",
    "Končna naloga je, da ustvarite nek model, ki bo napovedoval značko <b>Dnevno število PCR testiranj</b>.\n",
    "<br><br>\n",
    "Za delitev podatkov na učne in testne, uporabite funkcijo <b>X_train, X_test, y_train, y_test = train_test_split(X,y,test_size=0.2,random_state=42,shuffle=True)</b>, tako da bomo vsi imeli enako porazdeljene podatke.\n",
    "<br><br>\n",
    "Za primerjavo lahko uporabimo KNeighborsRegressor(n_neighbors=5), kjer dobimo score = 73.42%. Najdite metodologijo (ne nujno KNeighborsRegressor) in parametre, kjer bo ta score največji. Za začetek poskusite narediti KNeighborsRegressor, da se prepričate, da ste dobili enak score.\n",
    "</div>"
   ]
  },
  {
   "cell_type": "code",
   "execution_count": null,
   "id": "b5128e37",
   "metadata": {},
   "outputs": [],
   "source": []
  },
  {
   "cell_type": "code",
   "execution_count": null,
   "id": "755f85f5-54aa-4f7c-a914-9c3a1f4b2ea8",
   "metadata": {},
   "outputs": [],
   "source": []
  },
  {
   "cell_type": "code",
   "execution_count": null,
   "id": "b011ebc0-658c-4434-b589-258004ddd49b",
   "metadata": {},
   "outputs": [],
   "source": []
  },
  {
   "cell_type": "code",
   "execution_count": null,
   "id": "9c72b2fa-60b8-4f7a-a4fa-4f0af65a401f",
   "metadata": {},
   "outputs": [],
   "source": []
  },
  {
   "cell_type": "code",
   "execution_count": null,
   "id": "6e6db7de-29cb-42d2-85e5-05ac8efa9270",
   "metadata": {},
   "outputs": [],
   "source": []
  }
 ],
 "metadata": {
  "kernelspec": {
   "display_name": "Python 3 (ipykernel)",
   "language": "python",
   "name": "python3"
  },
  "language_info": {
   "codemirror_mode": {
    "name": "ipython",
    "version": 3
   },
   "file_extension": ".py",
   "mimetype": "text/x-python",
   "name": "python",
   "nbconvert_exporter": "python",
   "pygments_lexer": "ipython3",
   "version": "3.9.4"
  }
 },
 "nbformat": 4,
 "nbformat_minor": 5
}
