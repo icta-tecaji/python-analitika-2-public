{
 "cells": [
  {
   "cell_type": "markdown",
   "id": "cc869e7c-7497-45d6-a063-eed67b469aaa",
   "metadata": {},
   "source": [
    "# Example 1: Iris"
   ]
  },
  {
   "cell_type": "code",
   "execution_count": 15,
   "id": "5c055fec-ae55-41db-b25f-da7d2c0cec04",
   "metadata": {},
   "outputs": [],
   "source": [
    "from sklearn import datasets\n",
    "from sklearn.model_selection import train_test_split\n",
    "from sklearn.pipeline import Pipeline\n",
    "from sklearn.preprocessing import MinMaxScaler\n",
    "from sklearn.ensemble import RandomForestClassifier\n",
    "import numpy as np"
   ]
  },
  {
   "cell_type": "code",
   "execution_count": 28,
   "id": "e2811f32-7435-4247-89fe-74de6f9c6679",
   "metadata": {},
   "outputs": [
    {
     "data": {
      "text/plain": [
       "['data/iris_model.joblib']"
      ]
     },
     "execution_count": 28,
     "metadata": {},
     "output_type": "execute_result"
    }
   ],
   "source": [
    "X, y = datasets.load_iris(return_X_y=True)\n",
    "X_train, X_test, y_train, y_test = train_test_split(X, y, test_size=0.1, random_state=42, shuffle=True)\n",
    "\n",
    "clf_pipeline = [\n",
    "    (\"scaling\", MinMaxScaler()),\n",
    "    (\"clf\", RandomForestClassifier(random_state=42))\n",
    "]\n",
    "pipeline = Pipeline(clf_pipeline)\n",
    "pipeline.fit(X_train, y_train)\n",
    "\n",
    "iris = datasets.load_iris()\n",
    "result = pipeline.predict(np.array([1,2,2,2]).reshape(1, -1))\n",
    "iris.target_names[result[0]]\n",
    "\n",
    "from joblib import dump\n",
    "\n",
    "dump(pipeline, \"data/iris_model.joblib\")"
   ]
  },
  {
   "cell_type": "markdown",
   "id": "17a35056-29f5-4b49-b179-d07c53aac0f3",
   "metadata": {},
   "source": [
    "# Fast API"
   ]
  },
  {
   "cell_type": "markdown",
   "id": "93ea1515-b631-42ca-bcfd-ac7496e484fa",
   "metadata": {},
   "source": [
    "https://fastapi.tiangolo.com/"
   ]
  },
  {
   "cell_type": "code",
   "execution_count": 41,
   "id": "4eca8815-f3de-4f15-b0ca-672bc315206e",
   "metadata": {},
   "outputs": [
    {
     "data": {
      "text/plain": [
       "array(['setosa', 'versicolor', 'virginica'], dtype='<U10')"
      ]
     },
     "execution_count": 41,
     "metadata": {},
     "output_type": "execute_result"
    }
   ],
   "source": [
    "iris.target_names"
   ]
  },
  {
   "cell_type": "code",
   "execution_count": null,
   "id": "29f80f31-a23a-4001-9405-5cbdc0262bfc",
   "metadata": {},
   "outputs": [],
   "source": []
  },
  {
   "cell_type": "code",
   "execution_count": null,
   "id": "d0644573-956a-4f3c-875e-8a11a3abfffa",
   "metadata": {},
   "outputs": [],
   "source": []
  },
  {
   "cell_type": "markdown",
   "id": "f9392ef1-bfda-4ec9-93a6-0801eed4d36e",
   "metadata": {},
   "source": [
    "## Decorators"
   ]
  },
  {
   "cell_type": "code",
   "execution_count": 29,
   "id": "ef52e775-dea5-4308-a6ab-ed1d72f6e1d4",
   "metadata": {},
   "outputs": [],
   "source": [
    "def prit_before_after(func):\n",
    "    def wrapper():\n",
    "        print(\"Something is happening before the function is called.\")\n",
    "        func()\n",
    "        print(\"Something is happening after the function is called.\")\n",
    "    return wrapper"
   ]
  },
  {
   "cell_type": "code",
   "execution_count": 39,
   "id": "55aaad66-f27e-4fc4-8c07-9d554b374d66",
   "metadata": {},
   "outputs": [],
   "source": [
    "@prit_before_after\n",
    "def say_whee():\n",
    "    print(\"Whee!\")"
   ]
  },
  {
   "cell_type": "code",
   "execution_count": null,
   "id": "f62a1e0d-5b21-479f-a5f4-97c42cfcfa6c",
   "metadata": {},
   "outputs": [],
   "source": []
  },
  {
   "cell_type": "code",
   "execution_count": null,
   "id": "f4b7c5af-2b26-46bb-a7a5-59cbb2bfbf1a",
   "metadata": {},
   "outputs": [],
   "source": []
  },
  {
   "cell_type": "code",
   "execution_count": null,
   "id": "44553a79-529e-42df-adc3-dc780f87224c",
   "metadata": {},
   "outputs": [],
   "source": []
  },
  {
   "cell_type": "code",
   "execution_count": null,
   "id": "7f2c404b-ac1b-4eb7-bbdd-aad563ae8b88",
   "metadata": {},
   "outputs": [],
   "source": []
  }
 ],
 "metadata": {
  "kernelspec": {
   "display_name": "Python 3 (ipykernel)",
   "language": "python",
   "name": "python3"
  },
  "language_info": {
   "codemirror_mode": {
    "name": "ipython",
    "version": 3
   },
   "file_extension": ".py",
   "mimetype": "text/x-python",
   "name": "python",
   "nbconvert_exporter": "python",
   "pygments_lexer": "ipython3",
   "version": "3.11.4"
  }
 },
 "nbformat": 4,
 "nbformat_minor": 5
}
