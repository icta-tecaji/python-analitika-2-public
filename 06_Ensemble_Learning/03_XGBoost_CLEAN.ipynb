{
 "cells": [
  {
   "cell_type": "markdown",
   "id": "05912c67",
   "metadata": {},
   "source": [
    "# XGBoost"
   ]
  },
  {
   "cell_type": "code",
   "execution_count": 3,
   "id": "88e3def6",
   "metadata": {},
   "outputs": [],
   "source": [
    "import pandas as pd\n",
    "import numpy as np\n",
    "%matplotlib inline\n",
    "import matplotlib.pyplot as plt\n",
    "import seaborn as sns; sns.set()"
   ]
  },
  {
   "cell_type": "markdown",
   "id": "15fe7fbb",
   "metadata": {},
   "source": [
    "## Intro to XGBoost"
   ]
  },
  {
   "cell_type": "markdown",
   "id": "86f9f34d",
   "metadata": {},
   "source": [
    "## XGBoost Library"
   ]
  },
  {
   "cell_type": "markdown",
   "id": "dfbbd779",
   "metadata": {},
   "source": [
    "XGBoost is an industry-proven, open-source software library that provides a gradient boosting framework for scaling billions of data points quickly and efficiently."
   ]
  },
  {
   "cell_type": "markdown",
   "id": "59bc02ab",
   "metadata": {},
   "source": [
    "Docs: https://xgboost.readthedocs.io/en/stable/index.html"
   ]
  },
  {
   "cell_type": "markdown",
   "id": "6beab719",
   "metadata": {},
   "source": [
    "**XGBoost** is an optimized distributed gradient boosting library designed to be highly **efficient, flexible and portable**. It implements machine learning algorithms under the Gradient Boosting framework. XGBoost provides a parallel tree boosting (also known as GBDT, GBM) that solve many data science problems in a fast and accurate way. The same code runs on major distributed environment (Hadoop, SGE, MPI) and can solve problems beyond billions of examples."
   ]
  },
  {
   "cell_type": "markdown",
   "id": "ce15edd5",
   "metadata": {},
   "source": [
    "Installation: https://xgboost.readthedocs.io/en/stable/install.html#python\n",
    "- `pip install xgboost`"
   ]
  },
  {
   "cell_type": "code",
   "execution_count": 4,
   "id": "de3bf3bd",
   "metadata": {},
   "outputs": [
    {
     "name": "stdout",
     "output_type": "stream",
     "text": [
      "2.0.0\n"
     ]
    }
   ],
   "source": [
    "import xgboost\n",
    "\n",
    "print(xgboost.__version__)"
   ]
  },
  {
   "cell_type": "markdown",
   "id": "2aee7f77",
   "metadata": {},
   "source": [
    "## XGBoost native API"
   ]
  },
  {
   "cell_type": "code",
   "execution_count": 5,
   "id": "54ffd196",
   "metadata": {},
   "outputs": [
    {
     "data": {
      "text/html": [
       "<div>\n",
       "<style scoped>\n",
       "    .dataframe tbody tr th:only-of-type {\n",
       "        vertical-align: middle;\n",
       "    }\n",
       "\n",
       "    .dataframe tbody tr th {\n",
       "        vertical-align: top;\n",
       "    }\n",
       "\n",
       "    .dataframe thead th {\n",
       "        text-align: right;\n",
       "    }\n",
       "</style>\n",
       "<table border=\"1\" class=\"dataframe\">\n",
       "  <thead>\n",
       "    <tr style=\"text-align: right;\">\n",
       "      <th></th>\n",
       "      <th>carat</th>\n",
       "      <th>cut</th>\n",
       "      <th>color</th>\n",
       "      <th>clarity</th>\n",
       "      <th>depth</th>\n",
       "      <th>table</th>\n",
       "      <th>price</th>\n",
       "      <th>x</th>\n",
       "      <th>y</th>\n",
       "      <th>z</th>\n",
       "    </tr>\n",
       "  </thead>\n",
       "  <tbody>\n",
       "    <tr>\n",
       "      <th>0</th>\n",
       "      <td>0.23</td>\n",
       "      <td>Ideal</td>\n",
       "      <td>E</td>\n",
       "      <td>SI2</td>\n",
       "      <td>61.5</td>\n",
       "      <td>55.0</td>\n",
       "      <td>326</td>\n",
       "      <td>3.95</td>\n",
       "      <td>3.98</td>\n",
       "      <td>2.43</td>\n",
       "    </tr>\n",
       "    <tr>\n",
       "      <th>1</th>\n",
       "      <td>0.21</td>\n",
       "      <td>Premium</td>\n",
       "      <td>E</td>\n",
       "      <td>SI1</td>\n",
       "      <td>59.8</td>\n",
       "      <td>61.0</td>\n",
       "      <td>326</td>\n",
       "      <td>3.89</td>\n",
       "      <td>3.84</td>\n",
       "      <td>2.31</td>\n",
       "    </tr>\n",
       "    <tr>\n",
       "      <th>2</th>\n",
       "      <td>0.23</td>\n",
       "      <td>Good</td>\n",
       "      <td>E</td>\n",
       "      <td>VS1</td>\n",
       "      <td>56.9</td>\n",
       "      <td>65.0</td>\n",
       "      <td>327</td>\n",
       "      <td>4.05</td>\n",
       "      <td>4.07</td>\n",
       "      <td>2.31</td>\n",
       "    </tr>\n",
       "    <tr>\n",
       "      <th>3</th>\n",
       "      <td>0.29</td>\n",
       "      <td>Premium</td>\n",
       "      <td>I</td>\n",
       "      <td>VS2</td>\n",
       "      <td>62.4</td>\n",
       "      <td>58.0</td>\n",
       "      <td>334</td>\n",
       "      <td>4.20</td>\n",
       "      <td>4.23</td>\n",
       "      <td>2.63</td>\n",
       "    </tr>\n",
       "    <tr>\n",
       "      <th>4</th>\n",
       "      <td>0.31</td>\n",
       "      <td>Good</td>\n",
       "      <td>J</td>\n",
       "      <td>SI2</td>\n",
       "      <td>63.3</td>\n",
       "      <td>58.0</td>\n",
       "      <td>335</td>\n",
       "      <td>4.34</td>\n",
       "      <td>4.35</td>\n",
       "      <td>2.75</td>\n",
       "    </tr>\n",
       "  </tbody>\n",
       "</table>\n",
       "</div>"
      ],
      "text/plain": [
       "   carat      cut color clarity  depth  table  price     x     y     z\n",
       "0   0.23    Ideal     E     SI2   61.5   55.0    326  3.95  3.98  2.43\n",
       "1   0.21  Premium     E     SI1   59.8   61.0    326  3.89  3.84  2.31\n",
       "2   0.23     Good     E     VS1   56.9   65.0    327  4.05  4.07  2.31\n",
       "3   0.29  Premium     I     VS2   62.4   58.0    334  4.20  4.23  2.63\n",
       "4   0.31     Good     J     SI2   63.3   58.0    335  4.34  4.35  2.75"
      ]
     },
     "execution_count": 5,
     "metadata": {},
     "output_type": "execute_result"
    }
   ],
   "source": [
    "diamonds = sns.load_dataset(\"diamonds\")\n",
    "diamonds.head()"
   ]
  },
  {
   "cell_type": "code",
   "execution_count": 6,
   "id": "582b8b6b",
   "metadata": {},
   "outputs": [
    {
     "data": {
      "text/plain": [
       "(53940, 10)"
      ]
     },
     "execution_count": 6,
     "metadata": {},
     "output_type": "execute_result"
    }
   ],
   "source": [
    "diamonds.shape"
   ]
  },
  {
   "cell_type": "code",
   "execution_count": 7,
   "id": "4ba449b3",
   "metadata": {},
   "outputs": [
    {
     "data": {
      "text/html": [
       "<div>\n",
       "<style scoped>\n",
       "    .dataframe tbody tr th:only-of-type {\n",
       "        vertical-align: middle;\n",
       "    }\n",
       "\n",
       "    .dataframe tbody tr th {\n",
       "        vertical-align: top;\n",
       "    }\n",
       "\n",
       "    .dataframe thead th {\n",
       "        text-align: right;\n",
       "    }\n",
       "</style>\n",
       "<table border=\"1\" class=\"dataframe\">\n",
       "  <thead>\n",
       "    <tr style=\"text-align: right;\">\n",
       "      <th></th>\n",
       "      <th>carat</th>\n",
       "      <th>depth</th>\n",
       "      <th>table</th>\n",
       "      <th>price</th>\n",
       "      <th>x</th>\n",
       "      <th>y</th>\n",
       "      <th>z</th>\n",
       "    </tr>\n",
       "  </thead>\n",
       "  <tbody>\n",
       "    <tr>\n",
       "      <th>count</th>\n",
       "      <td>53940.000000</td>\n",
       "      <td>53940.000000</td>\n",
       "      <td>53940.000000</td>\n",
       "      <td>53940.000000</td>\n",
       "      <td>53940.000000</td>\n",
       "      <td>53940.000000</td>\n",
       "      <td>53940.000000</td>\n",
       "    </tr>\n",
       "    <tr>\n",
       "      <th>mean</th>\n",
       "      <td>0.797940</td>\n",
       "      <td>61.749405</td>\n",
       "      <td>57.457184</td>\n",
       "      <td>3932.799722</td>\n",
       "      <td>5.731157</td>\n",
       "      <td>5.734526</td>\n",
       "      <td>3.538734</td>\n",
       "    </tr>\n",
       "    <tr>\n",
       "      <th>std</th>\n",
       "      <td>0.474011</td>\n",
       "      <td>1.432621</td>\n",
       "      <td>2.234491</td>\n",
       "      <td>3989.439738</td>\n",
       "      <td>1.121761</td>\n",
       "      <td>1.142135</td>\n",
       "      <td>0.705699</td>\n",
       "    </tr>\n",
       "    <tr>\n",
       "      <th>min</th>\n",
       "      <td>0.200000</td>\n",
       "      <td>43.000000</td>\n",
       "      <td>43.000000</td>\n",
       "      <td>326.000000</td>\n",
       "      <td>0.000000</td>\n",
       "      <td>0.000000</td>\n",
       "      <td>0.000000</td>\n",
       "    </tr>\n",
       "    <tr>\n",
       "      <th>25%</th>\n",
       "      <td>0.400000</td>\n",
       "      <td>61.000000</td>\n",
       "      <td>56.000000</td>\n",
       "      <td>950.000000</td>\n",
       "      <td>4.710000</td>\n",
       "      <td>4.720000</td>\n",
       "      <td>2.910000</td>\n",
       "    </tr>\n",
       "    <tr>\n",
       "      <th>50%</th>\n",
       "      <td>0.700000</td>\n",
       "      <td>61.800000</td>\n",
       "      <td>57.000000</td>\n",
       "      <td>2401.000000</td>\n",
       "      <td>5.700000</td>\n",
       "      <td>5.710000</td>\n",
       "      <td>3.530000</td>\n",
       "    </tr>\n",
       "    <tr>\n",
       "      <th>75%</th>\n",
       "      <td>1.040000</td>\n",
       "      <td>62.500000</td>\n",
       "      <td>59.000000</td>\n",
       "      <td>5324.250000</td>\n",
       "      <td>6.540000</td>\n",
       "      <td>6.540000</td>\n",
       "      <td>4.040000</td>\n",
       "    </tr>\n",
       "    <tr>\n",
       "      <th>max</th>\n",
       "      <td>5.010000</td>\n",
       "      <td>79.000000</td>\n",
       "      <td>95.000000</td>\n",
       "      <td>18823.000000</td>\n",
       "      <td>10.740000</td>\n",
       "      <td>58.900000</td>\n",
       "      <td>31.800000</td>\n",
       "    </tr>\n",
       "  </tbody>\n",
       "</table>\n",
       "</div>"
      ],
      "text/plain": [
       "              carat         depth         table         price             x  \\\n",
       "count  53940.000000  53940.000000  53940.000000  53940.000000  53940.000000   \n",
       "mean       0.797940     61.749405     57.457184   3932.799722      5.731157   \n",
       "std        0.474011      1.432621      2.234491   3989.439738      1.121761   \n",
       "min        0.200000     43.000000     43.000000    326.000000      0.000000   \n",
       "25%        0.400000     61.000000     56.000000    950.000000      4.710000   \n",
       "50%        0.700000     61.800000     57.000000   2401.000000      5.700000   \n",
       "75%        1.040000     62.500000     59.000000   5324.250000      6.540000   \n",
       "max        5.010000     79.000000     95.000000  18823.000000     10.740000   \n",
       "\n",
       "                  y             z  \n",
       "count  53940.000000  53940.000000  \n",
       "mean       5.734526      3.538734  \n",
       "std        1.142135      0.705699  \n",
       "min        0.000000      0.000000  \n",
       "25%        4.720000      2.910000  \n",
       "50%        5.710000      3.530000  \n",
       "75%        6.540000      4.040000  \n",
       "max       58.900000     31.800000  "
      ]
     },
     "execution_count": 7,
     "metadata": {},
     "output_type": "execute_result"
    }
   ],
   "source": [
    "diamonds.describe()"
   ]
  },
  {
   "cell_type": "code",
   "execution_count": 8,
   "id": "bd9bf33b",
   "metadata": {},
   "outputs": [
    {
     "data": {
      "text/html": [
       "<div>\n",
       "<style scoped>\n",
       "    .dataframe tbody tr th:only-of-type {\n",
       "        vertical-align: middle;\n",
       "    }\n",
       "\n",
       "    .dataframe tbody tr th {\n",
       "        vertical-align: top;\n",
       "    }\n",
       "\n",
       "    .dataframe thead th {\n",
       "        text-align: right;\n",
       "    }\n",
       "</style>\n",
       "<table border=\"1\" class=\"dataframe\">\n",
       "  <thead>\n",
       "    <tr style=\"text-align: right;\">\n",
       "      <th></th>\n",
       "      <th>cut</th>\n",
       "      <th>color</th>\n",
       "      <th>clarity</th>\n",
       "    </tr>\n",
       "  </thead>\n",
       "  <tbody>\n",
       "    <tr>\n",
       "      <th>count</th>\n",
       "      <td>53940</td>\n",
       "      <td>53940</td>\n",
       "      <td>53940</td>\n",
       "    </tr>\n",
       "    <tr>\n",
       "      <th>unique</th>\n",
       "      <td>5</td>\n",
       "      <td>7</td>\n",
       "      <td>8</td>\n",
       "    </tr>\n",
       "    <tr>\n",
       "      <th>top</th>\n",
       "      <td>Ideal</td>\n",
       "      <td>G</td>\n",
       "      <td>SI1</td>\n",
       "    </tr>\n",
       "    <tr>\n",
       "      <th>freq</th>\n",
       "      <td>21551</td>\n",
       "      <td>11292</td>\n",
       "      <td>13065</td>\n",
       "    </tr>\n",
       "  </tbody>\n",
       "</table>\n",
       "</div>"
      ],
      "text/plain": [
       "          cut  color clarity\n",
       "count   53940  53940   53940\n",
       "unique      5      7       8\n",
       "top     Ideal      G     SI1\n",
       "freq    21551  11292   13065"
      ]
     },
     "execution_count": 8,
     "metadata": {},
     "output_type": "execute_result"
    }
   ],
   "source": [
    "diamonds.describe(exclude=np.number)"
   ]
  },
  {
   "cell_type": "code",
   "execution_count": 10,
   "id": "897656b3-d1d1-4696-950a-7a5a1cc7a7bb",
   "metadata": {},
   "outputs": [
    {
     "name": "stdout",
     "output_type": "stream",
     "text": [
      "<class 'pandas.core.frame.DataFrame'>\n",
      "RangeIndex: 53940 entries, 0 to 53939\n",
      "Data columns (total 10 columns):\n",
      " #   Column   Non-Null Count  Dtype   \n",
      "---  ------   --------------  -----   \n",
      " 0   carat    53940 non-null  float64 \n",
      " 1   cut      53940 non-null  category\n",
      " 2   color    53940 non-null  category\n",
      " 3   clarity  53940 non-null  category\n",
      " 4   depth    53940 non-null  float64 \n",
      " 5   table    53940 non-null  float64 \n",
      " 6   price    53940 non-null  int64   \n",
      " 7   x        53940 non-null  float64 \n",
      " 8   y        53940 non-null  float64 \n",
      " 9   z        53940 non-null  float64 \n",
      "dtypes: category(3), float64(6), int64(1)\n",
      "memory usage: 3.0 MB\n"
     ]
    }
   ],
   "source": [
    "diamonds.info()"
   ]
  },
  {
   "cell_type": "code",
   "execution_count": 11,
   "id": "fa77cbf5",
   "metadata": {},
   "outputs": [
    {
     "name": "stdout",
     "output_type": "stream",
     "text": [
      "<class 'pandas.core.frame.DataFrame'>\n",
      "RangeIndex: 53940 entries, 0 to 53939\n",
      "Data columns (total 9 columns):\n",
      " #   Column   Non-Null Count  Dtype   \n",
      "---  ------   --------------  -----   \n",
      " 0   carat    53940 non-null  float64 \n",
      " 1   cut      53940 non-null  category\n",
      " 2   color    53940 non-null  category\n",
      " 3   clarity  53940 non-null  category\n",
      " 4   depth    53940 non-null  float64 \n",
      " 5   table    53940 non-null  float64 \n",
      " 6   x        53940 non-null  float64 \n",
      " 7   y        53940 non-null  float64 \n",
      " 8   z        53940 non-null  float64 \n",
      "dtypes: category(3), float64(6)\n",
      "memory usage: 2.6 MB\n",
      "None\n"
     ]
    }
   ],
   "source": [
    "from sklearn.model_selection import train_test_split\n",
    "\n",
    "# Extract feature and target arrays\n",
    "X, y = diamonds.drop('price', axis=1), diamonds[['price']]\n",
    "\n",
    "# Extract text features\n",
    "cats = X.select_dtypes(exclude=np.number).columns.tolist()\n",
    "\n",
    "# Convert to Pandas category\n",
    "for col in cats:\n",
    "    X[col] = X[col].astype('category')\n",
    "print(X.info())    \n",
    "# Split the data\n",
    "X_train, X_test, y_train, y_test = train_test_split(X, y, random_state=1)"
   ]
  },
  {
   "cell_type": "code",
   "execution_count": 12,
   "id": "7211e019",
   "metadata": {},
   "outputs": [],
   "source": [
    "import xgboost as xgb\n",
    "\n",
    "# Create regression matrices\n",
    "dtrain_reg = xgb.DMatrix(X_train, y_train, enable_categorical=True)\n",
    "dtest_reg = xgb.DMatrix(X_test, y_test, enable_categorical=True)"
   ]
  },
  {
   "cell_type": "code",
   "execution_count": 13,
   "id": "b2de6ae2",
   "metadata": {},
   "outputs": [],
   "source": [
    "# Define hyperparameters\n",
    "params = {\"objective\": \"reg:squarederror\", \"tree_method\": \"hist\"}"
   ]
  },
  {
   "cell_type": "code",
   "execution_count": 14,
   "id": "551d99eb",
   "metadata": {},
   "outputs": [],
   "source": [
    "model = xgb.train(params=params, dtrain=dtrain_reg, num_boost_round=100)"
   ]
  },
  {
   "cell_type": "code",
   "execution_count": 15,
   "id": "104395bd",
   "metadata": {},
   "outputs": [],
   "source": [
    "from sklearn.metrics import mean_squared_error\n",
    "\n",
    "preds = model.predict(dtest_reg)"
   ]
  },
  {
   "cell_type": "code",
   "execution_count": 16,
   "id": "d4f358b8",
   "metadata": {},
   "outputs": [
    {
     "name": "stdout",
     "output_type": "stream",
     "text": [
      "RMSE of the base model: 552.861\n"
     ]
    }
   ],
   "source": [
    "rmse = mean_squared_error(y_test, preds, squared=False)\n",
    "print(f\"RMSE of the base model: {rmse:.3f}\")"
   ]
  },
  {
   "cell_type": "markdown",
   "id": "2a3d9916",
   "metadata": {},
   "source": [
    "### Using Validation Sets During Training"
   ]
  },
  {
   "cell_type": "code",
   "execution_count": 17,
   "id": "e78ff643",
   "metadata": {},
   "outputs": [],
   "source": [
    "params = {\"objective\": \"reg:squarederror\", \"tree_method\": \"hist\"}"
   ]
  },
  {
   "cell_type": "code",
   "execution_count": 18,
   "id": "de53e9b3",
   "metadata": {},
   "outputs": [],
   "source": [
    "evals = [(dtest_reg, \"validation\"), (dtrain_reg, \"train\")]"
   ]
  },
  {
   "cell_type": "code",
   "execution_count": 19,
   "id": "f54297fa",
   "metadata": {},
   "outputs": [
    {
     "name": "stdout",
     "output_type": "stream",
     "text": [
      "[0]\tvalidation-rmse:2817.90814\ttrain-rmse:2874.49146\n",
      "[10]\tvalidation-rmse:592.03160\ttrain-rmse:548.36512\n",
      "[20]\tvalidation-rmse:558.53485\ttrain-rmse:491.09887\n",
      "[30]\tvalidation-rmse:555.51015\ttrain-rmse:469.58201\n",
      "[40]\tvalidation-rmse:554.45666\ttrain-rmse:454.32953\n",
      "[50]\tvalidation-rmse:554.13365\ttrain-rmse:438.68033\n",
      "[60]\tvalidation-rmse:551.57888\ttrain-rmse:425.38361\n",
      "[70]\tvalidation-rmse:549.26109\ttrain-rmse:414.71115\n",
      "[80]\tvalidation-rmse:549.03952\ttrain-rmse:405.41008\n",
      "[90]\tvalidation-rmse:551.87206\ttrain-rmse:391.04269\n",
      "[99]\tvalidation-rmse:552.86131\ttrain-rmse:383.48826\n"
     ]
    }
   ],
   "source": [
    "evals = [(dtest_reg, \"validation\"), (dtrain_reg, \"train\")]\n",
    "\n",
    "model = xgb.train(params=params, dtrain=dtrain_reg, num_boost_round=100, evals=evals, verbose_eval=10) # Print every ten rounds"
   ]
  },
  {
   "cell_type": "markdown",
   "id": "222ddb4a",
   "metadata": {},
   "source": [
    "### XGBoost Early Stopping"
   ]
  },
  {
   "cell_type": "code",
   "execution_count": 20,
   "id": "de76c8e3",
   "metadata": {},
   "outputs": [
    {
     "name": "stdout",
     "output_type": "stream",
     "text": [
      "[0]\tvalidation-rmse:2817.90814\ttrain-rmse:2874.49146\n",
      "[500]\tvalidation-rmse:564.77532\ttrain-rmse:201.44074\n",
      "[1000]\tvalidation-rmse:574.22590\ttrain-rmse:127.04692\n",
      "[1500]\tvalidation-rmse:577.88702\ttrain-rmse:87.17633\n",
      "[2000]\tvalidation-rmse:579.64879\ttrain-rmse:64.86890\n",
      "[2500]\tvalidation-rmse:580.65263\ttrain-rmse:50.04183\n",
      "[3000]\tvalidation-rmse:581.63495\ttrain-rmse:39.38436\n",
      "[3500]\tvalidation-rmse:582.04309\ttrain-rmse:31.85327\n",
      "[4000]\tvalidation-rmse:582.60757\ttrain-rmse:26.57816\n",
      "[4500]\tvalidation-rmse:582.92145\ttrain-rmse:22.47317\n",
      "[4999]\tvalidation-rmse:583.12697\ttrain-rmse:19.43452\n"
     ]
    }
   ],
   "source": [
    "model = xgb.train(params=params, dtrain=dtrain_reg, num_boost_round=5000, evals=evals,verbose_eval=500)"
   ]
  },
  {
   "cell_type": "code",
   "execution_count": 21,
   "id": "dd24ccc6",
   "metadata": {},
   "outputs": [
    {
     "name": "stdout",
     "output_type": "stream",
     "text": [
      "[0]\ttrain-rmse:2874.49146\tvalidation-rmse:2817.90814\n",
      "[10]\ttrain-rmse:548.36512\tvalidation-rmse:592.03160\n",
      "[20]\ttrain-rmse:491.09887\tvalidation-rmse:558.53485\n",
      "[30]\ttrain-rmse:469.58201\tvalidation-rmse:555.51015\n",
      "[40]\ttrain-rmse:454.32953\tvalidation-rmse:554.45666\n",
      "[50]\ttrain-rmse:438.68033\tvalidation-rmse:554.13365\n",
      "[60]\ttrain-rmse:425.38361\tvalidation-rmse:551.57888\n",
      "[70]\ttrain-rmse:414.71115\tvalidation-rmse:549.26109\n",
      "[80]\ttrain-rmse:405.41008\tvalidation-rmse:549.03952\n",
      "[90]\ttrain-rmse:391.04269\tvalidation-rmse:551.87206\n",
      "[100]\ttrain-rmse:381.96310\tvalidation-rmse:553.73941\n",
      "[110]\ttrain-rmse:370.00003\tvalidation-rmse:553.28780\n",
      "[120]\ttrain-rmse:364.36677\tvalidation-rmse:553.45340\n",
      "[129]\ttrain-rmse:357.32858\tvalidation-rmse:552.90303\n"
     ]
    }
   ],
   "source": [
    "# If there’s more than one metric in the eval_metric parameter given in params, \n",
    "# the last metric will be used for early stopping.\n",
    "evals = [(dtrain_reg, \"train\"), (dtest_reg, \"validation\")]\n",
    "\n",
    "model = xgb.train(\n",
    "   params=params,\n",
    "   dtrain=dtrain_reg,\n",
    "   num_boost_round=10_000,\n",
    "   evals=evals,\n",
    "   verbose_eval=10,\n",
    "   # Activate early stopping\n",
    "   early_stopping_rounds=50\n",
    ")"
   ]
  },
  {
   "cell_type": "markdown",
   "id": "a6ea5745",
   "metadata": {},
   "source": [
    "### XGBoost Cross-Validation"
   ]
  },
  {
   "cell_type": "code",
   "execution_count": 22,
   "id": "7b629c2d",
   "metadata": {},
   "outputs": [],
   "source": [
    "params = {\"objective\": \"reg:squarederror\", \"tree_method\": \"hist\"}\n",
    "n = 1000\n",
    "\n",
    "results = xgb.cv(params, dtrain_reg, num_boost_round=n, nfold=5, early_stopping_rounds=20)"
   ]
  },
  {
   "cell_type": "code",
   "execution_count": 24,
   "id": "adf598e8",
   "metadata": {},
   "outputs": [
    {
     "data": {
      "text/html": [
       "<div>\n",
       "<style scoped>\n",
       "    .dataframe tbody tr th:only-of-type {\n",
       "        vertical-align: middle;\n",
       "    }\n",
       "\n",
       "    .dataframe tbody tr th {\n",
       "        vertical-align: top;\n",
       "    }\n",
       "\n",
       "    .dataframe thead th {\n",
       "        text-align: right;\n",
       "    }\n",
       "</style>\n",
       "<table border=\"1\" class=\"dataframe\">\n",
       "  <thead>\n",
       "    <tr style=\"text-align: right;\">\n",
       "      <th></th>\n",
       "      <th>train-rmse-mean</th>\n",
       "      <th>train-rmse-std</th>\n",
       "      <th>test-rmse-mean</th>\n",
       "      <th>test-rmse-std</th>\n",
       "    </tr>\n",
       "  </thead>\n",
       "  <tbody>\n",
       "    <tr>\n",
       "      <th>52</th>\n",
       "      <td>418.350687</td>\n",
       "      <td>3.376886</td>\n",
       "      <td>551.238403</td>\n",
       "      <td>10.366408</td>\n",
       "    </tr>\n",
       "    <tr>\n",
       "      <th>53</th>\n",
       "      <td>416.487264</td>\n",
       "      <td>2.196313</td>\n",
       "      <td>550.834285</td>\n",
       "      <td>10.208928</td>\n",
       "    </tr>\n",
       "    <tr>\n",
       "      <th>54</th>\n",
       "      <td>415.267876</td>\n",
       "      <td>1.417937</td>\n",
       "      <td>550.730704</td>\n",
       "      <td>10.253714</td>\n",
       "    </tr>\n",
       "    <tr>\n",
       "      <th>55</th>\n",
       "      <td>414.061884</td>\n",
       "      <td>1.387340</td>\n",
       "      <td>550.419242</td>\n",
       "      <td>10.294152</td>\n",
       "    </tr>\n",
       "    <tr>\n",
       "      <th>56</th>\n",
       "      <td>412.701000</td>\n",
       "      <td>1.472351</td>\n",
       "      <td>550.273554</td>\n",
       "      <td>10.203995</td>\n",
       "    </tr>\n",
       "  </tbody>\n",
       "</table>\n",
       "</div>"
      ],
      "text/plain": [
       "    train-rmse-mean  train-rmse-std  test-rmse-mean  test-rmse-std\n",
       "52       418.350687        3.376886      551.238403      10.366408\n",
       "53       416.487264        2.196313      550.834285      10.208928\n",
       "54       415.267876        1.417937      550.730704      10.253714\n",
       "55       414.061884        1.387340      550.419242      10.294152\n",
       "56       412.701000        1.472351      550.273554      10.203995"
      ]
     },
     "execution_count": 24,
     "metadata": {},
     "output_type": "execute_result"
    }
   ],
   "source": [
    "results.tail()"
   ]
  },
  {
   "cell_type": "code",
   "execution_count": 25,
   "id": "299e75b0",
   "metadata": {},
   "outputs": [
    {
     "data": {
      "text/plain": [
       "550.2735543625861"
      ]
     },
     "execution_count": 25,
     "metadata": {},
     "output_type": "execute_result"
    }
   ],
   "source": [
    "best_rmse = results['test-rmse-mean'].min()\n",
    "best_rmse"
   ]
  },
  {
   "cell_type": "markdown",
   "id": "cd20d47f",
   "metadata": {},
   "source": [
    "### XGBoost Classification"
   ]
  },
  {
   "cell_type": "markdown",
   "id": "73a4ed9e-75d7-4c72-9dcb-196f4d09469b",
   "metadata": {},
   "source": [
    "* `binary:logistic` - binary classification\n",
    "* `multi:softprob` - multi-class classification"
   ]
  },
  {
   "cell_type": "code",
   "execution_count": 26,
   "id": "6a0215e5",
   "metadata": {},
   "outputs": [],
   "source": [
    "from sklearn.preprocessing import OrdinalEncoder\n",
    "\n",
    "X, y = diamonds.drop(\"cut\", axis=1), diamonds[['cut']]\n",
    "\n",
    "# Encode y to numeric\n",
    "y_encoded = OrdinalEncoder().fit_transform(y)\n",
    "\n",
    "# Extract text features\n",
    "cats = X.select_dtypes(exclude=np.number).columns.tolist()\n",
    "\n",
    "# Convert to pd.Categorical\n",
    "for col in cats:\n",
    "    X[col] = X[col].astype('category')\n",
    "\n",
    "# Split the data\n",
    "X_train, X_test, y_train, y_test = train_test_split(X, y_encoded, random_state=1, stratify=y_encoded)"
   ]
  },
  {
   "cell_type": "code",
   "execution_count": 27,
   "id": "34162412",
   "metadata": {},
   "outputs": [
    {
     "data": {
      "text/plain": [
       "['Ideal', 'Premium', 'Good', 'Very Good', 'Fair']\n",
       "Categories (5, object): ['Ideal', 'Premium', 'Very Good', 'Good', 'Fair']"
      ]
     },
     "execution_count": 27,
     "metadata": {},
     "output_type": "execute_result"
    }
   ],
   "source": [
    "y[\"cut\"].unique()"
   ]
  },
  {
   "cell_type": "code",
   "execution_count": 28,
   "id": "1b7cae2e",
   "metadata": {},
   "outputs": [],
   "source": [
    "# Create classification matrices\n",
    "dtrain_clf = xgb.DMatrix(X_train, y_train, enable_categorical=True)\n",
    "dtest_clf = xgb.DMatrix(X_test, y_test, enable_categorical=True)"
   ]
  },
  {
   "cell_type": "code",
   "execution_count": 29,
   "id": "9a18d96a",
   "metadata": {},
   "outputs": [],
   "source": [
    "params = {\"objective\": \"multi:softprob\", \"tree_method\": \"hist\", \"num_class\": 5}\n",
    "\n",
    "results = xgb.cv(\n",
    "   params, dtrain_clf,\n",
    "   num_boost_round=100,\n",
    "   nfold=5,\n",
    "   metrics=[\"mlogloss\", \"auc\", \"merror\"],\n",
    "   early_stopping_rounds=20\n",
    ")"
   ]
  },
  {
   "cell_type": "code",
   "execution_count": 31,
   "id": "4a1505c6",
   "metadata": {},
   "outputs": [
    {
     "data": {
      "text/html": [
       "<div>\n",
       "<style scoped>\n",
       "    .dataframe tbody tr th:only-of-type {\n",
       "        vertical-align: middle;\n",
       "    }\n",
       "\n",
       "    .dataframe tbody tr th {\n",
       "        vertical-align: top;\n",
       "    }\n",
       "\n",
       "    .dataframe thead th {\n",
       "        text-align: right;\n",
       "    }\n",
       "</style>\n",
       "<table border=\"1\" class=\"dataframe\">\n",
       "  <thead>\n",
       "    <tr style=\"text-align: right;\">\n",
       "      <th></th>\n",
       "      <th>train-mlogloss-mean</th>\n",
       "      <th>train-mlogloss-std</th>\n",
       "      <th>train-auc-mean</th>\n",
       "      <th>train-auc-std</th>\n",
       "      <th>train-merror-mean</th>\n",
       "      <th>train-merror-std</th>\n",
       "      <th>test-mlogloss-mean</th>\n",
       "      <th>test-mlogloss-std</th>\n",
       "      <th>test-auc-mean</th>\n",
       "      <th>test-auc-std</th>\n",
       "      <th>test-merror-mean</th>\n",
       "      <th>test-merror-std</th>\n",
       "    </tr>\n",
       "  </thead>\n",
       "  <tbody>\n",
       "    <tr>\n",
       "      <th>95</th>\n",
       "      <td>0.361481</td>\n",
       "      <td>0.001081</td>\n",
       "      <td>0.975623</td>\n",
       "      <td>0.000224</td>\n",
       "      <td>0.128779</td>\n",
       "      <td>0.000896</td>\n",
       "      <td>0.539447</td>\n",
       "      <td>0.003425</td>\n",
       "      <td>0.938675</td>\n",
       "      <td>0.000865</td>\n",
       "      <td>0.202249</td>\n",
       "      <td>0.003571</td>\n",
       "    </tr>\n",
       "    <tr>\n",
       "      <th>96</th>\n",
       "      <td>0.359926</td>\n",
       "      <td>0.001068</td>\n",
       "      <td>0.975863</td>\n",
       "      <td>0.000193</td>\n",
       "      <td>0.128136</td>\n",
       "      <td>0.001049</td>\n",
       "      <td>0.539425</td>\n",
       "      <td>0.003399</td>\n",
       "      <td>0.938685</td>\n",
       "      <td>0.000863</td>\n",
       "      <td>0.202324</td>\n",
       "      <td>0.004029</td>\n",
       "    </tr>\n",
       "    <tr>\n",
       "      <th>97</th>\n",
       "      <td>0.358420</td>\n",
       "      <td>0.000689</td>\n",
       "      <td>0.976101</td>\n",
       "      <td>0.000135</td>\n",
       "      <td>0.127197</td>\n",
       "      <td>0.001190</td>\n",
       "      <td>0.539284</td>\n",
       "      <td>0.003607</td>\n",
       "      <td>0.938694</td>\n",
       "      <td>0.000869</td>\n",
       "      <td>0.202175</td>\n",
       "      <td>0.003540</td>\n",
       "    </tr>\n",
       "    <tr>\n",
       "      <th>98</th>\n",
       "      <td>0.357136</td>\n",
       "      <td>0.000771</td>\n",
       "      <td>0.976307</td>\n",
       "      <td>0.000113</td>\n",
       "      <td>0.126443</td>\n",
       "      <td>0.001209</td>\n",
       "      <td>0.539290</td>\n",
       "      <td>0.003768</td>\n",
       "      <td>0.938686</td>\n",
       "      <td>0.000853</td>\n",
       "      <td>0.202027</td>\n",
       "      <td>0.003388</td>\n",
       "    </tr>\n",
       "    <tr>\n",
       "      <th>99</th>\n",
       "      <td>0.355459</td>\n",
       "      <td>0.000581</td>\n",
       "      <td>0.976555</td>\n",
       "      <td>0.000095</td>\n",
       "      <td>0.125677</td>\n",
       "      <td>0.001072</td>\n",
       "      <td>0.538866</td>\n",
       "      <td>0.003866</td>\n",
       "      <td>0.938777</td>\n",
       "      <td>0.000878</td>\n",
       "      <td>0.201804</td>\n",
       "      <td>0.003563</td>\n",
       "    </tr>\n",
       "  </tbody>\n",
       "</table>\n",
       "</div>"
      ],
      "text/plain": [
       "    train-mlogloss-mean  train-mlogloss-std  train-auc-mean  train-auc-std  \\\n",
       "95             0.361481            0.001081        0.975623       0.000224   \n",
       "96             0.359926            0.001068        0.975863       0.000193   \n",
       "97             0.358420            0.000689        0.976101       0.000135   \n",
       "98             0.357136            0.000771        0.976307       0.000113   \n",
       "99             0.355459            0.000581        0.976555       0.000095   \n",
       "\n",
       "    train-merror-mean  train-merror-std  test-mlogloss-mean  \\\n",
       "95           0.128779          0.000896            0.539447   \n",
       "96           0.128136          0.001049            0.539425   \n",
       "97           0.127197          0.001190            0.539284   \n",
       "98           0.126443          0.001209            0.539290   \n",
       "99           0.125677          0.001072            0.538866   \n",
       "\n",
       "    test-mlogloss-std  test-auc-mean  test-auc-std  test-merror-mean  \\\n",
       "95           0.003425       0.938675      0.000865          0.202249   \n",
       "96           0.003399       0.938685      0.000863          0.202324   \n",
       "97           0.003607       0.938694      0.000869          0.202175   \n",
       "98           0.003768       0.938686      0.000853          0.202027   \n",
       "99           0.003866       0.938777      0.000878          0.201804   \n",
       "\n",
       "    test-merror-std  \n",
       "95         0.003571  \n",
       "96         0.004029  \n",
       "97         0.003540  \n",
       "98         0.003388  \n",
       "99         0.003563  "
      ]
     },
     "execution_count": 31,
     "metadata": {},
     "output_type": "execute_result"
    }
   ],
   "source": [
    "results.tail()"
   ]
  },
  {
   "cell_type": "code",
   "execution_count": 32,
   "id": "d7a2e4b3",
   "metadata": {},
   "outputs": [
    {
     "data": {
      "text/plain": [
       "0.9387768205705852"
      ]
     },
     "execution_count": 32,
     "metadata": {},
     "output_type": "execute_result"
    }
   ],
   "source": [
    "results['test-auc-mean'].max()"
   ]
  },
  {
   "cell_type": "markdown",
   "id": "99eff7b5",
   "metadata": {},
   "source": [
    "## XGBoost Sklearn"
   ]
  },
  {
   "cell_type": "code",
   "execution_count": 33,
   "id": "532cd75d",
   "metadata": {},
   "outputs": [],
   "source": [
    "from sklearn import datasets\n",
    "\n",
    "X,y = datasets.load_diabetes(return_X_y=True)"
   ]
  },
  {
   "cell_type": "code",
   "execution_count": 34,
   "id": "e2356047",
   "metadata": {},
   "outputs": [],
   "source": [
    "from xgboost import XGBRegressor\n",
    "from sklearn.model_selection import cross_val_score"
   ]
  },
  {
   "cell_type": "code",
   "execution_count": 35,
   "id": "8cc6de1c",
   "metadata": {},
   "outputs": [],
   "source": [
    "scores = cross_val_score(XGBRegressor(objective='reg:squarederror'), X, y, scoring='neg_mean_squared_error')"
   ]
  },
  {
   "cell_type": "code",
   "execution_count": 36,
   "id": "dc4f0f64",
   "metadata": {},
   "outputs": [
    {
     "data": {
      "text/plain": [
       "array([55.68547317, 58.18498778, 68.622534  , 64.15281814, 68.4826639 ])"
      ]
     },
     "execution_count": 36,
     "metadata": {},
     "output_type": "execute_result"
    }
   ],
   "source": [
    "(-scores)**0.5 "
   ]
  },
  {
   "cell_type": "code",
   "execution_count": 37,
   "id": "76366bb7",
   "metadata": {},
   "outputs": [],
   "source": [
    "from sklearn import datasets\n",
    "\n",
    "X,y = datasets.load_breast_cancer(return_X_y=True)"
   ]
  },
  {
   "cell_type": "code",
   "execution_count": 38,
   "id": "7d7d0e40",
   "metadata": {},
   "outputs": [
    {
     "data": {
      "text/plain": [
       "0.9701288619779538"
      ]
     },
     "execution_count": 38,
     "metadata": {},
     "output_type": "execute_result"
    }
   ],
   "source": [
    "from xgboost import XGBClassifier\n",
    "from sklearn.model_selection import cross_val_score\n",
    "\n",
    "cross_val_score(XGBClassifier(), X, y).mean()"
   ]
  },
  {
   "cell_type": "code",
   "execution_count": null,
   "id": "d235ff9b-355b-42df-a6cc-fa38acf8ffd5",
   "metadata": {},
   "outputs": [],
   "source": []
  }
 ],
 "metadata": {
  "kernelspec": {
   "display_name": "Python 3 (ipykernel)",
   "language": "python",
   "name": "python3"
  },
  "language_info": {
   "codemirror_mode": {
    "name": "ipython",
    "version": 3
   },
   "file_extension": ".py",
   "mimetype": "text/x-python",
   "name": "python",
   "nbconvert_exporter": "python",
   "pygments_lexer": "ipython3",
   "version": "3.11.3"
  }
 },
 "nbformat": 4,
 "nbformat_minor": 5
}
