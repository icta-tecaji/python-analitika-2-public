{
 "cells": [
  {
   "cell_type": "markdown",
   "id": "325f75ee",
   "metadata": {},
   "source": [
    "# Transforming Numerical Variables"
   ]
  },
  {
   "cell_type": "markdown",
   "id": "122d0614",
   "metadata": {},
   "source": [
    "**Linear and logistic regression assume that the variables are normally distributed.** If they are\n",
    "not, we can often **apply a mathematical transformation to change their distribution into\n",
    "Gaussian**, and sometimes even unmask linear relationships between variables and their\n",
    "targets. \n",
    "\n",
    "This means that **transforming variables may improve the performance of linear\n",
    "machine learning models**. \n",
    "\n",
    "Commonly used mathematical transformations include the\n",
    "logarithm, reciprocal, power, square and cube root transformations, as well as the Box-Cox\n",
    "and Yeo-Johnson transformations."
   ]
  },
  {
   "cell_type": "code",
   "execution_count": null,
   "id": "76635295",
   "metadata": {},
   "outputs": [],
   "source": [
    "import numpy as np\n",
    "import pandas as pd\n",
    "\n",
    "%matplotlib inline\n",
    "import matplotlib.pyplot as plt\n",
    "import scipy.stats as stats"
   ]
  },
  {
   "cell_type": "markdown",
   "id": "94e9e7ce",
   "metadata": {},
   "source": [
    "## Transforming variables with the logarithm"
   ]
  },
  {
   "cell_type": "markdown",
   "id": "4d65fee1",
   "metadata": {},
   "source": [
    "The logarithm function is commonly used to transform variables. It has a **strong effect on\n",
    "the shape of the variable distribution and can only be applied to positive variables**."
   ]
  },
  {
   "cell_type": "code",
   "execution_count": null,
   "id": "87d1fd1a",
   "metadata": {},
   "outputs": [],
   "source": [
    "import scipy.stats as stats\n",
    "from sklearn.preprocessing import FunctionTransformer"
   ]
  },
  {
   "cell_type": "code",
   "execution_count": null,
   "id": "30ed9e0f",
   "metadata": {},
   "outputs": [],
   "source": [
    "data = pd.read_csv(\"data/boston.csv\")\n",
    "data.head()"
   ]
  },
  {
   "cell_type": "code",
   "execution_count": null,
   "id": "6ef4ab07",
   "metadata": {},
   "outputs": [],
   "source": [
    "def diagnostic_plots(df, variable):\n",
    "    plt.figure(figsize=(12,4))\n",
    "    plt.subplot(1, 2, 1)\n",
    "    df[variable].hist(bins=30)\n",
    "    plt.subplot(1, 2, 2)\n",
    "    stats.probplot(df[variable], dist=\"norm\", plot=plt)\n",
    "    plt.show()"
   ]
  },
  {
   "cell_type": "code",
   "execution_count": null,
   "id": "4567e502",
   "metadata": {},
   "outputs": [],
   "source": [
    "diagnostic_plots(data, 'LSTAT')"
   ]
  },
  {
   "cell_type": "code",
   "execution_count": null,
   "id": "79dc6b38",
   "metadata": {},
   "outputs": [],
   "source": [
    "data_tf = data.copy()"
   ]
  },
  {
   "cell_type": "code",
   "execution_count": null,
   "id": "e812158c",
   "metadata": {},
   "outputs": [],
   "source": [
    "data_tf[['LSTAT', 'NOX', 'DIS', 'RM']] = np.log(data[['LSTAT', 'NOX', 'DIS', 'RM']])"
   ]
  },
  {
   "cell_type": "code",
   "execution_count": null,
   "id": "6cfe65e0",
   "metadata": {},
   "outputs": [],
   "source": [
    "diagnostic_plots(data_tf, 'LSTAT')"
   ]
  },
  {
   "cell_type": "code",
   "execution_count": null,
   "id": "a3d2754f",
   "metadata": {},
   "outputs": [],
   "source": [
    "transformer = FunctionTransformer(np.log)"
   ]
  },
  {
   "cell_type": "code",
   "execution_count": null,
   "id": "15cf1179",
   "metadata": {},
   "outputs": [],
   "source": [
    "data_tf = transformer.transform(data[['LSTAT', 'NOX', 'DIS', 'RM']])"
   ]
  },
  {
   "cell_type": "markdown",
   "id": "82c343a7",
   "metadata": {},
   "source": [
    "## Transforming variables with the reciprocal function"
   ]
  },
  {
   "cell_type": "markdown",
   "id": "4fc7c744",
   "metadata": {},
   "source": [
    "The **reciprocal function, defined as 1/x, is a strong transformation with a very drastic effect\n",
    "on the variable distribution.** It isn't defined for the value 0, but it can be applied to negative\n",
    "numbers."
   ]
  },
  {
   "cell_type": "code",
   "execution_count": null,
   "id": "ee44e760",
   "metadata": {},
   "outputs": [],
   "source": [
    "from sklearn.preprocessing import FunctionTransformer\n",
    "\n",
    "\n",
    "data = pd.read_csv(\"data/boston.csv\")"
   ]
  },
  {
   "cell_type": "code",
   "execution_count": null,
   "id": "91eb034d",
   "metadata": {},
   "outputs": [],
   "source": [
    "def diagnostic_plots(df, variable):\n",
    "    # function to plot a histogram and a Q-Q plot\n",
    "    # side by side, for a certain variable\n",
    "    plt.figure(figsize=(10,4))\n",
    "    plt.subplot(1, 2, 1)\n",
    "    df[variable].hist(bins=30)\n",
    "    plt.subplot(1, 2, 2)\n",
    "    stats.probplot(df[variable], dist=\"norm\", plot=plt)\n",
    "    plt.show()"
   ]
  },
  {
   "cell_type": "code",
   "execution_count": null,
   "id": "6c10c4cc",
   "metadata": {},
   "outputs": [],
   "source": [
    "diagnostic_plots(data, 'DIS')"
   ]
  },
  {
   "cell_type": "code",
   "execution_count": null,
   "id": "853cce3f",
   "metadata": {},
   "outputs": [],
   "source": [
    "transformer = FunctionTransformer(np.reciprocal)"
   ]
  },
  {
   "cell_type": "code",
   "execution_count": null,
   "id": "d990218f",
   "metadata": {},
   "outputs": [],
   "source": [
    "data_tf = transformer.transform(data[['LSTAT', 'NOX', 'DIS', 'RM']])"
   ]
  },
  {
   "cell_type": "code",
   "execution_count": null,
   "id": "518aec5e",
   "metadata": {},
   "outputs": [],
   "source": [
    "data_tf = pd.DataFrame(data_tf, columns=['LSTAT', 'NOX', 'DIS', 'RM'])\n",
    "diagnostic_plots(data_tf, 'DIS')"
   ]
  },
  {
   "cell_type": "markdown",
   "id": "aee21940",
   "metadata": {},
   "source": [
    "## Using power transformations on numerical variables"
   ]
  },
  {
   "cell_type": "markdown",
   "id": "5fb5da23",
   "metadata": {},
   "source": [
    "**Exponential or power functions are mathematical transformations** that follow `X = X^lambda`,\n",
    "where lambda can be any exponent. \n",
    "\n",
    "The square and cube root transformations are special\n",
    "cases of power transformations where lambda is 1/2 or 1/3, respectively. \n",
    "\n",
    "In practice, we **try\n",
    "different lambdas to determine which one offers the best transformation**."
   ]
  },
  {
   "cell_type": "code",
   "execution_count": null,
   "id": "fd004200",
   "metadata": {},
   "outputs": [],
   "source": [
    "from sklearn.preprocessing import FunctionTransformer\n",
    "\n",
    "data = pd.read_csv(\"data/boston.csv\")"
   ]
  },
  {
   "cell_type": "code",
   "execution_count": null,
   "id": "da9ebfe6",
   "metadata": {},
   "outputs": [],
   "source": [
    "data.head()"
   ]
  },
  {
   "cell_type": "code",
   "execution_count": null,
   "id": "05069067",
   "metadata": {},
   "outputs": [],
   "source": [
    "data.hist(bins=30, figsize=(10,10))\n",
    "plt.show()"
   ]
  },
  {
   "cell_type": "code",
   "execution_count": null,
   "id": "83b9ceff",
   "metadata": {},
   "outputs": [],
   "source": [
    "diagnostic_plots(data, 'LSTAT')"
   ]
  },
  {
   "cell_type": "code",
   "execution_count": null,
   "id": "cf969284",
   "metadata": {},
   "outputs": [],
   "source": [
    "# make a copy of the dataframe where we will store the modified\n",
    "# variables\n",
    "data_tf = data.copy()"
   ]
  },
  {
   "cell_type": "code",
   "execution_count": null,
   "id": "9fe2d178",
   "metadata": {},
   "outputs": [],
   "source": [
    "transformer = FunctionTransformer(lambda x: np.power(x, 0.3))\n",
    "\n",
    "# capture variables to transform in a list\n",
    "cols = ['LSTAT', 'NOX', 'DIS', 'RM']\n",
    "\n",
    "# transform slice of dataframe with indicated variables\n",
    "data_tf = transformer.transform(data[cols])\n",
    "\n",
    "data_tf = pd.DataFrame(data_tf, columns=cols)"
   ]
  },
  {
   "cell_type": "code",
   "execution_count": null,
   "id": "8a473cdd",
   "metadata": {},
   "outputs": [],
   "source": [
    "# visualize the transformation (not in book)\n",
    "diagnostic_plots(data_tf, 'LSTAT')"
   ]
  },
  {
   "cell_type": "markdown",
   "id": "1fe64a16",
   "metadata": {},
   "source": [
    "## Using square and cube root to transform variables"
   ]
  },
  {
   "cell_type": "markdown",
   "id": "9dcd6f08",
   "metadata": {},
   "source": [
    "The **square and cube root transformations are two specific forms of power transformations\n",
    "where the exponents are 1/2 and 1/3, respectively.**"
   ]
  },
  {
   "cell_type": "markdown",
   "id": "ec214a51",
   "metadata": {},
   "source": [
    "> The square root transformation is not defined for negative values, so make\n",
    "sure you only transform those variables whose values are >=0; otherwise,\n",
    "you will introduce NaN or receive an error message."
   ]
  },
  {
   "cell_type": "code",
   "execution_count": null,
   "id": "83e8f97e",
   "metadata": {},
   "outputs": [],
   "source": [
    "data = pd.read_csv(\"data/boston.csv\")\n",
    "\n",
    "data_tf = data.copy()\n",
    "\n",
    "transformer = FunctionTransformer(np.sqrt)\n",
    "\n",
    "# make a list of variables to transform\n",
    "cols = ['LSTAT', 'NOX', 'DIS', 'RM']\n",
    "\n",
    "# transform slice of dataframe with indicated variables\n",
    "# returns NumPy array\n",
    "data_tf = transformer.transform(data[cols])\n",
    "\n",
    "data_tf = pd.DataFrame(data_tf, columns=cols)"
   ]
  },
  {
   "cell_type": "code",
   "execution_count": null,
   "id": "526e42e8",
   "metadata": {},
   "outputs": [],
   "source": [
    "diagnostic_plots(data_tf, 'LSTAT')"
   ]
  }
 ],
 "metadata": {
  "kernelspec": {
   "display_name": "Python 3 (ipykernel)",
   "language": "python",
   "name": "python3"
  },
  "language_info": {
   "codemirror_mode": {
    "name": "ipython",
    "version": 3
   },
   "file_extension": ".py",
   "mimetype": "text/x-python",
   "name": "python",
   "nbconvert_exporter": "python",
   "pygments_lexer": "ipython3",
   "version": "3.11.4"
  }
 },
 "nbformat": 4,
 "nbformat_minor": 5
}
