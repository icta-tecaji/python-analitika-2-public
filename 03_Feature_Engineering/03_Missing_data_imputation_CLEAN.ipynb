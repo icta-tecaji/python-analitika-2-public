{
 "cells": [
  {
   "cell_type": "markdown",
   "id": "c350aff6",
   "metadata": {},
   "source": [
    "# Missing data imputation"
   ]
  },
  {
   "cell_type": "markdown",
   "id": "fa67a31a",
   "metadata": {},
   "source": [
    "Missing data refers to the absence of values for certain observations and is an unavoidable\n",
    "problem in most data sources. Scikit-learn does not support missing values as input, so we\n",
    "need to remove observations with missing data or transform them into permitted values.\n",
    "\n",
    "**The act of replacing missing data with statistical estimates of missing values is\n",
    "called imputation.**\n",
    "\n"
   ]
  },
  {
   "cell_type": "code",
   "execution_count": 3,
   "id": "3f502895",
   "metadata": {},
   "outputs": [],
   "source": [
    "import random\n",
    "import pandas as pd\n",
    "import numpy as np"
   ]
  },
  {
   "cell_type": "markdown",
   "id": "9bbad1fa",
   "metadata": {},
   "source": [
    "## Removing observations with missing data"
   ]
  },
  {
   "cell_type": "markdown",
   "id": "fc8e4332",
   "metadata": {},
   "source": [
    "**Complete Case Analysis (CCA)**, also called list-wise deletion of cases, consists\n",
    "of **discarding those observations where the values in any of the variables are missing**. \n",
    "- CCA can be applied to categorical and numerical variables. \n",
    "- CCA is quick and easy to implement and has the advantage that it **preserves the distribution of the variables**, provided the data is missing at random and only a **small proportion of the data is missing**. \n",
    "- However, if data is missing across many variables, CCA may lead to the removal of a big portion of the dataset."
   ]
  },
  {
   "cell_type": "code",
   "execution_count": null,
   "id": "b7022025",
   "metadata": {},
   "outputs": [],
   "source": [
    "# Load the data with the following command\n",
    "data = pd.read_csv(\"data/boston_listings.csv\")"
   ]
  },
  {
   "cell_type": "code",
   "execution_count": null,
   "id": "4b7f68f0",
   "metadata": {},
   "outputs": [],
   "source": [
    "data.head()"
   ]
  },
  {
   "cell_type": "code",
   "execution_count": null,
   "id": "dfbb19b0",
   "metadata": {},
   "outputs": [],
   "source": [
    "data.isnull().mean().sort_values(ascending=True) * 100"
   ]
  },
  {
   "cell_type": "code",
   "execution_count": null,
   "id": "2cbb0ae1",
   "metadata": {},
   "outputs": [],
   "source": [
    "data_cca = data.dropna()"
   ]
  },
  {
   "cell_type": "code",
   "execution_count": null,
   "id": "6bba6856",
   "metadata": {},
   "outputs": [],
   "source": [
    "print(f'Number of total observations: {len(data)}')\n",
    "print(f'Number of observations with complete cases: {len(data_cca)}')"
   ]
  },
  {
   "cell_type": "markdown",
   "id": "2a0e6e8d",
   "metadata": {},
   "source": [
    "## Performing mean or median imputation"
   ]
  },
  {
   "cell_type": "markdown",
   "id": "14f6197e",
   "metadata": {},
   "source": [
    "**Mean or median imputation consists of replacing missing values with the variable mean or\n",
    "median**. \n",
    "- This can only be performed in numerical variables. \n",
    "- The **mean or the median is calculated using a train set**, and these values are used to impute missing data in train and test sets, as well as in future data we intend to score with the machine learning model.\n",
    "- Therefore, we need to store these mean and median values. **Scikit-learn and Feature-engine transformers learn the parameters from the train set and store these parameters for future use**."
   ]
  },
  {
   "cell_type": "markdown",
   "id": "6cd203df",
   "metadata": {},
   "source": [
    "> **Use mean imputation if variables are normally distributed** and **median\n",
    "imputation otherwise**. Mean and median imputation may distort the\n",
    "distribution of the original variables if there is a high percentage of\n",
    "missing data."
   ]
  },
  {
   "cell_type": "code",
   "execution_count": 5,
   "id": "7e1258cc",
   "metadata": {},
   "outputs": [],
   "source": [
    "from sklearn.model_selection import train_test_split\n",
    "from sklearn.impute import SimpleImputer"
   ]
  },
  {
   "cell_type": "code",
   "execution_count": null,
   "id": "27a356f3",
   "metadata": {},
   "outputs": [],
   "source": [
    "data = pd.read_csv('data/creditApprovalUCI.csv')"
   ]
  },
  {
   "cell_type": "markdown",
   "id": "0c5c4aa8",
   "metadata": {},
   "source": [
    "In mean and median imputation, the **mean or median values should be\n",
    "calculated using the variables in the train set**."
   ]
  },
  {
   "cell_type": "code",
   "execution_count": null,
   "id": "28f8431b",
   "metadata": {},
   "outputs": [],
   "source": [
    "X_train, X_test, y_train, y_test = train_test_split(data[['A2', 'A3', 'A8', 'A11', 'A15']], data['A16'], test_size=0.3, random_state=0)"
   ]
  },
  {
   "cell_type": "markdown",
   "id": "384750ef",
   "metadata": {},
   "source": [
    "> `SimpleImputer()` from scikit-learn will impute all variables in the\n",
    "dataset. Therefore, **if we use mean or median imputation and the dataset\n",
    "contains categorical variables, we will get an error**."
   ]
  },
  {
   "cell_type": "code",
   "execution_count": null,
   "id": "9238baf4",
   "metadata": {},
   "outputs": [],
   "source": [
    "X_train.isnull().mean() * 100"
   ]
  },
  {
   "cell_type": "code",
   "execution_count": null,
   "id": "06b7d7dc",
   "metadata": {},
   "outputs": [],
   "source": [
    "imputer = SimpleImputer(strategy='median')\n",
    "# imputer = SimpleImputer(strategy = 'mean')"
   ]
  },
  {
   "cell_type": "code",
   "execution_count": null,
   "id": "d4929a7c",
   "metadata": {},
   "outputs": [],
   "source": [
    "imputer.fit(X_train)"
   ]
  },
  {
   "cell_type": "code",
   "execution_count": null,
   "id": "6bac2178",
   "metadata": {},
   "outputs": [],
   "source": [
    "# Let's inspect the learned median values:\n",
    "imputer.statistics_"
   ]
  },
  {
   "cell_type": "code",
   "execution_count": null,
   "id": "b67cfb61",
   "metadata": {},
   "outputs": [],
   "source": [
    "X_train = imputer.transform(X_train)\n",
    "X_test = imputer.transform(X_test)"
   ]
  },
  {
   "cell_type": "markdown",
   "id": "e4d8ff08-adc8-4d1c-9a2d-c3e8cff3d68d",
   "metadata": {},
   "source": [
    "---"
   ]
  },
  {
   "cell_type": "code",
   "execution_count": null,
   "id": "cf59cb86",
   "metadata": {},
   "outputs": [],
   "source": [
    "from feature_engine.imputation import MeanMedianImputer\n",
    "\n",
    "X_train, X_test, y_train, y_test = train_test_split(data.drop('A16', axis=1), data['A16'], test_size=0.3, random_state=0)\n",
    "\n",
    "# To perform mean imputation, change the imputation method, as follows: MeanMedianImputer(imputation_method='mean').\n",
    "median_imputer = MeanMedianImputer(imputation_method='median', variables=['A2', 'A3', 'A8', 'A11', 'A15'])"
   ]
  },
  {
   "cell_type": "code",
   "execution_count": null,
   "id": "299cf75c",
   "metadata": {},
   "outputs": [],
   "source": [
    "median_imputer.fit(X_train)"
   ]
  },
  {
   "cell_type": "code",
   "execution_count": null,
   "id": "37f6a7ad",
   "metadata": {},
   "outputs": [],
   "source": [
    "median_imputer.imputer_dict_"
   ]
  },
  {
   "cell_type": "code",
   "execution_count": null,
   "id": "6433ca32",
   "metadata": {},
   "outputs": [],
   "source": [
    "X_train = median_imputer.transform(X_train)\n",
    "X_test = median_imputer.transform(X_test)"
   ]
  },
  {
   "cell_type": "code",
   "execution_count": null,
   "id": "7018b429",
   "metadata": {},
   "outputs": [],
   "source": [
    "X_train.head()"
   ]
  },
  {
   "cell_type": "code",
   "execution_count": null,
   "id": "979a7b9d",
   "metadata": {},
   "outputs": [],
   "source": [
    "X_train[['A2','A3', 'A8', 'A11', 'A15']].isnull().mean()"
   ]
  },
  {
   "cell_type": "markdown",
   "id": "ae14c968",
   "metadata": {},
   "source": [
    "## Implementing mode or frequent category imputation"
   ]
  },
  {
   "cell_type": "markdown",
   "id": "eeb6c163",
   "metadata": {},
   "source": [
    "**Mode imputation consists of replacing missing values with the mode.** \n",
    "- We normally use this procedure in categorical variables, hence the frequent category imputation name. \n",
    "- Frequent categories are estimated using the train set and then used to impute values in train, test, and future datasets. \n",
    "- Thus, we need to learn and store these parameters, which we can do using scikit-learn and Feature-engine's transformers."
   ]
  },
  {
   "cell_type": "markdown",
   "id": "9124ce1c",
   "metadata": {},
   "source": [
    "> If the percentage of missing values is high, frequent category imputation\n",
    "may distort the original distribution of categories."
   ]
  },
  {
   "cell_type": "code",
   "execution_count": null,
   "id": "7612e65f",
   "metadata": {},
   "outputs": [],
   "source": [
    "data = pd.read_csv('data/creditApprovalUCI.csv')"
   ]
  },
  {
   "cell_type": "code",
   "execution_count": null,
   "id": "c7734c11",
   "metadata": {},
   "outputs": [],
   "source": [
    "X_train, X_test, y_train, y_test = train_test_split(data[['A4', 'A5', 'A6', 'A7']], data['A16'], test_size=0.3, random_state=0)"
   ]
  },
  {
   "cell_type": "code",
   "execution_count": null,
   "id": "a8ed710b",
   "metadata": {},
   "outputs": [],
   "source": [
    "imputer = SimpleImputer(strategy='most_frequent')"
   ]
  },
  {
   "cell_type": "code",
   "execution_count": null,
   "id": "b05dc30f",
   "metadata": {},
   "outputs": [],
   "source": [
    "imputer.fit(X_train)"
   ]
  },
  {
   "cell_type": "code",
   "execution_count": null,
   "id": "be2f2a9a",
   "metadata": {},
   "outputs": [],
   "source": [
    "imputer.statistics_"
   ]
  },
  {
   "cell_type": "code",
   "execution_count": null,
   "id": "7f6b37cc",
   "metadata": {},
   "outputs": [],
   "source": [
    "X_train = imputer.transform(X_train)\n",
    "X_test = imputer.transform(X_test)"
   ]
  },
  {
   "cell_type": "markdown",
   "id": "231508e2-25be-49df-862d-88e2a4304fc0",
   "metadata": {},
   "source": [
    "---"
   ]
  },
  {
   "cell_type": "code",
   "execution_count": null,
   "id": "44fb9a87",
   "metadata": {},
   "outputs": [],
   "source": [
    "from feature_engine.imputation import CategoricalImputer\n",
    "\n",
    "X_train, X_test, y_train, y_test = train_test_split(data.drop('A16', axis=1), data['A16'], test_size=0.3, random_state=0)\n",
    "\n",
    "mode_imputer = CategoricalImputer(imputation_method=\"frequent\", variables=['A4', 'A5', 'A6','A7'])"
   ]
  },
  {
   "cell_type": "code",
   "execution_count": null,
   "id": "c9a3df22",
   "metadata": {},
   "outputs": [],
   "source": [
    "mode_imputer.fit(X_train)"
   ]
  },
  {
   "cell_type": "code",
   "execution_count": null,
   "id": "08531107",
   "metadata": {},
   "outputs": [],
   "source": [
    "mode_imputer.imputer_dict_"
   ]
  },
  {
   "cell_type": "code",
   "execution_count": null,
   "id": "99ecda0f",
   "metadata": {},
   "outputs": [],
   "source": [
    "X_train = mode_imputer.transform(X_train)\n",
    "X_test = mode_imputer.transform(X_test)"
   ]
  },
  {
   "cell_type": "code",
   "execution_count": null,
   "id": "2e4c64f4",
   "metadata": {},
   "outputs": [],
   "source": [
    "X_train.head()"
   ]
  },
  {
   "cell_type": "markdown",
   "id": "6daa1c8a",
   "metadata": {},
   "source": [
    "## Replacing missing values with an arbitrary number"
   ]
  },
  {
   "cell_type": "markdown",
   "id": "f65f29d4",
   "metadata": {},
   "source": [
    "**Arbitrary number imputation consists of replacing missing values with an arbitrary value**.\n",
    "- Some commonly used values include 999, 9999, or -1 for positive distributions. \n",
    "- This method is suitable for numerical variables. \n",
    "- When replacing missing values with an arbitrary number, we need to be careful **not to select a value close to the mean or the median, or any other common value of the distribution**."
   ]
  },
  {
   "cell_type": "markdown",
   "id": "66d1cc9e",
   "metadata": {},
   "source": [
    "> Arbitrary number imputation **can be used when data is not missing at\n",
    "random, when we are building non-linear models, and when the\n",
    "percentage of missing data is high**. This imputation technique distorts the\n",
    "original variable distribution."
   ]
  },
  {
   "cell_type": "code",
   "execution_count": null,
   "id": "6beba6b7",
   "metadata": {},
   "outputs": [],
   "source": [
    "data = pd.read_csv('data/creditApprovalUCI.csv')\n",
    "\n",
    "X_train, X_test, y_train, y_test = train_test_split(data[['A2', 'A3', 'A8', 'A11']], data['A16'], test_size=0.3, random_state=0)\n",
    "\n",
    "imputer = SimpleImputer(strategy='constant', fill_value=99)\n",
    "\n",
    "imputer.fit(X_train)"
   ]
  },
  {
   "cell_type": "code",
   "execution_count": null,
   "id": "6bb347b8",
   "metadata": {},
   "outputs": [],
   "source": [
    "X_train = imputer.transform(X_train)\n",
    "X_test = imputer.transform(X_test)"
   ]
  },
  {
   "cell_type": "markdown",
   "id": "eb615d2d",
   "metadata": {},
   "source": [
    "## Capturing missing values in a bespoke category"
   ]
  },
  {
   "cell_type": "markdown",
   "id": "1ac17112",
   "metadata": {},
   "source": [
    "Missing data in **categorical variables can be treated as a different category, so it is common\n",
    "to replace missing values with the Missing string**. "
   ]
  },
  {
   "cell_type": "code",
   "execution_count": null,
   "id": "cc44814f",
   "metadata": {},
   "outputs": [],
   "source": [
    "data = pd.read_csv('data/creditApprovalUCI.csv')\n",
    "\n",
    "X_train, X_test, y_train, y_test = train_test_split(data[['A4', 'A5', 'A6', 'A7']], data['A16'], test_size=0.3, random_state=0)\n",
    "\n",
    "imputer = SimpleImputer(strategy='constant', fill_value='Missing')\n",
    "imputer.fit(X_train)"
   ]
  },
  {
   "cell_type": "code",
   "execution_count": null,
   "id": "d316983e",
   "metadata": {},
   "outputs": [],
   "source": [
    "X_train = imputer.transform(X_train)\n",
    "X_test = imputer.transform(X_test)"
   ]
  },
  {
   "cell_type": "code",
   "execution_count": null,
   "id": "356ef5ec",
   "metadata": {},
   "outputs": [],
   "source": [
    "X_train[35:45]"
   ]
  },
  {
   "cell_type": "markdown",
   "id": "b7fc6072",
   "metadata": {},
   "source": [
    "## Replacing missing values with a value at the end of the distribution"
   ]
  },
  {
   "cell_type": "markdown",
   "id": "584beb60",
   "metadata": {},
   "source": [
    "**Replacing missing values with a value at the end of the variable distribution is equivalent\n",
    "to replacing them with an arbitrary value**, but instead of identifying the arbitrary values\n",
    "manually, these values are **automatically selected** as those at the very end of the variable\n",
    "distribution. \n"
   ]
  },
  {
   "cell_type": "markdown",
   "id": "f1ba7f8e",
   "metadata": {},
   "source": [
    "**End-of-tail imputation may distort the distribution of the original\n",
    "variables, so it may not be suitable for linear models.**"
   ]
  },
  {
   "cell_type": "code",
   "execution_count": 6,
   "id": "894427d2",
   "metadata": {},
   "outputs": [],
   "source": [
    "from feature_engine.imputation import EndTailImputer\n",
    "\n",
    "data = pd.read_csv('data/creditApprovalUCI.csv')\n",
    "X_train, X_test, y_train, y_test = train_test_split(data.drop('A16', axis=1), data['A16'], test_size=0.3, random_state=0)"
   ]
  },
  {
   "cell_type": "code",
   "execution_count": null,
   "id": "3f083f81",
   "metadata": {},
   "outputs": [],
   "source": [
    "imputer = EndTailImputer(imputation_method='iqr', tail='right', variables=['A2', 'A3', 'A8', 'A11', 'A15'])"
   ]
  },
  {
   "cell_type": "code",
   "execution_count": null,
   "id": "23592263",
   "metadata": {},
   "outputs": [],
   "source": [
    "imputer.fit(X_train)"
   ]
  },
  {
   "cell_type": "code",
   "execution_count": null,
   "id": "42d4d66e",
   "metadata": {},
   "outputs": [],
   "source": [
    "imputer.imputer_dict_"
   ]
  },
  {
   "cell_type": "code",
   "execution_count": null,
   "id": "914ffd75",
   "metadata": {},
   "outputs": [],
   "source": [
    "X_train = imputer.transform(X_train)\n",
    "X_test = imputer.transform(X_test)"
   ]
  }
 ],
 "metadata": {
  "kernelspec": {
   "display_name": "Python 3 (ipykernel)",
   "language": "python",
   "name": "python3"
  },
  "language_info": {
   "codemirror_mode": {
    "name": "ipython",
    "version": 3
   },
   "file_extension": ".py",
   "mimetype": "text/x-python",
   "name": "python",
   "nbconvert_exporter": "python",
   "pygments_lexer": "ipython3",
   "version": "3.11.4"
  }
 },
 "nbformat": 4,
 "nbformat_minor": 5
}
