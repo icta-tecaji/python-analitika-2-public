{
 "cells": [
  {
   "cell_type": "markdown",
   "id": "0eabbee2",
   "metadata": {},
   "source": [
    "# Encoding Categorical Variables"
   ]
  },
  {
   "cell_type": "code",
   "execution_count": null,
   "id": "68296f17",
   "metadata": {},
   "outputs": [],
   "source": [
    "import pandas as pd\n",
    "import numpy as np\n",
    "%matplotlib inline\n",
    "import matplotlib.pyplot as plt"
   ]
  },
  {
   "cell_type": "markdown",
   "id": "86fe4e1d",
   "metadata": {},
   "source": [
    "**Categorical variables are those values which are selected from a group of categories or\n",
    "labels.**\n",
    "- For example, the variable Gender with the values of male or female is categorical, and so is the variable marital status with the values of never married, married, divorced, or widowed. \n",
    "- In some categorical variables, the labels have an **intrinsic order**, for example, in the variable Student's grade, the values of A, B, C, or Fail are ordered, A being the highest grade and Fail the lowest. These are called **ordinal categorical variables.** \n",
    "- Variables in which the categories **do not have an intrinsic order** are called **nominal categorical variables**, such as the variable City, with the values of London, Manchester, Bristol, and so on. \n",
    "\n",
    "\n",
    "The values of categorical variables are often encoded as strings.  Scikit-learn, the open\n",
    "source Python library for machine learning, does not support strings as values, therefore,\n",
    "we need to transform those strings into numbers. The act of replacing strings with numbers\n",
    "is called **categorical encoding**."
   ]
  },
  {
   "cell_type": "markdown",
   "id": "73fc9b76",
   "metadata": {},
   "source": [
    "## Category Encoders"
   ]
  },
  {
   "cell_type": "markdown",
   "id": "d6cc3259",
   "metadata": {},
   "source": [
    "A set of scikit-learn-style transformers for encoding categorical variables into numeric with different techniques."
   ]
  },
  {
   "cell_type": "markdown",
   "id": "079562dd",
   "metadata": {},
   "source": [
    "https://contrib.scikit-learn.org/category_encoders/"
   ]
  },
  {
   "cell_type": "markdown",
   "id": "81ab0d10",
   "metadata": {},
   "source": [
    "Install: `category_encoders`"
   ]
  },
  {
   "cell_type": "markdown",
   "id": "f629a54c",
   "metadata": {},
   "source": [
    "<img src=\"https://feature-engine.trainindata.com/en/latest/_images/categoricalSummary.png\">"
   ]
  },
  {
   "cell_type": "markdown",
   "id": "fa88e723",
   "metadata": {},
   "source": [
    "## Creating binary variables through one-hot encoding"
   ]
  },
  {
   "cell_type": "markdown",
   "id": "9a977f22",
   "metadata": {},
   "source": [
    "In **one-hot encoding, we represent a categorical variable as a group of binary variables**,\n",
    "where each binary variable represents one category. The binary variable indicates whether\n",
    "the category is present in an observation (1) or not (0)."
   ]
  },
  {
   "cell_type": "markdown",
   "id": "68d5c804",
   "metadata": {},
   "source": [
    "A categorical variable with k unique categories can be encoded in k-1 binary variables."
   ]
  },
  {
   "cell_type": "markdown",
   "id": "4b254320",
   "metadata": {},
   "source": [
    "There are a **few occasions** in which we may prefer to encode the categorical variables with k binary variables:\n",
    "- When **training decision trees**, as they do not evaluate the entire feature space at the same time\n",
    "- When **selecting features recursively**\n",
    "- When determining the importance of each category within a variable"
   ]
  },
  {
   "cell_type": "code",
   "execution_count": null,
   "id": "847b888a",
   "metadata": {},
   "outputs": [],
   "source": [
    "from sklearn.model_selection import train_test_split\n",
    "from sklearn.preprocessing import OneHotEncoder"
   ]
  },
  {
   "cell_type": "code",
   "execution_count": null,
   "id": "a3064363",
   "metadata": {},
   "outputs": [],
   "source": [
    "data = pd.read_csv('data/creditApprovalUCI.csv')"
   ]
  },
  {
   "cell_type": "code",
   "execution_count": null,
   "id": "39ea506d",
   "metadata": {},
   "outputs": [],
   "source": [
    "X_train, X_test, y_train, y_test = train_test_split(data.drop(labels=['A16'], axis=1), data['A16'], test_size=0.3, random_state=0)"
   ]
  },
  {
   "cell_type": "code",
   "execution_count": null,
   "id": "150e9a81",
   "metadata": {},
   "outputs": [],
   "source": [
    "X_train['A4'].unique()"
   ]
  },
  {
   "cell_type": "code",
   "execution_count": null,
   "id": "cb33b980",
   "metadata": {},
   "outputs": [],
   "source": [
    "encoder = OneHotEncoder(categories='auto', drop='first', sparse_output=False)"
   ]
  },
  {
   "cell_type": "code",
   "execution_count": null,
   "id": "46142c2e",
   "metadata": {},
   "outputs": [],
   "source": [
    "vars_categorical = ['A1', 'A4', 'A5', 'A6', 'A7', 'A9', 'A10', 'A12', 'A13']\n",
    "encoder.fit(X_train[vars_categorical])"
   ]
  },
  {
   "cell_type": "markdown",
   "id": "919e2464",
   "metadata": {},
   "source": [
    "> Scikit-learn's `OneHotEncoder()` function will **only encode the categories\n",
    "learned from the train set**. If there are new categories in the test set, we\n",
    "can instruct the encoder to ignore them or to return an error with the\n",
    "`handle_unknown='ignore'` argument or\n",
    "the `handle_unknown='error'` argument, respectively."
   ]
  },
  {
   "cell_type": "code",
   "execution_count": null,
   "id": "688c5431",
   "metadata": {},
   "outputs": [],
   "source": [
    "X_train_enc = encoder.transform(X_train[vars_categorical])\n",
    "X_test_enc = encoder.transform(X_test[vars_categorical])"
   ]
  },
  {
   "cell_type": "code",
   "execution_count": null,
   "id": "e3b462e3",
   "metadata": {},
   "outputs": [],
   "source": [
    "X_train_enc"
   ]
  },
  {
   "cell_type": "markdown",
   "id": "5bdd25f0",
   "metadata": {},
   "source": [
    "## Performing one-hot encoding of frequent categories"
   ]
  },
  {
   "cell_type": "markdown",
   "id": "68d68526",
   "metadata": {},
   "source": [
    "One-hot encoding represents each category of a categorical variable with a binary variable.\n",
    "Hence, **one-hot encoding of highly cardinal variables or datasets with multiple categorical\n",
    "features can expand the feature space dramatically**. \n",
    "\n",
    "To reduce the number of binary variables, we can **perform one-hot encoding of the most frequent categories only**. One-hot\n",
    "encoding of top categories is equivalent to treating the remaining, less frequent categories\n",
    "as a single, unique category. "
   ]
  },
  {
   "cell_type": "code",
   "execution_count": null,
   "id": "2eb1d97a",
   "metadata": {},
   "outputs": [],
   "source": [
    "from feature_engine.encoding import OneHotEncoder\n",
    "from feature_engine.imputation import CategoricalImputer"
   ]
  },
  {
   "cell_type": "code",
   "execution_count": null,
   "id": "f176ba93",
   "metadata": {},
   "outputs": [],
   "source": [
    "data = pd.read_csv('data/creditApprovalUCI.csv')\n",
    "\n",
    "X_train, X_test, y_train, y_test = train_test_split(\n",
    "    data.drop(labels=['A16'], axis=1), # predictors\n",
    "    data['A16'], # target\n",
    "    test_size=0.3, # percentage of observations in test set\n",
    "    random_state=0) # seed to ensure reproducibility\n",
    "\n",
    "\n",
    "imputer = CategoricalImputer()\n",
    "imputer.fit(X_train)\n",
    "X_train = imputer.transform(X_train)\n",
    "X_test = imputer.transform(X_test)"
   ]
  },
  {
   "cell_type": "code",
   "execution_count": null,
   "id": "2dc54493",
   "metadata": {},
   "outputs": [],
   "source": [
    "X_train['A6'].unique()"
   ]
  },
  {
   "cell_type": "code",
   "execution_count": null,
   "id": "a6310dc5",
   "metadata": {},
   "outputs": [],
   "source": [
    "X_train['A6'].value_counts().sort_values(ascending=False).head(5)"
   ]
  },
  {
   "cell_type": "code",
   "execution_count": null,
   "id": "630bfdfc",
   "metadata": {},
   "outputs": [],
   "source": [
    "ohe_enc = OneHotEncoder(top_categories=5, variables=['A6', 'A7'], drop_last=False)"
   ]
  },
  {
   "cell_type": "code",
   "execution_count": null,
   "id": "9b20095b",
   "metadata": {},
   "outputs": [],
   "source": [
    "ohe_enc.fit(X_train)"
   ]
  },
  {
   "cell_type": "code",
   "execution_count": null,
   "id": "04cb9cc5",
   "metadata": {},
   "outputs": [],
   "source": [
    "X_train_enc = ohe_enc.transform(X_train)\n",
    "X_test_enc = ohe_enc.transform(X_test)"
   ]
  },
  {
   "cell_type": "code",
   "execution_count": null,
   "id": "cce36a99",
   "metadata": {},
   "outputs": [],
   "source": [
    "X_train_enc.head()"
   ]
  },
  {
   "cell_type": "code",
   "execution_count": null,
   "id": "e84e8907",
   "metadata": {},
   "outputs": [],
   "source": [
    "ohe_enc.encoder_dict_"
   ]
  },
  {
   "cell_type": "markdown",
   "id": "77e84e89",
   "metadata": {},
   "source": [
    "## Replacing categories with ordinal numbers"
   ]
  },
  {
   "cell_type": "markdown",
   "id": "cf306f9b",
   "metadata": {},
   "source": [
    "Ordinal encoding consists of **replacing the categories with digits from 1 to k** (or 0 to k-1,\n",
    "depending on the implementation), where **k is the number of distinct categories of the\n",
    "variable**. The numbers are **assigned arbitrarily**. \n",
    "\n",
    "Ordinal encoding is **better suited for nonlinear\n",
    "machine learning models**, which can navigate through the arbitrarily assigned digits\n",
    "to try and find patterns that relate to the target."
   ]
  },
  {
   "cell_type": "code",
   "execution_count": null,
   "id": "6ff0a72d",
   "metadata": {},
   "outputs": [],
   "source": [
    "from sklearn.preprocessing import OrdinalEncoder"
   ]
  },
  {
   "cell_type": "code",
   "execution_count": null,
   "id": "7d29fd9c",
   "metadata": {},
   "outputs": [],
   "source": [
    "data = pd.read_csv('data/creditApprovalUCI.csv')\n",
    "\n",
    "X_train, X_test, y_train, y_test = train_test_split(data.drop(labels=['A16'], axis=1), data['A16'],test_size=0.3, random_state=0)"
   ]
  },
  {
   "cell_type": "code",
   "execution_count": null,
   "id": "f47cb6a2",
   "metadata": {},
   "outputs": [],
   "source": [
    "vars_categorical = ['A1', 'A4', 'A5', 'A6', 'A7', 'A9', 'A10', 'A12', 'A13']\n",
    "\n",
    "le = OrdinalEncoder()"
   ]
  },
  {
   "cell_type": "code",
   "execution_count": null,
   "id": "feee033c",
   "metadata": {},
   "outputs": [],
   "source": [
    "le.fit(X_train[vars_categorical])"
   ]
  },
  {
   "cell_type": "code",
   "execution_count": null,
   "id": "6bf3d96b",
   "metadata": {},
   "outputs": [],
   "source": [
    "X_train_enc = le.transform(X_train[vars_categorical])\n",
    "X_test_enc = le.transform(X_test[vars_categorical])"
   ]
  },
  {
   "cell_type": "markdown",
   "id": "06ac3aa0",
   "metadata": {},
   "source": [
    "## Replacing categories with counts or frequency of observations"
   ]
  },
  {
   "cell_type": "markdown",
   "id": "374fe4a5",
   "metadata": {},
   "source": [
    "In **count or frequency encoding**, we replace the categories with the **count or the percentage\n",
    "of observations with that category**. \n",
    "\n",
    "That is, if 10 out of 100 observations show the category\n",
    "blue for the variable color, we would replace blue with 10 when doing count encoding, or\n",
    "by 0.1 if performing frequency encoding. \n",
    "\n",
    "These techniques, which capture the representation of each label in a dataset, are **very popular in data science competitions**. \n",
    "\n",
    "The assumption is that the number of observations per category is somewhat predictive of the\n",
    "target."
   ]
  },
  {
   "cell_type": "markdown",
   "id": "7b65236d",
   "metadata": {},
   "source": [
    "> Note that if two different categories are present in the same percentage of\n",
    "observations, they will be replaced by the same value, which may lead to\n",
    "information loss."
   ]
  },
  {
   "cell_type": "code",
   "execution_count": null,
   "id": "c2716098",
   "metadata": {},
   "outputs": [],
   "source": [
    "data = pd.read_csv('data/creditApprovalUCI.csv')"
   ]
  },
  {
   "cell_type": "code",
   "execution_count": null,
   "id": "4d195ec3",
   "metadata": {},
   "outputs": [],
   "source": [
    "data.head(3)"
   ]
  },
  {
   "cell_type": "code",
   "execution_count": null,
   "id": "f086cada",
   "metadata": {},
   "outputs": [],
   "source": [
    "X_train, X_test, y_train, y_test = train_test_split(data.drop(labels=['A16'], axis=1), data['A16'],test_size=0.3, random_state=0)\n",
    "\n",
    "imputer = CategoricalImputer()\n",
    "imputer.fit(X_train)\n",
    "X_train = imputer.transform(X_train)\n",
    "X_test = imputer.transform(X_test)"
   ]
  },
  {
   "cell_type": "code",
   "execution_count": null,
   "id": "a6773d24",
   "metadata": {},
   "outputs": [],
   "source": [
    "from feature_engine.encoding import CountFrequencyEncoder\n",
    "\n",
    "count_enc = CountFrequencyEncoder(encoding_method='count', variables=None)"
   ]
  },
  {
   "cell_type": "code",
   "execution_count": null,
   "id": "3cbfb0f1",
   "metadata": {},
   "outputs": [],
   "source": [
    "count_enc.fit(X_train)"
   ]
  },
  {
   "cell_type": "code",
   "execution_count": null,
   "id": "a7859f57",
   "metadata": {},
   "outputs": [],
   "source": [
    "count_enc.encoder_dict_"
   ]
  },
  {
   "cell_type": "code",
   "execution_count": null,
   "id": "dec553b5",
   "metadata": {},
   "outputs": [],
   "source": [
    "X_train_enc = count_enc.transform(X_train)\n",
    "X_test_enc = count_enc.transform(X_test)"
   ]
  },
  {
   "cell_type": "code",
   "execution_count": null,
   "id": "155709d3",
   "metadata": {},
   "outputs": [],
   "source": [
    "X_train_enc.head()"
   ]
  }
 ],
 "metadata": {
  "kernelspec": {
   "display_name": "Python 3 (ipykernel)",
   "language": "python",
   "name": "python3"
  },
  "language_info": {
   "codemirror_mode": {
    "name": "ipython",
    "version": 3
   },
   "file_extension": ".py",
   "mimetype": "text/x-python",
   "name": "python",
   "nbconvert_exporter": "python",
   "pygments_lexer": "ipython3",
   "version": "3.12.2"
  }
 },
 "nbformat": 4,
 "nbformat_minor": 5
}
