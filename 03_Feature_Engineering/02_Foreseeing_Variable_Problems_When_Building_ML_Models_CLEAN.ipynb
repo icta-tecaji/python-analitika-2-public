{
 "cells": [
  {
   "cell_type": "markdown",
   "id": "fdae7b90",
   "metadata": {},
   "source": [
    "# Foreseeing Variable Problems When Building ML Models"
   ]
  },
  {
   "cell_type": "code",
   "execution_count": 1,
   "id": "868fb148",
   "metadata": {},
   "outputs": [],
   "source": [
    "import numpy as np\n",
    "import pandas as pd\n",
    "%matplotlib inline\n",
    "import matplotlib.pyplot as plt\n",
    "import seaborn as sns\n",
    "import scipy.stats as stats\n",
    "\n",
    "# to display the total number columns present in the dataset\n",
    "pd.set_option('display.max_columns', None)"
   ]
  },
  {
   "cell_type": "markdown",
   "id": "e7bd8a9e",
   "metadata": {},
   "source": [
    "## Identifying numerical and categorical variables"
   ]
  },
  {
   "cell_type": "markdown",
   "id": "2cc90aef-3d98-4a8b-b5b7-f79313295134",
   "metadata": {},
   "source": [
    "A variable is a characteristic, number, or quantity that can be measured or counted. Most variables in a dataset are either numerical or categorical. Numerical variables take numbers as values and can be discrete or continuous, whereas for categorical variables, the values are selected from a group of categories, also called labels."
   ]
  },
  {
   "cell_type": "markdown",
   "id": "a35b4808-9df1-44a6-8b5d-bbc178fb4b8f",
   "metadata": {},
   "source": [
    "**Variables in their original, raw format are not suitable to train machine learning algorithms.:**\n",
    "- Python library for machine learning, **does not support missing values or strings** (the categories) as inputs for machine learning algorithms, so we need to convert those values into numbers.\n",
    "- Second, the **number of missing values or the distributions of the \n",
    "strings in categorical variables** (known as cardinality and frequency) may affect model performance or inform the technique we should implement to replace them by numbers\n",
    "- Third, **some machine learning algorithms make assumptions about the distributions of the \n",
    "variables** and their relationship with the target\n",
    "- Variable distribution, outliers, and feature magnitude may also affect machine learning model performance..."
   ]
  },
  {
   "cell_type": "code",
   "execution_count": 2,
   "id": "ee6d96ea",
   "metadata": {},
   "outputs": [],
   "source": [
    "file_name = \"data/boston_listings.csv\"\n",
    "airbnb_boston = pd.read_csv(file_name)"
   ]
  },
  {
   "cell_type": "code",
   "execution_count": 3,
   "id": "1bd31cd6",
   "metadata": {},
   "outputs": [
    {
     "data": {
      "text/html": [
       "<div>\n",
       "<style scoped>\n",
       "    .dataframe tbody tr th:only-of-type {\n",
       "        vertical-align: middle;\n",
       "    }\n",
       "\n",
       "    .dataframe tbody tr th {\n",
       "        vertical-align: top;\n",
       "    }\n",
       "\n",
       "    .dataframe thead th {\n",
       "        text-align: right;\n",
       "    }\n",
       "</style>\n",
       "<table border=\"1\" class=\"dataframe\">\n",
       "  <thead>\n",
       "    <tr style=\"text-align: right;\">\n",
       "      <th></th>\n",
       "      <th>id</th>\n",
       "      <th>name</th>\n",
       "      <th>summary</th>\n",
       "      <th>access</th>\n",
       "      <th>interaction</th>\n",
       "      <th>house_rules</th>\n",
       "      <th>host_id</th>\n",
       "      <th>host_since</th>\n",
       "      <th>host_location</th>\n",
       "      <th>host_response_time</th>\n",
       "      <th>host_response_rate</th>\n",
       "      <th>host_acceptance_rate</th>\n",
       "      <th>host_is_superhost</th>\n",
       "      <th>host_neighbourhood</th>\n",
       "      <th>host_total_listings_count</th>\n",
       "      <th>host_verifications</th>\n",
       "      <th>host_identity_verified</th>\n",
       "      <th>neighbourhood</th>\n",
       "      <th>neighbourhood_cleansed</th>\n",
       "      <th>zipcode</th>\n",
       "      <th>latitude</th>\n",
       "      <th>longitude</th>\n",
       "      <th>is_location_exact</th>\n",
       "      <th>property_type</th>\n",
       "      <th>room_type</th>\n",
       "      <th>accommodates</th>\n",
       "      <th>bathrooms</th>\n",
       "      <th>bedrooms</th>\n",
       "      <th>beds</th>\n",
       "      <th>bed_type</th>\n",
       "      <th>amenities_dict</th>\n",
       "      <th>price</th>\n",
       "      <th>cleaning_fee</th>\n",
       "      <th>availability_30</th>\n",
       "      <th>availability_60</th>\n",
       "      <th>availability_90</th>\n",
       "      <th>availability_365</th>\n",
       "      <th>number_of_reviews</th>\n",
       "      <th>review_scores_rating</th>\n",
       "      <th>review_scores_accuracy</th>\n",
       "      <th>review_scores_cleanliness</th>\n",
       "      <th>review_scores_checkin</th>\n",
       "      <th>review_scores_communication</th>\n",
       "      <th>review_scores_location</th>\n",
       "      <th>review_scores_value</th>\n",
       "      <th>requires_license</th>\n",
       "      <th>license</th>\n",
       "      <th>instant_bookable</th>\n",
       "      <th>is_business_travel_ready</th>\n",
       "      <th>cancellation_policy</th>\n",
       "      <th>reviews_per_month</th>\n",
       "    </tr>\n",
       "  </thead>\n",
       "  <tbody>\n",
       "    <tr>\n",
       "      <th>0</th>\n",
       "      <td>3781</td>\n",
       "      <td>HARBORSIDE-Walk to subway</td>\n",
       "      <td>Fully separate apartment in a two apartment bu...</td>\n",
       "      <td>Guests solely occupy the 1 floor apartment wit...</td>\n",
       "      <td>We sometimes travel. Always available via: mob...</td>\n",
       "      <td>No pets, no smoking.</td>\n",
       "      <td>4804</td>\n",
       "      <td>2008-12-03</td>\n",
       "      <td>Massachusetts</td>\n",
       "      <td>within a few hours</td>\n",
       "      <td>100%</td>\n",
       "      <td>44%</td>\n",
       "      <td>t</td>\n",
       "      <td>East Boston</td>\n",
       "      <td>5</td>\n",
       "      <td>['email', 'phone', 'reviews']</td>\n",
       "      <td>f</td>\n",
       "      <td>East Boston</td>\n",
       "      <td>East Boston</td>\n",
       "      <td>2128</td>\n",
       "      <td>42.36413</td>\n",
       "      <td>-71.02991</td>\n",
       "      <td>t</td>\n",
       "      <td>Apartment</td>\n",
       "      <td>Entire home/apt</td>\n",
       "      <td>2</td>\n",
       "      <td>1.0</td>\n",
       "      <td>1.0</td>\n",
       "      <td>0.0</td>\n",
       "      <td>Real Bed</td>\n",
       "      <td>{'TV': 1, 'Cable TV': 1, 'Wifi': 1, 'Air condi...</td>\n",
       "      <td>$125.00</td>\n",
       "      <td>$75.00</td>\n",
       "      <td>11</td>\n",
       "      <td>20</td>\n",
       "      <td>20</td>\n",
       "      <td>97</td>\n",
       "      <td>16</td>\n",
       "      <td>99.0</td>\n",
       "      <td>10.0</td>\n",
       "      <td>10.0</td>\n",
       "      <td>10.0</td>\n",
       "      <td>10.0</td>\n",
       "      <td>10.0</td>\n",
       "      <td>10.0</td>\n",
       "      <td>t</td>\n",
       "      <td>NaN</td>\n",
       "      <td>f</td>\n",
       "      <td>f</td>\n",
       "      <td>super_strict_30</td>\n",
       "      <td>0.28</td>\n",
       "    </tr>\n",
       "    <tr>\n",
       "      <th>1</th>\n",
       "      <td>5506</td>\n",
       "      <td>**$49 Special **   Private! Minutes to center!</td>\n",
       "      <td>Private guest room with private bath, You do n...</td>\n",
       "      <td>You get full access to the guest room with pri...</td>\n",
       "      <td>We give guests privacy,  but we are available ...</td>\n",
       "      <td>No Smoking in the Building.</td>\n",
       "      <td>8229</td>\n",
       "      <td>2009-02-19</td>\n",
       "      <td>Boston, Massachusetts, United States</td>\n",
       "      <td>within an hour</td>\n",
       "      <td>100%</td>\n",
       "      <td>100%</td>\n",
       "      <td>t</td>\n",
       "      <td>Roxbury</td>\n",
       "      <td>2</td>\n",
       "      <td>['email', 'phone', 'reviews', 'kba']</td>\n",
       "      <td>t</td>\n",
       "      <td>Roxbury</td>\n",
       "      <td>Roxbury</td>\n",
       "      <td>2119</td>\n",
       "      <td>42.32981</td>\n",
       "      <td>-71.09559</td>\n",
       "      <td>t</td>\n",
       "      <td>Guest suite</td>\n",
       "      <td>Entire home/apt</td>\n",
       "      <td>2</td>\n",
       "      <td>1.0</td>\n",
       "      <td>1.0</td>\n",
       "      <td>1.0</td>\n",
       "      <td>Real Bed</td>\n",
       "      <td>{'TV': 1, 'Cable TV': 1, 'Wifi': 1, 'Air condi...</td>\n",
       "      <td>$145.00</td>\n",
       "      <td>$60.00</td>\n",
       "      <td>1</td>\n",
       "      <td>14</td>\n",
       "      <td>44</td>\n",
       "      <td>307</td>\n",
       "      <td>106</td>\n",
       "      <td>95.0</td>\n",
       "      <td>10.0</td>\n",
       "      <td>10.0</td>\n",
       "      <td>10.0</td>\n",
       "      <td>10.0</td>\n",
       "      <td>9.0</td>\n",
       "      <td>10.0</td>\n",
       "      <td>t</td>\n",
       "      <td>Exempt: This listing is a unit that has contra...</td>\n",
       "      <td>t</td>\n",
       "      <td>f</td>\n",
       "      <td>strict_14_with_grace_period</td>\n",
       "      <td>0.79</td>\n",
       "    </tr>\n",
       "    <tr>\n",
       "      <th>2</th>\n",
       "      <td>6695</td>\n",
       "      <td>$99 Special!! Home Away! Condo</td>\n",
       "      <td>Comfortable,  Fully Equipped private apartment...</td>\n",
       "      <td>Full Private apartment.  1 bedroom,  kitchen, ...</td>\n",
       "      <td>NaN</td>\n",
       "      <td>No Smoking in the Building.</td>\n",
       "      <td>8229</td>\n",
       "      <td>2009-02-19</td>\n",
       "      <td>Boston, Massachusetts, United States</td>\n",
       "      <td>within an hour</td>\n",
       "      <td>100%</td>\n",
       "      <td>100%</td>\n",
       "      <td>t</td>\n",
       "      <td>Roxbury</td>\n",
       "      <td>2</td>\n",
       "      <td>['email', 'phone', 'reviews', 'kba']</td>\n",
       "      <td>t</td>\n",
       "      <td>Roxbury</td>\n",
       "      <td>Roxbury</td>\n",
       "      <td>2119</td>\n",
       "      <td>42.32994</td>\n",
       "      <td>-71.09351</td>\n",
       "      <td>t</td>\n",
       "      <td>Condominium</td>\n",
       "      <td>Entire home/apt</td>\n",
       "      <td>4</td>\n",
       "      <td>1.0</td>\n",
       "      <td>1.0</td>\n",
       "      <td>1.0</td>\n",
       "      <td>Real Bed</td>\n",
       "      <td>{'TV': 1, 'Cable TV': 1, 'Wifi': 1, 'Air condi...</td>\n",
       "      <td>$169.00</td>\n",
       "      <td>$80.00</td>\n",
       "      <td>1</td>\n",
       "      <td>4</td>\n",
       "      <td>19</td>\n",
       "      <td>266</td>\n",
       "      <td>115</td>\n",
       "      <td>96.0</td>\n",
       "      <td>10.0</td>\n",
       "      <td>10.0</td>\n",
       "      <td>10.0</td>\n",
       "      <td>10.0</td>\n",
       "      <td>9.0</td>\n",
       "      <td>10.0</td>\n",
       "      <td>t</td>\n",
       "      <td>STR-404620</td>\n",
       "      <td>t</td>\n",
       "      <td>f</td>\n",
       "      <td>strict_14_with_grace_period</td>\n",
       "      <td>0.88</td>\n",
       "    </tr>\n",
       "    <tr>\n",
       "      <th>3</th>\n",
       "      <td>8789</td>\n",
       "      <td>Curved Glass Studio/1bd facing Park</td>\n",
       "      <td>Bright, 1 bed with curved glass windows facing...</td>\n",
       "      <td>Guests have access to the full unit</td>\n",
       "      <td>I'm available for questions and/or issues.</td>\n",
       "      <td>NaN</td>\n",
       "      <td>26988</td>\n",
       "      <td>2009-07-22</td>\n",
       "      <td>Boston, Massachusetts, United States</td>\n",
       "      <td>within a few hours</td>\n",
       "      <td>100%</td>\n",
       "      <td>83%</td>\n",
       "      <td>t</td>\n",
       "      <td>Beacon Hill</td>\n",
       "      <td>10</td>\n",
       "      <td>['email', 'phone', 'reviews', 'jumio', 'offlin...</td>\n",
       "      <td>f</td>\n",
       "      <td>Beacon Hill</td>\n",
       "      <td>Downtown</td>\n",
       "      <td>2108</td>\n",
       "      <td>42.35919</td>\n",
       "      <td>-71.06265</td>\n",
       "      <td>t</td>\n",
       "      <td>Apartment</td>\n",
       "      <td>Entire home/apt</td>\n",
       "      <td>2</td>\n",
       "      <td>1.0</td>\n",
       "      <td>1.0</td>\n",
       "      <td>1.0</td>\n",
       "      <td>Real Bed</td>\n",
       "      <td>{'TV': 1, 'Cable TV': 1, 'Wifi': 1, 'Air condi...</td>\n",
       "      <td>$99.00</td>\n",
       "      <td>$250.00</td>\n",
       "      <td>17</td>\n",
       "      <td>42</td>\n",
       "      <td>42</td>\n",
       "      <td>290</td>\n",
       "      <td>24</td>\n",
       "      <td>93.0</td>\n",
       "      <td>9.0</td>\n",
       "      <td>9.0</td>\n",
       "      <td>10.0</td>\n",
       "      <td>10.0</td>\n",
       "      <td>10.0</td>\n",
       "      <td>9.0</td>\n",
       "      <td>t</td>\n",
       "      <td>NaN</td>\n",
       "      <td>f</td>\n",
       "      <td>f</td>\n",
       "      <td>strict_14_with_grace_period</td>\n",
       "      <td>0.35</td>\n",
       "    </tr>\n",
       "    <tr>\n",
       "      <th>4</th>\n",
       "      <td>10730</td>\n",
       "      <td>Bright 1bed facing Golden Dome</td>\n",
       "      <td>Bright, spacious unit, new galley kitchen, new...</td>\n",
       "      <td>Guests have access to everything in the unit.</td>\n",
       "      <td>I'm available as needed.</td>\n",
       "      <td>NO SMOKING, NO PETS. $100 move-in fee payable ...</td>\n",
       "      <td>26988</td>\n",
       "      <td>2009-07-22</td>\n",
       "      <td>Boston, Massachusetts, United States</td>\n",
       "      <td>within a few hours</td>\n",
       "      <td>100%</td>\n",
       "      <td>83%</td>\n",
       "      <td>t</td>\n",
       "      <td>Beacon Hill</td>\n",
       "      <td>10</td>\n",
       "      <td>['email', 'phone', 'reviews', 'jumio', 'offlin...</td>\n",
       "      <td>f</td>\n",
       "      <td>Beacon Hill</td>\n",
       "      <td>Downtown</td>\n",
       "      <td>2108</td>\n",
       "      <td>42.35840</td>\n",
       "      <td>-71.06185</td>\n",
       "      <td>t</td>\n",
       "      <td>Apartment</td>\n",
       "      <td>Entire home/apt</td>\n",
       "      <td>2</td>\n",
       "      <td>1.0</td>\n",
       "      <td>1.0</td>\n",
       "      <td>1.0</td>\n",
       "      <td>Real Bed</td>\n",
       "      <td>{'TV': 1, 'Cable TV': 1, 'Wifi': 1, 'Air condi...</td>\n",
       "      <td>$150.00</td>\n",
       "      <td>$250.00</td>\n",
       "      <td>28</td>\n",
       "      <td>29</td>\n",
       "      <td>29</td>\n",
       "      <td>42</td>\n",
       "      <td>31</td>\n",
       "      <td>95.0</td>\n",
       "      <td>10.0</td>\n",
       "      <td>9.0</td>\n",
       "      <td>10.0</td>\n",
       "      <td>10.0</td>\n",
       "      <td>10.0</td>\n",
       "      <td>9.0</td>\n",
       "      <td>t</td>\n",
       "      <td>NaN</td>\n",
       "      <td>f</td>\n",
       "      <td>f</td>\n",
       "      <td>strict_14_with_grace_period</td>\n",
       "      <td>0.24</td>\n",
       "    </tr>\n",
       "  </tbody>\n",
       "</table>\n",
       "</div>"
      ],
      "text/plain": [
       "      id                                            name  \\\n",
       "0   3781                       HARBORSIDE-Walk to subway   \n",
       "1   5506  **$49 Special **   Private! Minutes to center!   \n",
       "2   6695                  $99 Special!! Home Away! Condo   \n",
       "3   8789             Curved Glass Studio/1bd facing Park   \n",
       "4  10730                  Bright 1bed facing Golden Dome   \n",
       "\n",
       "                                             summary  \\\n",
       "0  Fully separate apartment in a two apartment bu...   \n",
       "1  Private guest room with private bath, You do n...   \n",
       "2  Comfortable,  Fully Equipped private apartment...   \n",
       "3  Bright, 1 bed with curved glass windows facing...   \n",
       "4  Bright, spacious unit, new galley kitchen, new...   \n",
       "\n",
       "                                              access  \\\n",
       "0  Guests solely occupy the 1 floor apartment wit...   \n",
       "1  You get full access to the guest room with pri...   \n",
       "2  Full Private apartment.  1 bedroom,  kitchen, ...   \n",
       "3                Guests have access to the full unit   \n",
       "4      Guests have access to everything in the unit.   \n",
       "\n",
       "                                         interaction  \\\n",
       "0  We sometimes travel. Always available via: mob...   \n",
       "1  We give guests privacy,  but we are available ...   \n",
       "2                                                NaN   \n",
       "3         I'm available for questions and/or issues.   \n",
       "4                           I'm available as needed.   \n",
       "\n",
       "                                         house_rules  host_id  host_since  \\\n",
       "0                               No pets, no smoking.     4804  2008-12-03   \n",
       "1                        No Smoking in the Building.     8229  2009-02-19   \n",
       "2                        No Smoking in the Building.     8229  2009-02-19   \n",
       "3                                                NaN    26988  2009-07-22   \n",
       "4  NO SMOKING, NO PETS. $100 move-in fee payable ...    26988  2009-07-22   \n",
       "\n",
       "                          host_location  host_response_time  \\\n",
       "0                         Massachusetts  within a few hours   \n",
       "1  Boston, Massachusetts, United States      within an hour   \n",
       "2  Boston, Massachusetts, United States      within an hour   \n",
       "3  Boston, Massachusetts, United States  within a few hours   \n",
       "4  Boston, Massachusetts, United States  within a few hours   \n",
       "\n",
       "  host_response_rate host_acceptance_rate host_is_superhost  \\\n",
       "0               100%                  44%                 t   \n",
       "1               100%                 100%                 t   \n",
       "2               100%                 100%                 t   \n",
       "3               100%                  83%                 t   \n",
       "4               100%                  83%                 t   \n",
       "\n",
       "  host_neighbourhood  host_total_listings_count  \\\n",
       "0        East Boston                          5   \n",
       "1            Roxbury                          2   \n",
       "2            Roxbury                          2   \n",
       "3        Beacon Hill                         10   \n",
       "4        Beacon Hill                         10   \n",
       "\n",
       "                                  host_verifications host_identity_verified  \\\n",
       "0                      ['email', 'phone', 'reviews']                      f   \n",
       "1               ['email', 'phone', 'reviews', 'kba']                      t   \n",
       "2               ['email', 'phone', 'reviews', 'kba']                      t   \n",
       "3  ['email', 'phone', 'reviews', 'jumio', 'offlin...                      f   \n",
       "4  ['email', 'phone', 'reviews', 'jumio', 'offlin...                      f   \n",
       "\n",
       "  neighbourhood neighbourhood_cleansed zipcode  latitude  longitude  \\\n",
       "0   East Boston            East Boston    2128  42.36413  -71.02991   \n",
       "1       Roxbury                Roxbury    2119  42.32981  -71.09559   \n",
       "2       Roxbury                Roxbury    2119  42.32994  -71.09351   \n",
       "3   Beacon Hill               Downtown    2108  42.35919  -71.06265   \n",
       "4   Beacon Hill               Downtown    2108  42.35840  -71.06185   \n",
       "\n",
       "  is_location_exact property_type        room_type  accommodates  bathrooms  \\\n",
       "0                 t     Apartment  Entire home/apt             2        1.0   \n",
       "1                 t   Guest suite  Entire home/apt             2        1.0   \n",
       "2                 t   Condominium  Entire home/apt             4        1.0   \n",
       "3                 t     Apartment  Entire home/apt             2        1.0   \n",
       "4                 t     Apartment  Entire home/apt             2        1.0   \n",
       "\n",
       "   bedrooms  beds  bed_type  \\\n",
       "0       1.0   0.0  Real Bed   \n",
       "1       1.0   1.0  Real Bed   \n",
       "2       1.0   1.0  Real Bed   \n",
       "3       1.0   1.0  Real Bed   \n",
       "4       1.0   1.0  Real Bed   \n",
       "\n",
       "                                      amenities_dict    price cleaning_fee  \\\n",
       "0  {'TV': 1, 'Cable TV': 1, 'Wifi': 1, 'Air condi...  $125.00       $75.00   \n",
       "1  {'TV': 1, 'Cable TV': 1, 'Wifi': 1, 'Air condi...  $145.00       $60.00   \n",
       "2  {'TV': 1, 'Cable TV': 1, 'Wifi': 1, 'Air condi...  $169.00       $80.00   \n",
       "3  {'TV': 1, 'Cable TV': 1, 'Wifi': 1, 'Air condi...   $99.00      $250.00   \n",
       "4  {'TV': 1, 'Cable TV': 1, 'Wifi': 1, 'Air condi...  $150.00      $250.00   \n",
       "\n",
       "   availability_30  availability_60  availability_90  availability_365  \\\n",
       "0               11               20               20                97   \n",
       "1                1               14               44               307   \n",
       "2                1                4               19               266   \n",
       "3               17               42               42               290   \n",
       "4               28               29               29                42   \n",
       "\n",
       "   number_of_reviews  review_scores_rating  review_scores_accuracy  \\\n",
       "0                 16                  99.0                    10.0   \n",
       "1                106                  95.0                    10.0   \n",
       "2                115                  96.0                    10.0   \n",
       "3                 24                  93.0                     9.0   \n",
       "4                 31                  95.0                    10.0   \n",
       "\n",
       "   review_scores_cleanliness  review_scores_checkin  \\\n",
       "0                       10.0                   10.0   \n",
       "1                       10.0                   10.0   \n",
       "2                       10.0                   10.0   \n",
       "3                        9.0                   10.0   \n",
       "4                        9.0                   10.0   \n",
       "\n",
       "   review_scores_communication  review_scores_location  review_scores_value  \\\n",
       "0                         10.0                    10.0                 10.0   \n",
       "1                         10.0                     9.0                 10.0   \n",
       "2                         10.0                     9.0                 10.0   \n",
       "3                         10.0                    10.0                  9.0   \n",
       "4                         10.0                    10.0                  9.0   \n",
       "\n",
       "  requires_license                                            license  \\\n",
       "0                t                                                NaN   \n",
       "1                t  Exempt: This listing is a unit that has contra...   \n",
       "2                t                                         STR-404620   \n",
       "3                t                                                NaN   \n",
       "4                t                                                NaN   \n",
       "\n",
       "  instant_bookable is_business_travel_ready          cancellation_policy  \\\n",
       "0                f                        f              super_strict_30   \n",
       "1                t                        f  strict_14_with_grace_period   \n",
       "2                t                        f  strict_14_with_grace_period   \n",
       "3                f                        f  strict_14_with_grace_period   \n",
       "4                f                        f  strict_14_with_grace_period   \n",
       "\n",
       "   reviews_per_month  \n",
       "0               0.28  \n",
       "1               0.79  \n",
       "2               0.88  \n",
       "3               0.35  \n",
       "4               0.24  "
      ]
     },
     "execution_count": 3,
     "metadata": {},
     "output_type": "execute_result"
    }
   ],
   "source": [
    "airbnb_boston.head()"
   ]
  },
  {
   "cell_type": "code",
   "execution_count": 4,
   "id": "21f9f6f7",
   "metadata": {},
   "outputs": [
    {
     "data": {
      "text/plain": [
       "(3845, 51)"
      ]
     },
     "execution_count": 4,
     "metadata": {},
     "output_type": "execute_result"
    }
   ],
   "source": [
    "airbnb_boston.shape"
   ]
  },
  {
   "cell_type": "code",
   "execution_count": 5,
   "id": "8768d891-c336-4065-9048-b08181d74e5f",
   "metadata": {},
   "outputs": [
    {
     "name": "stdout",
     "output_type": "stream",
     "text": [
      "<class 'pandas.core.frame.DataFrame'>\n",
      "RangeIndex: 3845 entries, 0 to 3844\n",
      "Data columns (total 51 columns):\n",
      " #   Column                       Non-Null Count  Dtype  \n",
      "---  ------                       --------------  -----  \n",
      " 0   id                           3845 non-null   int64  \n",
      " 1   name                         3845 non-null   object \n",
      " 2   summary                      3765 non-null   object \n",
      " 3   access                       2208 non-null   object \n",
      " 4   interaction                  2589 non-null   object \n",
      " 5   house_rules                  2855 non-null   object \n",
      " 6   host_id                      3845 non-null   int64  \n",
      " 7   host_since                   3845 non-null   object \n",
      " 8   host_location                3842 non-null   object \n",
      " 9   host_response_time           3283 non-null   object \n",
      " 10  host_response_rate           3283 non-null   object \n",
      " 11  host_acceptance_rate         3585 non-null   object \n",
      " 12  host_is_superhost            3845 non-null   object \n",
      " 13  host_neighbourhood           3624 non-null   object \n",
      " 14  host_total_listings_count    3845 non-null   int64  \n",
      " 15  host_verifications           3845 non-null   object \n",
      " 16  host_identity_verified       3845 non-null   object \n",
      " 17  neighbourhood                3845 non-null   object \n",
      " 18  neighbourhood_cleansed       3845 non-null   object \n",
      " 19  zipcode                      3831 non-null   object \n",
      " 20  latitude                     3845 non-null   float64\n",
      " 21  longitude                    3845 non-null   float64\n",
      " 22  is_location_exact            3845 non-null   object \n",
      " 23  property_type                3845 non-null   object \n",
      " 24  room_type                    3845 non-null   object \n",
      " 25  accommodates                 3845 non-null   int64  \n",
      " 26  bathrooms                    3842 non-null   float64\n",
      " 27  bedrooms                     3841 non-null   float64\n",
      " 28  beds                         3825 non-null   float64\n",
      " 29  bed_type                     3844 non-null   object \n",
      " 30  amenities_dict               3845 non-null   object \n",
      " 31  price                        3845 non-null   object \n",
      " 32  cleaning_fee                 3446 non-null   object \n",
      " 33  availability_30              3845 non-null   int64  \n",
      " 34  availability_60              3845 non-null   int64  \n",
      " 35  availability_90              3845 non-null   int64  \n",
      " 36  availability_365             3845 non-null   int64  \n",
      " 37  number_of_reviews            3845 non-null   int64  \n",
      " 38  review_scores_rating         3006 non-null   float64\n",
      " 39  review_scores_accuracy       3004 non-null   float64\n",
      " 40  review_scores_cleanliness    3005 non-null   float64\n",
      " 41  review_scores_checkin        3003 non-null   float64\n",
      " 42  review_scores_communication  3006 non-null   float64\n",
      " 43  review_scores_location       3004 non-null   float64\n",
      " 44  review_scores_value          3004 non-null   float64\n",
      " 45  requires_license             3845 non-null   object \n",
      " 46  license                      2303 non-null   object \n",
      " 47  instant_bookable             3845 non-null   object \n",
      " 48  is_business_travel_ready     3845 non-null   object \n",
      " 49  cancellation_policy          3845 non-null   object \n",
      " 50  reviews_per_month            3020 non-null   float64\n",
      "dtypes: float64(13), int64(9), object(29)\n",
      "memory usage: 1.5+ MB\n"
     ]
    }
   ],
   "source": [
    "airbnb_boston.info()"
   ]
  },
  {
   "cell_type": "code",
   "execution_count": 6,
   "id": "8fc40ff1",
   "metadata": {},
   "outputs": [
    {
     "data": {
      "text/plain": [
       "id                               int64\n",
       "name                            object\n",
       "summary                         object\n",
       "access                          object\n",
       "interaction                     object\n",
       "house_rules                     object\n",
       "host_id                          int64\n",
       "host_since                      object\n",
       "host_location                   object\n",
       "host_response_time              object\n",
       "host_response_rate              object\n",
       "host_acceptance_rate            object\n",
       "host_is_superhost               object\n",
       "host_neighbourhood              object\n",
       "host_total_listings_count        int64\n",
       "host_verifications              object\n",
       "host_identity_verified          object\n",
       "neighbourhood                   object\n",
       "neighbourhood_cleansed          object\n",
       "zipcode                         object\n",
       "latitude                       float64\n",
       "longitude                      float64\n",
       "is_location_exact               object\n",
       "property_type                   object\n",
       "room_type                       object\n",
       "accommodates                     int64\n",
       "bathrooms                      float64\n",
       "bedrooms                       float64\n",
       "beds                           float64\n",
       "bed_type                        object\n",
       "amenities_dict                  object\n",
       "price                           object\n",
       "cleaning_fee                    object\n",
       "availability_30                  int64\n",
       "availability_60                  int64\n",
       "availability_90                  int64\n",
       "availability_365                 int64\n",
       "number_of_reviews                int64\n",
       "review_scores_rating           float64\n",
       "review_scores_accuracy         float64\n",
       "review_scores_cleanliness      float64\n",
       "review_scores_checkin          float64\n",
       "review_scores_communication    float64\n",
       "review_scores_location         float64\n",
       "review_scores_value            float64\n",
       "requires_license                object\n",
       "license                         object\n",
       "instant_bookable                object\n",
       "is_business_travel_ready        object\n",
       "cancellation_policy             object\n",
       "reviews_per_month              float64\n",
       "dtype: object"
      ]
     },
     "execution_count": 6,
     "metadata": {},
     "output_type": "execute_result"
    }
   ],
   "source": [
    "airbnb_boston.dtypes"
   ]
  },
  {
   "cell_type": "code",
   "execution_count": 7,
   "id": "8a2c7f61-8ac6-41de-a6a0-2a57cf5bf816",
   "metadata": {},
   "outputs": [
    {
     "data": {
      "text/plain": [
       "object     29\n",
       "float64    13\n",
       "int64       9\n",
       "Name: count, dtype: int64"
      ]
     },
     "execution_count": 7,
     "metadata": {},
     "output_type": "execute_result"
    }
   ],
   "source": [
    "airbnb_boston.dtypes.value_counts()"
   ]
  },
  {
   "cell_type": "code",
   "execution_count": 8,
   "id": "162a8c2b",
   "metadata": {},
   "outputs": [
    {
     "data": {
      "text/plain": [
       "array([ 1.,  0.,  3.,  2.,  4.,  5., nan,  6., 13.,  8.,  7.])"
      ]
     },
     "execution_count": 8,
     "metadata": {},
     "output_type": "execute_result"
    }
   ],
   "source": [
    "airbnb_boston['bedrooms'].unique()"
   ]
  },
  {
   "cell_type": "code",
   "execution_count": 9,
   "id": "726983e3",
   "metadata": {},
   "outputs": [
    {
     "data": {
      "text/plain": [
       "array(['$125.00', '$145.00', '$169.00', '$99.00', '$150.00', '$179.00',\n",
       "       '$50.00', '$154.00', '$115.00', '$148.00', '$275.00', '$221.00',\n",
       "       '$95.00', '$75.00', '$175.00', '$110.00', '$79.00', '$140.00',\n",
       "       '$225.00', '$200.00'], dtype=object)"
      ]
     },
     "execution_count": 9,
     "metadata": {},
     "output_type": "execute_result"
    }
   ],
   "source": [
    "airbnb_boston['price'].unique()[0:20]"
   ]
  },
  {
   "cell_type": "code",
   "execution_count": 10,
   "id": "6f02b8cd",
   "metadata": {},
   "outputs": [
    {
     "data": {
      "text/plain": [
       "id                             3845\n",
       "name                           3682\n",
       "summary                        2722\n",
       "access                         1492\n",
       "interaction                    1405\n",
       "house_rules                    1531\n",
       "host_id                        1331\n",
       "host_since                     1080\n",
       "host_location                   123\n",
       "host_response_time                4\n",
       "host_response_rate               35\n",
       "host_acceptance_rate             73\n",
       "host_is_superhost                 2\n",
       "host_neighbourhood               65\n",
       "host_total_listings_count        51\n",
       "host_verifications              152\n",
       "host_identity_verified            2\n",
       "neighbourhood                    31\n",
       "neighbourhood_cleansed           25\n",
       "zipcode                          54\n",
       "latitude                       2838\n",
       "longitude                      2968\n",
       "is_location_exact                 2\n",
       "property_type                    21\n",
       "room_type                         4\n",
       "accommodates                     19\n",
       "bathrooms                        12\n",
       "bedrooms                         10\n",
       "beds                             16\n",
       "bed_type                          5\n",
       "amenities_dict                 2908\n",
       "price                           345\n",
       "cleaning_fee                    119\n",
       "availability_30                  31\n",
       "availability_60                  61\n",
       "availability_90                  91\n",
       "availability_365                364\n",
       "number_of_reviews               289\n",
       "review_scores_rating             46\n",
       "review_scores_accuracy            9\n",
       "review_scores_cleanliness         9\n",
       "review_scores_checkin             8\n",
       "review_scores_communication       8\n",
       "review_scores_location            8\n",
       "review_scores_value               9\n",
       "requires_license                  2\n",
       "license                         896\n",
       "instant_bookable                  2\n",
       "is_business_travel_ready          1\n",
       "cancellation_policy               6\n",
       "reviews_per_month               617\n",
       "dtype: int64"
      ]
     },
     "execution_count": 10,
     "metadata": {},
     "output_type": "execute_result"
    }
   ],
   "source": [
    "airbnb_boston.nunique()"
   ]
  },
  {
   "cell_type": "code",
   "execution_count": 11,
   "id": "5824e5f0",
   "metadata": {},
   "outputs": [
    {
     "data": {
      "text/plain": [
       "array(['within a few hours', 'within an hour', 'a few days or more',\n",
       "       'within a day', nan], dtype=object)"
      ]
     },
     "execution_count": 11,
     "metadata": {},
     "output_type": "execute_result"
    }
   ],
   "source": [
    "airbnb_boston['host_response_time'].unique()"
   ]
  },
  {
   "cell_type": "code",
   "execution_count": 14,
   "id": "23c92bdc",
   "metadata": {},
   "outputs": [
    {
     "data": {
      "image/png": "[encoded data removed]",
      "text/plain": [
       "<Figure size 640x480 with 1 Axes>"
      ]
     },
     "metadata": {},
     "output_type": "display_data"
    }
   ],
   "source": [
    "airbnb_boston['number_of_reviews'].hist(bins=30)\n",
    "plt.show()"
   ]
  },
  {
   "cell_type": "code",
   "execution_count": 15,
   "id": "c86e329d-8f7c-4143-9bec-e22a53634459",
   "metadata": {},
   "outputs": [
    {
     "data": {
      "image/png": "[encoded data removed]",
      "text/plain": [
       "<Figure size 640x480 with 1 Axes>"
      ]
     },
     "metadata": {},
     "output_type": "display_data"
    }
   ],
   "source": [
    "airbnb_boston['bedrooms'].value_counts().plot.bar()\n",
    "plt.show()"
   ]
  },
  {
   "cell_type": "code",
   "execution_count": 16,
   "id": "8b2e3740-a713-4c33-b614-49ec6f607c86",
   "metadata": {},
   "outputs": [
    {
     "data": {
      "text/plain": [
       "0    $125.00\n",
       "1    $145.00\n",
       "2    $169.00\n",
       "3     $99.00\n",
       "4    $150.00\n",
       "Name: price, dtype: object"
      ]
     },
     "execution_count": 16,
     "metadata": {},
     "output_type": "execute_result"
    }
   ],
   "source": [
    "airbnb_boston['price'][:5] # problam je dolar signa ki ga moremo odstranit"
   ]
  },
  {
   "cell_type": "code",
   "execution_count": 24,
   "id": "5b6d9f1e",
   "metadata": {},
   "outputs": [
    {
     "data": {
      "image/png": "[encoded data removed]",
      "text/plain": [
       "<Figure size 640x480 with 1 Axes>"
      ]
     },
     "metadata": {},
     "output_type": "display_data"
    }
   ],
   "source": [
    "airbnb_boston['price_usd'] = airbnb_boston['price'].str.replace(\"$\", \"\").str.replace(\",\", \"\").astype(\"float\")\n",
    "airbnb_boston['cleaning_fee_usd'] = airbnb_boston['cleaning_fee'].str.replace(\"$\", \"\").str.replace(\",\", \"\").astype(\"float\")\n",
    "airbnb_boston.drop(columns=[\"price\", \"cleaning_fee\"], inplace=True)\n",
    "sns.histplot(airbnb_boston['price_usd'], bins=50)\n",
    "plt.show()"
   ]
  },
  {
   "cell_type": "markdown",
   "id": "ec0ff17e-a4a7-4481-bc9e-1dcb9bf57fba",
   "metadata": {},
   "source": [
    ">> Nadaljujemo "
   ]
  },
  {
   "cell_type": "code",
   "execution_count": 20,
   "id": "a1d088b9-4b45-44c7-a71e-da8f0015a5c2",
   "metadata": {},
   "outputs": [
    {
     "data": {
      "text/plain": [
       "0        $75.00\n",
       "1        $60.00\n",
       "2        $80.00\n",
       "3       $250.00\n",
       "4       $250.00\n",
       "         ...   \n",
       "3840      $0.00\n",
       "3841    $120.00\n",
       "3842        NaN\n",
       "3843        NaN\n",
       "3844      $0.00\n",
       "Name: cleaning_fee, Length: 3845, dtype: object"
      ]
     },
     "execution_count": 20,
     "metadata": {},
     "output_type": "execute_result"
    }
   ],
   "source": [
    "airbnb_boston['cleaning_fee']"
   ]
  },
  {
   "cell_type": "code",
   "execution_count": null,
   "id": "52bf6ac1",
   "metadata": {},
   "outputs": [],
   "source": [
    "# bar plots for categorical variables\n",
    "airbnb_boston['host_response_time'].value_counts().plot.bar()\n",
    "plt.xticks(rotation=0)\n",
    "plt.ylabel('Number of hosts')\n",
    "plt.title('Response time')\n",
    "plt.show()"
   ]
  },
  {
   "cell_type": "markdown",
   "id": "c862a480",
   "metadata": {},
   "source": [
    "## Quantifying missing data"
   ]
  },
  {
   "cell_type": "code",
   "execution_count": null,
   "id": "dc25b956",
   "metadata": {},
   "outputs": [],
   "source": [
    "airbnb_boston.isnull().sum()"
   ]
  },
  {
   "cell_type": "code",
   "execution_count": null,
   "id": "7c7c2ec8",
   "metadata": {},
   "outputs": [],
   "source": [
    "airbnb_boston.isnull().mean() * 100"
   ]
  },
  {
   "cell_type": "code",
   "execution_count": null,
   "id": "a74f5ff8",
   "metadata": {},
   "outputs": [],
   "source": [
    "airbnb_boston.isnull().mean().plot.bar(figsize=(8,4))\n",
    "plt.ylabel('Percentage of missing values')\n",
    "plt.xlabel('Variables')\n",
    "plt.title('Quantifying missing data')\n",
    "plt.show()"
   ]
  },
  {
   "cell_type": "code",
   "execution_count": null,
   "id": "24b1af97-ac1f-462a-893b-18c88b3b7b8c",
   "metadata": {},
   "outputs": [],
   "source": [
    "columns_to_remove = [\"id\", \"name\", \"summary\", \"access\", \"interaction\", \"host_id\", \"host_verifications\", \"license\"]\n",
    "airbnb_boston.drop(columns=columns_to_remove, inplace=True)\n",
    "airbnb_boston.head()"
   ]
  },
  {
   "cell_type": "markdown",
   "id": "5a679c6a",
   "metadata": {},
   "source": [
    "## Determining cardinality in categorical variables"
   ]
  },
  {
   "cell_type": "code",
   "execution_count": null,
   "id": "8526a7eb-589a-4268-820d-e2a42a34ab30",
   "metadata": {},
   "outputs": [],
   "source": [
    "airbnb_boston.nunique()"
   ]
  },
  {
   "cell_type": "code",
   "execution_count": null,
   "id": "c0c1526c",
   "metadata": {},
   "outputs": [],
   "source": [
    "airbnb_boston['property_type'].unique()"
   ]
  },
  {
   "cell_type": "code",
   "execution_count": null,
   "id": "6ed15447",
   "metadata": {},
   "outputs": [],
   "source": [
    "airbnb_boston.nunique().plot.bar(figsize=(8,4))\n",
    "plt.ylabel('Number of unique categories')\n",
    "plt.xlabel('Variables')\n",
    "plt.title('Cardinality')\n",
    "plt.show()"
   ]
  },
  {
   "cell_type": "markdown",
   "id": "221390ee",
   "metadata": {},
   "source": [
    "## Pinpointing rare categories in categorical variables"
   ]
  },
  {
   "cell_type": "code",
   "execution_count": null,
   "id": "a6405a6e",
   "metadata": {},
   "outputs": [],
   "source": [
    "airbnb_boston['property_type'].unique()"
   ]
  },
  {
   "cell_type": "code",
   "execution_count": null,
   "id": "a7f0210a",
   "metadata": {},
   "outputs": [],
   "source": [
    "label_freq = airbnb_boston['property_type'].value_counts() / len(airbnb_boston) * 100\n",
    "print(label_freq)"
   ]
  },
  {
   "cell_type": "code",
   "execution_count": null,
   "id": "203e40a2",
   "metadata": {},
   "outputs": [],
   "source": [
    "fig = label_freq.sort_values(ascending=False).plot.bar()\n",
    "fig.axhline(y=5, color='red')\n",
    "fig.set_ylabel('percentage of each category')\n",
    "fig.set_xlabel('Variable: property_type')\n",
    "fig.set_title('Identifying Rare Categories')\n",
    "plt.show()"
   ]
  },
  {
   "cell_type": "markdown",
   "id": "c3babe48",
   "metadata": {},
   "source": [
    "## Identifying a linear relationship"
   ]
  },
  {
   "cell_type": "code",
   "execution_count": null,
   "id": "8031f8b4",
   "metadata": {},
   "outputs": [],
   "source": [
    "from sklearn.linear_model import LinearRegression"
   ]
  },
  {
   "cell_type": "code",
   "execution_count": null,
   "id": "327303e0",
   "metadata": {},
   "outputs": [],
   "source": [
    "np.random.seed(29)\n",
    "x = np.random.randn(200)"
   ]
  },
  {
   "cell_type": "code",
   "execution_count": null,
   "id": "11e43bb1",
   "metadata": {},
   "outputs": [],
   "source": [
    "y = x * 10 + np.random.randn(200) * 2"
   ]
  },
  {
   "cell_type": "code",
   "execution_count": null,
   "id": "3566dda3",
   "metadata": {},
   "outputs": [],
   "source": [
    "data = pd.DataFrame([x, y]).T\n",
    "data.columns = ['x', 'y']"
   ]
  },
  {
   "cell_type": "code",
   "execution_count": null,
   "id": "916b9235",
   "metadata": {},
   "outputs": [],
   "source": [
    "# we used the seaborn lmplot() method, which allows us to plot the data and fit and display a linear model on top of it\n",
    "sns.lmplot(x=\"x\", y=\"y\", data=data, order=1)\n",
    "plt.ylabel('Target')\n",
    "plt.xlabel('Independent variable')\n",
    "plt.show()"
   ]
  },
  {
   "cell_type": "code",
   "execution_count": null,
   "id": "8ba27999",
   "metadata": {},
   "outputs": [],
   "source": [
    "linreg = LinearRegression()\n",
    "linreg.fit(data['x'].to_frame(), data['y'])"
   ]
  },
  {
   "cell_type": "code",
   "execution_count": null,
   "id": "bc89c1cf",
   "metadata": {},
   "outputs": [],
   "source": [
    "# Make predictions of y using the fitted linear model:\n",
    "predictions = linreg.predict(data['x'].to_frame())\n",
    "\n",
    "# Calculate the residuals, that is, the difference between the predictions and the real outcome, y:\n",
    "residuals = data['y'] - predictions\n",
    "\n",
    "# Make a scatter plot of the independent variable x and the residuals:\n",
    "plt.scatter(y=residuals, x=data['x'])\n",
    "plt.ylabel('Residuals')\n",
    "plt.xlabel('Independent variable x')\n",
    "plt.show()"
   ]
  },
  {
   "cell_type": "code",
   "execution_count": null,
   "id": "add6487b",
   "metadata": {},
   "outputs": [],
   "source": [
    "sns.histplot(residuals, bins=30, kde=True)\n",
    "plt.xlabel('Residuals')\n",
    "plt.show()"
   ]
  },
  {
   "cell_type": "markdown",
   "id": "e6ca7302",
   "metadata": {},
   "source": [
    "### Example: Boston House price data"
   ]
  },
  {
   "cell_type": "code",
   "execution_count": null,
   "id": "fc861fbe",
   "metadata": {},
   "outputs": [],
   "source": [
    "# we plot the variable LAST (% lower status of the population)\n",
    "# vs the target MEDV (median value of the house)\n",
    "sns.lmplot(x=\"bedrooms\", y=\"price_usd\", data=airbnb_boston, order=1)\n",
    "plt.show()"
   ]
  },
  {
   "cell_type": "code",
   "execution_count": null,
   "id": "5f7e50e5",
   "metadata": {},
   "outputs": [],
   "source": [
    "sns.lmplot(x=\"latitude\", y=\"price_usd\", data=airbnb_boston, order=1)\n",
    "plt.show()"
   ]
  },
  {
   "cell_type": "markdown",
   "id": "4cd86965",
   "metadata": {},
   "source": [
    "## Identifying a normal distribution"
   ]
  },
  {
   "cell_type": "code",
   "execution_count": null,
   "id": "fe4e5d53",
   "metadata": {},
   "outputs": [],
   "source": [
    "np.random.seed(29)\n",
    "x = np.random.randn(200)"
   ]
  },
  {
   "cell_type": "code",
   "execution_count": null,
   "id": "0c770a4d",
   "metadata": {},
   "outputs": [],
   "source": [
    "data = pd.DataFrame([x]).T\n",
    "data.columns = ['x']"
   ]
  },
  {
   "cell_type": "code",
   "execution_count": null,
   "id": "881466ad",
   "metadata": {},
   "outputs": [],
   "source": [
    "sns.histplot(data['x'], bins=30, kde=True)\n",
    "plt.show()"
   ]
  },
  {
   "cell_type": "code",
   "execution_count": null,
   "id": "5d7e3675",
   "metadata": {},
   "outputs": [],
   "source": [
    "stats.probplot(data['x'], dist=\"norm\", plot=plt)\n",
    "plt.show()"
   ]
  },
  {
   "cell_type": "markdown",
   "id": "210a58ec",
   "metadata": {},
   "source": [
    "### Example: Boston House price data"
   ]
  },
  {
   "cell_type": "code",
   "execution_count": null,
   "id": "087e91cc",
   "metadata": {},
   "outputs": [],
   "source": [
    "stats.probplot(airbnb_boston['latitude'], dist=\"norm\", plot=plt)\n",
    "plt.show()"
   ]
  },
  {
   "cell_type": "code",
   "execution_count": null,
   "id": "d30cd138",
   "metadata": {},
   "outputs": [],
   "source": [
    "stats.probplot(airbnb_boston['number_of_reviews'], dist=\"norm\", plot=plt)\n",
    "plt.show()"
   ]
  },
  {
   "cell_type": "code",
   "execution_count": null,
   "id": "3c333c74",
   "metadata": {},
   "outputs": [],
   "source": [
    "sns.histplot(airbnb_boston['number_of_reviews'], bins=30, kde=True)\n",
    "plt.show()"
   ]
  },
  {
   "cell_type": "markdown",
   "id": "286076ef",
   "metadata": {},
   "source": [
    "## Distinguishing variable distribution"
   ]
  },
  {
   "cell_type": "code",
   "execution_count": null,
   "id": "08796e5b",
   "metadata": {},
   "outputs": [],
   "source": [
    "airbnb_boston.hist(bins=30, figsize=(12,12), density=True)\n",
    "plt.show()"
   ]
  },
  {
   "cell_type": "markdown",
   "id": "02cf2168",
   "metadata": {},
   "source": [
    "## Highlighting outliers"
   ]
  },
  {
   "cell_type": "code",
   "execution_count": null,
   "id": "4bcf1402",
   "metadata": {},
   "outputs": [],
   "source": [
    "plt.figure(figsize=(3,6))\n",
    "sns.boxplot(y=airbnb_boston['reviews_per_month'])\n",
    "plt.title('Boxplot')\n",
    "plt.show()"
   ]
  },
  {
   "cell_type": "code",
   "execution_count": null,
   "id": "5aaee75a",
   "metadata": {},
   "outputs": [],
   "source": [
    "def find_boundaries(df, variable, distance):\n",
    "    IQR = df[variable].quantile(0.75) - df[variable].quantile(0.25)\n",
    "    lower_boundary = df[variable].quantile(0.25) - (IQR * distance)\n",
    "    upper_boundary = df[variable].quantile(0.75) + (IQR * distance)\n",
    "    return upper_boundary, lower_boundary"
   ]
  },
  {
   "cell_type": "code",
   "execution_count": null,
   "id": "c285e31d",
   "metadata": {},
   "outputs": [],
   "source": [
    "upper_boundary, lower_boundary = find_boundaries(airbnb_boston, 'price_usd', 3)\n",
    "upper_boundary, lower_boundary"
   ]
  },
  {
   "cell_type": "code",
   "execution_count": null,
   "id": "fd3b6d6c",
   "metadata": {},
   "outputs": [],
   "source": [
    "outliers = np.where(airbnb_boston['price_usd'] > upper_boundary, True, np.where(airbnb_boston['price_usd'] < lower_boundary, True, False))"
   ]
  },
  {
   "cell_type": "code",
   "execution_count": null,
   "id": "547f0e16",
   "metadata": {},
   "outputs": [],
   "source": [
    "outliers_df = airbnb_boston.loc[outliers, 'price_usd']\n",
    "outliers_df.head()"
   ]
  },
  {
   "cell_type": "markdown",
   "id": "89fcfd9b",
   "metadata": {},
   "source": [
    "## Comparing feature magnitude"
   ]
  },
  {
   "cell_type": "code",
   "execution_count": null,
   "id": "28566f99",
   "metadata": {},
   "outputs": [],
   "source": [
    "airbnb_boston.describe()"
   ]
  },
  {
   "cell_type": "code",
   "execution_count": null,
   "id": "2910b4db",
   "metadata": {},
   "outputs": [],
   "source": [
    "airbnb_boston.select_dtypes(exclude=\"object\").max() - airbnb_boston.select_dtypes(exclude=\"object\").min()"
   ]
  }
 ],
 "metadata": {
  "kernelspec": {
   "display_name": "Python 3 (ipykernel)",
   "language": "python",
   "name": "python3"
  },
  "language_info": {
   "codemirror_mode": {
    "name": "ipython",
    "version": 3
   },
   "file_extension": ".py",
   "mimetype": "text/x-python",
   "name": "python",
   "nbconvert_exporter": "python",
   "pygments_lexer": "ipython3",
   "version": "3.11.4"
  }
 },
 "nbformat": 4,
 "nbformat_minor": 5
}
