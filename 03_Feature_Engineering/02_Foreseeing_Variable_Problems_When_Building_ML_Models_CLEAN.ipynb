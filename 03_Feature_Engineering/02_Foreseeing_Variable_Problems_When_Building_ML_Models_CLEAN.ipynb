{
 "cells": [
  {
   "cell_type": "markdown",
   "id": "fdae7b90",
   "metadata": {},
   "source": [
    "# Foreseeing Variable Problems When Building ML Models"
   ]
  },
  {
   "cell_type": "code",
   "execution_count": null,
   "id": "868fb148",
   "metadata": {},
   "outputs": [],
   "source": [
    "import numpy as np\n",
    "import pandas as pd\n",
    "%matplotlib inline\n",
    "import matplotlib.pyplot as plt\n",
    "import seaborn as sns\n",
    "import scipy.stats as stats\n",
    "\n",
    "# to display the total number columns present in the dataset\n",
    "pd.set_option('display.max_columns', None)"
   ]
  },
  {
   "cell_type": "markdown",
   "id": "e7bd8a9e",
   "metadata": {},
   "source": [
    "## Identifying numerical and categorical variables"
   ]
  },
  {
   "cell_type": "code",
   "execution_count": null,
   "id": "ee6d96ea",
   "metadata": {},
   "outputs": [],
   "source": [
    "file_name = \"data/boston_listings.csv\"\n",
    "airbnb_boston = pd.read_csv(file_name)"
   ]
  },
  {
   "cell_type": "code",
   "execution_count": null,
   "id": "1bd31cd6",
   "metadata": {},
   "outputs": [],
   "source": [
    "airbnb_boston.head()"
   ]
  },
  {
   "cell_type": "code",
   "execution_count": null,
   "id": "21f9f6f7",
   "metadata": {},
   "outputs": [],
   "source": [
    "airbnb_boston.shape"
   ]
  },
  {
   "cell_type": "code",
   "execution_count": null,
   "id": "8768d891-c336-4065-9048-b08181d74e5f",
   "metadata": {},
   "outputs": [],
   "source": [
    "airbnb_boston.info()"
   ]
  },
  {
   "cell_type": "code",
   "execution_count": null,
   "id": "8fc40ff1",
   "metadata": {},
   "outputs": [],
   "source": [
    "airbnb_boston.dtypes"
   ]
  },
  {
   "cell_type": "code",
   "execution_count": null,
   "id": "8a2c7f61-8ac6-41de-a6a0-2a57cf5bf816",
   "metadata": {},
   "outputs": [],
   "source": [
    "airbnb_boston.dtypes.value_counts()"
   ]
  },
  {
   "cell_type": "code",
   "execution_count": null,
   "id": "162a8c2b",
   "metadata": {},
   "outputs": [],
   "source": [
    "airbnb_boston['bedrooms'].unique()"
   ]
  },
  {
   "cell_type": "code",
   "execution_count": null,
   "id": "726983e3",
   "metadata": {},
   "outputs": [],
   "source": [
    "airbnb_boston['price'].unique()[0:20]"
   ]
  },
  {
   "cell_type": "code",
   "execution_count": null,
   "id": "6f02b8cd",
   "metadata": {},
   "outputs": [],
   "source": [
    "airbnb_boston.nunique()"
   ]
  },
  {
   "cell_type": "code",
   "execution_count": null,
   "id": "5824e5f0",
   "metadata": {},
   "outputs": [],
   "source": [
    "airbnb_boston['host_response_time'].unique()"
   ]
  },
  {
   "cell_type": "code",
   "execution_count": null,
   "id": "23c92bdc",
   "metadata": {},
   "outputs": [],
   "source": [
    "airbnb_boston['number_of_reviews'].hist(bins=20)\n",
    "plt.show()"
   ]
  },
  {
   "cell_type": "code",
   "execution_count": null,
   "id": "c86e329d-8f7c-4143-9bec-e22a53634459",
   "metadata": {},
   "outputs": [],
   "source": [
    "airbnb_boston['bedrooms'].value_counts().plot.bar()\n",
    "plt.show()"
   ]
  },
  {
   "cell_type": "code",
   "execution_count": null,
   "id": "8b2e3740-a713-4c33-b614-49ec6f607c86",
   "metadata": {},
   "outputs": [],
   "source": [
    "airbnb_boston['price'][:5] # problam je dolar signa ki ga moremo odstranit"
   ]
  },
  {
   "cell_type": "code",
   "execution_count": null,
   "id": "5b6d9f1e",
   "metadata": {},
   "outputs": [],
   "source": [
    "airbnb_boston['price_usd'] = airbnb_boston['price'].str.replace(\"$\", \"\").str.replace(\",\", \"\").astype(\"float\")\n",
    "airbnb_boston['cleaning_fee_usd'] = airbnb_boston['cleaning_fee'].str.replace(\"$\", \"\").str.replace(\",\", \"\").astype(\"float\")\n",
    "airbnb_boston.drop(columns=[\"price\", \"cleaning_fee\"], inplace=True)\n",
    "sns.histplot(airbnb_boston['price_usd'], bins=50)\n",
    "plt.show()"
   ]
  },
  {
   "cell_type": "code",
   "execution_count": null,
   "id": "52bf6ac1",
   "metadata": {},
   "outputs": [],
   "source": [
    "# bar plots for categorical variables\n",
    "airbnb_boston['host_response_time'].value_counts().plot.bar()\n",
    "plt.xticks(rotation=0)\n",
    "plt.ylabel('Number of hosts')\n",
    "plt.title('Response time')\n",
    "plt.show()"
   ]
  },
  {
   "cell_type": "markdown",
   "id": "c862a480",
   "metadata": {},
   "source": [
    "## Quantifying missing data"
   ]
  },
  {
   "cell_type": "code",
   "execution_count": null,
   "id": "dc25b956",
   "metadata": {},
   "outputs": [],
   "source": [
    "airbnb_boston.isnull().sum()"
   ]
  },
  {
   "cell_type": "code",
   "execution_count": null,
   "id": "7c7c2ec8",
   "metadata": {},
   "outputs": [],
   "source": [
    "airbnb_boston.isnull().mean() * 100"
   ]
  },
  {
   "cell_type": "code",
   "execution_count": null,
   "id": "a74f5ff8",
   "metadata": {},
   "outputs": [],
   "source": [
    "airbnb_boston.isnull().mean().plot.bar(figsize=(8,4))\n",
    "plt.ylabel('Percentage of missing values')\n",
    "plt.xlabel('Variables')\n",
    "plt.title('Quantifying missing data')\n",
    "plt.show()"
   ]
  },
  {
   "cell_type": "code",
   "execution_count": null,
   "id": "24b1af97-ac1f-462a-893b-18c88b3b7b8c",
   "metadata": {},
   "outputs": [],
   "source": [
    "columns_to_remove = [\"id\", \"name\", \"summary\", \"access\", \"interaction\", \"host_id\", \"host_verifications\", \"license\"]\n",
    "airbnb_boston.drop(columns=columns_to_remove, inplace=True)\n",
    "airbnb_boston.head()"
   ]
  },
  {
   "cell_type": "markdown",
   "id": "5a679c6a",
   "metadata": {},
   "source": [
    "## Determining cardinality in categorical variables"
   ]
  },
  {
   "cell_type": "code",
   "execution_count": null,
   "id": "8526a7eb-589a-4268-820d-e2a42a34ab30",
   "metadata": {},
   "outputs": [],
   "source": [
    "airbnb_boston.nunique()"
   ]
  },
  {
   "cell_type": "code",
   "execution_count": null,
   "id": "c0c1526c",
   "metadata": {},
   "outputs": [],
   "source": [
    "airbnb_boston['property_type'].unique()"
   ]
  },
  {
   "cell_type": "code",
   "execution_count": null,
   "id": "6ed15447",
   "metadata": {},
   "outputs": [],
   "source": [
    "airbnb_boston.nunique().plot.bar(figsize=(8,4))\n",
    "plt.ylabel('Number of unique categories')\n",
    "plt.xlabel('Variables')\n",
    "plt.title('Cardinality')\n",
    "plt.show()"
   ]
  },
  {
   "cell_type": "markdown",
   "id": "221390ee",
   "metadata": {},
   "source": [
    "## Pinpointing rare categories in categorical variables"
   ]
  },
  {
   "cell_type": "code",
   "execution_count": null,
   "id": "a6405a6e",
   "metadata": {},
   "outputs": [],
   "source": [
    "airbnb_boston['property_type'].unique()"
   ]
  },
  {
   "cell_type": "code",
   "execution_count": null,
   "id": "a7f0210a",
   "metadata": {},
   "outputs": [],
   "source": [
    "label_freq = airbnb_boston['property_type'].value_counts() / len(airbnb_boston) * 100\n",
    "print(label_freq)"
   ]
  },
  {
   "cell_type": "code",
   "execution_count": null,
   "id": "203e40a2",
   "metadata": {},
   "outputs": [],
   "source": [
    "fig = label_freq.sort_values(ascending=False).plot.bar()\n",
    "fig.axhline(y=5, color='red')\n",
    "fig.set_ylabel('percentage of each category')\n",
    "fig.set_xlabel('Variable: property_type')\n",
    "fig.set_title('Identifying Rare Categories')\n",
    "plt.show()"
   ]
  },
  {
   "cell_type": "markdown",
   "id": "c3babe48",
   "metadata": {},
   "source": [
    "## Identifying a linear relationship"
   ]
  },
  {
   "cell_type": "code",
   "execution_count": null,
   "id": "8031f8b4",
   "metadata": {},
   "outputs": [],
   "source": [
    "from sklearn.linear_model import LinearRegression"
   ]
  },
  {
   "cell_type": "code",
   "execution_count": null,
   "id": "327303e0",
   "metadata": {},
   "outputs": [],
   "source": [
    "np.random.seed(29)\n",
    "x = np.random.randn(200)"
   ]
  },
  {
   "cell_type": "code",
   "execution_count": null,
   "id": "11e43bb1",
   "metadata": {},
   "outputs": [],
   "source": [
    "y = x * 10 + np.random.randn(200) * 2"
   ]
  },
  {
   "cell_type": "code",
   "execution_count": null,
   "id": "3566dda3",
   "metadata": {},
   "outputs": [],
   "source": [
    "data = pd.DataFrame([x, y]).T\n",
    "data.columns = ['x', 'y']"
   ]
  },
  {
   "cell_type": "code",
   "execution_count": null,
   "id": "916b9235",
   "metadata": {},
   "outputs": [],
   "source": [
    "# we used the seaborn lmplot() method, which allows us to plot the data and fit and display a linear model on top of it\n",
    "sns.lmplot(x=\"x\", y=\"y\", data=data, order=1)\n",
    "plt.ylabel('Target')\n",
    "plt.xlabel('Independent variable')\n",
    "plt.show()"
   ]
  },
  {
   "cell_type": "code",
   "execution_count": null,
   "id": "8ba27999",
   "metadata": {},
   "outputs": [],
   "source": [
    "linreg = LinearRegression()\n",
    "linreg.fit(data['x'].to_frame(), data['y'])"
   ]
  },
  {
   "cell_type": "code",
   "execution_count": null,
   "id": "bc89c1cf",
   "metadata": {},
   "outputs": [],
   "source": [
    "# Make predictions of y using the fitted linear model:\n",
    "predictions = linreg.predict(data['x'].to_frame())\n",
    "\n",
    "# Calculate the residuals, that is, the difference between the predictions and the real outcome, y:\n",
    "residuals = data['y'] - predictions\n",
    "\n",
    "# Make a scatter plot of the independent variable x and the residuals:\n",
    "plt.scatter(y=residuals, x=data['x'])\n",
    "plt.ylabel('Residuals')\n",
    "plt.xlabel('Independent variable x')\n",
    "plt.show()"
   ]
  },
  {
   "cell_type": "code",
   "execution_count": null,
   "id": "add6487b",
   "metadata": {},
   "outputs": [],
   "source": [
    "sns.histplot(residuals, bins=30, kde=True)\n",
    "plt.xlabel('Residuals')\n",
    "plt.show()"
   ]
  },
  {
   "cell_type": "markdown",
   "id": "e6ca7302",
   "metadata": {},
   "source": [
    "### Example: Boston House price data"
   ]
  },
  {
   "cell_type": "code",
   "execution_count": null,
   "id": "fc861fbe",
   "metadata": {},
   "outputs": [],
   "source": [
    "# we plot the variable LAST (% lower status of the population)\n",
    "# vs the target MEDV (median value of the house)\n",
    "sns.lmplot(x=\"bedrooms\", y=\"price_usd\", data=airbnb_boston, order=1)\n",
    "plt.show()"
   ]
  },
  {
   "cell_type": "code",
   "execution_count": null,
   "id": "5f7e50e5",
   "metadata": {},
   "outputs": [],
   "source": [
    "sns.lmplot(x=\"latitude\", y=\"price_usd\", data=airbnb_boston, order=1)\n",
    "plt.show()"
   ]
  },
  {
   "cell_type": "markdown",
   "id": "4cd86965",
   "metadata": {},
   "source": [
    "## Identifying a normal distribution"
   ]
  },
  {
   "cell_type": "code",
   "execution_count": null,
   "id": "fe4e5d53",
   "metadata": {},
   "outputs": [],
   "source": [
    "np.random.seed(29)\n",
    "x = np.random.randn(200)"
   ]
  },
  {
   "cell_type": "code",
   "execution_count": null,
   "id": "0c770a4d",
   "metadata": {},
   "outputs": [],
   "source": [
    "data = pd.DataFrame([x]).T\n",
    "data.columns = ['x']"
   ]
  },
  {
   "cell_type": "code",
   "execution_count": null,
   "id": "881466ad",
   "metadata": {},
   "outputs": [],
   "source": [
    "sns.histplot(data['x'], bins=30, kde=True)\n",
    "plt.show()"
   ]
  },
  {
   "cell_type": "code",
   "execution_count": null,
   "id": "5d7e3675",
   "metadata": {},
   "outputs": [],
   "source": [
    "stats.probplot(data['x'], dist=\"norm\", plot=plt)\n",
    "plt.show()"
   ]
  },
  {
   "cell_type": "markdown",
   "id": "210a58ec",
   "metadata": {},
   "source": [
    "### Example: Boston House price data"
   ]
  },
  {
   "cell_type": "code",
   "execution_count": null,
   "id": "087e91cc",
   "metadata": {},
   "outputs": [],
   "source": [
    "stats.probplot(airbnb_boston['latitude'], dist=\"norm\", plot=plt)\n",
    "plt.show()"
   ]
  },
  {
   "cell_type": "code",
   "execution_count": null,
   "id": "d30cd138",
   "metadata": {},
   "outputs": [],
   "source": [
    "stats.probplot(airbnb_boston['number_of_reviews'], dist=\"norm\", plot=plt)\n",
    "plt.show()"
   ]
  },
  {
   "cell_type": "code",
   "execution_count": null,
   "id": "3c333c74",
   "metadata": {},
   "outputs": [],
   "source": [
    "sns.histplot(airbnb_boston['number_of_reviews'], bins=30, kde=True)\n",
    "plt.show()"
   ]
  },
  {
   "cell_type": "markdown",
   "id": "286076ef",
   "metadata": {},
   "source": [
    "## Distinguishing variable distribution"
   ]
  },
  {
   "cell_type": "code",
   "execution_count": null,
   "id": "08796e5b",
   "metadata": {},
   "outputs": [],
   "source": [
    "airbnb_boston.hist(bins=30, figsize=(12,12), density=True)\n",
    "plt.show()"
   ]
  },
  {
   "cell_type": "markdown",
   "id": "02cf2168",
   "metadata": {},
   "source": [
    "## Highlighting outliers"
   ]
  },
  {
   "cell_type": "code",
   "execution_count": null,
   "id": "4bcf1402",
   "metadata": {},
   "outputs": [],
   "source": [
    "plt.figure(figsize=(3,6))\n",
    "sns.boxplot(y=airbnb_boston['reviews_per_month'])\n",
    "plt.title('Boxplot')\n",
    "plt.show()"
   ]
  },
  {
   "cell_type": "code",
   "execution_count": null,
   "id": "5aaee75a",
   "metadata": {},
   "outputs": [],
   "source": [
    "def find_boundaries(df, variable, distance):\n",
    "    IQR = df[variable].quantile(0.75) - df[variable].quantile(0.25)\n",
    "    lower_boundary = df[variable].quantile(0.25) - (IQR * distance)\n",
    "    upper_boundary = df[variable].quantile(0.75) + (IQR * distance)\n",
    "    return upper_boundary, lower_boundary"
   ]
  },
  {
   "cell_type": "code",
   "execution_count": null,
   "id": "c285e31d",
   "metadata": {},
   "outputs": [],
   "source": [
    "upper_boundary, lower_boundary = find_boundaries(airbnb_boston, 'price_usd', 3)\n",
    "upper_boundary, lower_boundary"
   ]
  },
  {
   "cell_type": "code",
   "execution_count": null,
   "id": "fd3b6d6c",
   "metadata": {},
   "outputs": [],
   "source": [
    "outliers = np.where(airbnb_boston['price_usd'] > upper_boundary, True, np.where(airbnb_boston['price_usd'] < lower_boundary, True, False))"
   ]
  },
  {
   "cell_type": "code",
   "execution_count": null,
   "id": "547f0e16",
   "metadata": {},
   "outputs": [],
   "source": [
    "outliers_df = airbnb_boston.loc[outliers, 'price_usd']\n",
    "outliers_df.head()"
   ]
  },
  {
   "cell_type": "markdown",
   "id": "89fcfd9b",
   "metadata": {},
   "source": [
    "## Comparing feature magnitude"
   ]
  },
  {
   "cell_type": "code",
   "execution_count": null,
   "id": "28566f99",
   "metadata": {},
   "outputs": [],
   "source": [
    "airbnb_boston.describe()"
   ]
  },
  {
   "cell_type": "code",
   "execution_count": null,
   "id": "2910b4db",
   "metadata": {},
   "outputs": [],
   "source": [
    "airbnb_boston.select_dtypes(exclude=\"object\").max() - airbnb_boston.select_dtypes(exclude=\"object\").min()"
   ]
  }
 ],
 "metadata": {
  "kernelspec": {
   "display_name": "Python 3 (ipykernel)",
   "language": "python",
   "name": "python3"
  },
  "language_info": {
   "codemirror_mode": {
    "name": "ipython",
    "version": 3
   },
   "file_extension": ".py",
   "mimetype": "text/x-python",
   "name": "python",
   "nbconvert_exporter": "python",
   "pygments_lexer": "ipython3",
   "version": "3.11.4"
  }
 },
 "nbformat": 4,
 "nbformat_minor": 5
}
