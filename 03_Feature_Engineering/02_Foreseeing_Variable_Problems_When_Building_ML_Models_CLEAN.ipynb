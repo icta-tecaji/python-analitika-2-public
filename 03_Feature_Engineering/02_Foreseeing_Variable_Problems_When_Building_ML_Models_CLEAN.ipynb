{
 "cells": [
  {
   "cell_type": "markdown",
   "id": "fdae7b90",
   "metadata": {},
   "source": [
    "# Foreseeing Variable Problems When Building ML Models"
   ]
  },
  {
   "cell_type": "code",
   "execution_count": null,
   "id": "868fb148",
   "metadata": {},
   "outputs": [],
   "source": [
    "import numpy as np\n",
    "import pandas as pd\n",
    "%matplotlib inline\n",
    "import matplotlib.pyplot as plt\n",
    "import seaborn as sns\n",
    "import scipy.stats as stats\n",
    "\n",
    "# to display the total number columns present in the dataset\n",
    "pd.set_option('display.max_columns', None)"
   ]
  },
  {
   "cell_type": "markdown",
   "id": "e7bd8a9e",
   "metadata": {},
   "source": [
    "## Identifying numerical and categorical variables"
   ]
  },
  {
   "cell_type": "code",
   "execution_count": null,
   "id": "2810760c",
   "metadata": {},
   "outputs": [],
   "source": [
    "def get_first_cabin(row):\n",
    "    try:\n",
    "        return row.split()[0]\n",
    "    except:\n",
    "        return np.nan "
   ]
  },
  {
   "cell_type": "code",
   "execution_count": null,
   "id": "ee6d96ea",
   "metadata": {},
   "outputs": [],
   "source": [
    "data = pd.read_csv('https://www.openml.org/data/get_csv/16826755/phpMYEkMl')\n",
    "data = data.replace('?', np.nan)\n",
    "data['cabin'] = data['cabin'].apply(get_first_cabin)\n",
    "data.to_csv('data/titanic.csv', index=False)"
   ]
  },
  {
   "cell_type": "code",
   "execution_count": null,
   "id": "1bd31cd6",
   "metadata": {},
   "outputs": [],
   "source": [
    "data.head()"
   ]
  },
  {
   "cell_type": "code",
   "execution_count": null,
   "id": "21f9f6f7",
   "metadata": {},
   "outputs": [],
   "source": [
    "data.shape"
   ]
  },
  {
   "cell_type": "code",
   "execution_count": null,
   "id": "8fc40ff1",
   "metadata": {},
   "outputs": [],
   "source": [
    "data = pd.read_csv('data/titanic.csv')\n",
    "data.dtypes"
   ]
  },
  {
   "cell_type": "code",
   "execution_count": null,
   "id": "162a8c2b",
   "metadata": {},
   "outputs": [],
   "source": [
    "data['sibsp'].unique()"
   ]
  },
  {
   "cell_type": "code",
   "execution_count": null,
   "id": "726983e3",
   "metadata": {},
   "outputs": [],
   "source": [
    "data['fare'].unique()[0:20]"
   ]
  },
  {
   "cell_type": "code",
   "execution_count": null,
   "id": "6f02b8cd",
   "metadata": {},
   "outputs": [],
   "source": [
    "data.nunique()"
   ]
  },
  {
   "cell_type": "code",
   "execution_count": null,
   "id": "5824e5f0",
   "metadata": {},
   "outputs": [],
   "source": [
    "data['embarked'].unique()"
   ]
  },
  {
   "cell_type": "code",
   "execution_count": null,
   "id": "b201173d",
   "metadata": {},
   "outputs": [],
   "source": [
    "# inspect unique values - mixed variable\n",
    "data['cabin'].unique()[0:20]"
   ]
  },
  {
   "cell_type": "code",
   "execution_count": null,
   "id": "23c92bdc",
   "metadata": {},
   "outputs": [],
   "source": [
    "data['sibsp'].hist(bins=20)\n",
    "plt.show()"
   ]
  },
  {
   "cell_type": "code",
   "execution_count": null,
   "id": "5b6d9f1e",
   "metadata": {},
   "outputs": [],
   "source": [
    "data['fare'].hist(bins=50)\n",
    "plt.show()"
   ]
  },
  {
   "cell_type": "code",
   "execution_count": null,
   "id": "52bf6ac1",
   "metadata": {},
   "outputs": [],
   "source": [
    "# bar plots for categorical variables\n",
    "data['embarked'].value_counts().plot.bar()\n",
    "plt.xticks(rotation=0)\n",
    "plt.ylabel('Number of passengers')\n",
    "plt.title('embakred - port')\n",
    "plt.show()"
   ]
  },
  {
   "cell_type": "markdown",
   "id": "c862a480",
   "metadata": {},
   "source": [
    "## Quantifying missing data"
   ]
  },
  {
   "cell_type": "markdown",
   "id": "16a4690b",
   "metadata": {},
   "source": [
    "- Visit the following website: https://archive.ics.uci.edu/ml/machinelearning-databases/kddcup98-mld/epsilon_mirror/.\n",
    "- Click the `cup98lrn.zip` link to begin the download.\n",
    "- Unzip the file and save `cup98LRN.txt` in the same folder where you'll run the commands of the recipes."
   ]
  },
  {
   "cell_type": "code",
   "execution_count": null,
   "id": "ce1b9882",
   "metadata": {},
   "outputs": [],
   "source": [
    "cols = ['AGE', 'NUMCHLD', 'INCOME', 'WEALTH1', 'MBCRAFT', 'MBGARDEN', 'MBBOOKS', 'MBCOLECT', 'MAGFAML','MAGFEM', 'MAGMALE']\n",
    "# load the dataset\n",
    "data = pd.read_csv('data/cup98LRN.txt', usecols=cols)\n",
    "\n",
    "# let's inspect the first 5 rows\n",
    "data.head()"
   ]
  },
  {
   "cell_type": "code",
   "execution_count": null,
   "id": "1b36de1a",
   "metadata": {},
   "outputs": [],
   "source": [
    "data.shape"
   ]
  },
  {
   "cell_type": "code",
   "execution_count": null,
   "id": "dc25b956",
   "metadata": {},
   "outputs": [],
   "source": [
    "data.isnull().sum()"
   ]
  },
  {
   "cell_type": "code",
   "execution_count": null,
   "id": "7c7c2ec8",
   "metadata": {},
   "outputs": [],
   "source": [
    "data.isnull().mean() * 100"
   ]
  },
  {
   "cell_type": "code",
   "execution_count": null,
   "id": "a74f5ff8",
   "metadata": {},
   "outputs": [],
   "source": [
    "data.isnull().mean().plot.bar(figsize=(8,4))\n",
    "plt.ylabel('Percentage of missing values')\n",
    "plt.xlabel('Variables')\n",
    "plt.title('Quantifying missing data')\n",
    "plt.show()"
   ]
  },
  {
   "cell_type": "markdown",
   "id": "5a679c6a",
   "metadata": {},
   "source": [
    "## Determining cardinality in categorical variables"
   ]
  },
  {
   "cell_type": "markdown",
   "id": "a01a6eb3",
   "metadata": {},
   "source": [
    "**The number of unique categories in a variable is called cardinality.**"
   ]
  },
  {
   "cell_type": "code",
   "execution_count": null,
   "id": "aea6edb8",
   "metadata": {},
   "outputs": [],
   "source": [
    "cols = ['GENDER', 'RFA_2', 'MDMAUD_A', 'RFA_2', 'DOMAIN', 'RFA_15']\n",
    "data = pd.read_csv('data/cup98LRN.txt', usecols=cols)\n",
    "data.head()"
   ]
  },
  {
   "cell_type": "code",
   "execution_count": null,
   "id": "32ca7941",
   "metadata": {},
   "outputs": [],
   "source": [
    "data = data.replace(' ', np.nan)\n",
    "data.head()"
   ]
  },
  {
   "cell_type": "code",
   "execution_count": null,
   "id": "74f1bbc8",
   "metadata": {},
   "outputs": [],
   "source": [
    "data.nunique()"
   ]
  },
  {
   "cell_type": "code",
   "execution_count": null,
   "id": "c0c1526c",
   "metadata": {},
   "outputs": [],
   "source": [
    "data['GENDER'].unique()"
   ]
  },
  {
   "cell_type": "code",
   "execution_count": null,
   "id": "6ed15447",
   "metadata": {},
   "outputs": [],
   "source": [
    "data.nunique().plot.bar(figsize=(8,4))\n",
    "plt.ylabel('Number of unique categories')\n",
    "plt.xlabel('Variables')\n",
    "plt.title('Cardinality')\n",
    "plt.show()"
   ]
  },
  {
   "cell_type": "markdown",
   "id": "221390ee",
   "metadata": {},
   "source": [
    "## Pinpointing rare categories in categorical variables"
   ]
  },
  {
   "cell_type": "code",
   "execution_count": null,
   "id": "d973c79c",
   "metadata": {},
   "outputs": [],
   "source": [
    "data = pd.read_csv('data/car.data', header=None)\n",
    "data.columns = ['buying', 'maint', 'doors', 'persons', 'lug_boot', 'safety', 'class']\n",
    "data.head()"
   ]
  },
  {
   "cell_type": "code",
   "execution_count": null,
   "id": "a6405a6e",
   "metadata": {},
   "outputs": [],
   "source": [
    "data['class'].unique()"
   ]
  },
  {
   "cell_type": "code",
   "execution_count": null,
   "id": "a7f0210a",
   "metadata": {},
   "outputs": [],
   "source": [
    "label_freq = data['class'].value_counts() / len(data) * 100\n",
    "print(label_freq)"
   ]
  },
  {
   "cell_type": "code",
   "execution_count": null,
   "id": "203e40a2",
   "metadata": {},
   "outputs": [],
   "source": [
    "fig = label_freq.sort_values(ascending=False).plot.bar()\n",
    "fig.axhline(y=5, color='red')\n",
    "fig.set_ylabel('percentage of cars within each category')\n",
    "fig.set_xlabel('Variable: class')\n",
    "fig.set_title('Identifying Rare Categories')\n",
    "plt.show()"
   ]
  },
  {
   "cell_type": "markdown",
   "id": "c3babe48",
   "metadata": {},
   "source": [
    "## Identifying a linear relationship"
   ]
  },
  {
   "cell_type": "code",
   "execution_count": null,
   "id": "8031f8b4",
   "metadata": {},
   "outputs": [],
   "source": [
    "from sklearn.linear_model import LinearRegression"
   ]
  },
  {
   "cell_type": "code",
   "execution_count": null,
   "id": "327303e0",
   "metadata": {},
   "outputs": [],
   "source": [
    "np.random.seed(29)\n",
    "x = np.random.randn(200)"
   ]
  },
  {
   "cell_type": "code",
   "execution_count": null,
   "id": "11e43bb1",
   "metadata": {},
   "outputs": [],
   "source": [
    "y = x * 10 + np.random.randn(200) * 2"
   ]
  },
  {
   "cell_type": "code",
   "execution_count": null,
   "id": "3566dda3",
   "metadata": {},
   "outputs": [],
   "source": [
    "data = pd.DataFrame([x, y]).T\n",
    "data.columns = ['x', 'y']"
   ]
  },
  {
   "cell_type": "code",
   "execution_count": null,
   "id": "916b9235",
   "metadata": {},
   "outputs": [],
   "source": [
    "# we used the seaborn lmplot() method, which allows us to plot the data and fit and display a linear model on top of it\n",
    "sns.lmplot(x=\"x\", y=\"y\", data=data, order=1)\n",
    "plt.ylabel('Target')\n",
    "plt.xlabel('Independent variable')\n",
    "plt.show()"
   ]
  },
  {
   "cell_type": "code",
   "execution_count": null,
   "id": "8ba27999",
   "metadata": {},
   "outputs": [],
   "source": [
    "linreg = LinearRegression()\n",
    "linreg.fit(data['x'].to_frame(), data['y'])"
   ]
  },
  {
   "cell_type": "code",
   "execution_count": null,
   "id": "bc89c1cf",
   "metadata": {},
   "outputs": [],
   "source": [
    "# Make predictions of y using the fitted linear model:\n",
    "predictions = linreg.predict(data['x'].to_frame())\n",
    "\n",
    "# Calculate the residuals, that is, the difference between the predictions and the real outcome, y:\n",
    "residuals = data['y'] - predictions\n",
    "\n",
    "# Make a scatter plot of the independent variable x and the residuals:\n",
    "plt.scatter(y=residuals, x=data['x'])\n",
    "plt.ylabel('Residuals')\n",
    "plt.xlabel('Independent variable x')\n",
    "plt.show()"
   ]
  },
  {
   "cell_type": "code",
   "execution_count": null,
   "id": "add6487b",
   "metadata": {},
   "outputs": [],
   "source": [
    "sns.histplot(residuals, bins=30, kde=True)\n",
    "plt.xlabel('Residuals')\n",
    "plt.show()"
   ]
  },
  {
   "cell_type": "markdown",
   "id": "e6ca7302",
   "metadata": {},
   "source": [
    "### Example: Boston House price data"
   ]
  },
  {
   "cell_type": "code",
   "execution_count": null,
   "id": "06a37951",
   "metadata": {},
   "outputs": [],
   "source": [
    "# load the the Boston House price data from scikit-learn\n",
    "data_url = \"http://lib.stat.cmu.edu/datasets/boston\"\n",
    "raw_df = pd.read_csv(data_url, sep=\"\\s+\", skiprows=22, header=None)\n",
    "data = np.hstack([raw_df.values[::2, :], raw_df.values[1::2, :2]])\n",
    "target = raw_df.values[1::2, 2]\n",
    "feature_names = ['CRIM', 'ZN', 'INDUS', 'CHAS', 'NOX', 'RM', 'AGE', 'DIS', 'RAD', 'TAX', 'PTRATIO', 'B', 'LSTAT']\n",
    "boston = pd.DataFrame(data, columns=feature_names)\n",
    "# add the target\n",
    "boston['MEDV'] = target\n",
    "boston.to_csv(\"data/boston.csv\", index=False)\n",
    "boston.head()"
   ]
  },
  {
   "cell_type": "code",
   "execution_count": null,
   "id": "fc861fbe",
   "metadata": {},
   "outputs": [],
   "source": [
    "# we plot the variable LAST (% lower status of the population)\n",
    "# vs the target MEDV (median value of the house)\n",
    "sns.lmplot(x=\"LSTAT\", y=\"MEDV\", data=boston, order=1)\n",
    "plt.show()"
   ]
  },
  {
   "cell_type": "code",
   "execution_count": null,
   "id": "5f7e50e5",
   "metadata": {},
   "outputs": [],
   "source": [
    "# now we plot CRIM (per capita crime rate by town)\n",
    "# vs the target MEDV (median value of the house)\n",
    "\n",
    "sns.lmplot(x=\"CRIM\", y=\"MEDV\", data=boston, order=1)\n",
    "plt.show()"
   ]
  },
  {
   "cell_type": "code",
   "execution_count": null,
   "id": "10beba75",
   "metadata": {},
   "outputs": [],
   "source": [
    "# now we do the same for the variable LSTAT of the boston\n",
    "# house price dataset from sklearn\n",
    "\n",
    "# call the linear model from sklearn\n",
    "linreg = LinearRegression()\n",
    "\n",
    "# fit the model\n",
    "linreg.fit(boston['LSTAT'].to_frame(), boston['MEDV'])\n",
    "\n",
    "# make the predictions\n",
    "pred = linreg.predict(boston['LSTAT'].to_frame())\n",
    "\n",
    "# calculate the residuals\n",
    "error = boston['MEDV'] - pred"
   ]
  },
  {
   "cell_type": "code",
   "execution_count": null,
   "id": "742264f5",
   "metadata": {},
   "outputs": [],
   "source": [
    "# Residuals plot\n",
    "\n",
    "# if the relationship is linear, the noise should be\n",
    "# random, centered around zero, and follow a normal distribution\n",
    "\n",
    "plt.scatter(y=error, x=boston['LSTAT'])\n",
    "plt.ylabel('Residuals')\n",
    "plt.xlabel('LSTAT')\n",
    "plt.show()"
   ]
  },
  {
   "cell_type": "code",
   "execution_count": null,
   "id": "203762df",
   "metadata": {},
   "outputs": [],
   "source": [
    "# plot a histogram of the residuals\n",
    "# they should follow a gaussian distribution\n",
    "sns.histplot(error, bins=30, kde=True)\n",
    "plt.show()"
   ]
  },
  {
   "cell_type": "markdown",
   "id": "4cd86965",
   "metadata": {},
   "source": [
    "## Identifying a normal distribution"
   ]
  },
  {
   "cell_type": "markdown",
   "id": "5a90e26d",
   "metadata": {},
   "source": [
    "**Linear models assume that the independent variables are normally distributed. Failure to\n",
    "meet this assumption may produce algorithms that perform poorly.**"
   ]
  },
  {
   "cell_type": "code",
   "execution_count": null,
   "id": "fe4e5d53",
   "metadata": {},
   "outputs": [],
   "source": [
    "np.random.seed(29)\n",
    "x = np.random.randn(200)"
   ]
  },
  {
   "cell_type": "code",
   "execution_count": null,
   "id": "0c770a4d",
   "metadata": {},
   "outputs": [],
   "source": [
    "data = pd.DataFrame([x]).T\n",
    "data.columns = ['x']"
   ]
  },
  {
   "cell_type": "code",
   "execution_count": null,
   "id": "881466ad",
   "metadata": {},
   "outputs": [],
   "source": [
    "sns.histplot(data['x'], bins=30, kde=True)\n",
    "plt.show()"
   ]
  },
  {
   "cell_type": "code",
   "execution_count": null,
   "id": "5d7e3675",
   "metadata": {},
   "outputs": [],
   "source": [
    "stats.probplot(data['x'], dist=\"norm\", plot=plt)\n",
    "plt.show()"
   ]
  },
  {
   "cell_type": "markdown",
   "id": "210a58ec",
   "metadata": {},
   "source": [
    "### Example: Boston House price data"
   ]
  },
  {
   "cell_type": "code",
   "execution_count": null,
   "id": "8e6e9aa0",
   "metadata": {},
   "outputs": [],
   "source": [
    "boston.head()"
   ]
  },
  {
   "cell_type": "code",
   "execution_count": null,
   "id": "087e91cc",
   "metadata": {},
   "outputs": [],
   "source": [
    "# histogram of the variable RM from the boston\n",
    "# house price dataset from sklearn\n",
    "# RM is the average number of rooms per dwelling\n",
    "\n",
    "stats.probplot(boston['RM'], dist=\"norm\", plot=plt)\n",
    "plt.show()"
   ]
  },
  {
   "cell_type": "code",
   "execution_count": null,
   "id": "d30cd138",
   "metadata": {},
   "outputs": [],
   "source": [
    "# just for comparison, let's go ahead and plot CRIM\n",
    "stats.probplot(boston['CRIM'], dist=\"norm\", plot=plt)\n",
    "plt.show()"
   ]
  },
  {
   "cell_type": "code",
   "execution_count": null,
   "id": "3c333c74",
   "metadata": {},
   "outputs": [],
   "source": [
    "sns.histplot(boston['CRIM'], bins=30, kde=True)\n",
    "plt.show()"
   ]
  },
  {
   "cell_type": "markdown",
   "id": "286076ef",
   "metadata": {},
   "source": [
    "## Distinguishing variable distribution"
   ]
  },
  {
   "cell_type": "markdown",
   "id": "bd32ee41",
   "metadata": {},
   "source": [
    "**A probability distribution is a function that describes the likelihood of obtaining the\n",
    "possible values of a variable.**\n",
    "\n"
   ]
  },
  {
   "cell_type": "code",
   "execution_count": null,
   "id": "08796e5b",
   "metadata": {},
   "outputs": [],
   "source": [
    "boston.hist(bins=30, figsize=(12,12), density=True)\n",
    "plt.show()"
   ]
  },
  {
   "cell_type": "markdown",
   "id": "02cf2168",
   "metadata": {},
   "source": [
    "## Highlighting outliers"
   ]
  },
  {
   "cell_type": "markdown",
   "id": "73f411dc",
   "metadata": {},
   "source": [
    "**An outlier is a data point that is significantly different from the remaining data.**\n",
    "\n"
   ]
  },
  {
   "cell_type": "code",
   "execution_count": null,
   "id": "4bcf1402",
   "metadata": {},
   "outputs": [],
   "source": [
    "plt.figure(figsize=(3,6))\n",
    "sns.boxplot(y=boston['RM'])\n",
    "plt.title('Boxplot')\n",
    "plt.show()"
   ]
  },
  {
   "cell_type": "code",
   "execution_count": null,
   "id": "5aaee75a",
   "metadata": {},
   "outputs": [],
   "source": [
    "def find_boundaries(df, variable, distance):\n",
    "    IQR = df[variable].quantile(0.75) - df[variable].quantile(0.25)\n",
    "    lower_boundary = df[variable].quantile(0.25) - (IQR * distance)\n",
    "    upper_boundary = df[variable].quantile(0.75) + (IQR * distance)\n",
    "    return upper_boundary, lower_boundary"
   ]
  },
  {
   "cell_type": "code",
   "execution_count": null,
   "id": "c285e31d",
   "metadata": {},
   "outputs": [],
   "source": [
    "upper_boundary, lower_boundary = find_boundaries(boston, 'RM', 1.5)\n",
    "upper_boundary, lower_boundary"
   ]
  },
  {
   "cell_type": "code",
   "execution_count": null,
   "id": "fd3b6d6c",
   "metadata": {},
   "outputs": [],
   "source": [
    "outliers = np.where(boston['RM'] > upper_boundary, True, np.where(boston['RM'] < lower_boundary, True, False))"
   ]
  },
  {
   "cell_type": "code",
   "execution_count": null,
   "id": "547f0e16",
   "metadata": {},
   "outputs": [],
   "source": [
    "outliers_df = boston.loc[outliers, 'RM']\n",
    "outliers_df.head()"
   ]
  },
  {
   "cell_type": "markdown",
   "id": "89fcfd9b",
   "metadata": {},
   "source": [
    "## Comparing feature magnitude"
   ]
  },
  {
   "cell_type": "code",
   "execution_count": null,
   "id": "28566f99",
   "metadata": {},
   "outputs": [],
   "source": [
    "boston.describe()"
   ]
  },
  {
   "cell_type": "code",
   "execution_count": null,
   "id": "2910b4db",
   "metadata": {},
   "outputs": [],
   "source": [
    "boston.max() - boston.min()"
   ]
  }
 ],
 "metadata": {
  "kernelspec": {
   "display_name": "Python 3 (ipykernel)",
   "language": "python",
   "name": "python3"
  },
  "language_info": {
   "codemirror_mode": {
    "name": "ipython",
    "version": 3
   },
   "file_extension": ".py",
   "mimetype": "text/x-python",
   "name": "python",
   "nbconvert_exporter": "python",
   "pygments_lexer": "ipython3",
   "version": "3.10.7"
  }
 },
 "nbformat": 4,
 "nbformat_minor": 5
}
