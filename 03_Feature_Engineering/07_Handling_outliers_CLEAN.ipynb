{
 "cells": [
  {
   "cell_type": "markdown",
   "id": "b72ce5bc",
   "metadata": {},
   "source": [
    "# Handling outliers"
   ]
  },
  {
   "cell_type": "code",
   "execution_count": null,
   "id": "9578e76f",
   "metadata": {},
   "outputs": [],
   "source": [
    "import pandas as pd\n",
    "import numpy as np\n",
    "%matplotlib inline\n",
    "import matplotlib.pyplot as plt\n",
    "import seaborn as sns"
   ]
  },
  {
   "cell_type": "markdown",
   "id": "1cf00cec",
   "metadata": {},
   "source": [
    "**An outlier is a data point that is significantly different from the remaining data.** \n"
   ]
  },
  {
   "cell_type": "markdown",
   "id": "729d473b",
   "metadata": {},
   "source": [
    "## Trimming outliers from the dataset"
   ]
  },
  {
   "cell_type": "markdown",
   "id": "aac73722",
   "metadata": {},
   "source": [
    "**Trimming, or truncating, is the process of removing observations that show outliers in one\n",
    "or more variables in the dataset.** \n",
    "\n"
   ]
  },
  {
   "cell_type": "code",
   "execution_count": null,
   "id": "7d309834",
   "metadata": {},
   "outputs": [],
   "source": [
    "boston = pd.read_csv(\"data/boston.csv\")\n",
    "boston.head()"
   ]
  },
  {
   "cell_type": "code",
   "execution_count": null,
   "id": "1e8a833f",
   "metadata": {},
   "outputs": [],
   "source": [
    "# The outliers are the asterisks sitting outside the whiskers, which delimit the interquartile range proximity rule boundaries:\n",
    "sns.boxplot(boston['RM'])\n",
    "plt.show()"
   ]
  },
  {
   "cell_type": "code",
   "execution_count": null,
   "id": "0d323b29",
   "metadata": {},
   "outputs": [],
   "source": [
    "def find_boundaries(df, variable, distance, rule=\"inter-quartile\"):\n",
    "    if rule == \"inter-quartile\":\n",
    "        IQR = df[variable].quantile(0.75) - df[variable].quantile(0.25)\n",
    "        lower_boundary = df[variable].quantile(0.25) - (IQR * distance)\n",
    "        upper_boundary = df[variable].quantile(0.75) + (IQR * distance)\n",
    "        return upper_boundary, lower_boundary\n",
    "    elif rule == \"meanstddev\":\n",
    "        lower_boundary = df[variable].mean() - (df[variable].std() * distance)\n",
    "        upper_boundary = df[variable].mean() + (df[variable].std() * distance)\n",
    "        return upper_boundary, lower_boundary"
   ]
  },
  {
   "cell_type": "code",
   "execution_count": null,
   "id": "a9f50fa1",
   "metadata": {},
   "outputs": [],
   "source": [
    "RM_upper_limit, RM_lower_limit = find_boundaries(boston, 'RM', 1.5)"
   ]
  },
  {
   "cell_type": "code",
   "execution_count": null,
   "id": "61d0ad59",
   "metadata": {},
   "outputs": [],
   "source": [
    "# Let's print those limits beyond which we will consider a value an outlier:\n",
    "RM_upper_limit, RM_lower_limit"
   ]
  },
  {
   "cell_type": "code",
   "execution_count": null,
   "id": "533b3d9a",
   "metadata": {},
   "outputs": [],
   "source": [
    "outliers_RM = np.where(boston['RM'] > RM_upper_limit, True, np.where(boston['RM'] < RM_lower_limit, True, False))\n",
    "boston_trimmed = boston.loc[~(outliers_RM)]"
   ]
  },
  {
   "cell_type": "code",
   "execution_count": null,
   "id": "587769ba",
   "metadata": {},
   "outputs": [],
   "source": [
    "sns.boxplot(boston_trimmed['RM'])\n",
    "plt.show()"
   ]
  },
  {
   "cell_type": "code",
   "execution_count": null,
   "id": "7cabc1c6",
   "metadata": {},
   "outputs": [],
   "source": [
    "RM_upper_limit, RM_lower_limit = find_boundaries(boston, 'RM', 3, rule=\"meanstddev\")\n",
    "RM_upper_limit, RM_lower_limit"
   ]
  },
  {
   "cell_type": "markdown",
   "id": "a8b0439e",
   "metadata": {},
   "source": [
    "## Performing winsorization"
   ]
  },
  {
   "cell_type": "markdown",
   "id": "3fb52344",
   "metadata": {},
   "source": [
    "**Winsorization, or winsorizing, is the process of transforming the data by limiting the\n",
    "extreme values, that is, the outliers, to a certain arbitrary value, closer to the mean of the distribution**. \n"
   ]
  },
  {
   "cell_type": "code",
   "execution_count": null,
   "id": "ed11cd28",
   "metadata": {},
   "outputs": [],
   "source": [
    "boston = pd.read_csv(\"data/boston.csv\")\n",
    "boston.head()"
   ]
  },
  {
   "cell_type": "code",
   "execution_count": null,
   "id": "061c499f",
   "metadata": {},
   "outputs": [],
   "source": [
    "import scipy.stats as stats\n",
    "\n",
    "def diagnostic_plots(df, variable):\n",
    "    # function takes a dataframe (df) and\n",
    "    # the variable of interest as arguments\n",
    "\n",
    "    # define figure size\n",
    "    plt.figure(figsize=(16, 4))\n",
    "\n",
    "    # histogram\n",
    "    plt.subplot(1, 3, 1)\n",
    "    sns.histplot(df[variable], bins=30, kde=True)\n",
    "    plt.title('Histogram')\n",
    "\n",
    "    # Q-Q plot\n",
    "    plt.subplot(1, 3, 2)\n",
    "    stats.probplot(df[variable], dist=\"norm\", plot=plt)\n",
    "    plt.ylabel('RM quantiles')\n",
    "\n",
    "    # boxplot\n",
    "    plt.subplot(1, 3, 3)\n",
    "    sns.boxplot(y=df[variable])\n",
    "    plt.title('Boxplot')\n",
    "\n",
    "    plt.show()"
   ]
  },
  {
   "cell_type": "code",
   "execution_count": null,
   "id": "c14edd70",
   "metadata": {},
   "outputs": [],
   "source": [
    "diagnostic_plots(boston, 'RM')"
   ]
  },
  {
   "cell_type": "code",
   "execution_count": null,
   "id": "f9bfa24e",
   "metadata": {},
   "outputs": [],
   "source": [
    "diagnostic_plots(boston, 'LSTAT')"
   ]
  },
  {
   "cell_type": "code",
   "execution_count": null,
   "id": "ce54368b",
   "metadata": {},
   "outputs": [],
   "source": [
    "diagnostic_plots(boston, 'CRIM')"
   ]
  },
  {
   "cell_type": "code",
   "execution_count": null,
   "id": "588c3961",
   "metadata": {},
   "outputs": [],
   "source": [
    "from feature_engine.outliers import Winsorizer\n",
    "\n",
    "windsorizer = Winsorizer(capping_method='quantiles', \n",
    "                          tail='both', # cap left, right or both tails \n",
    "                          variables=['RM', 'LSTAT', 'CRIM'])\n",
    "\n",
    "windsorizer.fit(boston)"
   ]
  },
  {
   "cell_type": "code",
   "execution_count": null,
   "id": "04eb180d",
   "metadata": {},
   "outputs": [],
   "source": [
    "boston_t = windsorizer.transform(boston)"
   ]
  },
  {
   "cell_type": "code",
   "execution_count": null,
   "id": "22e39f27",
   "metadata": {},
   "outputs": [],
   "source": [
    "diagnostic_plots(boston_t, 'RM')"
   ]
  },
  {
   "cell_type": "code",
   "execution_count": null,
   "id": "4015d159",
   "metadata": {},
   "outputs": [],
   "source": [
    "# we can inspect the minimum caps for each variable\n",
    "windsorizer.left_tail_caps_"
   ]
  },
  {
   "cell_type": "code",
   "execution_count": null,
   "id": "62357089",
   "metadata": {},
   "outputs": [],
   "source": [
    "# we can inspect the maximum caps for each variable\n",
    "windsorizer.right_tail_caps_"
   ]
  },
  {
   "cell_type": "code",
   "execution_count": null,
   "id": "23e41273",
   "metadata": {},
   "outputs": [],
   "source": [
    "diagnostic_plots(boston_t, 'LSTAT')"
   ]
  },
  {
   "cell_type": "code",
   "execution_count": null,
   "id": "5eba8b07",
   "metadata": {},
   "outputs": [],
   "source": [
    "diagnostic_plots(boston_t, 'CRIM')"
   ]
  },
  {
   "cell_type": "markdown",
   "id": "92f4c756",
   "metadata": {},
   "source": [
    "## Capping the variable at arbitrary maximum and minimum values"
   ]
  },
  {
   "cell_type": "code",
   "execution_count": null,
   "id": "753d5d8b",
   "metadata": {},
   "outputs": [],
   "source": [
    "boston = pd.read_csv(\"data/boston.csv\")\n",
    "boston.head()"
   ]
  },
  {
   "cell_type": "code",
   "execution_count": null,
   "id": "942aaf13",
   "metadata": {},
   "outputs": [],
   "source": [
    "from feature_engine.outliers import Winsorizer\n",
    "\n",
    "windsorizer = Winsorizer(capping_method='gaussian', # choose iqr for skewed or gaussian\n",
    "                          tail='both', # cap left, right or both tails \n",
    "                          fold=3,\n",
    "                          variables=['RM', 'LSTAT', 'CRIM'])\n",
    "\n",
    "windsorizer.fit(boston)"
   ]
  },
  {
   "cell_type": "code",
   "execution_count": null,
   "id": "e099e1b5",
   "metadata": {},
   "outputs": [],
   "source": [
    "boston_t = windsorizer.transform(boston)"
   ]
  },
  {
   "cell_type": "code",
   "execution_count": null,
   "id": "ea66f64b",
   "metadata": {},
   "outputs": [],
   "source": [
    "# we can inspect the minimum caps for each variable\n",
    "windsorizer.left_tail_caps_"
   ]
  },
  {
   "cell_type": "code",
   "execution_count": null,
   "id": "de268291",
   "metadata": {},
   "outputs": [],
   "source": [
    "# we can inspect the maximum caps for each variable\n",
    "windsorizer.right_tail_caps_"
   ]
  }
 ],
 "metadata": {
  "kernelspec": {
   "display_name": "Python 3 (ipykernel)",
   "language": "python",
   "name": "python3"
  },
  "language_info": {
   "codemirror_mode": {
    "name": "ipython",
    "version": 3
   },
   "file_extension": ".py",
   "mimetype": "text/x-python",
   "name": "python",
   "nbconvert_exporter": "python",
   "pygments_lexer": "ipython3",
   "version": "3.10.7"
  }
 },
 "nbformat": 4,
 "nbformat_minor": 5
}
