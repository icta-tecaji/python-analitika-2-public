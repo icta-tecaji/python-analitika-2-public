{
 "cells": [
  {
   "cell_type": "markdown",
   "id": "b72ce5bc",
   "metadata": {},
   "source": [
    "# Handling outliers"
   ]
  },
  {
   "cell_type": "markdown",
   "id": "fd2cc14c",
   "metadata": {},
   "source": [
    "Viri:\n",
    "- [Detecting and Handling Outliers Properly](https://medium.com/analytics-vidhya/detect-and-handling-outliers-53723d8ec17a)\n",
    "- [Outliers in Data: How to Find and Deal with Them in Satistics](https://cxl.com/blog/outliers/)\n",
    "- [Detecting and Treating Outliers | Treating the odd one out!](https://www.analyticsvidhya.com/blog/2021/05/detecting-and-treating-outliers-treating-the-odd-one-out/)"
   ]
  },
  {
   "cell_type": "code",
   "execution_count": null,
   "id": "9578e76f",
   "metadata": {},
   "outputs": [],
   "source": [
    "import pandas as pd\n",
    "import numpy as np\n",
    "%matplotlib inline\n",
    "import matplotlib.pyplot as plt\n",
    "import seaborn as sns"
   ]
  },
  {
   "cell_type": "markdown",
   "id": "1cf00cec",
   "metadata": {},
   "source": [
    "**An outlier is a data point that is significantly different from the remaining data.** \n",
    "- **Statistical parameters** such as the mean and variance are **sensitive** to outliers. \n",
    "- Outliers may also affect the performance of some machine learning models, such as **linear regression or AdaBoost**\n",
    "\n"
   ]
  },
  {
   "cell_type": "markdown",
   "id": "729d473b",
   "metadata": {},
   "source": [
    "## Trimming outliers from the dataset"
   ]
  },
  {
   "cell_type": "markdown",
   "id": "aac73722",
   "metadata": {},
   "source": [
    "**Trimming, or truncating, is the process of removing observations that show outliers in one\n",
    "or more variables in the dataset.** \n",
    "\n",
    "There are three commonly used methods to set the boundaries beyond which a value can be considered an outlier.\n",
    "- If the variable is **normally distributed**, the boundaries are given by the mean plus or minus three times the standard deviation, as approximately 99% of the data will be distributed between those limits. \n",
    "- For **normally, as well as not normally, distributed** variables, we can determine the limits using the inter-quartile range proximity rules or by directly setting the limits to the 5th and 95th quantiles."
   ]
  },
  {
   "cell_type": "code",
   "execution_count": null,
   "id": "7d309834",
   "metadata": {},
   "outputs": [],
   "source": [
    "boston = pd.read_csv(\"data/boston.csv\")\n",
    "boston.head()"
   ]
  },
  {
   "cell_type": "code",
   "execution_count": null,
   "id": "1e8a833f",
   "metadata": {},
   "outputs": [],
   "source": [
    "# The outliers are the asterisks sitting outside the whiskers, which delimit the interquartile range proximity rule boundaries:\n",
    "sns.boxplot(boston['RM'])\n",
    "plt.show()"
   ]
  },
  {
   "cell_type": "code",
   "execution_count": null,
   "id": "0d323b29",
   "metadata": {},
   "outputs": [],
   "source": [
    "def find_boundaries(df, variable, distance, rule=\"inter-quartile\"):\n",
    "    if rule == \"inter-quartile\":\n",
    "        IQR = df[variable].quantile(0.75) - df[variable].quantile(0.25)\n",
    "        lower_boundary = df[variable].quantile(0.25) - (IQR * distance)\n",
    "        upper_boundary = df[variable].quantile(0.75) + (IQR * distance)\n",
    "        return upper_boundary, lower_boundary\n",
    "    elif rule == \"meanstddev\":\n",
    "        lower_boundary = df[variable].mean() - (df[variable].std() * distance)\n",
    "        upper_boundary = df[variable].mean() + (df[variable].std() * distance)\n",
    "        return upper_boundary, lower_boundary"
   ]
  },
  {
   "cell_type": "code",
   "execution_count": null,
   "id": "a9f50fa1",
   "metadata": {},
   "outputs": [],
   "source": [
    "RM_upper_limit, RM_lower_limit = find_boundaries(boston, 'RM', 1.5)"
   ]
  },
  {
   "cell_type": "code",
   "execution_count": null,
   "id": "61d0ad59",
   "metadata": {},
   "outputs": [],
   "source": [
    "# Let's print those limits beyond which we will consider a value an outlier:\n",
    "RM_upper_limit, RM_lower_limit"
   ]
  },
  {
   "cell_type": "code",
   "execution_count": null,
   "id": "533b3d9a",
   "metadata": {},
   "outputs": [],
   "source": [
    "outliers_RM = np.where(boston['RM'] > RM_upper_limit, True, np.where(boston['RM'] < RM_lower_limit, True, False))\n",
    "boston_trimmed = boston.loc[~(outliers_RM)]"
   ]
  },
  {
   "cell_type": "code",
   "execution_count": null,
   "id": "587769ba",
   "metadata": {},
   "outputs": [],
   "source": [
    "sns.boxplot(boston_trimmed['RM'])\n",
    "plt.show()"
   ]
  },
  {
   "cell_type": "code",
   "execution_count": null,
   "id": "7cabc1c6",
   "metadata": {},
   "outputs": [],
   "source": [
    "RM_upper_limit, RM_lower_limit = find_boundaries(boston, 'RM', 3, rule=\"meanstddev\")\n",
    "RM_upper_limit, RM_lower_limit"
   ]
  }
 ],
 "metadata": {
  "kernelspec": {
   "display_name": "Python 3 (ipykernel)",
   "language": "python",
   "name": "python3"
  },
  "language_info": {
   "codemirror_mode": {
    "name": "ipython",
    "version": 3
   },
   "file_extension": ".py",
   "mimetype": "text/x-python",
   "name": "python",
   "nbconvert_exporter": "python",
   "pygments_lexer": "ipython3",
   "version": "3.11.4"
  }
 },
 "nbformat": 4,
 "nbformat_minor": 5
}
