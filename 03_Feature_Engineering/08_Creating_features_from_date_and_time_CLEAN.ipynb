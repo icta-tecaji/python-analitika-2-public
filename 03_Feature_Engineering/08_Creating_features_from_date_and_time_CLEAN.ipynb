{
 "cells": [
  {
   "cell_type": "markdown",
   "id": "050e1f0d",
   "metadata": {},
   "source": [
    "# Creating features from date and time"
   ]
  },
  {
   "cell_type": "code",
   "execution_count": null,
   "id": "0d5f795f",
   "metadata": {},
   "outputs": [],
   "source": [
    "import pandas as pd\n",
    "import numpy as np\n",
    "%matplotlib inline\n",
    "import matplotlib.pyplot as plt\n",
    "import seaborn as sns"
   ]
  },
  {
   "cell_type": "markdown",
   "id": "8309d3cf",
   "metadata": {},
   "source": [
    "**Date and time variables are those that contain information about dates, times, or date and\n",
    "time.** \n",
    "\n",
    "In programming, we refer to these variables as datetime variables. Examples of the\n",
    "datetime variables are date of birth, time of the accident, and date of last payment. \n",
    "\n",
    "**The datetime variables usually contain a multitude of different labels corresponding to a\n",
    "specific combination of date and time.** \n",
    "\n",
    "**We do not utilize the datetime variables in their\n",
    "raw format when building machine learning models.** Instead, we enrich the dataset\n",
    "dramatically by deriving multiple features from these variables."
   ]
  },
  {
   "cell_type": "markdown",
   "id": "21157765",
   "metadata": {},
   "source": [
    "## Extracting date and time parts from a datetime variable"
   ]
  },
  {
   "cell_type": "markdown",
   "id": "dafd492c",
   "metadata": {},
   "source": [
    "The datetime variables can take dates, time, or date and time as values. The datetime\n",
    "variables are not used in their raw format to build machine learning algorithms. Instead, we\n",
    "**create additional features from them, and, in fact, we can enrich the dataset dramatically by\n",
    "extracting information from the date and time.**\n",
    "\n"
   ]
  },
  {
   "cell_type": "code",
   "execution_count": null,
   "id": "94062c7a",
   "metadata": {},
   "outputs": [],
   "source": [
    "rng_ = pd.date_range('2019-03-05', periods=20, freq='T')\n",
    "df = pd.DataFrame({'date': rng_})\n",
    "df.head()"
   ]
  },
  {
   "cell_type": "code",
   "execution_count": null,
   "id": "db51c211",
   "metadata": {},
   "outputs": [],
   "source": [
    "df.dtypes"
   ]
  },
  {
   "cell_type": "code",
   "execution_count": null,
   "id": "93fb1d4d",
   "metadata": {},
   "outputs": [],
   "source": [
    "df['date_part'] = df['date'].dt.date\n",
    "df.head()"
   ]
  },
  {
   "cell_type": "code",
   "execution_count": null,
   "id": "c7d51ef7",
   "metadata": {},
   "outputs": [],
   "source": [
    "df['time_part'] = df['date'].dt.time\n",
    "df.head()"
   ]
  },
  {
   "cell_type": "markdown",
   "id": "39b9b1cb",
   "metadata": {},
   "source": [
    "## Deriving representations of the year and month"
   ]
  },
  {
   "cell_type": "markdown",
   "id": "697a0f19",
   "metadata": {},
   "source": [
    "**Some events occur more often at certain times of the year**, for example, recruitment rates\n",
    "increase after Christmas and slow down toward the summer holidays in Europe.\n",
    "Businesses and organizations want to evaluate performance and objectives at regular\n",
    "intervals throughout the year, for example, at every quarter or every semester. Therefore,\n",
    "deriving these features from a date variable is very useful for both data analysis and\n",
    "machine learning."
   ]
  },
  {
   "cell_type": "code",
   "execution_count": null,
   "id": "05ab390e",
   "metadata": {},
   "outputs": [],
   "source": [
    "rng_ = pd.date_range('2019-03-05', periods=20, freq='M')\n",
    "df = pd.DataFrame({'date': rng_})\n",
    "df.head()"
   ]
  },
  {
   "cell_type": "code",
   "execution_count": null,
   "id": "cd9f5909",
   "metadata": {},
   "outputs": [],
   "source": [
    "df['year'] = df['date'].dt.year\n",
    "df.head()"
   ]
  },
  {
   "cell_type": "code",
   "execution_count": null,
   "id": "221cd380",
   "metadata": {},
   "outputs": [],
   "source": [
    "df['month'] = df['date'].dt.month\n",
    "df.head()"
   ]
  },
  {
   "cell_type": "code",
   "execution_count": null,
   "id": "fe623a9b",
   "metadata": {},
   "outputs": [],
   "source": [
    "df['quarter'] = df['date'].dt.quarter\n",
    "df.head()"
   ]
  },
  {
   "cell_type": "markdown",
   "id": "91b152d7",
   "metadata": {},
   "source": [
    "## Creating representations of day and week"
   ]
  },
  {
   "cell_type": "markdown",
   "id": "aede760e",
   "metadata": {},
   "source": [
    "**Some events occur more often on certain days of the week**, for example, loan applications\n",
    "occur more likely during the week than over weekends, whereas others occur more often\n",
    "during certain weeks of the year. Businesses and organizations may also want to track some\n",
    "key performance metrics throughout the week. \n"
   ]
  },
  {
   "cell_type": "code",
   "execution_count": null,
   "id": "c88aca26",
   "metadata": {},
   "outputs": [],
   "source": [
    "rng_ = pd.date_range('2019-03-05', periods=20, freq='D')\n",
    "df = pd.DataFrame({'date': rng_})\n",
    "df.head()"
   ]
  },
  {
   "cell_type": "code",
   "execution_count": null,
   "id": "f92300e6",
   "metadata": {},
   "outputs": [],
   "source": [
    "df['day_mo'] = df['date'].dt.day\n",
    "df.head()"
   ]
  },
  {
   "cell_type": "code",
   "execution_count": null,
   "id": "37817953",
   "metadata": {},
   "outputs": [],
   "source": [
    "df['day_week'] = df['date'].dt.dayofweek\n",
    "df.head()"
   ]
  },
  {
   "cell_type": "code",
   "execution_count": null,
   "id": "a12dd624",
   "metadata": {},
   "outputs": [],
   "source": [
    "df['day_week_name'] = df['date'].dt.day_name()\n",
    "df.head()"
   ]
  },
  {
   "cell_type": "code",
   "execution_count": null,
   "id": "c5b1daa4",
   "metadata": {},
   "outputs": [],
   "source": [
    "df['is_weekend'] = np.where(df['day_week_name'].isin(['Sunday', 'Saturday']), 1, 0)\n",
    "df.head()"
   ]
  },
  {
   "cell_type": "code",
   "execution_count": null,
   "id": "b6aee636",
   "metadata": {},
   "outputs": [],
   "source": [
    "df['week'] = df['date'].dt.isocalendar().week\n",
    "df.head()"
   ]
  },
  {
   "cell_type": "markdown",
   "id": "237afb00",
   "metadata": {},
   "source": [
    "## Extracting time parts from a time variable"
   ]
  },
  {
   "cell_type": "markdown",
   "id": "3417bda5",
   "metadata": {},
   "source": [
    "**Some events occur more often at certain times of the day,** for example, fraudulent activity\n",
    "occurs more likely during the night or early morning. Also, occasionally, organizations\n",
    "want to track whether an event occurred after another one, in a very short time window, for\n",
    "example, if sales increased on the back of displaying a TV or online advertisement.\n",
    "Therefore, deriving time features is extremely useful."
   ]
  },
  {
   "cell_type": "code",
   "execution_count": null,
   "id": "cc544b3f",
   "metadata": {},
   "outputs": [],
   "source": [
    "rng_ = pd.date_range('2019-03-05', periods=20, freq='1h15min10s')\n",
    "df = pd.DataFrame({'date': rng_})\n",
    "df.head()"
   ]
  },
  {
   "cell_type": "code",
   "execution_count": null,
   "id": "811efa44",
   "metadata": {},
   "outputs": [],
   "source": [
    "df['hour'] = df['date'].dt.hour\n",
    "df['min'] = df['date'].dt.minute\n",
    "df['sec'] = df['date'].dt.second\n",
    "df.head()"
   ]
  },
  {
   "cell_type": "code",
   "execution_count": null,
   "id": "a299234e",
   "metadata": {},
   "outputs": [],
   "source": [
    "df['is_morning'] = np.where( (df['hour'] < 12) & (df['hour'] > 6), 1, 0 )\n",
    "df.head()"
   ]
  },
  {
   "cell_type": "markdown",
   "id": "1e88888c",
   "metadata": {},
   "source": [
    "## Capturing the elapsed time between datetime variables"
   ]
  },
  {
   "cell_type": "markdown",
   "id": "9f95b0cb",
   "metadata": {},
   "source": [
    "**The datetime variables offer value individually and they offer more value collectively\n",
    "when used together with other datetime variables to derive important insights.** The most\n",
    "common example consists in deriving the age from the date of birth and today variable, or\n",
    "the day the customer had an accident or requested a loan. Like these examples, we can\n",
    "combine several datetime variables to derive the time that passed in between and create\n",
    "more meaningful features."
   ]
  },
  {
   "cell_type": "code",
   "execution_count": null,
   "id": "c09878b9",
   "metadata": {},
   "outputs": [],
   "source": [
    "rng_hr = pd.date_range('2019-03-05', periods=20, freq='H')\n",
    "rng_month = pd.date_range('2019-03-05', periods=20, freq='M')\n",
    "df = pd.DataFrame({'date1': rng_hr, 'date2': rng_month})\n",
    "df.head()"
   ]
  },
  {
   "cell_type": "code",
   "execution_count": null,
   "id": "da2ed79c",
   "metadata": {},
   "outputs": [],
   "source": [
    "df['elapsed_days'] = (df['date2'] - df['date1']).dt.days\n",
    "df.head()"
   ]
  },
  {
   "cell_type": "code",
   "execution_count": null,
   "id": "defbf062",
   "metadata": {},
   "outputs": [],
   "source": [
    "df['months_passed'] = ((df['date2'] - df['date1']) / np.timedelta64(1, 'M'))\n",
    "df['months_passed'] = np.round(df['months_passed'],0)\n",
    "df.head()"
   ]
  },
  {
   "cell_type": "code",
   "execution_count": null,
   "id": "46490fdf",
   "metadata": {},
   "outputs": [],
   "source": [
    "df['diff_seconds'] = (df['date2'] - df['date1'])/np.timedelta64(1,'s')\n",
    "df['diff_minutes'] = (df['date2'] - df['date1'])/np.timedelta64(1,'m')\n",
    "df.head()"
   ]
  },
  {
   "cell_type": "code",
   "execution_count": null,
   "id": "5e24dcba",
   "metadata": {},
   "outputs": [],
   "source": [
    "import datetime\n",
    "\n",
    "df['to_today'] = (datetime.datetime.today() - df['date1'])\n",
    "df.head()"
   ]
  },
  {
   "cell_type": "markdown",
   "id": "c1a885a3",
   "metadata": {},
   "source": [
    "## Working with time in different time zones"
   ]
  },
  {
   "cell_type": "markdown",
   "id": "ccab2c02",
   "metadata": {},
   "source": [
    "Some organizations operate internationally; therefore, the information they collect about\n",
    "events may be recorded together with the time zone of the area where the event took place.\n",
    "**To be able to compare events that occurred across different time zones, we first need to set\n",
    "all of the variables within the same zone**."
   ]
  },
  {
   "cell_type": "code",
   "execution_count": null,
   "id": "901f5e9d",
   "metadata": {},
   "outputs": [],
   "source": [
    "df = pd.DataFrame()\n",
    "\n",
    "df['time1'] = pd.concat([\n",
    "    pd.Series(pd.date_range(start='2015-06-10 09:00', freq='H', periods=3, tz='Europe/Berlin')),\n",
    "    pd.Series( pd.date_range(start='2015-09-10 09:00', freq='H', periods=3, tz='US/Central'))], axis=0)"
   ]
  },
  {
   "cell_type": "code",
   "execution_count": null,
   "id": "ba6637e2",
   "metadata": {},
   "outputs": [],
   "source": [
    "df['time2'] = pd.concat([\n",
    "    pd.Series(pd.date_range(start='2015-07-01 09:00', freq='H', periods=3,tz='Europe/Berlin')),\n",
    "    pd.Series(pd.date_range(start='2015-08-01 09:00', freq='H', periods=3, tz='US/Central'))], axis=0)"
   ]
  },
  {
   "cell_type": "code",
   "execution_count": null,
   "id": "5bf594b2",
   "metadata": {},
   "outputs": [],
   "source": [
    "df"
   ]
  },
  {
   "cell_type": "code",
   "execution_count": null,
   "id": "fbab651b",
   "metadata": {},
   "outputs": [],
   "source": [
    "df['time1_utc'] = pd.to_datetime(df['time1'], utc=True)\n",
    "df['time2_utc'] = pd.to_datetime(df['time2'], utc=True)\n",
    "df"
   ]
  },
  {
   "cell_type": "code",
   "execution_count": null,
   "id": "4ce516b2",
   "metadata": {},
   "outputs": [],
   "source": [
    "df['elapsed_days'] = (df['time2_utc'] - df['time1_utc']).dt.days\n",
    "df['elapsed_days'].head()"
   ]
  },
  {
   "cell_type": "code",
   "execution_count": null,
   "id": "4fd00d05",
   "metadata": {},
   "outputs": [],
   "source": [
    "df['time1_london'] = df['time1_utc'].dt.tz_convert('Europe/London')\n",
    "df['time2_berlin'] = df['time1_utc'].dt.tz_convert('Europe/Berlin')\n",
    "df[['time1_london', 'time2_berlin']]"
   ]
  }
 ],
 "metadata": {
  "kernelspec": {
   "display_name": "Python 3 (ipykernel)",
   "language": "python",
   "name": "python3"
  },
  "language_info": {
   "codemirror_mode": {
    "name": "ipython",
    "version": 3
   },
   "file_extension": ".py",
   "mimetype": "text/x-python",
   "name": "python",
   "nbconvert_exporter": "python",
   "pygments_lexer": "ipython3",
   "version": "3.11.4"
  }
 },
 "nbformat": 4,
 "nbformat_minor": 5
}
