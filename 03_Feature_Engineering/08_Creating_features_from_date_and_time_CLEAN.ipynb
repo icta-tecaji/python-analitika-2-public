{
 "cells": [
  {
   "cell_type": "markdown",
   "id": "050e1f0d",
   "metadata": {},
   "source": [
    "# Creating features from date and time"
   ]
  },
  {
   "cell_type": "code",
   "execution_count": null,
   "id": "0d5f795f",
   "metadata": {},
   "outputs": [],
   "source": [
    "import pandas as pd\n",
    "import numpy as np\n",
    "%matplotlib inline\n",
    "import matplotlib.pyplot as plt\n",
    "import seaborn as sns"
   ]
  },
  {
   "cell_type": "markdown",
   "id": "8309d3cf",
   "metadata": {},
   "source": [
    "**Date and time variables are those that contain information about dates, times, or date and\n",
    "time.** \n"
   ]
  },
  {
   "cell_type": "markdown",
   "id": "21157765",
   "metadata": {},
   "source": [
    "## Extracting date and time parts from a datetime variable"
   ]
  },
  {
   "cell_type": "code",
   "execution_count": null,
   "id": "94062c7a",
   "metadata": {},
   "outputs": [],
   "source": [
    "rng_ = pd.date_range('2019-03-05', periods=20, freq='T')\n",
    "df = pd.DataFrame({'date': rng_})\n",
    "df.head()"
   ]
  },
  {
   "cell_type": "code",
   "execution_count": null,
   "id": "db51c211",
   "metadata": {},
   "outputs": [],
   "source": [
    "df.dtypes"
   ]
  },
  {
   "cell_type": "code",
   "execution_count": null,
   "id": "93fb1d4d",
   "metadata": {},
   "outputs": [],
   "source": [
    "df['date_part'] = df['date'].dt.date\n",
    "df.head()"
   ]
  },
  {
   "cell_type": "code",
   "execution_count": null,
   "id": "c7d51ef7",
   "metadata": {},
   "outputs": [],
   "source": [
    "df['time_part'] = df['date'].dt.time\n",
    "df.head()"
   ]
  },
  {
   "cell_type": "markdown",
   "id": "39b9b1cb",
   "metadata": {},
   "source": [
    "## Deriving representations of the year and month"
   ]
  },
  {
   "cell_type": "code",
   "execution_count": null,
   "id": "05ab390e",
   "metadata": {},
   "outputs": [],
   "source": [
    "rng_ = pd.date_range('2019-03-05', periods=20, freq='M')\n",
    "df = pd.DataFrame({'date': rng_})\n",
    "df.head()"
   ]
  },
  {
   "cell_type": "code",
   "execution_count": null,
   "id": "cd9f5909",
   "metadata": {},
   "outputs": [],
   "source": [
    "df['year'] = df['date'].dt.year\n",
    "df.head()"
   ]
  },
  {
   "cell_type": "code",
   "execution_count": null,
   "id": "221cd380",
   "metadata": {},
   "outputs": [],
   "source": [
    "df['month'] = df['date'].dt.month\n",
    "df.head()"
   ]
  },
  {
   "cell_type": "code",
   "execution_count": null,
   "id": "fe623a9b",
   "metadata": {},
   "outputs": [],
   "source": [
    "df['quarter'] = df['date'].dt.quarter\n",
    "df.head()"
   ]
  },
  {
   "cell_type": "markdown",
   "id": "91b152d7",
   "metadata": {},
   "source": [
    "## Creating representations of day and week"
   ]
  },
  {
   "cell_type": "code",
   "execution_count": null,
   "id": "c88aca26",
   "metadata": {},
   "outputs": [],
   "source": [
    "rng_ = pd.date_range('2019-03-05', periods=20, freq='D')\n",
    "df = pd.DataFrame({'date': rng_})\n",
    "df.head()"
   ]
  },
  {
   "cell_type": "code",
   "execution_count": null,
   "id": "f92300e6",
   "metadata": {},
   "outputs": [],
   "source": [
    "df['day_mo'] = df['date'].dt.day\n",
    "df.head()"
   ]
  },
  {
   "cell_type": "code",
   "execution_count": null,
   "id": "37817953",
   "metadata": {},
   "outputs": [],
   "source": [
    "df['day_week'] = df['date'].dt.dayofweek\n",
    "df.head()"
   ]
  },
  {
   "cell_type": "code",
   "execution_count": null,
   "id": "a12dd624",
   "metadata": {},
   "outputs": [],
   "source": [
    "df['day_week_name'] = df['date'].dt.day_name()\n",
    "df.head()"
   ]
  },
  {
   "cell_type": "code",
   "execution_count": null,
   "id": "c5b1daa4",
   "metadata": {},
   "outputs": [],
   "source": [
    "df['is_weekend'] = np.where(df['day_week_name'].isin(['Sunday', 'Saturday']), 1, 0)\n",
    "df.head()"
   ]
  },
  {
   "cell_type": "code",
   "execution_count": null,
   "id": "b6aee636",
   "metadata": {},
   "outputs": [],
   "source": [
    "df['week'] = df['date'].dt.isocalendar().week\n",
    "df.head()"
   ]
  },
  {
   "cell_type": "markdown",
   "id": "237afb00",
   "metadata": {},
   "source": [
    "## Extracting time parts from a time variable"
   ]
  },
  {
   "cell_type": "code",
   "execution_count": null,
   "id": "cc544b3f",
   "metadata": {},
   "outputs": [],
   "source": [
    "rng_ = pd.date_range('2019-03-05', periods=20, freq='1h15min10s')\n",
    "df = pd.DataFrame({'date': rng_})\n",
    "df.head()"
   ]
  },
  {
   "cell_type": "code",
   "execution_count": null,
   "id": "811efa44",
   "metadata": {},
   "outputs": [],
   "source": [
    "df['hour'] = df['date'].dt.hour\n",
    "df['min'] = df['date'].dt.minute\n",
    "df['sec'] = df['date'].dt.second\n",
    "df.head()"
   ]
  },
  {
   "cell_type": "code",
   "execution_count": null,
   "id": "a299234e",
   "metadata": {},
   "outputs": [],
   "source": [
    "df['is_morning'] = np.where( (df['hour'] < 12) & (df['hour'] > 6), 1, 0 )\n",
    "df.head()"
   ]
  },
  {
   "cell_type": "markdown",
   "id": "1e88888c",
   "metadata": {},
   "source": [
    "## Capturing the elapsed time between datetime variables"
   ]
  },
  {
   "cell_type": "code",
   "execution_count": null,
   "id": "c09878b9",
   "metadata": {},
   "outputs": [],
   "source": [
    "rng_hr = pd.date_range('2019-03-05', periods=20, freq='H')\n",
    "rng_month = pd.date_range('2019-03-05', periods=20, freq='M')\n",
    "df = pd.DataFrame({'date1': rng_hr, 'date2': rng_month})\n",
    "df.head()"
   ]
  },
  {
   "cell_type": "code",
   "execution_count": null,
   "id": "da2ed79c",
   "metadata": {},
   "outputs": [],
   "source": [
    "df['elapsed_days'] = (df['date2'] - df['date1']).dt.days\n",
    "df.head()"
   ]
  },
  {
   "cell_type": "code",
   "execution_count": null,
   "id": "defbf062",
   "metadata": {},
   "outputs": [],
   "source": [
    "df['months_passed'] = ((df['date2'] - df['date1']) / np.timedelta64(1, 'M'))\n",
    "df['months_passed'] = np.round(df['months_passed'],0)\n",
    "df.head()"
   ]
  },
  {
   "cell_type": "code",
   "execution_count": null,
   "id": "46490fdf",
   "metadata": {},
   "outputs": [],
   "source": [
    "df['diff_seconds'] = (df['date2'] - df['date1'])/np.timedelta64(1,'s')\n",
    "df['diff_minutes'] = (df['date2'] - df['date1'])/np.timedelta64(1,'m')\n",
    "df.head()"
   ]
  },
  {
   "cell_type": "code",
   "execution_count": null,
   "id": "5e24dcba",
   "metadata": {},
   "outputs": [],
   "source": [
    "import datetime\n",
    "\n",
    "df['to_today'] = (datetime.datetime.today() - df['date1'])\n",
    "df.head()"
   ]
  },
  {
   "cell_type": "markdown",
   "id": "c1a885a3",
   "metadata": {},
   "source": [
    "## Working with time in different time zones"
   ]
  },
  {
   "cell_type": "code",
   "execution_count": null,
   "id": "901f5e9d",
   "metadata": {},
   "outputs": [],
   "source": [
    "df = pd.DataFrame()\n",
    "\n",
    "df['time1'] = pd.concat([\n",
    "    pd.Series(pd.date_range(start='2015-06-10 09:00', freq='H', periods=3, tz='Europe/Berlin')),\n",
    "    pd.Series( pd.date_range(start='2015-09-10 09:00', freq='H', periods=3, tz='US/Central'))], axis=0)"
   ]
  },
  {
   "cell_type": "code",
   "execution_count": null,
   "id": "ba6637e2",
   "metadata": {},
   "outputs": [],
   "source": [
    "df['time2'] = pd.concat([\n",
    "    pd.Series(pd.date_range(start='2015-07-01 09:00', freq='H', periods=3,tz='Europe/Berlin')),\n",
    "    pd.Series(pd.date_range(start='2015-08-01 09:00', freq='H', periods=3, tz='US/Central'))], axis=0)"
   ]
  },
  {
   "cell_type": "code",
   "execution_count": null,
   "id": "5bf594b2",
   "metadata": {},
   "outputs": [],
   "source": [
    "df"
   ]
  },
  {
   "cell_type": "code",
   "execution_count": null,
   "id": "fbab651b",
   "metadata": {},
   "outputs": [],
   "source": [
    "df['time1_utc'] = pd.to_datetime(df['time1'], utc=True)\n",
    "df['time2_utc'] = pd.to_datetime(df['time2'], utc=True)\n",
    "df"
   ]
  },
  {
   "cell_type": "code",
   "execution_count": null,
   "id": "4ce516b2",
   "metadata": {},
   "outputs": [],
   "source": [
    "df['elapsed_days'] = (df['time2_utc'] - df['time1_utc']).dt.days\n",
    "df['elapsed_days'].head()"
   ]
  },
  {
   "cell_type": "code",
   "execution_count": null,
   "id": "4fd00d05",
   "metadata": {},
   "outputs": [],
   "source": [
    "df['time1_london'] = df['time1_utc'].dt.tz_convert('Europe/London')\n",
    "df['time2_berlin'] = df['time1_utc'].dt.tz_convert('Europe/Berlin')\n",
    "df[['time1_london', 'time2_berlin']]"
   ]
  }
 ],
 "metadata": {
  "kernelspec": {
   "display_name": "Python 3 (ipykernel)",
   "language": "python",
   "name": "python3"
  },
  "language_info": {
   "codemirror_mode": {
    "name": "ipython",
    "version": 3
   },
   "file_extension": ".py",
   "mimetype": "text/x-python",
   "name": "python",
   "nbconvert_exporter": "python",
   "pygments_lexer": "ipython3",
   "version": "3.10.7"
  }
 },
 "nbformat": 4,
 "nbformat_minor": 5
}
