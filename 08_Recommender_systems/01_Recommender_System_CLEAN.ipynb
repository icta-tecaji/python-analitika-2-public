{
 "cells": [
  {
   "cell_type": "markdown",
   "id": "f48b9998-b279-4c83-97d7-598c92e7bab2",
   "metadata": {},
   "source": [
    "# Recommender Systems"
   ]
  },
  {
   "cell_type": "code",
   "execution_count": null,
   "id": "c030551d-9283-466e-8162-aad6c8991df2",
   "metadata": {},
   "outputs": [],
   "source": []
  },
  {
   "cell_type": "markdown",
   "id": "22316536-8b9c-4ff0-9f6e-7187ecc9e70c",
   "metadata": {},
   "source": [
    "## What are recommender systems"
   ]
  },
  {
   "cell_type": "code",
   "execution_count": null,
   "id": "151b8622-04ba-493b-b4ff-2abadbcba26a",
   "metadata": {},
   "outputs": [],
   "source": []
  },
  {
   "cell_type": "markdown",
   "id": "311738a5-eb77-447e-b4a5-9506a968aaec",
   "metadata": {},
   "source": [
    "# Simple Recommenders"
   ]
  },
  {
   "cell_type": "markdown",
   "id": "5551ba75-5a17-4729-a99b-98bd1bf3a569",
   "metadata": {},
   "source": [
    "## Dataset"
   ]
  },
  {
   "cell_type": "markdown",
   "id": "3df16bf0-6503-419b-b83d-3f0d79b792ba",
   "metadata": {},
   "source": [
    "**Full MovieLense Dataset**. Dataset vsebuje metapodatke za 45'000 filmov izdanih pred Julijem 2017. Za filme imamo podatke o igralcih, direktorju, plot keywords, revenue, jezik, production companies, TMDB vote counts, vote averages, itd.\n",
    "\n",
    "* `movies_metadata.csv`: datoteka vsebuje informacije za okoli 45'000 filmov kot so *budget, žanr, revenue, production countries, copmanies, ...*\n",
    "* `keywords.csv`: datoteka vsebuje *plot keywords* \n",
    "* `credits.csv`: vsebuje informacije o *Cast and Crew*\n",
    "* `links.csv`: vsebuje TMDB in IMDB IDs za vse filme\n",
    "* `links_small.csv`: vsebuje TMDB in IMDB IDs za manjši subset 9'000 filmov\n",
    "* `ratings_small.csv`: vsebuje informacije glede 100'000 ratingsov od 700 userjev za 9'000 filmov\n",
    "\n",
    "Podatke katere bomo uporabljali je dostopna na [linku](https://www.kaggle.com/datasets/rounakbanik/the-movies-dataset/)\n",
    "\r\n"
   ]
  },
  {
   "cell_type": "code",
   "execution_count": null,
   "id": "3f3bd933-c4c3-4bea-8c99-d7bf55bfba8b",
   "metadata": {},
   "outputs": [],
   "source": [
    "import pandas as pd\n",
    "\n",
    "metadata = pd.read_csv('./data/movies_metadata.csv', low_memory=False)\n",
    "metadata.head(3)"
   ]
  },
  {
   "cell_type": "code",
   "execution_count": null,
   "id": "aae43323-8234-4d21-bd4c-ef2eedd67c56",
   "metadata": {},
   "outputs": [],
   "source": [
    "C = metadata['vote_average'].mean()\n",
    "print(\"C:\", C)\n",
    "\n",
    "m = metadata['vote_count'].quantile(0.90)\n",
    "print(\"m:\", m)"
   ]
  },
  {
   "cell_type": "code",
   "execution_count": null,
   "id": "8aab60d3-369e-4c78-95e1-d32932640d01",
   "metadata": {},
   "outputs": [],
   "source": [
    "# Filter out all qualified movies into a new DataFrame\n",
    "q_movies = metadata.copy().loc[metadata['vote_count'] >= m]\n",
    "q_movies.shape"
   ]
  },
  {
   "cell_type": "markdown",
   "id": "121b8b50-8aae-465d-bc1b-e7f5acf4ed57",
   "metadata": {},
   "source": [
    "**Izračun metrik**"
   ]
  },
  {
   "cell_type": "code",
   "execution_count": null,
   "id": "d0ec1dd9-68fe-496f-95d5-bdbb58e2f5f5",
   "metadata": {},
   "outputs": [],
   "source": [
    "# Function that computes the weighted rating of each movie\n",
    "def weighted_rating(x, m=m, C=C):\n",
    "    v = x['vote_count']\n",
    "    R = x['vote_average']\n",
    "    # Calculation based on the IMDB formula\n",
    "    return (v/(v+m) * R) + (m/(m+v) * C)"
   ]
  },
  {
   "cell_type": "code",
   "execution_count": null,
   "id": "5c01fced-1a49-4144-95cc-e698c2f04047",
   "metadata": {},
   "outputs": [],
   "source": [
    "# Define a new feature 'score' and calculate its value with `weighted_rating()`\n",
    "q_movies['score'] = q_movies.apply(weighted_rating, axis=1)\n",
    "q_movies[[\"original_title\", \"score\"]].head()"
   ]
  },
  {
   "cell_type": "markdown",
   "id": "773fd6e7-4974-4b29-a14e-10aa0bd4dc9f",
   "metadata": {},
   "source": [
    "**Sortiranje glede na metriko**"
   ]
  },
  {
   "cell_type": "code",
   "execution_count": null,
   "id": "7a4f1172-fbb7-4a1b-8068-f2205c58af64",
   "metadata": {},
   "outputs": [],
   "source": [
    "#Sort movies based on score calculated above\n",
    "q_movies = q_movies.sort_values('score', ascending=False)\n",
    "\n",
    "#Print the top 15 movies\n",
    "q_movies[['title', 'vote_count', 'vote_average', 'score']].head(20)"
   ]
  },
  {
   "cell_type": "markdown",
   "id": "fe9e948f-bbf1-4002-a92e-7a983b69b660",
   "metadata": {},
   "source": [
    "# Content-Based Recommender"
   ]
  },
  {
   "cell_type": "markdown",
   "id": "f2a8fb03-0ee7-4790-9bc8-a6221a60f27c",
   "metadata": {},
   "source": [
    "## Plot Description Based Recommender"
   ]
  },
  {
   "cell_type": "code",
   "execution_count": null,
   "id": "eb8c3e70-09c7-42ac-9c23-e0579459c2b1",
   "metadata": {},
   "outputs": [],
   "source": [
    "#Print plot overviews of the first 5 movies.\n",
    "metadata['overview'].head()"
   ]
  },
  {
   "cell_type": "code",
   "execution_count": null,
   "id": "5540891d-b24c-4ac0-9c2f-df8d2c5c9d06",
   "metadata": {},
   "outputs": [],
   "source": [
    "#Import TfIdfVectorizer from scikit-learn\n",
    "from sklearn.feature_extraction.text import TfidfVectorizer\n",
    "\n",
    "#Define a TF-IDF Vectorizer Object. Remove all english stop words such as 'the', 'a'\n",
    "tfidf = TfidfVectorizer(stop_words='english')\n",
    "\n",
    "#Replace NaN with an empty string\n",
    "metadata['overview'] = metadata['overview'].fillna('')\n",
    "\n",
    "#Construct the required TF-IDF matrix by fitting and transforming the data\n",
    "tfidf_matrix = tfidf.fit_transform(metadata['overview'])\n",
    "\n",
    "#Output the shape of tfidf_matrix\n",
    "tfidf_matrix.shape"
   ]
  },
  {
   "cell_type": "code",
   "execution_count": null,
   "id": "f928fe5b-b65e-4e80-9709-0924ff5e3f1c",
   "metadata": {
    "scrolled": true
   },
   "outputs": [],
   "source": [
    "tfidf.vocabulary_"
   ]
  },
  {
   "cell_type": "code",
   "execution_count": null,
   "id": "9a589792-1033-4ee8-a72c-3071763ae08b",
   "metadata": {},
   "outputs": [],
   "source": [
    "tfidf.get_feature_names_out()[38693:38700]"
   ]
  },
  {
   "cell_type": "code",
   "execution_count": null,
   "id": "bc77cdbd-503d-4ee9-babf-35edf256698e",
   "metadata": {},
   "outputs": [],
   "source": [
    "# Import linear_kernel\n",
    "from sklearn.metrics.pairwise import linear_kernel\n",
    "\n",
    "# Compute the cosine similarity matrix\n",
    "cosine_sim = linear_kernel(tfidf_matrix, tfidf_matrix)\n",
    "cosine_sim.shape"
   ]
  },
  {
   "cell_type": "code",
   "execution_count": null,
   "id": "432b09ca-1631-4c36-a4ff-d7a04b37aa92",
   "metadata": {},
   "outputs": [],
   "source": [
    "cosine_sim.shape"
   ]
  },
  {
   "cell_type": "code",
   "execution_count": null,
   "id": "502d4db8-a10e-470e-94db-f01a7e0c2bde",
   "metadata": {},
   "outputs": [],
   "source": [
    "#Construct a reverse map of indices and movie titles\n",
    "indices = pd.Series(metadata.index, index=metadata['title']).drop_duplicates()\n",
    "indices[:10]"
   ]
  },
  {
   "cell_type": "code",
   "execution_count": null,
   "id": "41754795-41a1-43ea-b427-3f4cd986b390",
   "metadata": {},
   "outputs": [],
   "source": [
    "# Function that takes in movie title as input and outputs most similar movies\n",
    "def get_recommendations(title, cosine_sim=cosine_sim):\n",
    "    # Get the index of the movie that matches the title\n",
    "    idx = indices[title]\n",
    "\n",
    "    # Get the pairwsie similarity scores of all movies with that movie\n",
    "    sim_scores = list(enumerate(cosine_sim[idx]))\n",
    "\n",
    "    # Sort the movies based on the similarity scores\n",
    "    sim_scores = sorted(sim_scores, key=lambda x: x[1], reverse=True)\n",
    "\n",
    "    # Get the scores of the 10 most similar movies\n",
    "    sim_scores = sim_scores[1:11]\n",
    "\n",
    "    # Get the movie indices\n",
    "    movie_indices = [i[0] for i in sim_scores]\n",
    "\n",
    "    # Return the top 10 most similar movies\n",
    "    return metadata['title'].iloc[movie_indices]"
   ]
  },
  {
   "cell_type": "code",
   "execution_count": null,
   "id": "9f4a42d3-a70a-4c06-96ea-28c0cc5af26f",
   "metadata": {},
   "outputs": [],
   "source": [
    "get_recommendations('The Dark Knight Rises')"
   ]
  },
  {
   "cell_type": "code",
   "execution_count": null,
   "id": "72596f00-9311-4541-9e18-5fd7d0d40c5f",
   "metadata": {},
   "outputs": [],
   "source": [
    "get_recommendations('The Godfather')"
   ]
  },
  {
   "cell_type": "markdown",
   "id": "060da4e1-8f80-4ade-a8c5-544d452573b6",
   "metadata": {},
   "source": [
    "## Credits, Genres and Keywords Based Recommender"
   ]
  },
  {
   "cell_type": "code",
   "execution_count": null,
   "id": "39b399eb-47ee-4e08-950e-63fa3e1be4cd",
   "metadata": {},
   "outputs": [],
   "source": [
    "metadata = pd.read_csv('./data/movies_metadata.csv', low_memory=False)\n",
    "\n",
    "# Load keywords and credits\n",
    "credits = pd.read_csv('./data/credits.csv')\n",
    "keywords = pd.read_csv('./data/keywords.csv')\n",
    "\n",
    "# Remove rows with bad IDs.\n",
    "metadata = metadata.drop([19730, 29503, 35587])\n",
    "\n",
    "# Convert IDs to int. Required for merging\n",
    "keywords['id'] = keywords['id'].astype('int')\n",
    "credits['id'] = credits['id'].astype('int')\n",
    "metadata['id'] = metadata['id'].astype('int')\n",
    "\n",
    "# Merge keywords and credits into your main metadata dataframe\n",
    "metadata = metadata.merge(credits, on='id')\n",
    "metadata = metadata.merge(keywords, on='id')"
   ]
  },
  {
   "cell_type": "code",
   "execution_count": null,
   "id": "33635347-dbdd-4e53-8a91-941fe687d9d4",
   "metadata": {},
   "outputs": [],
   "source": [
    "metadata[[\"original_title\", \"cast\", \"crew\", \"keywords\"]].head()"
   ]
  },
  {
   "cell_type": "code",
   "execution_count": null,
   "id": "8ea96955-cf4a-4f47-8c53-c9026b05e0b2",
   "metadata": {},
   "outputs": [],
   "source": [
    "from ast import literal_eval\n",
    "import numpy as np\n",
    "\n",
    "\n",
    "features = ['cast', 'crew', 'keywords', 'genres']\n",
    "for feature in features:\n",
    "    metadata[feature] = metadata[feature].apply(literal_eval)\n",
    "\n",
    "def get_director(x):\n",
    "    for i in x:\n",
    "        if i['job'] == 'Director':\n",
    "            return i['name']\n",
    "    return np.nan\n",
    "\n",
    "def get_list(x):\n",
    "    if isinstance(x, list):\n",
    "        names = [i['name'] for i in x]\n",
    "        #Check if more than 3 elements exist. If yes, return only first three. If no, return entire list.\n",
    "        if len(names) > 3:\n",
    "            names = names[:3]\n",
    "        return names\n",
    "\n",
    "    #Return empty list in case of missing/malformed data\n",
    "    return []\n",
    "\n",
    "# Define new director, cast, genres and keywords features that are in a suitable form.\n",
    "metadata['director'] = metadata['crew'].apply(get_director)\n",
    "\n",
    "features = ['cast', 'keywords', 'genres']\n",
    "for feature in features:\n",
    "    metadata[feature] = metadata[feature].apply(get_list)\n",
    "\n",
    "# Print the new features of the first 3 films\n",
    "metadata[['title', 'cast', 'director', 'keywords', 'genres']].head(3)"
   ]
  },
  {
   "cell_type": "code",
   "execution_count": null,
   "id": "4e09637c-4449-4da8-a0f2-84352da15cf5",
   "metadata": {},
   "outputs": [],
   "source": [
    "# Function to convert all strings to lower case and strip names of spaces\n",
    "def clean_data(x):\n",
    "    if isinstance(x, list):\n",
    "        return [str.lower(i.replace(\" \", \"\")) for i in x]\n",
    "    else:\n",
    "        #Check if director exists. If not, return empty string\n",
    "        if isinstance(x, str):\n",
    "            return str.lower(x.replace(\" \", \"\"))\n",
    "        else:\n",
    "            return ''\n",
    "\n",
    "# Apply clean_data function to your features.\n",
    "features = ['cast', 'keywords', 'director', 'genres']\n",
    "\n",
    "for feature in features:\n",
    "    metadata[feature] = metadata[feature].apply(clean_data)\n",
    "\n",
    "metadata[['title', 'cast', 'director', 'keywords', 'genres']].head(3)"
   ]
  },
  {
   "cell_type": "code",
   "execution_count": null,
   "id": "566b8ec1-430b-4a0b-81be-3f2dc8fb3951",
   "metadata": {},
   "outputs": [],
   "source": [
    "def create_soup(x):\n",
    "    return ' '.join(x['keywords']) + ' ' + ' '.join(x['cast']) + ' ' + x['director'] + ' ' + ' '.join(x['genres'])\n",
    "\n",
    "# Create a new soup feature\n",
    "metadata['soup'] = metadata.apply(create_soup, axis=1)\n",
    "print(metadata.shape)\n",
    "metadata[['title', 'soup']].head(2)"
   ]
  },
  {
   "cell_type": "code",
   "execution_count": null,
   "id": "15407c65-9ee8-4270-b078-18e5d012fd1b",
   "metadata": {},
   "outputs": [],
   "source": [
    "metadata = metadata[metadata[\"vote_count\"] > 20]\n",
    "metadata.shape"
   ]
  },
  {
   "cell_type": "code",
   "execution_count": null,
   "id": "526494b8-dbc3-414c-8b65-a9a7c6383489",
   "metadata": {},
   "outputs": [],
   "source": [
    "# Import CountVectorizer and create the count matrix\n",
    "from sklearn.feature_extraction.text import CountVectorizer\n",
    "\n",
    "count = CountVectorizer(stop_words='english')\n",
    "count_matrix = count.fit_transform(metadata['soup'])\n",
    "\n",
    "count_matrix.shape"
   ]
  },
  {
   "cell_type": "code",
   "execution_count": null,
   "id": "ae856b26-f201-4450-9aab-00e0a971c8c4",
   "metadata": {},
   "outputs": [],
   "source": [
    "# Compute the Cosine Similarity matrix based on the count_matrix\n",
    "from sklearn.metrics.pairwise import cosine_similarity\n",
    "\n",
    "cosine_sim = cosine_similarity(count_matrix, count_matrix)\n",
    "\n",
    "# Reset index of your main DataFrame and construct reverse mapping as before\n",
    "metadata = metadata.reset_index()\n",
    "indices = pd.Series(metadata.index, index=metadata['title'])"
   ]
  },
  {
   "cell_type": "code",
   "execution_count": null,
   "id": "a0cffa82-8986-4392-9919-2238c7cb2c5f",
   "metadata": {},
   "outputs": [],
   "source": [
    "get_recommendations('The Dark Knight Rises', cosine_sim)"
   ]
  },
  {
   "cell_type": "markdown",
   "id": "18436b62-5e8e-4d5a-8627-43c0b86f2b19",
   "metadata": {},
   "source": [
    "# Collaborative Filtering"
   ]
  },
  {
   "cell_type": "markdown",
   "id": "482346a6-51d0-4c17-a853-897cee38116e",
   "metadata": {},
   "source": [
    "![data](./images/rating-matrix.png)"
   ]
  },
  {
   "cell_type": "markdown",
   "id": "e97ffc2d-e5ba-40ab-a657-ca48d9897a46",
   "metadata": {},
   "source": [
    "## Dataset"
   ]
  },
  {
   "cell_type": "code",
   "execution_count": null,
   "id": "d021afdc-f0af-49c1-b04a-9a283b7be03b",
   "metadata": {},
   "outputs": [],
   "source": [
    "import pandas as pd"
   ]
  },
  {
   "cell_type": "code",
   "execution_count": null,
   "id": "ed1097cf-d720-45d9-8a4a-4531c4a1b193",
   "metadata": {},
   "outputs": [],
   "source": [
    "ratings = pd.read_csv(\"./data/u.data\", sep=\"\\t\", names=[\"user_id\", \"item_id\", \"rating\", \"timestamp\"])\n",
    "ratings.head()"
   ]
  },
  {
   "cell_type": "code",
   "execution_count": null,
   "id": "62040590-1cba-4e70-aeb1-5d6603d7229e",
   "metadata": {},
   "outputs": [],
   "source": [
    "movies = pd.read_csv(\"./data/u.item\", sep=\"|\", header=None)\n",
    "movies.head()"
   ]
  },
  {
   "cell_type": "markdown",
   "id": "f38cf01b-64e1-4ded-a72e-4855ac36afd4",
   "metadata": {},
   "source": [
    "---"
   ]
  },
  {
   "cell_type": "code",
   "execution_count": null,
   "id": "8a536d56-7ed9-4ad9-8cb9-194daa3b21bb",
   "metadata": {},
   "outputs": [],
   "source": [
    "import matplotlib.pyplot as plt"
   ]
  },
  {
   "cell_type": "code",
   "execution_count": null,
   "id": "8c52cadc-cf20-406a-bd58-42ff4d103734",
   "metadata": {},
   "outputs": [],
   "source": [
    "import pandas as pd\n",
    "import matplotlib.pyplot as plt\n",
    "\n",
    "# Simple data\n",
    "a = [1.0, 2.0]\n",
    "b = [2.0, 4.0]\n",
    "c = [2.5, 4.0]\n",
    "d = [4.5, 5.0]\n",
    "\n",
    "data = pd.DataFrame([a, b, c, d], columns=[\"Movie_1\", \"Movie_2\"], index=list(\"ABCD\"))\n",
    "\n",
    "# Scatter plot\n",
    "plt.scatter(data[\"Movie_1\"], data[\"Movie_2\"])\n",
    "\n",
    "# Add labels and index names\n",
    "for idx, row in data.iterrows():\n",
    "    plt.annotate(idx, (row[\"Movie_1\"] - 0.2, row[\"Movie_2\"] + 0.2))\n",
    "\n",
    "# Add labels to axes\n",
    "plt.xlabel(\"Movie 1\")\n",
    "plt.ylabel(\"Movie 2\")\n",
    "\n",
    "plt.xlim(0,6)\n",
    "plt.ylim(0,6)\n",
    "\n",
    "# Display gridlines\n",
    "plt.grid(True)\n",
    "\n",
    "# Show the plot\n",
    "plt.show()"
   ]
  },
  {
   "cell_type": "markdown",
   "id": "3c4296f0-8584-4a7e-976a-42c3281d39ee",
   "metadata": {},
   "source": [
    "**Calculating similarity**"
   ]
  },
  {
   "cell_type": "code",
   "execution_count": null,
   "id": "47e30c24-08ee-40a4-b56b-7e33eab68bd0",
   "metadata": {},
   "outputs": [],
   "source": [
    "from scipy import spatial\n",
    "\n",
    "print(spatial.distance.euclidean(c, a))\n",
    "print(spatial.distance.euclidean(c, b))\n",
    "print(spatial.distance.euclidean(c, d))"
   ]
  },
  {
   "cell_type": "code",
   "execution_count": null,
   "id": "6c8fd2c8-7497-45b6-a1ab-815b6892f72f",
   "metadata": {},
   "outputs": [],
   "source": [
    "# Create a scatter plot\n",
    "fig, ax = plt.subplots()\n",
    "\n",
    "# Add labels and index names\n",
    "for idx, row in data.iterrows():\n",
    "    ax.plot([0, row[\"Movie_1\"]], [0, row[\"Movie_2\"]], c=\"blue\", alpha=0.3)\n",
    "    ax.annotate(idx, (row[\"Movie_1\"] - 0.2, row[\"Movie_2\"] + 0.2))\n",
    "\n",
    "# Add labels to axes\n",
    "plt.xlabel(\"Movie 1\")\n",
    "plt.ylabel(\"Movie 2\")\n",
    "\n",
    "plt.xlim(0,6)\n",
    "plt.ylim(0,6)\n",
    "\n",
    "# Display gridlines\n",
    "plt.grid(True)\n",
    "\n",
    "# Show the plot\n",
    "plt.show()"
   ]
  },
  {
   "cell_type": "code",
   "execution_count": null,
   "id": "58ecf919-af09-4225-817a-2d4608928f5f",
   "metadata": {},
   "outputs": [],
   "source": [
    "print(spatial.distance.cosine(a,b))\n",
    "\n",
    "print(spatial.distance.cosine(c,b))\n",
    "print(spatial.distance.cosine(c,d))"
   ]
  },
  {
   "cell_type": "markdown",
   "id": "7640104b-ea43-44be-a55d-24ed72b28214",
   "metadata": {},
   "source": [
    "---"
   ]
  },
  {
   "cell_type": "markdown",
   "id": "c9bf5aa5-ccc7-4058-a41f-712adbc879a2",
   "metadata": {},
   "source": [
    "**Calculating new rating**"
   ]
  },
  {
   "cell_type": "markdown",
   "id": "5eabe08c-af91-4037-9bdd-349348a7cf65",
   "metadata": {},
   "source": [
    "---"
   ]
  },
  {
   "cell_type": "markdown",
   "id": "2a668eb7-6b02-4446-b5ad-0e1b804b3d6c",
   "metadata": {},
   "source": [
    "## User-Based vs Item-Based Collaborative Filtering"
   ]
  },
  {
   "cell_type": "markdown",
   "id": "7b48043c-b365-4e70-923a-d1b506a5012e",
   "metadata": {},
   "source": [
    "# Realen Primer"
   ]
  },
  {
   "cell_type": "code",
   "execution_count": null,
   "id": "82ee2e99-b90f-4ade-8f50-9ea9bed1b489",
   "metadata": {},
   "outputs": [],
   "source": [
    "movies = pd.read_csv(\"./data/u.item\", sep=\"|\", header=None)\n",
    "movies.head()"
   ]
  },
  {
   "cell_type": "code",
   "execution_count": null,
   "id": "90ffe767-f20c-46cc-85b0-3b4fa318f006",
   "metadata": {},
   "outputs": [],
   "source": [
    "# Load the MovieLens 100k dataset\n",
    "columns = ['user_id', 'item_id', 'rating', 'timestamp']\n",
    "raw_data = pd.read_csv('./data/u.data', sep='\\t', names=columns)\n",
    "print(\"Raw data shape:\", raw_data.shape)"
   ]
  },
  {
   "cell_type": "code",
   "execution_count": null,
   "id": "76571dc8-f9a8-4623-9b2b-e942205031e3",
   "metadata": {},
   "outputs": [],
   "source": [
    "data = raw_data.copy()\n",
    "data[\"item_id\"] = data[\"item_id\"].replace(movies[0].values, movies[1].values)\n",
    "data.drop_duplicates(subset=[\"user_id\", \"item_id\"], inplace=True)\n",
    "print(\"Data shape after duplicated drop: \", data.shape)\n",
    "data.head()"
   ]
  },
  {
   "cell_type": "code",
   "execution_count": null,
   "id": "6afba923-288d-4da4-a670-f0305f0f3451",
   "metadata": {},
   "outputs": [],
   "source": [
    "data.reset_index(drop=True, inplace=True)\n",
    "data.info()"
   ]
  },
  {
   "cell_type": "code",
   "execution_count": null,
   "id": "8cbc2402-0963-4faf-9c9d-fa1753a351ca",
   "metadata": {},
   "outputs": [],
   "source": [
    "# Create a user-item rating matrix\n",
    "user_item_matrix = data.pivot(index='user_id', columns='item_id', values='rating')\n",
    "# each row is user. Each column is movie. Row shows what rating did user give to what movies\n",
    "\n",
    "user_item_matrix"
   ]
  },
  {
   "cell_type": "code",
   "execution_count": null,
   "id": "25aad5d3-2a6f-4aad-acb1-5c0b454be0ca",
   "metadata": {},
   "outputs": [],
   "source": [
    "unbiased = user_item_matrix.iloc[:, :].apply(lambda row: row - row.mean(), axis=1)\n",
    "# unbiased.fillna(0, inplace=True)\n",
    "unbiased.head()"
   ]
  },
  {
   "cell_type": "code",
   "execution_count": null,
   "id": "07d48462-f1c5-4f3e-ac85-34fe43261f78",
   "metadata": {},
   "outputs": [],
   "source": [
    "from scipy import spatial\n",
    "\n",
    "def calc_cosine_distance(user, other_user):\n",
    "    user = user.copy().fillna(0)\n",
    "    other_user = other_user.copy().fillna(0)\n",
    "    user = user.values\n",
    "    other_user = other_user.values\n",
    "    return spatial.distance.cosine(user, other_user)"
   ]
  },
  {
   "cell_type": "code",
   "execution_count": null,
   "id": "d6089a7f-b649-4ba3-aa12-af812077e3c9",
   "metadata": {},
   "outputs": [],
   "source": [
    "def get_rating(user_id, movie, data):\n",
    "    \"\"\"We want to get a rating for user U, about movie I he hadn't seen yet\"\"\"\n",
    "    print(f\"We have user ID: {user_id}.\")\n",
    "    print(f\"We want to see how he would rate movie: {movie}\")\n",
    "\n",
    "    user = data.loc[user_id, :]\n",
    "    user_bias = user_item_matrix.loc[user_id, :].mean()\n",
    "    \n",
    "    if not pd.isna(user[movie]):\n",
    "        print(\"User already saw the movie.\")\n",
    "    else:\n",
    "        print(\"User hasn't seen the movie yet.\")\n",
    "\n",
    "        # Get all people who saw the movie\n",
    "        filter_ = data[movie].notnull()\n",
    "        watched_movie = data[filter_]\n",
    "        print(f\"{watched_movie.shape[0]} people have rated this movie.\")\n",
    "\n",
    "        print(\"The user rated following movies:\\n\")\n",
    "        print(user[user.notnull()] + user_bias)\n",
    "\n",
    "        # Calculate similarity between users\n",
    "        watched_movie[\"similarity\"] = watched_movie.apply(lambda row: calc_cosine_distance(user, row), axis=1)\n",
    "        watched_movie.sort_values(by=\"similarity\", inplace=True, ascending=True)\n",
    "        top_5_similar_users = watched_movie.head()\n",
    "        print(\"\\nTop 5 similar users by ID: \", top_5_similar_users.index.values)\n",
    "\n",
    "        # Calculating the average score\n",
    "        top_5_scores = data.loc[top_5_similar_users.index.values, movie]\n",
    "        average_score = top_5_scores.mean()\n",
    "\n",
    "        print(f\"Naš user bi {movie} ocenil z {average_score + user_bias : .2f}\")\n",
    "\n",
    "\n",
    "\n",
    "user_id = 3\n",
    "movie = \"101 Dalmatians (1996)\"\n",
    "get_rating(user_id, movie, unbiased)"
   ]
  },
  {
   "cell_type": "code",
   "execution_count": null,
   "id": "96595aa4-5401-47ac-b57b-f35bf2348b82",
   "metadata": {},
   "outputs": [],
   "source": []
  },
  {
   "cell_type": "code",
   "execution_count": null,
   "id": "885d2675-4a67-4a94-886e-8b4163ddc90e",
   "metadata": {},
   "outputs": [],
   "source": []
  }
 ],
 "metadata": {
  "kernelspec": {
   "display_name": "Python 3 (ipykernel)",
   "language": "python",
   "name": "python3"
  },
  "language_info": {
   "codemirror_mode": {
    "name": "ipython",
    "version": 3
   },
   "file_extension": ".py",
   "mimetype": "text/x-python",
   "name": "python",
   "nbconvert_exporter": "python",
   "pygments_lexer": "ipython3",
   "version": "3.11.3"
  }
 },
 "nbformat": 4,
 "nbformat_minor": 5
}
