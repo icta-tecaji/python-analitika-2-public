{
 "cells": [
  {
   "cell_type": "markdown",
   "metadata": {},
   "source": [
    "# Predpriprava na tečaj"
   ]
  },
  {
   "cell_type": "markdown",
   "metadata": {},
   "source": [
    "### Priprava lastnega repozitorija na Githubu"
   ]
  },
  {
   "cell_type": "markdown",
   "metadata": {},
   "source": [
    "Ime: **python-analitika-2**"
   ]
  },
  {
   "cell_type": "markdown",
   "metadata": {},
   "source": [
    "README.md dodamo"
   ]
  },
  {
   "cell_type": "markdown",
   "metadata": {},
   "source": [
    "Dodamo .gitignore za Python"
   ]
  },
  {
   "cell_type": "markdown",
   "metadata": {},
   "source": [
    "### Priprava sistema - Docker"
   ]
  },
  {
   "cell_type": "markdown",
   "metadata": {},
   "source": [
    "1. Namestitev Docker\n",
    "    - Windows: \n",
    "        - https://docs.docker.com/docker-for-windows/install/\n",
    "        - Zaženemo namestitev\n",
    "        - Ponovno zaženemo računalnik\n",
    "        - V primeru težav: \n",
    "            - https://www.tcg.com/blog/yes-you-can-run-docker-and-virtualbox-on-windows-10-home/\n",
    "            - https://itigic.com/use-virtualbox-and-vmware-alongside-hyper-v/\n",
    "    - Linux:\n",
    "        - https://docs.docker.com/engine/install/ubuntu/\n",
    "        - https://docs.docker.com/engine/install/linux-postinstall/\n",
    "    - Predpriprava: prenesejo https://download.docker.com/win/stable/Docker%20Desktop%20Installer.exe\n",
    "    - `docker version`\n",
    "    - `docker run hello-world`\n",
    "2. Namestitev docker-compose\n",
    "    - Samo Linux\n",
    "3. Namestitev git\n",
    "    - https://git-scm.com/download/win\n",
    "    - https://gitforwindows.org/\n",
    "    - `git --version`\n",
    "    - `git config --global user.name $user_name`\n",
    "    - `git config --global user.email $email`\n",
    "    - `git config --global color.ui auto`\n",
    "    - Po želji dodamo public_key na github, da ne bo potrebno gesla vtipkavat\n",
    "\n",
    "\n",
    "\n",
    "4. Ustavrimo mapo za naš tečaj v želeni lokaciji z imenom `analitika2`. \n",
    "    - V njej ustvarimo še mapi: `clean_dir` & `work_dir`\n",
    "    - clean_dir prirpava\n",
    "        - `git init`\n",
    "        - `git remote add origin https://github.com/leon11s/python-analitika-2-public.git` \n",
    "        - `git remote -v`\n",
    "        - `git pull origin master`\n",
    "    - working_dir priprava\n",
    "        - `git init`\n",
    "        - `git remote add origin <LINK>` \n",
    "        - `git remote -v`\n",
    "        - `git pull origin master`"
   ]
  },
  {
   "cell_type": "markdown",
   "metadata": {},
   "source": [
    "5. Se premaknemo v mapo z docker-compose datoteko (naredimo jo v analitika2 mapi).\n",
    "    - `docker-compose up --build`\n",
    "\n",
    "```yml\n",
    "version:  '3'\n",
    "services:\n",
    "  jupyter-scipy-notebook:\n",
    "      image: jupyter/tensorflow-notebook\n",
    "      volumes:\n",
    "        - <LOCAL_PATH>:/home/jovyan/work\n",
    "      ports:\n",
    "        - 8888:8888\n",
    "```"
   ]
  },
  {
   "cell_type": "markdown",
   "metadata": {},
   "source": [
    "### Priprava sistema - virtualka"
   ]
  },
  {
   "cell_type": "markdown",
   "metadata": {},
   "source": [
    "Prenesemo skripto iz linka: **https://bit.ly/2ncpzTL**"
   ]
  },
  {
   "cell_type": "markdown",
   "metadata": {},
   "source": [
    "Prenesmo datoteko v home mapo."
   ]
  },
  {
   "cell_type": "markdown",
   "metadata": {},
   "source": [
    "Odpremo terminal in gremo v home: `cd`"
   ]
  },
  {
   "cell_type": "markdown",
   "metadata": {},
   "source": [
    "Vnesemo: `sudo chmod +x namestitev.sh`\n",
    "\n"
   ]
  },
  {
   "cell_type": "markdown",
   "metadata": {},
   "source": [
    "Zaženemo: `./namestitev.sh`"
   ]
  },
  {
   "cell_type": "markdown",
   "metadata": {},
   "source": [
    "Okolje pripravljeno"
   ]
  },
  {
   "cell_type": "markdown",
   "metadata": {},
   "source": [
    "### Resolucija ekrana"
   ]
  },
  {
   "cell_type": "markdown",
   "metadata": {},
   "source": [
    "`Nastavitve -> Devices -> Display -> Resolution -> 1856x1392 (4:3)`"
   ]
  }
 ],
 "metadata": {
  "kernelspec": {
   "display_name": "Python 3",
   "language": "python",
   "name": "python3"
  },
  "language_info": {
   "codemirror_mode": {
    "name": "ipython",
    "version": 3
   },
   "file_extension": ".py",
   "mimetype": "text/x-python",
   "name": "python",
   "nbconvert_exporter": "python",
   "pygments_lexer": "ipython3",
   "version": "3.8.5"
  }
 },
 "nbformat": 4,
 "nbformat_minor": 2
}
