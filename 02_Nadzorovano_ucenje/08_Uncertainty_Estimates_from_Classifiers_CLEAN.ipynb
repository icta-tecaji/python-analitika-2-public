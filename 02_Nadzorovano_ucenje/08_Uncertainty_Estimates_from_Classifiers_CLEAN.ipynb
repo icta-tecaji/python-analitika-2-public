{
 "cells": [
  {
   "cell_type": "markdown",
   "id": "19716098",
   "metadata": {},
   "source": [
    "# Uncertainty Estimates from Classifiers"
   ]
  },
  {
   "cell_type": "code",
   "execution_count": null,
   "id": "c7600f62",
   "metadata": {},
   "outputs": [],
   "source": [
    "import pandas as pd\n",
    "import numpy as np\n",
    "%matplotlib inline\n",
    "import matplotlib.pyplot as plt\n",
    "import seaborn as sns; sns.set()"
   ]
  },
  {
   "cell_type": "code",
   "execution_count": null,
   "id": "84aa6c65",
   "metadata": {},
   "outputs": [],
   "source": [
    "from sklearn.ensemble import GradientBoostingClassifier\n",
    "from sklearn.datasets import make_circles\n",
    "from helpers.plot_helpers import discrete_scatter\n",
    "\n",
    "X, y = make_circles(noise=0.25, factor=0.5, random_state=1)"
   ]
  },
  {
   "cell_type": "code",
   "execution_count": null,
   "id": "1c203f96",
   "metadata": {},
   "outputs": [],
   "source": [
    "discrete_scatter(X[:, 0], X[:, 1], y, markers='o')\n",
    "plt.show()"
   ]
  },
  {
   "cell_type": "code",
   "execution_count": null,
   "id": "20ae476a",
   "metadata": {},
   "outputs": [],
   "source": [
    "from sklearn.model_selection import train_test_split\n",
    "\n",
    "# we rename the classes \"blue\" and \"red\" for illustration purposes\n",
    "y_named = np.array([\"blue\", \"red\"])[y]\n",
    "\n",
    "# we can call train_test_split with arbitrarily many arrays;\n",
    "# all will be split in a consistent manner\n",
    "X_train, X_test, y_train_named, y_test_named, y_train, y_test = train_test_split(X, y_named, y, random_state=0)\n",
    "\n",
    "# build the gradient boosting model\n",
    "gbrt = GradientBoostingClassifier(random_state=0)\n",
    "gbrt.fit(X_train, y_train_named)"
   ]
  },
  {
   "cell_type": "markdown",
   "id": "dbc7ebf2",
   "metadata": {},
   "source": [
    "## The Decision Function"
   ]
  },
  {
   "cell_type": "code",
   "execution_count": null,
   "id": "e561882b",
   "metadata": {},
   "outputs": [],
   "source": [
    "print(f\"X_test.shape: {X_test.shape}\")\n",
    "print(f\"Decision function shape: {gbrt.decision_function(X_test).shape}\")"
   ]
  },
  {
   "cell_type": "code",
   "execution_count": null,
   "id": "54d74b73",
   "metadata": {},
   "outputs": [],
   "source": [
    "# show the first few entries of decision_function\n",
    "gbrt.decision_function(X_test)[:6]"
   ]
  },
  {
   "cell_type": "code",
   "execution_count": null,
   "id": "9511e354",
   "metadata": {},
   "outputs": [],
   "source": [
    "gbrt.decision_function(X_test) > 0"
   ]
  },
  {
   "cell_type": "code",
   "execution_count": null,
   "id": "65369ea0",
   "metadata": {},
   "outputs": [],
   "source": [
    "gbrt.predict(X_test)"
   ]
  },
  {
   "cell_type": "code",
   "execution_count": null,
   "id": "55ce7d12",
   "metadata": {},
   "outputs": [],
   "source": [
    "gbrt.classes_"
   ]
  },
  {
   "cell_type": "code",
   "execution_count": null,
   "id": "76aad8b0",
   "metadata": {},
   "outputs": [],
   "source": [
    "# make the boolean True/False into 0 and 1\n",
    "greater_zero = (gbrt.decision_function(X_test) > 0).astype(int)\n",
    "\n",
    "# use 0 and 1 as indices into classes_\n",
    "pred = gbrt.classes_[greater_zero]\n",
    "\n",
    "# pred is the same as the output of gbrt.predict\n",
    "print(f\"pred is equal to predictions: {np.all(pred == gbrt.predict(X_test))}\")"
   ]
  },
  {
   "cell_type": "code",
   "execution_count": null,
   "id": "0b630831",
   "metadata": {},
   "outputs": [],
   "source": [
    "decision_function = gbrt.decision_function(X_test)\n",
    "\n",
    "print(f\"Decision function minimum: {np.min(decision_function):.2f} maximum: {np.max(decision_function):.2f}\")"
   ]
  },
  {
   "cell_type": "code",
   "execution_count": null,
   "id": "ed005334",
   "metadata": {},
   "outputs": [],
   "source": [
    "from helpers import tools\n",
    "from helpers import plot_helpers\n",
    "\n",
    "fig, axes = plt.subplots(1, 2, figsize=(13, 5))\n",
    "\n",
    "tools.plot_2d_separator(gbrt, X, ax=axes[0], alpha=.4, fill=True, cm=plot_helpers.cm2)\n",
    "\n",
    "scores_image = tools.plot_2d_scores(gbrt, X, ax=axes[1], alpha=.4, cm=plot_helpers.ReBl)\n",
    "\n",
    "\n",
    "for ax in axes:\n",
    "    # plot training and test points\n",
    "    discrete_scatter(X_test[:, 0], X_test[:, 1], y_test, markers='^', ax=ax)\n",
    "    discrete_scatter(X_train[:, 0], X_train[:, 1], y_train, markers='o', ax=ax)\n",
    "    ax.set_xlabel(\"Feature 0\")\n",
    "    ax.set_ylabel(\"Feature 1\")\n",
    "    \n",
    "plt.rcParams['axes.grid'] = False\n",
    "cbar = plt.colorbar(scores_image, ax=axes.tolist())\n",
    "axes[0].legend([\"Test class 0\", \"Test class 1\", \"Train class 0\", \"Train class 1\"], ncol=4, loc=(.1, 1.1))\n",
    "plt.show()"
   ]
  },
  {
   "cell_type": "markdown",
   "id": "23b7794b",
   "metadata": {},
   "source": [
    "## Predicting Probabilities"
   ]
  },
  {
   "cell_type": "code",
   "execution_count": null,
   "id": "9309fb40",
   "metadata": {},
   "outputs": [],
   "source": [
    "gbrt.predict_proba(X_test).shape"
   ]
  },
  {
   "cell_type": "code",
   "execution_count": null,
   "id": "440d939d",
   "metadata": {},
   "outputs": [],
   "source": [
    "# gbrt.predict_proba(X_test[:6])\n",
    "gbrt.predict_proba(X_test[:6])"
   ]
  },
  {
   "cell_type": "code",
   "execution_count": null,
   "id": "fc2841bc",
   "metadata": {},
   "outputs": [],
   "source": [
    "fig, axes = plt.subplots(1, 2, figsize=(13, 5)) \n",
    "\n",
    "tools.plot_2d_separator(gbrt, X, ax=axes[0], alpha=.4, fill=True, cm=plot_helpers.cm2)\n",
    "scores_image = tools.plot_2d_scores(gbrt, X, ax=axes[1], alpha=.5, cm=plot_helpers.ReBl, function='predict_proba')\n",
    "\n",
    "for ax in axes:\n",
    "    # plot training and test points\n",
    "    discrete_scatter(X_test[:, 0], X_test[:, 1], y_test, markers='^', ax=ax)\n",
    "    discrete_scatter(X_train[:, 0], X_train[:, 1], y_train, markers='o', ax=ax)\n",
    "    ax.set_xlabel(\"Feature 0\")\n",
    "    ax.set_ylabel(\"Feature 1\")\n",
    "\n",
    "plt.rcParams['axes.grid'] = False\n",
    "cbar = plt.colorbar(scores_image, ax=axes.tolist())\n",
    "axes[0].legend([\"Test class 0\", \"Test class 1\", \"Train class 0\", \"Train class 1\"], ncol=4, loc=(.1, 1.1))\n",
    "plt.show()"
   ]
  },
  {
   "cell_type": "markdown",
   "id": "1a4df4c2",
   "metadata": {},
   "source": [
    "## Uncertainty in Multiclass Classification"
   ]
  },
  {
   "cell_type": "code",
   "execution_count": null,
   "id": "1b0806ff",
   "metadata": {},
   "outputs": [],
   "source": [
    "from sklearn.datasets import load_iris\n",
    "\n",
    "iris = load_iris()\n",
    "\n",
    "X_train, X_test, y_train, y_test = train_test_split(iris.data, iris.target, random_state=42)\n",
    "\n",
    "gbrt = GradientBoostingClassifier(learning_rate=0.01, random_state=0)\n",
    "gbrt.fit(X_train, y_train)"
   ]
  },
  {
   "cell_type": "code",
   "execution_count": null,
   "id": "383b56ec",
   "metadata": {},
   "outputs": [],
   "source": [
    "gbrt.decision_function(X_test).shape"
   ]
  },
  {
   "cell_type": "code",
   "execution_count": null,
   "id": "bc60b89b",
   "metadata": {},
   "outputs": [],
   "source": [
    "gbrt.decision_function(X_test)[:6, :]"
   ]
  },
  {
   "cell_type": "code",
   "execution_count": null,
   "id": "1c279f08",
   "metadata": {},
   "outputs": [],
   "source": [
    "np.argmax(gbrt.decision_function(X_test), axis=1)"
   ]
  },
  {
   "cell_type": "code",
   "execution_count": null,
   "id": "04eb1a80",
   "metadata": {},
   "outputs": [],
   "source": [
    "gbrt.predict(X_test)"
   ]
  },
  {
   "cell_type": "code",
   "execution_count": null,
   "id": "322633f6",
   "metadata": {},
   "outputs": [],
   "source": [
    "#show the first few entries of predict_proba\n",
    "print(f\"Predicted probabilities:\\n{gbrt.predict_proba(X_test)[:6]}\")\n",
    "# show that sums across rows are one\n",
    "print(f\"Sums: {gbrt.predict_proba(X_test)[:6].sum(axis=1)}\")"
   ]
  },
  {
   "cell_type": "code",
   "execution_count": null,
   "id": "7a96a56b",
   "metadata": {},
   "outputs": [],
   "source": [
    "np.argmax(gbrt.predict_proba(X_test), axis=1)"
   ]
  },
  {
   "cell_type": "code",
   "execution_count": null,
   "id": "0c72c12a",
   "metadata": {},
   "outputs": [],
   "source": [
    "gbrt.predict(X_test)"
   ]
  },
  {
   "cell_type": "code",
   "execution_count": null,
   "id": "3af003e6",
   "metadata": {},
   "outputs": [],
   "source": [
    "from sklearn.linear_model import LogisticRegression\n",
    "\n",
    "logreg = LogisticRegression(max_iter=1000)\n",
    "\n",
    "# represent each target by its class name in the iris dataset\n",
    "named_target = iris.target_names[y_train]\n",
    "\n",
    "logreg.fit(X_train, named_target)\n",
    "\n",
    "print(f\"unique classes in training data: {logreg.classes_}\")\n",
    "print(f\"predictions: {logreg.predict(X_test)[:10]}\")\n",
    "\n",
    "argmax_dec_func = np.argmax(logreg.decision_function(X_test), axis=1)\n",
    "print(f\"argmax of decision function: {argmax_dec_func[:10]}\")\n",
    "print(f\"argmax combined with classes_: {logreg.classes_[argmax_dec_func][:10]}\")"
   ]
  }
 ],
 "metadata": {
  "kernelspec": {
   "display_name": "Python 3 (ipykernel)",
   "language": "python",
   "name": "python3"
  },
  "language_info": {
   "codemirror_mode": {
    "name": "ipython",
    "version": 3
   },
   "file_extension": ".py",
   "mimetype": "text/x-python",
   "name": "python",
   "nbconvert_exporter": "python",
   "pygments_lexer": "ipython3",
   "version": "3.8.10"
  }
 },
 "nbformat": 4,
 "nbformat_minor": 5
}
