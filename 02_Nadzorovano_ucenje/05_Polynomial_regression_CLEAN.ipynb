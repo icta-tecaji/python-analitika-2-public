{
 "cells": [
  {
   "cell_type": "markdown",
   "id": "e7e53ca7",
   "metadata": {},
   "source": [
    "# Polynomial regression"
   ]
  },
  {
   "cell_type": "code",
   "execution_count": null,
   "id": "df1792b8",
   "metadata": {},
   "outputs": [],
   "source": [
    "import pandas as pd\n",
    "import numpy as np\n",
    "%matplotlib inline\n",
    "import matplotlib.pyplot as plt"
   ]
  },
  {
   "cell_type": "markdown",
   "id": "ca91b750",
   "metadata": {},
   "source": [
    "## Why Polynomial Regression?"
   ]
  },
  {
   "cell_type": "code",
   "execution_count": null,
   "id": "c3edd26e",
   "metadata": {},
   "outputs": [],
   "source": [
    "# To understand the need for polynomial regression, let’s generate some random dataset first.\n",
    "np.random.seed(0)\n",
    "x = 2 - 3 * np.random.normal(0, 1, 20)\n",
    "x = np.sort(x)\n",
    "y = x - 2 * (x ** 2) + 0.5 * (x ** 3) + np.random.normal(-3, 3, 20)\n",
    "plt.scatter(x,y, s=10)\n",
    "plt.show()"
   ]
  },
  {
   "cell_type": "code",
   "execution_count": null,
   "id": "c9eeeaa1",
   "metadata": {},
   "outputs": [],
   "source": [
    "# Let’s apply a linear regression model to this dataset.\n",
    "from sklearn.linear_model import LinearRegression\n",
    "\n",
    "# transforming the data to include another axis\n",
    "x = x.reshape((-1, 1))\n",
    "y = y.reshape((-1, 1))\n",
    "\n",
    "model = LinearRegression()\n",
    "model.fit(x, y)\n",
    "y_pred = model.predict(x)\n",
    "\n",
    "plt.scatter(x, y, s=10)\n",
    "plt.plot(x, y_pred, color='r')\n",
    "plt.show()"
   ]
  },
  {
   "cell_type": "code",
   "execution_count": null,
   "id": "d613f02d-79c6-402a-8077-0a8dc3faa2e5",
   "metadata": {},
   "outputs": [],
   "source": [
    "print(f\"Funkcija premice: \\t y = {model.coef_[0][0]} x + {model.intercept_[0]}\")"
   ]
  },
  {
   "cell_type": "code",
   "execution_count": null,
   "id": "ac83b4b0-c587-4382-9d94-8f58de75d537",
   "metadata": {},
   "outputs": [],
   "source": []
  },
  {
   "cell_type": "code",
   "execution_count": null,
   "id": "d2356a35-d643-4463-b65c-2c98838d013c",
   "metadata": {},
   "outputs": [],
   "source": []
  },
  {
   "cell_type": "code",
   "execution_count": null,
   "id": "188c79d7-3d43-423a-a78f-f3445c2503d4",
   "metadata": {},
   "outputs": [],
   "source": []
  },
  {
   "cell_type": "code",
   "execution_count": null,
   "id": "99f055c4-7cc1-4819-bb89-3a923e379041",
   "metadata": {},
   "outputs": [],
   "source": []
  },
  {
   "cell_type": "code",
   "execution_count": null,
   "id": "03d810fa-19f9-41ab-9602-6125e910de5d",
   "metadata": {},
   "outputs": [],
   "source": []
  },
  {
   "cell_type": "code",
   "execution_count": null,
   "id": "e81b0a26-2e9f-4e08-8bf9-9ba89ac592d6",
   "metadata": {},
   "outputs": [],
   "source": []
  },
  {
   "cell_type": "markdown",
   "id": "70207d74",
   "metadata": {},
   "source": [
    "## What is Polynomial Regression?"
   ]
  },
  {
   "cell_type": "markdown",
   "id": "316329cb-1bf2-4066-9f7a-dc86208cd506",
   "metadata": {},
   "source": [
    "Splošna enačba polinoma je: \n",
    "$$y = w_1 x + w_2 x^2 + w_3 x^3 + ... + w_{n-1} x^{n-1} + b$$\n",
    "Tukaj lahko spreminjamo **stopnjo polinoma**, koeficiente `w` in `b`.\n",
    "\n",
    "**Stopnja polinoma** nam pove koliko je **najvišja potenca** na katero dajemo naš `x`. Z višanje stopnje polinoma višamo kompleksnost modela."
   ]
  },
  {
   "cell_type": "code",
   "execution_count": null,
   "id": "53693870-3b87-4c91-8033-24343b57e6e6",
   "metadata": {},
   "outputs": [],
   "source": [
    "from sklearn.preprocessing import PolynomialFeatures\n",
    "\n",
    "X = np.array([0, 1, 2, 3, 4])\n",
    "X = X.reshape((-1, 1))\n",
    "\n",
    "poly_features = PolynomialFeatures(degree=2)\n",
    "X_POLY = poly_features.fit_transform(X)\n",
    "\n",
    "X_POLY"
   ]
  },
  {
   "cell_type": "code",
   "execution_count": null,
   "id": "967c3f4f-a1aa-4d4b-87b2-61525c5f2895",
   "metadata": {},
   "outputs": [],
   "source": []
  },
  {
   "cell_type": "code",
   "execution_count": null,
   "id": "8cb90dd3-e002-493b-a099-851a6b5f2032",
   "metadata": {},
   "outputs": [],
   "source": []
  },
  {
   "cell_type": "markdown",
   "id": "86d72ad0-50dc-4599-afd2-7de4883e25f4",
   "metadata": {},
   "source": [
    "---"
   ]
  },
  {
   "cell_type": "code",
   "execution_count": null,
   "id": "b296dafa",
   "metadata": {},
   "outputs": [],
   "source": [
    "from sklearn.preprocessing import PolynomialFeatures\n",
    "\n",
    "polynomial_features= PolynomialFeatures(degree=2, include_bias=False)\n",
    "x_poly = polynomial_features.fit_transform(x)"
   ]
  },
  {
   "cell_type": "code",
   "execution_count": null,
   "id": "9b914e84",
   "metadata": {},
   "outputs": [],
   "source": [
    "# the default \"include_bias=True\" adds a feature that's constantly 1\n",
    "x_poly[:4]"
   ]
  },
  {
   "cell_type": "markdown",
   "id": "f737de27-b78a-4ba9-b6c0-ea5a52160391",
   "metadata": {},
   "source": [
    "---"
   ]
  },
  {
   "cell_type": "code",
   "execution_count": null,
   "id": "99be33ea-7fb6-428f-ab2a-8296c0841738",
   "metadata": {},
   "outputs": [],
   "source": []
  },
  {
   "cell_type": "code",
   "execution_count": null,
   "id": "cfe71db9-37cc-49c8-bdab-77b3a1fd4ded",
   "metadata": {},
   "outputs": [],
   "source": []
  },
  {
   "cell_type": "code",
   "execution_count": null,
   "id": "8778507f-88dd-4d11-a38e-9405f0933764",
   "metadata": {},
   "outputs": [],
   "source": []
  },
  {
   "cell_type": "code",
   "execution_count": null,
   "id": "ed985711-11a2-436e-8524-e198a659924a",
   "metadata": {},
   "outputs": [],
   "source": []
  },
  {
   "cell_type": "code",
   "execution_count": null,
   "id": "80f0021b-c17a-4c2f-99f6-76cfbc7fa21c",
   "metadata": {},
   "outputs": [],
   "source": []
  },
  {
   "cell_type": "code",
   "execution_count": null,
   "id": "9653c3aa",
   "metadata": {},
   "outputs": [],
   "source": [
    "model = LinearRegression()\n",
    "model.fit(x_poly, y)\n",
    "y_poly_pred = model.predict(x_poly)"
   ]
  },
  {
   "cell_type": "code",
   "execution_count": null,
   "id": "a9c18168-d107-4ff1-82e7-ee802806f5fa",
   "metadata": {},
   "outputs": [],
   "source": [
    "plt.scatter(x, y, s=10)\n",
    "plt.plot(x, y_poly_pred, color='m')\n",
    "plt.show()"
   ]
  },
  {
   "cell_type": "code",
   "execution_count": null,
   "id": "86c72974-f280-402b-90c5-436590088f1c",
   "metadata": {},
   "outputs": [],
   "source": [
    "print(f\"Funkcija premice: \\t y = {model.coef_[0][0]} x + {model.coef_[0][1]} x^2 + {model.intercept_[0]}\")"
   ]
  },
  {
   "cell_type": "markdown",
   "id": "f01f4e8e-c618-4683-af82-e97390f10246",
   "metadata": {},
   "source": [
    "---"
   ]
  },
  {
   "cell_type": "code",
   "execution_count": null,
   "id": "577a92d5-9a58-4f21-b584-cf55714b83dd",
   "metadata": {},
   "outputs": [],
   "source": []
  },
  {
   "cell_type": "code",
   "execution_count": null,
   "id": "d2dcf635-bd6b-4f1e-b025-080954d28210",
   "metadata": {},
   "outputs": [],
   "source": []
  },
  {
   "cell_type": "code",
   "execution_count": null,
   "id": "d601baf1-137d-4ba0-b646-44cecb058c50",
   "metadata": {},
   "outputs": [],
   "source": []
  },
  {
   "cell_type": "code",
   "execution_count": null,
   "id": "5783beb9-5959-4099-95cf-67fa03e761df",
   "metadata": {},
   "outputs": [],
   "source": []
  },
  {
   "cell_type": "code",
   "execution_count": null,
   "id": "706d5575-f15f-464a-9986-08bef699574c",
   "metadata": {},
   "outputs": [],
   "source": [
    "from sklearn.preprocessing import PolynomialFeatures\n",
    "\n",
    "poly1_features = PolynomialFeatures(degree=1, include_bias=False)\n",
    "x_poly1 = poly1_features.fit_transform(x)\n",
    "model = LinearRegression()\n",
    "model.fit(x_poly1, y)\n",
    "y_poly1_pred = model.predict(x_poly1)\n",
    "\n",
    "poly2_features = PolynomialFeatures(degree=2, include_bias=False)\n",
    "x_poly2 = poly2_features.fit_transform(x)\n",
    "model = LinearRegression()\n",
    "model.fit(x_poly2, y)\n",
    "y_poly2_pred = model.predict(x_poly2)\n",
    "\n",
    "poly3_features = PolynomialFeatures(degree=3, include_bias=False)\n",
    "x_poly3 = poly3_features.fit_transform(x)\n",
    "model = LinearRegression()\n",
    "model.fit(x_poly3, y)\n",
    "y_poly3_pred = model.predict(x_poly3)\n",
    "\n",
    "\n",
    "plt.scatter(x, y, s=10, label=\"Data\")\n",
    "plt.plot(x, y_poly1_pred, label=\"1st deg\")\n",
    "plt.plot(x, y_poly2_pred, label=\"2nd deg\")\n",
    "plt.plot(x, y_poly3_pred, label=\"3rd deg\")\n",
    "\n",
    "plt.legend()\n",
    "plt.show()"
   ]
  },
  {
   "cell_type": "code",
   "execution_count": null,
   "id": "70bbf96f-9e23-4b46-9379-7f472f16614e",
   "metadata": {},
   "outputs": [],
   "source": []
  },
  {
   "cell_type": "code",
   "execution_count": null,
   "id": "e0677d14-135f-488e-a571-6319f8057412",
   "metadata": {},
   "outputs": [],
   "source": []
  },
  {
   "cell_type": "code",
   "execution_count": null,
   "id": "ca2f81a7-d5ac-4e02-8d83-02ff57042772",
   "metadata": {},
   "outputs": [],
   "source": []
  },
  {
   "cell_type": "code",
   "execution_count": null,
   "id": "0fd2cc1f-85ff-47f4-a62e-1804a654e62f",
   "metadata": {},
   "outputs": [],
   "source": [
    "from sklearn.preprocessing import PolynomialFeatures\n",
    "\n",
    "poly_features = PolynomialFeatures(degree=20, include_bias=False)\n",
    "x_poly = poly_features.fit_transform(x)\n",
    "model = LinearRegression()\n",
    "model.fit(x_poly, y)\n",
    "y_poly_pred = model.predict(x_poly)\n",
    "\n",
    "plt.scatter(x, y, s=10, label=\"Data\")\n",
    "plt.plot(x, y_poly_pred, label=\"20th deg\")\n",
    "\n",
    "plt.legend()\n",
    "plt.show()"
   ]
  },
  {
   "cell_type": "markdown",
   "id": "828ee70b-05a6-4cba-a0d6-e6da4efc498c",
   "metadata": {},
   "source": [
    "----"
   ]
  },
  {
   "cell_type": "markdown",
   "id": "e564415b-4fb5-4da9-b7ef-09b036a3464e",
   "metadata": {},
   "source": [
    "## Polynomial Regression with Multiple Features"
   ]
  },
  {
   "cell_type": "code",
   "execution_count": null,
   "id": "0d2eeb69-a974-476f-a420-d3d45b6d7060",
   "metadata": {},
   "outputs": [],
   "source": [
    "import numpy as np\n",
    "import pandas as pd\n",
    "import matplotlib.pyplot as plt"
   ]
  },
  {
   "cell_type": "code",
   "execution_count": null,
   "id": "917d33ee-7192-4c26-8e92-04fa378051dc",
   "metadata": {},
   "outputs": [],
   "source": [
    "np.random.seed(1)\n",
    "x_1 = np.absolute(np.random.randn(100, 1) * 10)\n",
    "x_2 = np.absolute(np.random.randn(100, 1) * 30)\n",
    "y = 2*x_1**2 + 3*x_2 + 2 + np.random.randn(100, 1)*20"
   ]
  },
  {
   "cell_type": "code",
   "execution_count": null,
   "id": "809a2afd-f94d-4139-b029-aefe4d2fc802",
   "metadata": {},
   "outputs": [],
   "source": [
    "fig, axes = plt.subplots(nrows=1, ncols=2, figsize=(10, 4))\n",
    "axes[0].scatter(x_1, y)\n",
    "axes[1].scatter(x_2, y)\n",
    "axes[0].set_title(\"x_1 plotted\")\n",
    "axes[1].set_title(\"x_2 plotted\")\n",
    "plt.show()"
   ]
  },
  {
   "cell_type": "code",
   "execution_count": null,
   "id": "06ad7c30-f39b-49a4-8137-95cb2c1607fc",
   "metadata": {},
   "outputs": [],
   "source": [
    "df = pd.DataFrame({\"x_1\":x_1.reshape(100,), \"x_2\":x_2.reshape(100,), \"y\":y.reshape(100,)}, index=range(0,100))\n",
    "df"
   ]
  },
  {
   "cell_type": "code",
   "execution_count": null,
   "id": "596f70c2-6067-41e6-b7fd-23d3dc2a78be",
   "metadata": {},
   "outputs": [],
   "source": []
  },
  {
   "cell_type": "code",
   "execution_count": null,
   "id": "161a469e-4a80-47ec-81d9-73eb03624ac9",
   "metadata": {},
   "outputs": [],
   "source": []
  },
  {
   "cell_type": "code",
   "execution_count": null,
   "id": "968f65d1-bbfa-44db-a331-bc2250593e4f",
   "metadata": {},
   "outputs": [],
   "source": []
  },
  {
   "cell_type": "code",
   "execution_count": null,
   "id": "9f6d0d7e-9dbb-4a5c-9673-58f5f516237f",
   "metadata": {},
   "outputs": [],
   "source": []
  },
  {
   "cell_type": "code",
   "execution_count": null,
   "id": "198131c1-46b8-463e-9541-abd9192e7beb",
   "metadata": {},
   "outputs": [],
   "source": [
    "X, y = df[[\"x_1\", \"x_2\"]], df[\"y\"]\n",
    "poly = PolynomialFeatures(degree=2, include_bias=False)\n",
    "poly_features = poly.fit_transform(X)\n",
    "\n",
    "pd.DataFrame(poly_features, columns=[r\"$x_1$\", r\"$x_2$\", r\"$x_1^2$\", r\"$x_1 x_2$\", r\"$x_2^2$\"])"
   ]
  },
  {
   "cell_type": "code",
   "execution_count": null,
   "id": "5f8872a3-070e-4d39-9f90-bc1b1a21556d",
   "metadata": {},
   "outputs": [],
   "source": [
    "from sklearn.model_selection import train_test_split\n",
    "X_train, X_test, y_train, y_test = train_test_split(poly_features, y, test_size=0.3, random_state=42)"
   ]
  },
  {
   "cell_type": "code",
   "execution_count": null,
   "id": "6d200771-874e-4bb4-96c9-d01d7b2c4c3b",
   "metadata": {},
   "outputs": [],
   "source": [
    "poly_reg_model = LinearRegression()\n",
    "poly_reg_model.fit(X_train, y_train)\n",
    "poly_reg_y_predicted = poly_reg_model.predict(X_test)"
   ]
  },
  {
   "cell_type": "code",
   "execution_count": null,
   "id": "a2238bf0-a5ad-4796-a2b7-196f80877b3d",
   "metadata": {},
   "outputs": [],
   "source": [
    "from sklearn.metrics import mean_squared_error\n",
    "poly_reg_rmse = np.sqrt(mean_squared_error(y_test, poly_reg_y_predicted))\n",
    "poly_reg_rmse"
   ]
  },
  {
   "cell_type": "code",
   "execution_count": null,
   "id": "66bf1b84-5874-410d-87a8-379e95ee460c",
   "metadata": {},
   "outputs": [],
   "source": []
  },
  {
   "cell_type": "code",
   "execution_count": null,
   "id": "3c1d3e8d-53a8-414c-80eb-3829fd2d3304",
   "metadata": {},
   "outputs": [],
   "source": []
  },
  {
   "cell_type": "markdown",
   "id": "9aa65d38-5d5c-4b32-a63e-bf52e74aa0d7",
   "metadata": {},
   "source": [
    "---"
   ]
  },
  {
   "cell_type": "markdown",
   "id": "e4ed193e-8eed-40a6-9396-2883f99382c0",
   "metadata": {},
   "source": [
    "## Bostom Hausing"
   ]
  },
  {
   "cell_type": "markdown",
   "id": "51d92202-6fc5-4ef5-a3cc-eef75a8c12c8",
   "metadata": {},
   "source": [
    "```\n",
    "The Boston house-price data of Harrison, D. and Rubinfeld, D.L. 'Hedonic\r\n",
    " prices and the demand for clean air', J. Environ. Economics & Management,\r\n",
    " vol.5, 81-102, 1978.   Used in Belsley, Kuh & Welsch, 'Regression diagnostics\r\n",
    " ...', Wiley, 1980.   N.B. Various transformations are used in the table on\r\n",
    " pages 244-261 of the latter.\r\n",
    "\r\n",
    " Variables in order:\r\n",
    " CRIM     per capita crime rate by town\r\n",
    " ZN       proportion of residential land zoned for lots over 25,000 sq.ft.\r\n",
    " INDUS    proportion of non-retail business acres per town\r\n",
    " CHAS     Charles River dummy variable (= 1 if tract bounds river; 0 otherwise)\r\n",
    " NOX      nitric oxides concentration (parts per 10 million)\r\n",
    " RM       average number of rooms per dwelling\r\n",
    " AGE      proportion of owner-occupied units built prior to 1940\r\n",
    " DIS      weighted distances to five Boston employment centres\r\n",
    " RAD      index of accessibility to radial highways\r\n",
    " TAX      full-value property-tax rate per $10,000\r\n",
    " PTRATIO  pupil-teacher ratio by town\r\n",
    " B        1000(Bk - 0.63)^2 where Bk is the proportion of blacks by town\r\n",
    " LSTAT    % lower status of the population\r\n",
    " MEDV     Median value of owner-occupi ```ed homes in $1000's\r\n"
   ]
  },
  {
   "cell_type": "markdown",
   "id": "2a63dc26-071d-4526-8fac-db7d1d0bf4eb",
   "metadata": {},
   "source": [
    "Napovedovali bomo **INDUS**."
   ]
  },
  {
   "cell_type": "code",
   "execution_count": null,
   "id": "b3963cd0",
   "metadata": {},
   "outputs": [],
   "source": [
    "from sklearn.model_selection import train_test_split\n",
    "from sklearn.preprocessing import MinMaxScaler\n",
    "\n",
    "data_url = \"http://lib.stat.cmu.edu/datasets/boston\"\n",
    "raw_df = pd.read_csv(data_url, sep=\"\\s+\", skiprows=22, header=None)\n",
    "X = np.hstack([raw_df.values[::2, :], raw_df.values[1::2, :2]])\n",
    "y = raw_df.values[1::2, 2]\n",
    "    \n",
    "X_train, X_test, y_train, y_test = train_test_split(X, y, random_state=0)\n",
    "\n",
    "# rescale data\n",
    "scaler = MinMaxScaler()\n",
    "X_train_scaled = scaler.fit_transform(X_train)\n",
    "X_test_scaled = scaler.transform(X_test)"
   ]
  },
  {
   "cell_type": "code",
   "execution_count": null,
   "id": "d742fc2d",
   "metadata": {},
   "outputs": [],
   "source": [
    "poly = PolynomialFeatures(degree=2).fit(X_train_scaled)\n",
    "X_train_poly = poly.transform(X_train_scaled)\n",
    "X_test_poly = poly.transform(X_test_scaled)\n",
    "print(f\"X_train.shape: {X_train.shape}\")\n",
    "print(f\"X_train_poly.shape: {X_train_poly.shape}\")"
   ]
  },
  {
   "cell_type": "code",
   "execution_count": null,
   "id": "4899302b-ff78-460c-80f0-c10b9d4c6c4d",
   "metadata": {},
   "outputs": [],
   "source": [
    "poly_reg_model = LinearRegression()\n",
    "poly_reg_model.fit(X_train_poly, y_train)\n",
    "poly_reg_y_predicted = poly_reg_model.predict(X_test_poly)"
   ]
  },
  {
   "cell_type": "code",
   "execution_count": null,
   "id": "3837f1bf-d57b-41e1-81fa-4c1752731efd",
   "metadata": {},
   "outputs": [],
   "source": [
    "from sklearn.metrics import mean_squared_error\n",
    "poly_reg_rmse = np.sqrt(mean_squared_error(y_test, poly_reg_y_predicted))\n",
    "poly_reg_rmse"
   ]
  },
  {
   "cell_type": "markdown",
   "id": "a92a95aa-6648-4701-8dc7-cded16d094f8",
   "metadata": {},
   "source": [
    "## Disadvantages of polynomial regression"
   ]
  },
  {
   "cell_type": "code",
   "execution_count": null,
   "id": "4c72d88c-ca93-45f4-bad0-54077471a1ea",
   "metadata": {},
   "outputs": [],
   "source": []
  },
  {
   "cell_type": "code",
   "execution_count": null,
   "id": "ddb73670-a2a2-44e4-868f-17a2b8664b44",
   "metadata": {},
   "outputs": [],
   "source": []
  },
  {
   "cell_type": "code",
   "execution_count": null,
   "id": "bc8a0f17-d02d-459d-b8ae-329a508550a0",
   "metadata": {},
   "outputs": [],
   "source": []
  }
 ],
 "metadata": {
  "kernelspec": {
   "display_name": "Python 3 (ipykernel)",
   "language": "python",
   "name": "python3"
  },
  "language_info": {
   "codemirror_mode": {
    "name": "ipython",
    "version": 3
   },
   "file_extension": ".py",
   "mimetype": "text/x-python",
   "name": "python",
   "nbconvert_exporter": "python",
   "pygments_lexer": "ipython3",
   "version": "3.11.3"
  }
 },
 "nbformat": 4,
 "nbformat_minor": 5
}
