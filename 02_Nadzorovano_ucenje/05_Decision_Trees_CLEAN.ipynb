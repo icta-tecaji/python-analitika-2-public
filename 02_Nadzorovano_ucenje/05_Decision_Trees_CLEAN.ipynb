{
 "cells": [
  {
   "cell_type": "markdown",
   "id": "f68b0f58",
   "metadata": {},
   "source": [
    "# Decision Trees"
   ]
  },
  {
   "cell_type": "code",
   "execution_count": null,
   "id": "76dba727",
   "metadata": {},
   "outputs": [],
   "source": [
    "import pandas as pd\n",
    "import numpy as np\n",
    "%matplotlib inline\n",
    "import matplotlib.pyplot as plt\n",
    "import seaborn as sns; sns.set()"
   ]
  },
  {
   "cell_type": "markdown",
   "id": "ddfbfee7",
   "metadata": {},
   "source": [
    "<img src=\"./images/decision_tree.png\"/>"
   ]
  },
  {
   "cell_type": "markdown",
   "id": "b0192035",
   "metadata": {},
   "source": [
    "## Building decision trees"
   ]
  },
  {
   "cell_type": "markdown",
   "id": "f9bde04a",
   "metadata": {},
   "source": [
    "<img src=\"./images/two_moons.png\"/>"
   ]
  },
  {
   "cell_type": "markdown",
   "id": "0fc95202",
   "metadata": {},
   "source": [
    "<img src=\"./images/depth_1.png\"/>"
   ]
  },
  {
   "cell_type": "markdown",
   "id": "9189b5d3",
   "metadata": {},
   "source": [
    "<img src=\"./images/depth_2.png\">"
   ]
  },
  {
   "cell_type": "markdown",
   "id": "eb57c19d",
   "metadata": {},
   "source": [
    "<img src=\"./images/depth_9.png\">"
   ]
  },
  {
   "cell_type": "markdown",
   "id": "72241f8a",
   "metadata": {},
   "source": [
    "---"
   ]
  },
  {
   "cell_type": "code",
   "execution_count": null,
   "id": "8bd1144f",
   "metadata": {},
   "outputs": [],
   "source": [
    "from helpers import helpers_tree\n",
    "from sklearn.tree import DecisionTreeClassifier\n",
    "from sklearn.datasets import make_blobs\n",
    "\n",
    "        \n",
    "fig, ax = plt.subplots(1, 4, figsize=(16, 3))\n",
    "fig.subplots_adjust(left=0.02, right=0.98, wspace=0.1)\n",
    "\n",
    "X, y = make_blobs(n_samples=300, centers=4, random_state=0, cluster_std=1.0)\n",
    "\n",
    "for axi, depth in zip(ax, range(1, 5)):\n",
    "    model = DecisionTreeClassifier(max_depth=depth)\n",
    "    helpers_tree.visualize_tree(model, X, y, ax=axi)\n",
    "    axi.set_title(f'depth = {depth}')\n",
    "\n",
    "plt.show()"
   ]
  },
  {
   "cell_type": "markdown",
   "id": "98ab5b94",
   "metadata": {},
   "source": [
    "---"
   ]
  },
  {
   "cell_type": "code",
   "execution_count": null,
   "id": "32365ffd",
   "metadata": {},
   "outputs": [],
   "source": [
    "from sklearn.datasets import make_blobs\n",
    "\n",
    "X, y = make_blobs(n_samples=300, centers=4, random_state=0, cluster_std=1.0)\n",
    "plt.scatter(X[:, 0], X[:, 1], c=y, s=50, cmap='rainbow')\n",
    "plt.show()"
   ]
  },
  {
   "cell_type": "code",
   "execution_count": null,
   "id": "58b9ba79",
   "metadata": {},
   "outputs": [],
   "source": [
    "from sklearn.tree import DecisionTreeClassifier\n",
    "\n",
    "tree = DecisionTreeClassifier().fit(X, y)"
   ]
  },
  {
   "cell_type": "code",
   "execution_count": null,
   "id": "36fc6068",
   "metadata": {},
   "outputs": [],
   "source": [
    "from helpers import helpers_tree\n",
    "\n",
    "helpers_tree.plot_tree_interactive(X, y)\n",
    "plt.show()"
   ]
  },
  {
   "cell_type": "markdown",
   "id": "e2d17c1c",
   "metadata": {},
   "source": [
    "## Controlling complexity of decision trees"
   ]
  },
  {
   "cell_type": "code",
   "execution_count": null,
   "id": "6d9a6a64",
   "metadata": {},
   "outputs": [],
   "source": [
    "from helpers import helpers_tree\n",
    "\n",
    "model = DecisionTreeClassifier()\n",
    "\n",
    "fig, ax = plt.subplots(1, 2, figsize=(16, 6))\n",
    "fig.subplots_adjust(left=0.0625, right=0.95, wspace=0.1)\n",
    "helpers_tree.visualize_tree(model, X[::2], y[::2], boundaries=False, ax=ax[0])\n",
    "helpers_tree.visualize_tree(model, X[1::2], y[1::2], boundaries=False, ax=ax[1])\n",
    "plt.show()"
   ]
  },
  {
   "cell_type": "code",
   "execution_count": null,
   "id": "96c72da7",
   "metadata": {},
   "outputs": [],
   "source": [
    "from sklearn.tree import DecisionTreeClassifier\n",
    "from sklearn.datasets import load_breast_cancer\n",
    "from sklearn.model_selection import train_test_split\n",
    "\n",
    "cancer = load_breast_cancer()\n",
    "\n",
    "X_train, X_test, y_train, y_test = train_test_split(cancer.data, cancer.target, stratify=cancer.target, random_state=42)\n",
    "\n",
    "tree = DecisionTreeClassifier(random_state=0)\n",
    "tree.fit(X_train, y_train)\n",
    "\n",
    "print(f\"Accuracy on training set: {tree.score(X_train, y_train):.3f}\")\n",
    "print(f\"Accuracy on test set: {tree.score(X_test, y_test):.3f}\")"
   ]
  },
  {
   "cell_type": "code",
   "execution_count": null,
   "id": "77c4e215",
   "metadata": {},
   "outputs": [],
   "source": [
    "tree = DecisionTreeClassifier(max_depth=4, random_state=0)\n",
    "tree.fit(X_train, y_train)\n",
    "\n",
    "print(f\"Accuracy on training set: {tree.score(X_train, y_train):.3f}\")\n",
    "print(f\"Accuracy on test set: {tree.score(X_test, y_test):.3f}\")"
   ]
  },
  {
   "cell_type": "markdown",
   "id": "2f806396",
   "metadata": {},
   "source": [
    "---"
   ]
  },
  {
   "cell_type": "code",
   "execution_count": null,
   "id": "c5bce398",
   "metadata": {},
   "outputs": [],
   "source": [
    "traning_scores = {}\n",
    "testing_scores = {}\n",
    "\n",
    "depths = list(range(1,10))\n",
    "\n",
    "for depth in depths:\n",
    "    tree = DecisionTreeClassifier(max_depth=depth, random_state=0)\n",
    "    tree.fit(X_train, y_train)\n",
    "    traning_scores[depth] = tree.score(X_train, y_train)\n",
    "    testing_scores[depth] = tree.score(X_test, y_test)"
   ]
  },
  {
   "cell_type": "code",
   "execution_count": null,
   "id": "7e28d75a",
   "metadata": {},
   "outputs": [],
   "source": [
    "plt.plot(traning_scores.keys(), traning_scores.values(), c=\"blue\", label=\"training\")\n",
    "plt.plot(testing_scores.keys(), testing_scores.values(), c=\"red\", label=\"testing\")\n",
    "plt.legend()\n",
    "plt.show()"
   ]
  },
  {
   "cell_type": "markdown",
   "id": "5045b946",
   "metadata": {},
   "source": [
    "## Analyzing decision trees"
   ]
  },
  {
   "cell_type": "code",
   "execution_count": null,
   "id": "927a31f2",
   "metadata": {},
   "outputs": [],
   "source": [
    "from sklearn.tree import export_graphviz"
   ]
  },
  {
   "cell_type": "code",
   "execution_count": null,
   "id": "ca1093f6",
   "metadata": {},
   "outputs": [],
   "source": [
    "tree = DecisionTreeClassifier(max_depth=4, random_state=0)\n",
    "tree.fit(X_train, y_train)\n",
    "\n",
    "export_graphviz(tree, out_file=\"data/tree.dot\", \n",
    "                class_names=[\"malignant\", \"benign\"], \n",
    "                feature_names=cancer.feature_names, \n",
    "                impurity=False, \n",
    "                filled=True)"
   ]
  },
  {
   "cell_type": "code",
   "execution_count": null,
   "id": "83c48700",
   "metadata": {},
   "outputs": [],
   "source": [
    "import graphviz\n",
    "\n",
    "with open(\"data/tree.dot\") as f:\n",
    "    dot_graph = f.read()\n",
    "\n",
    "graphviz.Source(dot_graph)"
   ]
  },
  {
   "cell_type": "markdown",
   "id": "b709748b",
   "metadata": {},
   "source": [
    "## Feature importance in trees"
   ]
  },
  {
   "cell_type": "code",
   "execution_count": null,
   "id": "21971206",
   "metadata": {},
   "outputs": [],
   "source": [
    "tree.feature_importances_"
   ]
  },
  {
   "cell_type": "code",
   "execution_count": null,
   "id": "008902b4",
   "metadata": {},
   "outputs": [],
   "source": [
    "def plot_feature_importances_cancer(model):\n",
    "    plt.figure(figsize=(5, 7))\n",
    "    n_features = cancer.data.shape[1]\n",
    "    plt.barh(range(n_features), model.feature_importances_, align='center')\n",
    "    plt.yticks(np.arange(n_features), cancer.feature_names)\n",
    "    plt.xlabel(\"Feature importance\")\n",
    "    plt.ylabel(\"Feature\")\n",
    "    plt.show()\n",
    "\n",
    "plot_feature_importances_cancer(tree)"
   ]
  },
  {
   "cell_type": "markdown",
   "id": "32e9dfd6",
   "metadata": {},
   "source": [
    "## Decision trees for regression"
   ]
  },
  {
   "cell_type": "code",
   "execution_count": null,
   "id": "d68a0412",
   "metadata": {},
   "outputs": [],
   "source": [
    "ram_prices = pd.read_csv(\"data/ram_price.csv\", index_col=0)"
   ]
  },
  {
   "cell_type": "code",
   "execution_count": null,
   "id": "53b3bd41",
   "metadata": {},
   "outputs": [],
   "source": [
    "ram_prices.head()"
   ]
  },
  {
   "cell_type": "code",
   "execution_count": null,
   "id": "de40de65",
   "metadata": {},
   "outputs": [],
   "source": [
    "plt.semilogy(ram_prices[\"date\"], ram_prices[\"price\"])\n",
    "plt.xlabel(\"Year\")\n",
    "plt.ylabel(\"Price in $/Mbyte\")\n",
    "plt.show()"
   ]
  },
  {
   "cell_type": "code",
   "execution_count": null,
   "id": "78f73b0f",
   "metadata": {},
   "outputs": [],
   "source": [
    "from sklearn.tree import DecisionTreeRegressor\n",
    "from sklearn.linear_model import LinearRegression\n",
    "\n",
    "# use historical data to forecast prices after the year 2000\n",
    "data_train = ram_prices[ram_prices[\"date\"] < 2000]\n",
    "data_test = ram_prices[ram_prices[\"date\"] >= 2000]"
   ]
  },
  {
   "cell_type": "code",
   "execution_count": null,
   "id": "dbe1f0d7",
   "metadata": {},
   "outputs": [],
   "source": [
    "# predict prices based on date\n",
    "X_train = data_train[\"date\"].values.reshape(X_train.shape[0], 1)\n",
    "\n",
    "# we use a log-transform to get a simpler relationship of data to target\n",
    "y_train = np.log(data_train[\"price\"])\n",
    "\n",
    "tree = DecisionTreeRegressor().fit(X_train, y_train)\n",
    "linear_reg = LinearRegression().fit(X_train, y_train)"
   ]
  },
  {
   "cell_type": "code",
   "execution_count": null,
   "id": "03f51e1f",
   "metadata": {},
   "outputs": [],
   "source": [
    "# predict on all data\n",
    "X_all = ram_prices[\"date\"].values.reshape(ram_prices.shape[0], 1)\n",
    "\n",
    "pred_tree = tree.predict(X_all)\n",
    "pred_lr = linear_reg.predict(X_all)"
   ]
  },
  {
   "cell_type": "code",
   "execution_count": null,
   "id": "00f1eaf8",
   "metadata": {
    "scrolled": true
   },
   "outputs": [],
   "source": [
    "# undo log-transform\n",
    "price_tree = np.exp(pred_tree)\n",
    "price_lr = np.exp(pred_lr)"
   ]
  },
  {
   "cell_type": "code",
   "execution_count": null,
   "id": "ae64aeb2",
   "metadata": {},
   "outputs": [],
   "source": [
    "plt.semilogy(data_train.date, data_train.price, label=\"Training data\")\n",
    "plt.semilogy(data_test.date, data_test.price, label=\"Test data\")\n",
    "plt.semilogy(ram_prices.date, price_tree, label=\"Tree prediction\")\n",
    "plt.semilogy(ram_prices.date, price_lr, label=\"Linear prediction\")\n",
    "plt.legend()\n",
    "plt.show()"
   ]
  },
  {
   "cell_type": "markdown",
   "id": "add999e5",
   "metadata": {},
   "source": [
    "## Strengths, weaknesses, and parameters"
   ]
  }
 ],
 "metadata": {
  "kernelspec": {
   "display_name": "Python 3 (ipykernel)",
   "language": "python",
   "name": "python3"
  },
  "language_info": {
   "codemirror_mode": {
    "name": "ipython",
    "version": 3
   },
   "file_extension": ".py",
   "mimetype": "text/x-python",
   "name": "python",
   "nbconvert_exporter": "python",
   "pygments_lexer": "ipython3",
   "version": "3.8.10"
  }
 },
 "nbformat": 4,
 "nbformat_minor": 5
}
