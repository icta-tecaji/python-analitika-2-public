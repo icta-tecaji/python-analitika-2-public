{
 "cells": [
  {
   "cell_type": "markdown",
   "id": "4fb072d4",
   "metadata": {},
   "source": [
    "# k-Nearest Neighbors"
   ]
  },
  {
   "cell_type": "code",
   "execution_count": null,
   "id": "07b1c486",
   "metadata": {},
   "outputs": [],
   "source": [
    "import pandas as pd\n",
    "import numpy as np\n",
    "%matplotlib inline\n",
    "import matplotlib.pyplot as plt"
   ]
  },
  {
   "cell_type": "markdown",
   "id": "73ee65a6",
   "metadata": {},
   "source": [
    "## k-Neighbors classification"
   ]
  },
  {
   "cell_type": "code",
   "execution_count": null,
   "id": "8d5716e2",
   "metadata": {},
   "outputs": [],
   "source": [
    "from helpers import plot_knn_classification\n",
    "\n",
    "plot_knn_classification.plot_knn_classification(n_neighbors=1)"
   ]
  },
  {
   "cell_type": "markdown",
   "id": "da5a2ec7",
   "metadata": {},
   "source": [
    "> For finding closest similar points, you find the distance between points using distance measures such as Euclidean distance, Hamming distance, Manhattan distance and Minkowski distance."
   ]
  },
  {
   "cell_type": "code",
   "execution_count": null,
   "id": "f931b670",
   "metadata": {},
   "outputs": [],
   "source": []
  },
  {
   "cell_type": "code",
   "execution_count": null,
   "id": "fa0b3ef2",
   "metadata": {},
   "outputs": [],
   "source": []
  },
  {
   "cell_type": "code",
   "execution_count": null,
   "id": "128d48d7",
   "metadata": {},
   "outputs": [],
   "source": []
  },
  {
   "cell_type": "code",
   "execution_count": null,
   "id": "a1d087de",
   "metadata": {},
   "outputs": [],
   "source": [
    "plot_knn_classification.plot_knn_classification(n_neighbors=3)"
   ]
  },
  {
   "cell_type": "code",
   "execution_count": null,
   "id": "7db3b4dc",
   "metadata": {},
   "outputs": [],
   "source": []
  },
  {
   "cell_type": "code",
   "execution_count": null,
   "id": "1eb9a9ac",
   "metadata": {},
   "outputs": [],
   "source": []
  },
  {
   "cell_type": "code",
   "execution_count": null,
   "id": "3967abf3",
   "metadata": {},
   "outputs": [],
   "source": []
  },
  {
   "cell_type": "code",
   "execution_count": null,
   "id": "d82dc805",
   "metadata": {},
   "outputs": [],
   "source": [
    "import helpers\n",
    "from sklearn.model_selection import train_test_split\n",
    "\n",
    "X, y = helpers.datasets.make_forge()\n",
    "\n",
    "X_train, X_test, y_train, y_test = train_test_split(X, y, random_state=0)"
   ]
  },
  {
   "cell_type": "code",
   "execution_count": null,
   "id": "f8c76e22",
   "metadata": {},
   "outputs": [],
   "source": [
    "X,y"
   ]
  },
  {
   "cell_type": "markdown",
   "id": "1d5ba424",
   "metadata": {},
   "source": [
    "https://scikit-learn.org/stable/modules/generated/sklearn.neighbors.KNeighborsClassifier.html"
   ]
  },
  {
   "cell_type": "code",
   "execution_count": null,
   "id": "3fd65422",
   "metadata": {},
   "outputs": [],
   "source": [
    "from sklearn.neighbors import KNeighborsClassifier\n",
    "\n",
    "clf = KNeighborsClassifier(n_neighbors=3)"
   ]
  },
  {
   "cell_type": "code",
   "execution_count": null,
   "id": "9250f2b3",
   "metadata": {},
   "outputs": [],
   "source": []
  },
  {
   "cell_type": "code",
   "execution_count": null,
   "id": "81e1acf0",
   "metadata": {},
   "outputs": [],
   "source": [
    "clf.fit(X_train, y_train)"
   ]
  },
  {
   "cell_type": "code",
   "execution_count": null,
   "id": "8c94a3ac",
   "metadata": {},
   "outputs": [],
   "source": []
  },
  {
   "cell_type": "code",
   "execution_count": null,
   "id": "3cfbb8f6",
   "metadata": {},
   "outputs": [],
   "source": [
    "print(f\"Test set predictions: {clf.predict(X_test)}\")"
   ]
  },
  {
   "cell_type": "code",
   "execution_count": null,
   "id": "f745b94a",
   "metadata": {},
   "outputs": [],
   "source": [
    "print(f\"Test set accuracy: {clf.score(X_test, y_test):.2f}\")"
   ]
  },
  {
   "cell_type": "markdown",
   "id": "a61a313d",
   "metadata": {},
   "source": [
    "### Analyzing KNeighborsClassifier"
   ]
  },
  {
   "cell_type": "code",
   "execution_count": null,
   "id": "ebc5b70b",
   "metadata": {},
   "outputs": [],
   "source": [
    "from helpers.plot_2d_separator import plot_2d_separator\n",
    "from helpers.tools import discrete_scatter\n",
    "\n",
    "fig, axes = plt.subplots(1, 4, figsize=(10, 3))\n",
    "\n",
    "for n_neighbors, ax in zip([1, 3, 9, 12], axes):\n",
    "    clf = KNeighborsClassifier(n_neighbors=n_neighbors).fit(X, y)\n",
    "    plot_2d_separator(clf, X, fill=True, eps=0.5, ax=ax, alpha=.4)\n",
    "    discrete_scatter(X[:, 0], X[:, 1], y, ax=ax)\n",
    "    ax.set_title(\"{} neighbor(s)\".format(n_neighbors))\n",
    "    ax.set_xlabel(\"feature 0\")\n",
    "    ax.set_ylabel(\"feature 1\")\n",
    "\n",
    "    axes[0].legend(loc=3)"
   ]
  },
  {
   "cell_type": "code",
   "execution_count": null,
   "id": "f255b384",
   "metadata": {},
   "outputs": [],
   "source": []
  },
  {
   "cell_type": "code",
   "execution_count": null,
   "id": "dd256c49",
   "metadata": {},
   "outputs": [],
   "source": []
  },
  {
   "cell_type": "code",
   "execution_count": null,
   "id": "473b0938",
   "metadata": {},
   "outputs": [],
   "source": []
  },
  {
   "cell_type": "markdown",
   "id": "d102c2bb",
   "metadata": {},
   "source": [
    "- A **smoother boundary corresponds to a simpler model.**\n"
   ]
  },
  {
   "cell_type": "code",
   "execution_count": null,
   "id": "ded2036d",
   "metadata": {},
   "outputs": [],
   "source": [
    "from sklearn.datasets import load_breast_cancer\n",
    "from sklearn.preprocessing import StandardScaler\n",
    "\n",
    "cancer = load_breast_cancer()\n",
    "\n",
    "X_train, X_test, y_train, y_test = train_test_split(cancer.data, cancer.target, stratify=cancer.target, random_state=66)\n",
    "\n",
    "scaler = StandardScaler()\n",
    "scaler.fit(X_train)\n",
    "X_train_scaled = scaler.transform(X_train)\n",
    "X_test_scaled = scaler.transform(X_test)\n",
    "\n",
    "training_accuracy = []\n",
    "test_accuracy = []\n",
    "\n",
    "# try n_neighbors from 1 to 25\n",
    "neighbors_settings = range(1, 25)\n",
    "\n",
    "for n_neighbors in neighbors_settings:\n",
    "    # build the model\n",
    "    clf = KNeighborsClassifier(n_neighbors=n_neighbors)\n",
    "    clf.fit(X_train_scaled, y_train)\n",
    "    # record training set accuracy\n",
    "    training_accuracy.append(clf.score(X_train_scaled, y_train))\n",
    "    # record generalization accuracy\n",
    "    test_accuracy.append(clf.score(X_test_scaled, y_test))\n",
    "    \n",
    "    \n",
    "plt.plot(neighbors_settings, training_accuracy, label=\"training accuracy\")\n",
    "plt.plot(neighbors_settings, test_accuracy, label=\"test accuracy\")\n",
    "plt.ylabel(\"Accuracy\")\n",
    "plt.xlabel(\"n_neighbors\")\n",
    "plt.legend()\n",
    "plt.show()"
   ]
  },
  {
   "cell_type": "code",
   "execution_count": null,
   "id": "482a0e82",
   "metadata": {},
   "outputs": [],
   "source": []
  },
  {
   "cell_type": "code",
   "execution_count": null,
   "id": "8d224eaa",
   "metadata": {},
   "outputs": [],
   "source": []
  },
  {
   "cell_type": "code",
   "execution_count": null,
   "id": "de6d78dd",
   "metadata": {},
   "outputs": [],
   "source": []
  },
  {
   "cell_type": "code",
   "execution_count": null,
   "id": "83c35b5f",
   "metadata": {},
   "outputs": [],
   "source": []
  },
  {
   "cell_type": "markdown",
   "id": "9091009a",
   "metadata": {},
   "source": [
    "## k-neighbors regression"
   ]
  },
  {
   "cell_type": "code",
   "execution_count": null,
   "id": "22829005",
   "metadata": {},
   "outputs": [],
   "source": [
    "from helpers import plot_knn_regression\n",
    "\n",
    "plot_knn_regression.plot_knn_regression(n_neighbors=1)\n",
    "plt.show()"
   ]
  },
  {
   "cell_type": "code",
   "execution_count": null,
   "id": "4e00abc3",
   "metadata": {},
   "outputs": [],
   "source": []
  },
  {
   "cell_type": "code",
   "execution_count": null,
   "id": "6c26362d",
   "metadata": {},
   "outputs": [],
   "source": []
  },
  {
   "cell_type": "code",
   "execution_count": null,
   "id": "7639b799",
   "metadata": {},
   "outputs": [],
   "source": [
    "plot_knn_regression.plot_knn_regression(n_neighbors=3)\n",
    "plt.show()"
   ]
  },
  {
   "cell_type": "code",
   "execution_count": null,
   "id": "99631ac0",
   "metadata": {},
   "outputs": [],
   "source": [
    "import helpers\n",
    "from sklearn.neighbors import KNeighborsRegressor\n",
    "\n",
    "X, y = helpers.datasets.make_wave(n_samples=40)\n",
    "\n",
    "\n",
    "plt.plot(X,y, \".\")\n",
    "plt.show()"
   ]
  },
  {
   "cell_type": "code",
   "execution_count": null,
   "id": "cc8b7164",
   "metadata": {},
   "outputs": [],
   "source": [
    "# split the wave dataset into a training and a test set\n",
    "X_train, X_test, y_train, y_test = train_test_split(X, y, random_state=0)\n",
    "\n",
    "# instantiate the model and set the number of neighbors to consider to 3\n",
    "reg = KNeighborsRegressor(n_neighbors=3)\n",
    "\n",
    "# fit the model using the training data and training targets\n",
    "reg.fit(X_train, y_train)"
   ]
  },
  {
   "cell_type": "code",
   "execution_count": null,
   "id": "561915b1",
   "metadata": {},
   "outputs": [],
   "source": [
    "print(X_test)"
   ]
  },
  {
   "cell_type": "code",
   "execution_count": null,
   "id": "774ff395",
   "metadata": {},
   "outputs": [],
   "source": [
    "print(f\"Test set predictions:\\n{reg.predict(X_test)}\")"
   ]
  },
  {
   "cell_type": "code",
   "execution_count": null,
   "id": "b4542687",
   "metadata": {},
   "outputs": [],
   "source": [
    "print(f\"Test set R^2: {reg.score(X_test, y_test):.2f}\")"
   ]
  },
  {
   "cell_type": "code",
   "execution_count": null,
   "id": "96d5f174",
   "metadata": {},
   "outputs": [],
   "source": []
  },
  {
   "cell_type": "code",
   "execution_count": null,
   "id": "85f6c729",
   "metadata": {},
   "outputs": [],
   "source": []
  },
  {
   "cell_type": "markdown",
   "id": "024fe4ba",
   "metadata": {},
   "source": [
    "### Analyzing KNeighborsRegressor"
   ]
  },
  {
   "cell_type": "code",
   "execution_count": null,
   "id": "10d99b05",
   "metadata": {},
   "outputs": [],
   "source": [
    "fig, axes = plt.subplots(1, 4, figsize=(15, 4))\n",
    "\n",
    "# create 1,000 data points, evenly spaced between -3 and 3\n",
    "line = np.linspace(-3, 3, 1000).reshape(-1, 1)\n",
    "\n",
    "for n_neighbors, ax in zip([1, 3, 9, 12], axes):\n",
    "    # make predictions using 1, 3, or 9 neighbors\n",
    "    reg = KNeighborsRegressor(n_neighbors=n_neighbors)\n",
    "    reg.fit(X_train, y_train)\n",
    "    ax.plot(line, reg.predict(line))\n",
    "    ax.plot(X_train, y_train, '^', c=\"blue\", markersize=8)\n",
    "    ax.plot(X_test, y_test, 'v', c=\"red\", markersize=8)\n",
    "    ax.set_title(f\"{n_neighbors} neighbor(s)\\n train score: {reg.score(X_train, y_train):.2f} test score: {reg.score(X_test, y_test):.2f}\")\n",
    "    ax.set_xlabel(\"Feature\")\n",
    "    ax.set_ylabel(\"Target\")\n",
    "    axes[0].legend([\"Model predictions\", \"Training data/target\",\"Test data/target\"], loc=\"best\")"
   ]
  },
  {
   "cell_type": "markdown",
   "id": "25fc662c",
   "metadata": {},
   "source": [
    " \n",
    "- Considering **more neighbors** leads to **smoother predictions**, but these do **not fit the training data as well**."
   ]
  },
  {
   "cell_type": "code",
   "execution_count": null,
   "id": "76704814",
   "metadata": {},
   "outputs": [],
   "source": []
  },
  {
   "cell_type": "code",
   "execution_count": null,
   "id": "430c1d09",
   "metadata": {},
   "outputs": [],
   "source": []
  },
  {
   "cell_type": "code",
   "execution_count": null,
   "id": "e8fcd405",
   "metadata": {},
   "outputs": [],
   "source": []
  },
  {
   "cell_type": "markdown",
   "id": "c5b7c874",
   "metadata": {},
   "source": [
    "### Primer: AirBnB dataset"
   ]
  },
  {
   "cell_type": "code",
   "execution_count": null,
   "id": "ab807746",
   "metadata": {},
   "outputs": [],
   "source": [
    "dc_listings = pd.read_csv('data/dc_airbnb.csv')\n",
    "dc_listings.head(2)"
   ]
  },
  {
   "cell_type": "code",
   "execution_count": null,
   "id": "9a27eaac",
   "metadata": {},
   "outputs": [],
   "source": [
    "# price data\n",
    "stripped_commas = dc_listings['price'].str.replace(',', '', regex=False)\n",
    "stripped_dollar_sign = stripped_commas.str.replace('$', '', regex=False)\n",
    "dc_listings['price'] = stripped_dollar_sign.astype('float')\n",
    "\n",
    "\n",
    "# dropping columns \n",
    "drop_columns = ['room_type', 'city', 'state', 'latitude', \n",
    "                'longitude', 'zipcode', 'host_response_rate', \n",
    "                'host_acceptance_rate', 'host_listings_count',\n",
    "                'cleaning_fee', 'security_deposit']\n",
    "\n",
    "dc_listings.drop(drop_columns, axis=1, inplace=True)\n",
    "dc_listings = dc_listings.dropna(axis=0)"
   ]
  },
  {
   "cell_type": "code",
   "execution_count": null,
   "id": "32ac72ff",
   "metadata": {},
   "outputs": [],
   "source": [
    "# preverimo če dataset vsebuje manjkajoče vrednosti\n",
    "dc_listings.isnull().sum()"
   ]
  },
  {
   "cell_type": "code",
   "execution_count": null,
   "id": "d88d5fec",
   "metadata": {},
   "outputs": [],
   "source": [
    "dc_listings.head(2)"
   ]
  },
  {
   "cell_type": "code",
   "execution_count": null,
   "id": "b03190ef",
   "metadata": {},
   "outputs": [],
   "source": [
    "features = dc_listings.columns.tolist()\n",
    "features.remove('price')\n",
    "\n",
    "print(features)\n",
    "\n",
    "X = dc_listings[features].values\n",
    "y = dc_listings[\"price\"].values"
   ]
  },
  {
   "cell_type": "code",
   "execution_count": null,
   "id": "935cfaf2",
   "metadata": {},
   "outputs": [],
   "source": [
    "from sklearn.model_selection import train_test_split\n",
    "\n",
    "X_train, X_test, y_train, y_test = train_test_split(X, y, random_state=0, test_size=0.20)"
   ]
  },
  {
   "cell_type": "code",
   "execution_count": null,
   "id": "41d519e6",
   "metadata": {},
   "outputs": [],
   "source": [
    "X_train.shape"
   ]
  },
  {
   "cell_type": "code",
   "execution_count": null,
   "id": "72e24e3f",
   "metadata": {},
   "outputs": [],
   "source": [
    "X_test.shape"
   ]
  },
  {
   "cell_type": "code",
   "execution_count": null,
   "id": "ca445afe",
   "metadata": {},
   "outputs": [],
   "source": [
    "y_train.shape"
   ]
  },
  {
   "cell_type": "code",
   "execution_count": null,
   "id": "a6f50237",
   "metadata": {},
   "outputs": [],
   "source": [
    "y_test.shape"
   ]
  },
  {
   "cell_type": "code",
   "execution_count": null,
   "id": "e25a0038",
   "metadata": {},
   "outputs": [],
   "source": [
    "from sklearn.preprocessing import StandardScaler\n",
    "\n",
    "scaler = StandardScaler()\n",
    "scaler.fit(X_train)\n",
    "\n",
    "X_train = scaler.transform(X_train)\n",
    "X_test = scaler.transform(X_test)"
   ]
  },
  {
   "cell_type": "code",
   "execution_count": null,
   "id": "44b00a17",
   "metadata": {},
   "outputs": [],
   "source": [
    "from sklearn.neighbors import KNeighborsRegressor\n",
    "\n",
    "# Instantiate ML model.\n",
    "knn = KNeighborsRegressor(n_neighbors=5)\n",
    "knn.fit(X_train, y_train)"
   ]
  },
  {
   "cell_type": "code",
   "execution_count": null,
   "id": "af46b0d2",
   "metadata": {},
   "outputs": [],
   "source": [
    "knn.score(X_test, y_test)"
   ]
  },
  {
   "cell_type": "code",
   "execution_count": null,
   "id": "7a72c296",
   "metadata": {},
   "outputs": [],
   "source": [
    "hyper_params = list(range(7,50,3))\n",
    "scores = {}\n",
    "\n",
    "for n_neighbors in hyper_params:\n",
    "    knn = KNeighborsRegressor(n_neighbors=n_neighbors)\n",
    "    knn.fit(X_train, y_train)\n",
    "    score = knn.score(X_test, y_test)\n",
    "    scores[n_neighbors] = score"
   ]
  },
  {
   "cell_type": "code",
   "execution_count": null,
   "id": "8482a9fd",
   "metadata": {},
   "outputs": [],
   "source": [
    "scores"
   ]
  },
  {
   "cell_type": "code",
   "execution_count": null,
   "id": "56dc2c51",
   "metadata": {},
   "outputs": [],
   "source": [
    "plt.scatter(x=scores.keys(), y=scores.values())\n",
    "plt.show()"
   ]
  },
  {
   "cell_type": "markdown",
   "id": "0ac18a7c",
   "metadata": {},
   "source": [
    "## Parameters"
   ]
  },
  {
   "cell_type": "markdown",
   "id": "74cde4be",
   "metadata": {},
   "source": [
    "In principle, there are two important parameters to the KNeighbors classifier: \n",
    "- the number of neighbors\n",
    "- how you measure distance between data points. \n",
    "\n",
    "In practice, **using a small number of neighbors like three or five often works well**, but you should\n",
    "certainly adjust this parameter. \n",
    "\n",
    "By default, **Euclidean distance is used, which works well in many settings**."
   ]
  },
  {
   "cell_type": "markdown",
   "id": "dbb7c5a2",
   "metadata": {},
   "source": [
    "## Strengths"
   ]
  },
  {
   "cell_type": "markdown",
   "id": "296baefd",
   "metadata": {},
   "source": [
    "- The model is very easy to understand.\n",
    "- Often gives reasonable performance without a lot of adjustments.\n",
    "- Using this algorithm is a good baseline method to try before considering more advanced techniques. \n",
    "- KNN can be useful in case of nonlinear data."
   ]
  },
  {
   "cell_type": "markdown",
   "id": "28c857ef",
   "metadata": {},
   "source": [
    "## Weaknesses"
   ]
  },
  {
   "cell_type": "markdown",
   "id": "558bd229",
   "metadata": {},
   "source": [
    "- The nearest k-neighbors algorithm is not often used in practice, due to **prediction being slow and its inability to handle many features.**\n",
    "\n",
    "- It requires large memory for storing the entire training dataset for prediction."
   ]
  },
  {
   "cell_type": "markdown",
   "id": "080ce900",
   "metadata": {},
   "source": [
    "- Building the nearest neighbors model is usually very fast, but when your training set is very large (either in number of features or in number of samples) prediction can be slow."
   ]
  },
  {
   "cell_type": "markdown",
   "id": "a1a45d14",
   "metadata": {},
   "source": [
    "- When using the k-NN algorithm, it’s important to preprocess your data.\n",
    "    - This approach often does not perform well on datasets with many features (hundreds or more), and it does particularly badly with datasets where most features are 0 most of the time (so-called sparse datasets)."
   ]
  },
  {
   "cell_type": "markdown",
   "id": "fe6b1be8",
   "metadata": {},
   "source": [
    "- Finally, the KNN algorithm doesn't work well with categorical features since it is difficult to find the distance between dimensions with categorical features."
   ]
  },
  {
   "cell_type": "markdown",
   "id": "755dae47",
   "metadata": {},
   "source": [
    "## Conclusion"
   ]
  },
  {
   "cell_type": "markdown",
   "id": "117e972a",
   "metadata": {},
   "source": [
    "- KNN **performs better with a lower number of features than a large number of features**. \n",
    "    - You can say that when the number of features increases than it requires more data. \n",
    "    - Increase in dimension also leads to the problem of overfitting. \n",
    "    - To avoid overfitting, the needed data will need to grow exponentially as you increase the number of dimensions."
   ]
  },
  {
   "cell_type": "markdown",
   "id": "6f13ddd5",
   "metadata": {},
   "source": [
    "- Research has shown that in large dimension Euclidean distance is not useful anymore."
   ]
  }
 ],
 "metadata": {
  "kernelspec": {
   "display_name": "Python 3 (ipykernel)",
   "language": "python",
   "name": "python3"
  },
  "language_info": {
   "codemirror_mode": {
    "name": "ipython",
    "version": 3
   },
   "file_extension": ".py",
   "mimetype": "text/x-python",
   "name": "python",
   "nbconvert_exporter": "python",
   "pygments_lexer": "ipython3",
   "version": "3.10.9"
  }
 },
 "nbformat": 4,
 "nbformat_minor": 5
}
