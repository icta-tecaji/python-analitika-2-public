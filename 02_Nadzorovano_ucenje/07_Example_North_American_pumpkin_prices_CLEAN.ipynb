{
 "cells": [
  {
   "cell_type": "markdown",
   "id": "a4893db0",
   "metadata": {},
   "source": [
    "# Example: North American pumpkin prices"
   ]
  },
  {
   "cell_type": "code",
   "execution_count": null,
   "id": "d099e746",
   "metadata": {},
   "outputs": [],
   "source": [
    "import pandas as pd\n",
    "import numpy as np\n",
    "%matplotlib inline\n",
    "import matplotlib.pyplot as plt\n",
    "from datetime import datetime"
   ]
  },
  {
   "cell_type": "markdown",
   "id": "712bf2e8",
   "metadata": {},
   "source": [
    "## Visualize and clean data in preparation for ML"
   ]
  },
  {
   "cell_type": "code",
   "execution_count": null,
   "id": "a2d24138",
   "metadata": {},
   "outputs": [],
   "source": [
    "pumpkins = pd.read_csv('data/US-pumpkins.csv')\n",
    "pumpkins.head()"
   ]
  },
  {
   "cell_type": "code",
   "execution_count": null,
   "id": "457a043c",
   "metadata": {},
   "outputs": [],
   "source": [
    "pumpkins.info()"
   ]
  },
  {
   "cell_type": "code",
   "execution_count": null,
   "id": "5ceae887",
   "metadata": {},
   "outputs": [],
   "source": [
    "pumpkins[\"Date\"] = pd.to_datetime(pumpkins[\"Date\"])"
   ]
  },
  {
   "cell_type": "code",
   "execution_count": null,
   "id": "51d06157",
   "metadata": {},
   "outputs": [],
   "source": [
    "pumpkins[\"Month\"] = pumpkins[\"Date\"].dt.month"
   ]
  },
  {
   "cell_type": "code",
   "execution_count": null,
   "id": "c8c08afb-6dc2-4c8f-a6b0-78f30edc0609",
   "metadata": {},
   "outputs": [],
   "source": [
    "pumpkins[\"DayOfYear\"] = pd.to_datetime(pumpkins['Date']).apply(lambda dt: (dt-datetime(dt.year,1,1)).days)"
   ]
  },
  {
   "cell_type": "code",
   "execution_count": null,
   "id": "75ee5874",
   "metadata": {},
   "outputs": [],
   "source": [
    "pumpkins.isnull().sum()"
   ]
  },
  {
   "cell_type": "code",
   "execution_count": null,
   "id": "a5f7d8ad",
   "metadata": {},
   "outputs": [],
   "source": [
    "new_columns = ['Package', 'Variety', 'City Name', 'Month', 'Low Price', 'High Price', 'DayOfYear']\n",
    "pumpkins = pumpkins.drop([c for c in pumpkins.columns if c not in new_columns], axis=1)\n",
    "pumpkins.head()"
   ]
  },
  {
   "cell_type": "code",
   "execution_count": null,
   "id": "6dbddff8",
   "metadata": {},
   "outputs": [],
   "source": [
    "pumpkins['Price'] = (pumpkins['Low Price'] + pumpkins['High Price']) / 2\n",
    "pumpkins.head()"
   ]
  },
  {
   "cell_type": "code",
   "execution_count": null,
   "id": "319f3639",
   "metadata": {},
   "outputs": [],
   "source": [
    "pumpkins[\"Package\"].unique()"
   ]
  },
  {
   "cell_type": "code",
   "execution_count": null,
   "id": "f23d2258",
   "metadata": {},
   "outputs": [],
   "source": [
    "new_pumpkins = pumpkins[pumpkins['Package'].str.contains('bushel', case=True, regex=True)]"
   ]
  },
  {
   "cell_type": "code",
   "execution_count": null,
   "id": "eaaf8893",
   "metadata": {},
   "outputs": [],
   "source": [
    "new_pumpkins.shape"
   ]
  },
  {
   "cell_type": "code",
   "execution_count": null,
   "id": "77232a49",
   "metadata": {},
   "outputs": [],
   "source": [
    "new_pumpkins[\"Package\"].unique()"
   ]
  },
  {
   "cell_type": "code",
   "execution_count": null,
   "id": "36510ea9",
   "metadata": {},
   "outputs": [],
   "source": [
    "new_pumpkins.head()"
   ]
  },
  {
   "cell_type": "code",
   "execution_count": null,
   "id": "0fd6c507",
   "metadata": {},
   "outputs": [],
   "source": [
    "new_pumpkins.loc[new_pumpkins['Package'].str.contains('1 1/9'), 'Price'] = new_pumpkins['Price']/(1 + 1/9)\n",
    "new_pumpkins.loc[new_pumpkins['Package'].str.contains('1/2'), 'Price'] = new_pumpkins['Price']/(1/2)"
   ]
  },
  {
   "cell_type": "code",
   "execution_count": null,
   "id": "351a397f",
   "metadata": {},
   "outputs": [],
   "source": [
    "new_pumpkins.head()"
   ]
  },
  {
   "cell_type": "markdown",
   "id": "baaea5a6",
   "metadata": {},
   "source": [
    "**Visualization Strategies**"
   ]
  },
  {
   "cell_type": "code",
   "execution_count": null,
   "id": "0e1b9067",
   "metadata": {},
   "outputs": [],
   "source": [
    "new_pumpkins.groupby(['Month'])['Price'].mean().plot(kind='bar')\n",
    "plt.ylabel(\"Pumpkin Price\")\n",
    "plt.show()"
   ]
  },
  {
   "cell_type": "markdown",
   "id": "58b05d85-863f-4ab0-be2a-d3d35c7be98b",
   "metadata": {},
   "source": [
    "**Looking for Correlation**"
   ]
  },
  {
   "cell_type": "code",
   "execution_count": null,
   "id": "7c16a7f0",
   "metadata": {},
   "outputs": [],
   "source": [
    "new_pumpkins.plot.scatter('DayOfYear','Price')\n",
    "plt.show()"
   ]
  },
  {
   "cell_type": "code",
   "execution_count": null,
   "id": "fdf1aa3f-6ba5-4172-9025-c2670b37c89a",
   "metadata": {},
   "outputs": [],
   "source": [
    "print(new_pumpkins['Month'].corr(new_pumpkins['Price']))\n",
    "print(new_pumpkins['DayOfYear'].corr(new_pumpkins['Price']))"
   ]
  },
  {
   "cell_type": "code",
   "execution_count": null,
   "id": "278e3950-dd25-426b-8ed2-ba3f24e2b82f",
   "metadata": {},
   "outputs": [],
   "source": [
    "ax=None\n",
    "colors = ['red','blue','green','yellow']\n",
    "for i,var in enumerate(new_pumpkins['Variety'].unique()):\n",
    "    ax = new_pumpkins[new_pumpkins['Variety']==var].plot.scatter('DayOfYear','Price',ax=ax,c=colors[i],label=var)"
   ]
  },
  {
   "cell_type": "code",
   "execution_count": null,
   "id": "64fef846-4b1a-4818-aaee-17356736bd5f",
   "metadata": {},
   "outputs": [],
   "source": [
    "new_pumpkins.groupby('Variety')['Price'].mean().plot(kind='bar')\n",
    "plt.show()"
   ]
  },
  {
   "cell_type": "code",
   "execution_count": null,
   "id": "1d045557-af7e-49e9-997a-701e51833420",
   "metadata": {},
   "outputs": [],
   "source": [
    "pie_pumpkins = new_pumpkins[new_pumpkins['Variety']=='PIE TYPE'].copy()\n",
    "pie_pumpkins.plot.scatter('DayOfYear','Price') \n",
    "plt.show()"
   ]
  },
  {
   "cell_type": "code",
   "execution_count": null,
   "id": "f066320c-a3b3-4df9-a759-ecd14e44bbd9",
   "metadata": {},
   "outputs": [],
   "source": [
    "print(pie_pumpkins['DayOfYear'].corr(pie_pumpkins['Price']))"
   ]
  },
  {
   "cell_type": "markdown",
   "id": "eab723ae-8b16-4522-a975-18b41aa0c4aa",
   "metadata": {},
   "source": [
    "----"
   ]
  },
  {
   "cell_type": "markdown",
   "id": "b5aef5ae-15e6-44fd-beb3-ee9beeaa1e20",
   "metadata": {},
   "source": [
    "## Build a regression model using Scikit-learn"
   ]
  },
  {
   "cell_type": "code",
   "execution_count": null,
   "id": "2e495453-ba50-4ad6-915c-73a5ea9a2b1e",
   "metadata": {},
   "outputs": [],
   "source": [
    "pie_pumpkins.dropna(inplace=True)\n",
    "pie_pumpkins.info()"
   ]
  },
  {
   "cell_type": "markdown",
   "id": "97f17153",
   "metadata": {},
   "source": [
    "**Simple Linear Regression**"
   ]
  },
  {
   "cell_type": "code",
   "execution_count": null,
   "id": "300838e5",
   "metadata": {},
   "outputs": [],
   "source": [
    "from sklearn.linear_model import LinearRegression\n",
    "from sklearn.model_selection import train_test_split"
   ]
  },
  {
   "cell_type": "code",
   "execution_count": null,
   "id": "f7cc35c3",
   "metadata": {},
   "outputs": [],
   "source": [
    "X = pie_pumpkins['DayOfYear'].to_numpy().reshape(-1,1)\n",
    "y = pie_pumpkins['Price']"
   ]
  },
  {
   "cell_type": "code",
   "execution_count": null,
   "id": "b13534aa",
   "metadata": {},
   "outputs": [],
   "source": [
    "X_train, X_test, y_train, y_test = train_test_split(X, y, test_size=0.2, random_state=0)"
   ]
  },
  {
   "cell_type": "code",
   "execution_count": null,
   "id": "a003d10b",
   "metadata": {},
   "outputs": [],
   "source": [
    "lin_reg = LinearRegression()\n",
    "lin_reg.fit(X_train,y_train)"
   ]
  },
  {
   "cell_type": "code",
   "execution_count": null,
   "id": "4cdbd414",
   "metadata": {},
   "outputs": [],
   "source": [
    "from sklearn.metrics import mean_squared_error\n",
    "\n",
    "pred = lin_reg.predict(X_test)\n",
    "\n",
    "mse = np.sqrt(mean_squared_error(y_test,pred))\n",
    "print(f'Mean error: {mse:3.3}')"
   ]
  },
  {
   "cell_type": "code",
   "execution_count": null,
   "id": "4c5bdb6e",
   "metadata": {},
   "outputs": [],
   "source": [
    "score = lin_reg.score(X_train,y_train)\n",
    "print('Model determination: ', score)"
   ]
  },
  {
   "cell_type": "code",
   "execution_count": null,
   "id": "650d0268",
   "metadata": {},
   "outputs": [],
   "source": [
    "plt.scatter(X_test,y_test)\n",
    "plt.plot(X_test,pred)\n",
    "plt.show()"
   ]
  },
  {
   "cell_type": "markdown",
   "id": "ebb571a6",
   "metadata": {},
   "source": [
    "**Polynomial Regression**"
   ]
  },
  {
   "cell_type": "code",
   "execution_count": null,
   "id": "d69a4c4f",
   "metadata": {},
   "outputs": [],
   "source": [
    "from sklearn.preprocessing import PolynomialFeatures\n",
    "from sklearn.pipeline import make_pipeline\n",
    "\n",
    "pipeline = make_pipeline(PolynomialFeatures(2, include_bias=False), LinearRegression())\n",
    "\n",
    "pipeline.fit(X_train,y_train)\n",
    "\n",
    "pred = pipeline.predict(X_test)"
   ]
  },
  {
   "cell_type": "code",
   "execution_count": null,
   "id": "31c8a326",
   "metadata": {},
   "outputs": [],
   "source": [
    "plt.scatter(X_test,y_test)\n",
    "plt.plot(sorted(X_test),pipeline.predict(sorted(X_test)))\n",
    "plt.show()"
   ]
  },
  {
   "cell_type": "code",
   "execution_count": null,
   "id": "66cca092",
   "metadata": {},
   "outputs": [],
   "source": [
    "mse = np.sqrt(mean_squared_error(y_test,pred))\n",
    "print(f'Mean error: {mse:3.3}')\n",
    "\n",
    "score = pipeline.score(X_train,y_train)\n",
    "print('Model determination: ', score)"
   ]
  },
  {
   "cell_type": "markdown",
   "id": "afb970ba",
   "metadata": {},
   "source": [
    "**Categorical Features**"
   ]
  },
  {
   "cell_type": "code",
   "execution_count": null,
   "id": "bb906cf6",
   "metadata": {},
   "outputs": [],
   "source": [
    "pd.get_dummies(new_pumpkins['Variety'])"
   ]
  },
  {
   "cell_type": "markdown",
   "id": "7b4e080b",
   "metadata": {},
   "source": [
    "**Linear Regression on Variety**"
   ]
  },
  {
   "cell_type": "code",
   "execution_count": null,
   "id": "0e9f06be",
   "metadata": {},
   "outputs": [],
   "source": [
    "X = pd.get_dummies(new_pumpkins['Variety'])\n",
    "y = new_pumpkins['Price']"
   ]
  },
  {
   "cell_type": "code",
   "execution_count": null,
   "id": "0f24d27f",
   "metadata": {},
   "outputs": [],
   "source": [
    "def run_linear_regression(X,y):\n",
    "    X_train, X_test, y_train, y_test = train_test_split(X, y, test_size=0.2, random_state=0)\n",
    "    lin_reg = LinearRegression()\n",
    "    lin_reg.fit(X_train,y_train)\n",
    "\n",
    "    pred = lin_reg.predict(X_test)\n",
    "\n",
    "    mse = np.sqrt(mean_squared_error(y_test,pred))\n",
    "    print(f'Mean error: {mse:3.3}')\n",
    "\n",
    "    score = lin_reg.score(X_train,y_train)\n",
    "    print('Model determination: ', score)\n",
    "\n",
    "run_linear_regression(X,y)"
   ]
  },
  {
   "cell_type": "code",
   "execution_count": null,
   "id": "0318e529",
   "metadata": {},
   "outputs": [],
   "source": [
    "X = pd.get_dummies(new_pumpkins['Variety']) \\\n",
    "        .join(new_pumpkins['Month']) \\\n",
    "        .join(pd.get_dummies(new_pumpkins['City Name'])) \\\n",
    "        .join(pd.get_dummies(new_pumpkins['Package']))\n",
    "\n",
    "y = new_pumpkins['Price']\n",
    "\n",
    "run_linear_regression(X,y)"
   ]
  },
  {
   "cell_type": "markdown",
   "id": "cc600c7f",
   "metadata": {},
   "source": [
    "**Polynomial Regression**"
   ]
  },
  {
   "cell_type": "code",
   "execution_count": null,
   "id": "3a22fe3e",
   "metadata": {},
   "outputs": [],
   "source": [
    "from sklearn.preprocessing import PolynomialFeatures\n",
    "from sklearn.pipeline import make_pipeline\n",
    "\n",
    "pipeline = make_pipeline(PolynomialFeatures(2), LinearRegression())\n",
    "\n",
    "X_train, X_test, y_train, y_test = train_test_split(X, y, test_size=0.2, random_state=0)\n",
    "\n",
    "pipeline.fit(X_train,y_train)\n",
    "\n",
    "pred = pipeline.predict(X_test)\n",
    "\n",
    "mse = np.sqrt(mean_squared_error(y_test,pred))\n",
    "print(f'Mean error: {mse:3.3}')\n",
    "\n",
    "score = pipeline.score(X_train,y_train)\n",
    "print('Model determination: ', score)"
   ]
  },
  {
   "cell_type": "markdown",
   "id": "a47587c0-d7c0-4999-ae74-11f04eced1a1",
   "metadata": {},
   "source": [
    "---"
   ]
  },
  {
   "cell_type": "markdown",
   "id": "249cdd8b",
   "metadata": {},
   "source": [
    "## Logistic regression to predict categories"
   ]
  },
  {
   "cell_type": "markdown",
   "id": "5a782a64",
   "metadata": {},
   "source": [
    "**Tidy the data**"
   ]
  },
  {
   "cell_type": "code",
   "execution_count": null,
   "id": "620b554d",
   "metadata": {},
   "outputs": [],
   "source": [
    "pumpkins = pd.read_csv('./data/US-pumpkins.csv')"
   ]
  },
  {
   "cell_type": "code",
   "execution_count": null,
   "id": "061c0f1f",
   "metadata": {},
   "outputs": [],
   "source": [
    "from sklearn.preprocessing import LabelEncoder\n",
    "\n",
    "new_columns = ['Color','Origin','Item Size','Variety','City Name','Package']\n",
    "new_pumpkins = pumpkins.drop([c for c in pumpkins.columns if c not in new_columns], axis=1)\n",
    "new_pumpkins.dropna(inplace=True)\n",
    "new_pumpkins = new_pumpkins.apply(LabelEncoder().fit_transform)\n",
    "\n",
    "new_pumpkins.head()"
   ]
  },
  {
   "cell_type": "code",
   "execution_count": null,
   "id": "5cae080a",
   "metadata": {},
   "outputs": [],
   "source": [
    "new_pumpkins.info()"
   ]
  },
  {
   "cell_type": "markdown",
   "id": "8b0d25bd",
   "metadata": {},
   "source": [
    "**Build your model**"
   ]
  },
  {
   "cell_type": "code",
   "execution_count": null,
   "id": "a98dd584",
   "metadata": {},
   "outputs": [],
   "source": [
    "from sklearn.model_selection import train_test_split\n",
    "\n",
    "Selected_features = ['Origin','Item Size','Variety','City Name','Package']\n",
    "\n",
    "X = new_pumpkins[Selected_features]\n",
    "y = new_pumpkins['Color']\n",
    "\n",
    "X_train, X_test, y_train, y_test = train_test_split(X, y, test_size=0.2, random_state=0)"
   ]
  },
  {
   "cell_type": "code",
   "execution_count": null,
   "id": "a9391e96",
   "metadata": {},
   "outputs": [],
   "source": [
    "from sklearn.model_selection import train_test_split\n",
    "from sklearn.metrics import accuracy_score, classification_report \n",
    "from sklearn.linear_model import LogisticRegression\n",
    "\n",
    "model = LogisticRegression()\n",
    "model.fit(X_train, y_train)\n",
    "predictions = model.predict(X_test)\n",
    "\n",
    "print(classification_report(y_test, predictions))\n",
    "print('Predicted labels: ', predictions)\n",
    "print('Accuracy: ', accuracy_score(y_test, predictions))"
   ]
  },
  {
   "cell_type": "code",
   "execution_count": null,
   "id": "17f89d45",
   "metadata": {},
   "outputs": [],
   "source": [
    "from sklearn.metrics import confusion_matrix\n",
    "\n",
    "confusion_matrix(y_test, predictions)"
   ]
  },
  {
   "cell_type": "code",
   "execution_count": null,
   "id": "0a6290ad-5780-4686-8d01-2116c59a6638",
   "metadata": {},
   "outputs": [],
   "source": []
  }
 ],
 "metadata": {
  "kernelspec": {
   "display_name": "Python 3 (ipykernel)",
   "language": "python",
   "name": "python3"
  },
  "language_info": {
   "codemirror_mode": {
    "name": "ipython",
    "version": 3
   },
   "file_extension": ".py",
   "mimetype": "text/x-python",
   "name": "python",
   "nbconvert_exporter": "python",
   "pygments_lexer": "ipython3",
   "version": "3.11.3"
  }
 },
 "nbformat": 4,
 "nbformat_minor": 5
}
