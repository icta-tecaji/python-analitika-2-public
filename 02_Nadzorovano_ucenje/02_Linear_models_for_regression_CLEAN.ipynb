{
 "cells": [
  {
   "cell_type": "markdown",
   "id": "2a059870",
   "metadata": {},
   "source": [
    "# Linear models for regression"
   ]
  },
  {
   "cell_type": "code",
   "execution_count": null,
   "id": "7f941080",
   "metadata": {},
   "outputs": [],
   "source": [
    "import pandas as pd\n",
    "import numpy as np\n",
    "%matplotlib inline\n",
    "import matplotlib.pyplot as plt\n",
    "import ipywidgets as widgets\n",
    "from IPython.display import display"
   ]
  },
  {
   "cell_type": "markdown",
   "id": "c7b1ef7e",
   "metadata": {},
   "source": [
    "## Jupyter Widgets"
   ]
  },
  {
   "cell_type": "markdown",
   "id": "6aecbfc2",
   "metadata": {},
   "source": [
    "- [Docs](https://ipywidgets.readthedocs.io/en/stable/index.html)\n",
    "- [Installation](https://ipywidgets.readthedocs.io/en/stable/user_install.html)"
   ]
  },
  {
   "cell_type": "markdown",
   "id": "9a7f5a51",
   "metadata": {},
   "source": [
    "Jupyter Widgets are interactive browser controls for Jupyter notebooks. Examples include:\n",
    "- Basic form controls like sliders, checkboxes, text inputs\n",
    "- Container controls like tabs, accordions, horizontal and vertical layout boxes, grid layouts\n",
    "- Advanced controls like maps, 2d and 3d visualizations, datagrids, and more"
   ]
  },
  {
   "cell_type": "markdown",
   "id": "b5d1afce",
   "metadata": {},
   "source": [
    "Installation: `pip install ipywidgets`"
   ]
  },
  {
   "cell_type": "code",
   "execution_count": null,
   "id": "c7402285",
   "metadata": {},
   "outputs": [],
   "source": [
    "import ipywidgets as widgets"
   ]
  },
  {
   "cell_type": "code",
   "execution_count": null,
   "id": "fd61a5cd",
   "metadata": {},
   "outputs": [],
   "source": [
    "widgets.IntSlider()"
   ]
  },
  {
   "cell_type": "code",
   "execution_count": null,
   "id": "f4ddbd9b",
   "metadata": {},
   "outputs": [],
   "source": [
    "# You can also explicitly display the widget using display(...).\n",
    "from IPython.display import display\n",
    "w = widgets.IntSlider()\n",
    "display(w)"
   ]
  },
  {
   "cell_type": "code",
   "execution_count": null,
   "id": "4f8516fe",
   "metadata": {},
   "outputs": [],
   "source": [
    "# If you display the same widget twice, the displayed instances in the front-end will remain in sync with each other. \n",
    "# Try dragging the slider below and watch the slider above.\n",
    "display(w)"
   ]
  },
  {
   "cell_type": "markdown",
   "id": "e26f684c",
   "metadata": {},
   "source": [
    "[Widget List](https://ipywidgets.readthedocs.io/en/stable/examples/Widget%20List.html)"
   ]
  },
  {
   "cell_type": "code",
   "execution_count": null,
   "id": "10f95587",
   "metadata": {},
   "outputs": [],
   "source": []
  },
  {
   "cell_type": "code",
   "execution_count": null,
   "id": "9cefe8d3",
   "metadata": {},
   "outputs": [],
   "source": []
  },
  {
   "cell_type": "code",
   "execution_count": null,
   "id": "fbd2ecc0",
   "metadata": {},
   "outputs": [],
   "source": []
  },
  {
   "cell_type": "markdown",
   "id": "36d45390",
   "metadata": {},
   "source": [
    "## Linear regression theory"
   ]
  },
  {
   "cell_type": "markdown",
   "id": "6e0982cb",
   "metadata": {},
   "source": [
    "Another name for a linear model with one input variable is **univariate linear regression**."
   ]
  },
  {
   "cell_type": "code",
   "execution_count": null,
   "id": "aff6a6f4",
   "metadata": {},
   "outputs": [],
   "source": []
  },
  {
   "cell_type": "code",
   "execution_count": null,
   "id": "ee46cdba",
   "metadata": {},
   "outputs": [],
   "source": []
  },
  {
   "cell_type": "code",
   "execution_count": null,
   "id": "2a7680b5",
   "metadata": {},
   "outputs": [],
   "source": []
  },
  {
   "cell_type": "code",
   "execution_count": null,
   "id": "533d2e92",
   "metadata": {},
   "outputs": [],
   "source": []
  },
  {
   "cell_type": "code",
   "execution_count": null,
   "id": "e5669ee2",
   "metadata": {},
   "outputs": [],
   "source": []
  },
  {
   "cell_type": "code",
   "execution_count": null,
   "id": "4d163625",
   "metadata": {},
   "outputs": [],
   "source": [
    "# x_train is the input variable (size in 1000 square feet)\n",
    "# y_train is the target (price in 1000s of dollars)\n",
    "x_train = np.array([1.0, 2.0])\n",
    "y_train = np.array([300.0, 500.0])\n",
    "print(f\"x_train = {x_train}\")\n",
    "print(f\"y_train = {y_train}\")"
   ]
  },
  {
   "cell_type": "code",
   "execution_count": null,
   "id": "b8323d83",
   "metadata": {},
   "outputs": [],
   "source": []
  },
  {
   "cell_type": "code",
   "execution_count": null,
   "id": "d97f31c6",
   "metadata": {},
   "outputs": [],
   "source": []
  },
  {
   "cell_type": "code",
   "execution_count": null,
   "id": "a7734a15",
   "metadata": {},
   "outputs": [],
   "source": []
  },
  {
   "cell_type": "code",
   "execution_count": null,
   "id": "c6da9cb8",
   "metadata": {},
   "outputs": [],
   "source": [
    "# m is the number of training examples\n",
    "print(f\"x_train.shape: {x_train.shape}\")\n",
    "m = x_train.shape[0]\n",
    "print(f\"Number of training examples is: {m}\")"
   ]
  },
  {
   "cell_type": "code",
   "execution_count": null,
   "id": "bac4e2a8",
   "metadata": {},
   "outputs": [],
   "source": [
    "# Plot the data points\n",
    "plt.scatter(x_train, y_train, marker='x', c='r')\n",
    "# Set the title\n",
    "plt.title(\"Housing Prices\")\n",
    "# Set the y-axis label\n",
    "plt.ylabel('Price (in 1000s of dollars)')\n",
    "# Set the x-axis label\n",
    "plt.xlabel('Size (1000 sqft)')\n",
    "plt.show()"
   ]
  },
  {
   "cell_type": "code",
   "execution_count": null,
   "id": "b0b16c99",
   "metadata": {},
   "outputs": [],
   "source": []
  },
  {
   "cell_type": "code",
   "execution_count": null,
   "id": "c75e90f8",
   "metadata": {},
   "outputs": [],
   "source": []
  },
  {
   "cell_type": "code",
   "execution_count": null,
   "id": "ecce3484",
   "metadata": {},
   "outputs": [],
   "source": []
  },
  {
   "cell_type": "code",
   "execution_count": null,
   "id": "be2ca1c1",
   "metadata": {},
   "outputs": [],
   "source": [
    "from ipywidgets import interact, IntSlider"
   ]
  },
  {
   "cell_type": "code",
   "execution_count": null,
   "id": "061cf101",
   "metadata": {},
   "outputs": [],
   "source": [
    "def compute_model_output(x, w, b):\n",
    "    \"\"\"\n",
    "    Computes the prediction of a linear model\n",
    "    Args:\n",
    "      x (ndarray (m,)): Data, m examples \n",
    "      w,b (scalar)    : model parameters  \n",
    "    Returns\n",
    "      y (ndarray (m,)): target values\n",
    "    \"\"\"\n",
    "    m = x.shape[0]\n",
    "    f_wb = np.zeros(m)\n",
    "    for i in range(m):\n",
    "        f_wb[i] = w * x[i] + b\n",
    "        \n",
    "    return f_wb"
   ]
  },
  {
   "cell_type": "code",
   "execution_count": null,
   "id": "88eaa5a2",
   "metadata": {},
   "outputs": [],
   "source": [
    "def plot_housing_prices(w = 1, b=100):\n",
    "    plt.figure(figsize=(6,4))\n",
    "    \n",
    "    ## Set up the figure axes, etc.\n",
    "    plt.xlim(0.5, 2.5)\n",
    "    plt.ylim(0, 1000)\n",
    "    plt.title(\"Housing Prices\")\n",
    "    plt.xlabel('Size (1000 sqft)')\n",
    "    plt.ylabel('Price (in 1000s of dollars)')\n",
    "    \n",
    "    tmp_f_wb = compute_model_output(x_train, w, b,)\n",
    "    # Plot our model prediction\n",
    "    plt.plot(x_train, tmp_f_wb, c='b',label='Our Prediction')\n",
    "    # Plot the data points\n",
    "    plt.scatter(x_train, y_train, marker='x', c='r',label='Actual Values')\n",
    "    \n",
    "interact(plot_housing_prices, \n",
    "         w=IntSlider(min=0, max=500, step=20, value=300), \n",
    "         b=IntSlider(min=-300, max=800, step=20, value=200))"
   ]
  },
  {
   "cell_type": "code",
   "execution_count": null,
   "id": "e4f3839b",
   "metadata": {},
   "outputs": [],
   "source": []
  },
  {
   "cell_type": "code",
   "execution_count": null,
   "id": "3f403316",
   "metadata": {},
   "outputs": [],
   "source": []
  },
  {
   "cell_type": "code",
   "execution_count": null,
   "id": "8fd19d14",
   "metadata": {},
   "outputs": [],
   "source": [
    "w = 200                         \n",
    "b = 100    \n",
    "x_i = 1.2\n",
    "cost_1200sqft = w * x_i + b    \n",
    "\n",
    "print(f\"${cost_1200sqft:.0f} thousand dollars\")"
   ]
  },
  {
   "cell_type": "code",
   "execution_count": null,
   "id": "82ebdf3a",
   "metadata": {},
   "outputs": [],
   "source": []
  },
  {
   "cell_type": "code",
   "execution_count": null,
   "id": "19698072",
   "metadata": {},
   "outputs": [],
   "source": []
  },
  {
   "cell_type": "code",
   "execution_count": null,
   "id": "10d12833",
   "metadata": {},
   "outputs": [],
   "source": []
  },
  {
   "cell_type": "code",
   "execution_count": null,
   "id": "db2e7748",
   "metadata": {},
   "outputs": [],
   "source": []
  },
  {
   "cell_type": "code",
   "execution_count": null,
   "id": "19a7f695",
   "metadata": {},
   "outputs": [],
   "source": [
    "from helpers.lab_utils_lm import plt_intuition, plt_stationary, plt_update_onclick, soup_bowl\n",
    "plt.style.use('./helpers/deeplearning.mplstyle')"
   ]
  },
  {
   "cell_type": "code",
   "execution_count": null,
   "id": "54f89a21",
   "metadata": {},
   "outputs": [],
   "source": [
    "def compute_cost(x, y, w, b): \n",
    "    \"\"\"\n",
    "    Computes the cost function for linear regression.\n",
    "    \n",
    "    Args:\n",
    "      x (ndarray (m,)): Data, m examples \n",
    "      y (ndarray (m,)): target values\n",
    "      w,b (scalar)    : model parameters  \n",
    "    \n",
    "    Returns\n",
    "        total_cost (float): The cost of using w,b as the parameters for linear regression\n",
    "               to fit the data points in x and y\n",
    "    \"\"\"\n",
    "    # number of training examples\n",
    "    m = x.shape[0] \n",
    "    \n",
    "    cost_sum = 0 \n",
    "    for i in range(m): \n",
    "        f_wb = w * x[i] + b   \n",
    "        cost = (f_wb - y[i]) ** 2  \n",
    "        cost_sum = cost_sum + cost  \n",
    "    total_cost = (1 / (2 * m)) * cost_sum  \n",
    "\n",
    "    return total_cost"
   ]
  },
  {
   "cell_type": "code",
   "execution_count": null,
   "id": "0928a830",
   "metadata": {},
   "outputs": [],
   "source": [
    "x_train = np.array([1.0, 2.0])           #(size in 1000 square feet)\n",
    "y_train = np.array([300.0, 500.0])           #(price in 1000s of dollars)\n",
    "\n",
    "plt_intuition(x_train,y_train)"
   ]
  },
  {
   "cell_type": "code",
   "execution_count": null,
   "id": "96080d7e",
   "metadata": {},
   "outputs": [],
   "source": [
    "x_train = np.array([1.0, 1.7, 2.0, 2.5, 3.0, 3.2])\n",
    "y_train = np.array([250, 300, 480,  430,   630, 730,])"
   ]
  },
  {
   "cell_type": "code",
   "execution_count": null,
   "id": "904792d9",
   "metadata": {},
   "outputs": [],
   "source": [
    "%matplotlib widget"
   ]
  },
  {
   "cell_type": "code",
   "execution_count": null,
   "id": "466951b5",
   "metadata": {},
   "outputs": [],
   "source": [
    "plt.close('all') \n",
    "fig, ax, dyn_items = plt_stationary(x_train, y_train)\n",
    "updater = plt_update_onclick(fig, ax, x_train, y_train, dyn_items)"
   ]
  },
  {
   "cell_type": "code",
   "execution_count": null,
   "id": "b3b2388b",
   "metadata": {},
   "outputs": [],
   "source": [
    "soup_bowl()"
   ]
  },
  {
   "cell_type": "code",
   "execution_count": null,
   "id": "5d3bae7d",
   "metadata": {},
   "outputs": [],
   "source": [
    "%matplotlib inline\n",
    "plt.style.use('default')"
   ]
  },
  {
   "cell_type": "markdown",
   "id": "ea79aec9",
   "metadata": {},
   "source": [
    "For regression, the general prediction formula for a linear model looks as follows:"
   ]
  },
  {
   "cell_type": "markdown",
   "id": "b3924699",
   "metadata": {},
   "source": [
    "`ŷ = w[0] * x[0] + w[1] * x[1] + ... + w[p] * x[p] + b`"
   ]
  },
  {
   "cell_type": "code",
   "execution_count": null,
   "id": "37205a91",
   "metadata": {},
   "outputs": [],
   "source": [
    "from helpers.plot_linear_regression_wave import plot_linear_regression_wave\n",
    "\n",
    "plot_linear_regression_wave()\n",
    "plt.show()"
   ]
  },
  {
   "cell_type": "markdown",
   "id": "763a07b9",
   "metadata": {},
   "source": [
    "There are **many different linear models for regression.**\n",
    "\n",
    "- The difference between these models lies in **how the model parameters w and b are learned** from the training data,\n",
    "and **how model complexity can be controlled**."
   ]
  },
  {
   "cell_type": "markdown",
   "id": "303547a2",
   "metadata": {},
   "source": [
    "## Linear regression with sklearn"
   ]
  },
  {
   "cell_type": "markdown",
   "id": "17ff3aab",
   "metadata": {},
   "source": [
    "**Linear regression has no parameters, which is a benefit, but it also has no way to control model complexity.**"
   ]
  },
  {
   "cell_type": "markdown",
   "id": "db8cc1c8",
   "metadata": {},
   "source": [
    "<img src=\"https://cdn-images-1.medium.com/max/800/1*fX95txC9xSwSPeP6ch2nmg.gif\">"
   ]
  },
  {
   "cell_type": "markdown",
   "id": "59295ad3",
   "metadata": {},
   "source": [
    "<img alt=\"Visualizing RSS\" src=\"https://s3.amazonaws.com/dq-content/235/visualizing_rss.svg\">"
   ]
  },
  {
   "cell_type": "markdown",
   "id": "3b53ceca",
   "metadata": {},
   "source": [
    "[sklearn.linear_model.LinearRegression](https://scikit-learn.org/stable/modules/generated/sklearn.linear_model.LinearRegression.html): Ordinary least squares Linear Regression.\n",
    "- `sklearn.linear_model.LinearRegression(*, fit_intercept=True, copy_X=True, n_jobs=None, positive=False)`\n",
    "    - [fit_interceptbool, default=True](https://stackoverflow.com/questions/46779605/in-the-linearregression-method-in-sklearn-what-exactly-is-the-fit-intercept-par)"
   ]
  },
  {
   "cell_type": "code",
   "execution_count": null,
   "id": "b51727a7",
   "metadata": {},
   "outputs": [],
   "source": [
    "import helpers\n",
    "\n",
    "from sklearn.linear_model import LinearRegression\n",
    "from sklearn.model_selection import train_test_split\n",
    "\n",
    "X, y = helpers.datasets.make_wave(n_samples=60)\n",
    "X_train, X_test, y_train, y_test = train_test_split(X, y, random_state=42)\n",
    "\n",
    "\n",
    "lr = LinearRegression()\n",
    "lr.fit(X_train, y_train)"
   ]
  },
  {
   "cell_type": "code",
   "execution_count": null,
   "id": "17dfc149",
   "metadata": {},
   "outputs": [],
   "source": [
    "plt.plot(X_train,y_train, \".\")\n",
    "ax = plt.gca()\n",
    "ax.spines['left'].set_position('center')\n",
    "ax.spines['right'].set_color('none')\n",
    "ax.spines['bottom'].set_position('center')\n",
    "ax.spines['top'].set_color('none')\n",
    "ax.set_ylim(-3, 3)\n",
    "\n",
    "plt.show()"
   ]
  },
  {
   "cell_type": "markdown",
   "id": "cb65c386",
   "metadata": {},
   "source": [
    "- The slope parameters (w), also called weights or coefficients, are stored in the `coef_`\n",
    "attribute\n",
    "- The offset or intercept (b) is stored in the `intercept_` attribute"
   ]
  },
  {
   "cell_type": "code",
   "execution_count": null,
   "id": "7221ea4c",
   "metadata": {},
   "outputs": [],
   "source": [
    "print(f\"lr.coef_: {lr.coef_}\")\n",
    "print(f\"lr.intercept_: {lr.intercept_}\")"
   ]
  },
  {
   "cell_type": "markdown",
   "id": "efc70e6d",
   "metadata": {},
   "source": [
    ">  **scikit-learn always stores anything\n",
    "that is derived from the training data in attributes that end with a\n",
    "trailing underscore**. That is to separate them from parameters that\n",
    "are set by the user."
   ]
  },
  {
   "cell_type": "code",
   "execution_count": null,
   "id": "d974f529",
   "metadata": {},
   "outputs": [],
   "source": [
    "print(f\"Training set score: {lr.score(X_train, y_train):.2f}\")\n",
    "print(f\"Test set score: {lr.score(X_test, y_test):.2f}\")"
   ]
  },
  {
   "cell_type": "code",
   "execution_count": null,
   "id": "00c907d4",
   "metadata": {},
   "outputs": [],
   "source": []
  },
  {
   "cell_type": "code",
   "execution_count": null,
   "id": "da1f4be9",
   "metadata": {},
   "outputs": [],
   "source": []
  },
  {
   "cell_type": "code",
   "execution_count": null,
   "id": "713dc0b1",
   "metadata": {},
   "outputs": [],
   "source": []
  },
  {
   "cell_type": "code",
   "execution_count": null,
   "id": "0d14a8e7",
   "metadata": {},
   "outputs": [],
   "source": []
  },
  {
   "cell_type": "code",
   "execution_count": null,
   "id": "4ad22f47",
   "metadata": {},
   "outputs": [],
   "source": []
  },
  {
   "cell_type": "markdown",
   "id": "d0e06ccb",
   "metadata": {},
   "source": [
    "## Multiple linear regression"
   ]
  },
  {
   "cell_type": "markdown",
   "id": "53441482",
   "metadata": {},
   "source": [
    "**Multiple linear regression is used to estimate the relationship between two or more independent variables and one dependent variable.**"
   ]
  },
  {
   "cell_type": "code",
   "execution_count": null,
   "id": "548b9ab2",
   "metadata": {},
   "outputs": [],
   "source": [
    "from helpers.datasets import load_extended_boston\n",
    "\n",
    "X, y = load_extended_boston()\n",
    "\n",
    "X_train, X_test, y_train, y_test = train_test_split(X, y, random_state=0)\n",
    "lr = LinearRegression().fit(X_train, y_train)"
   ]
  },
  {
   "cell_type": "code",
   "execution_count": null,
   "id": "ccbf814b",
   "metadata": {},
   "outputs": [],
   "source": [
    "print(f\"Training set score: {lr.score(X_train, y_train):.2f}\")\n",
    "print(f\"Test set score: {lr.score(X_test, y_test):.2f}\")"
   ]
  },
  {
   "cell_type": "code",
   "execution_count": null,
   "id": "88242e6b",
   "metadata": {},
   "outputs": [],
   "source": []
  },
  {
   "cell_type": "code",
   "execution_count": null,
   "id": "b108cbad",
   "metadata": {},
   "outputs": [],
   "source": []
  },
  {
   "cell_type": "code",
   "execution_count": null,
   "id": "2eb5c2cc",
   "metadata": {},
   "outputs": [],
   "source": []
  },
  {
   "cell_type": "code",
   "execution_count": null,
   "id": "014cfdf1",
   "metadata": {},
   "outputs": [],
   "source": []
  },
  {
   "cell_type": "markdown",
   "id": "e882fc3b",
   "metadata": {},
   "source": [
    "## Strengths and weaknesses"
   ]
  },
  {
   "cell_type": "markdown",
   "id": "74d4c1f7",
   "metadata": {},
   "source": [
    "**Strengths**:\n",
    "- Linear models are **very fast** to train, and also fast to predict. \n",
    "- They **scale to very large datasets** and **work well with sparse data**. \n",
    "- Another strength of linear models is that they make it relatively **easy to understand how a prediction is made**, using the formulas we saw earlier for regression and classification.\n",
    "    - Unfortunately, it is often not entirely clear why coefficients are the way they are. This is particularly true if your dataset has highly correlated features; in these cases, the coefficients might be hard to interpret.\n",
    "- Linear models often **perform well when the number of features is large compared to the number of samples**. \n",
    "- They are also often used on very large datasets, simply because it’s not feasible to train other models. \n",
    "\n",
    "**Weaknesses**:\n",
    "- However, in lower-dimensional spaces, other models might yield better generalization performance."
   ]
  }
 ],
 "metadata": {
  "kernelspec": {
   "display_name": "Python 3 (ipykernel)",
   "language": "python",
   "name": "python3"
  },
  "language_info": {
   "codemirror_mode": {
    "name": "ipython",
    "version": 3
   },
   "file_extension": ".py",
   "mimetype": "text/x-python",
   "name": "python",
   "nbconvert_exporter": "python",
   "pygments_lexer": "ipython3",
   "version": "3.11.4"
  }
 },
 "nbformat": 4,
 "nbformat_minor": 5
}
