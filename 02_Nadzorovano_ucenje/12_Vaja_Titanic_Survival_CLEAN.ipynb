{
 "cells": [
  {
   "cell_type": "code",
   "execution_count": null,
   "id": "7cbddc96-96ee-47a8-ab13-05dab4935247",
   "metadata": {},
   "outputs": [],
   "source": [
    "import pandas as pd\n",
    "\n",
    "# visualization\n",
    "import seaborn as sns\n",
    "import matplotlib.pyplot as plt\n",
    "%matplotlib inline"
   ]
  },
  {
   "cell_type": "markdown",
   "id": "3e01f1c6-49d2-43f4-9207-9e6d773c3c3b",
   "metadata": {},
   "source": [
    "# Glavna ideja"
   ]
  },
  {
   "cell_type": "markdown",
   "id": "e296e211-65ae-4fd2-a0e1-24aaf7d50742",
   "metadata": {},
   "source": [
    "Naredili bomo nek realen primer analize **Titanic** dataseta.\n",
    "\n",
    "Dataset vsebuje informacije o potnikih Titanika. Govori o starosti potnikov, spolu, številu družinskih članov, itd. In pa, podano ima informacijo o tem ali je potnik preživel ali ne."
   ]
  },
  {
   "cell_type": "markdown",
   "id": "2dc18ae3-f6b3-473b-9333-cc8d5f97b4ad",
   "metadata": {},
   "source": [
    "Začeli bomo z osnovno analizo dataseta nato pa bo vsak izdelal Machine Learning model, ki bo napovedoval ali **potnik preživi ali ne**. Na koncu boste predstavili vaš rezultat."
   ]
  },
  {
   "cell_type": "markdown",
   "id": "6a01c164-c83b-49e1-b182-72e4cb9ecf56",
   "metadata": {},
   "source": [
    "# Import data"
   ]
  },
  {
   "cell_type": "code",
   "execution_count": null,
   "id": "7eaffb3c-8d37-4e64-a628-399caedc5c18",
   "metadata": {},
   "outputs": [],
   "source": [
    "data = pd.read_csv('./data/titanic.csv')"
   ]
  },
  {
   "cell_type": "markdown",
   "id": "c3ba0837-af13-4dda-b65c-e969214031a0",
   "metadata": {},
   "source": [
    "# Quick info about data"
   ]
  },
  {
   "cell_type": "code",
   "execution_count": null,
   "id": "a8a572ec-1aa8-4835-9df2-f37f9e53c5e7",
   "metadata": {},
   "outputs": [],
   "source": [
    "data.head()"
   ]
  },
  {
   "cell_type": "markdown",
   "id": "f4c8f155-899c-4a98-88c1-02c65a7f635d",
   "metadata": {},
   "source": [
    "Naši podatki imajo 12 stolpcev:\n",
    "* `PassengerId` - Unique ID za vsakega potnika. Ta stolpec bi lahko uporabili kot index.\n",
    "* `Survived` - 0, če potnik ni preživel. 1, če je potnik preživel. To je naš LABEL stolpec. Naša vrednost katero bomo napovedovali\n",
    "* `Pclass` - V katerem razredu je bil potnik. 1st = Upper Class; 2nd = Middle Class; 3rd = Lower Class\n",
    "* `Name` - Ime potnika\n",
    "* `Sex` - Spol potnika\n",
    "* `Age` - Starost potnika\n",
    "* `SibSp` - Pove koliko družine je potnik imel na ladji. Tukaj se štejejo *bratje, sestre, polbratje, polsestre, mož, žena*\n",
    "* `Parch` - Število staršev/otrok, na ladji. 0 je v primeru, ko je otrok potoval z varuško\n",
    "* `Ticket` - Številka karte\n",
    "* `Fare` - Cena karte\n",
    "* `Cabin` - Številka sobe\n",
    "* `Embarked` - Kje se je potnik vkrcal. C = Cherbourg; Q = Queenstown; S = Southampton"
   ]
  },
  {
   "cell_type": "code",
   "execution_count": null,
   "id": "8d3dd229-ba1a-4c23-af24-76d758691ef1",
   "metadata": {},
   "outputs": [],
   "source": [
    "data.info()"
   ]
  },
  {
   "cell_type": "markdown",
   "id": "d4625332-2937-4a0c-8443-a0c9ee4a7785",
   "metadata": {},
   "source": [
    "Dropping columns"
   ]
  },
  {
   "cell_type": "code",
   "execution_count": null,
   "id": "e64f9040-9412-446a-909a-61b58fbdfd81",
   "metadata": {},
   "outputs": [],
   "source": [
    "to_drop = [\"PassengerId\", \"Name\", \"Ticket\", \"Cabin\"]\n",
    "data.drop(columns=to_drop, inplace=True)\n",
    "data.head()"
   ]
  },
  {
   "cell_type": "markdown",
   "id": "0e7f3439-459b-44df-974b-3a82ad8366bb",
   "metadata": {},
   "source": [
    "Dropping vrstice, ki imajo prazno vrednost."
   ]
  },
  {
   "cell_type": "code",
   "execution_count": null,
   "id": "b99d94b4-479c-430f-b8f4-c5ac83ed7046",
   "metadata": {},
   "outputs": [],
   "source": [
    "data.dropna(inplace=True)\n",
    "data.info()"
   ]
  },
  {
   "cell_type": "code",
   "execution_count": null,
   "id": "3ffc271f-3620-4745-a667-b7280a9c27d6",
   "metadata": {},
   "outputs": [],
   "source": []
  },
  {
   "cell_type": "markdown",
   "id": "341428c6-426d-40d3-9fb6-e06ad693eb8e",
   "metadata": {},
   "source": [
    "## Hipoteze"
   ]
  },
  {
   "cell_type": "markdown",
   "id": "98c7e26f-75a9-4be4-9632-6359bf26615b",
   "metadata": {},
   "source": [
    "V našo analizo bomo vključili sledeče hipoteze:\n",
    "1. ženske(Sex=female) so imele večjo možnost preživetja\n",
    "2. otroc (Age <= ?) so imeli večjo možnost preživetja\n",
    "3. upper class (Pclass=1) so imeli večjo možnost preživetja"
   ]
  },
  {
   "cell_type": "code",
   "execution_count": null,
   "id": "31e6c062-508e-4871-ab0a-4a9e38a25ec8",
   "metadata": {},
   "outputs": [],
   "source": [
    "data[['Sex', 'Survived']].groupby(['Sex'], as_index=False).mean().sort_values(by='Survived', ascending=False)"
   ]
  },
  {
   "cell_type": "code",
   "execution_count": null,
   "id": "7133ae64-803b-40a9-91a6-74a9518450e0",
   "metadata": {},
   "outputs": [],
   "source": [
    "g = sns.FacetGrid(data, col='Survived')\n",
    "g.map(plt.hist, 'Age', bins=20)\n",
    "\n",
    "plt.show()"
   ]
  },
  {
   "cell_type": "code",
   "execution_count": null,
   "id": "42da4046-f6d4-4479-a651-953b3a7409b4",
   "metadata": {},
   "outputs": [],
   "source": [
    "data[['Pclass', 'Survived']].groupby(['Pclass'], as_index=False).mean().sort_values(by='Survived', ascending=False)"
   ]
  },
  {
   "cell_type": "markdown",
   "id": "4e5fed28-504d-4c0f-a829-c9db0a190d4c",
   "metadata": {},
   "source": [
    "# Converting categorical features"
   ]
  },
  {
   "cell_type": "code",
   "execution_count": null,
   "id": "763a9c7a-ab3c-4caf-aa9e-f3604a5ebcb4",
   "metadata": {},
   "outputs": [],
   "source": [
    "data.info()"
   ]
  },
  {
   "cell_type": "code",
   "execution_count": null,
   "id": "d9552f70-a6a7-40e3-9463-921fed20d23f",
   "metadata": {},
   "outputs": [],
   "source": [
    "data = pd.get_dummies(data)\n",
    "data.head()"
   ]
  },
  {
   "cell_type": "code",
   "execution_count": null,
   "id": "78971920-abbc-486b-8b93-9ddce62e17ac",
   "metadata": {},
   "outputs": [],
   "source": [
    "data.info()"
   ]
  },
  {
   "cell_type": "code",
   "execution_count": null,
   "id": "a416530f-bba7-43e3-9b7d-6420724abbaf",
   "metadata": {},
   "outputs": [],
   "source": []
  },
  {
   "cell_type": "markdown",
   "id": "0d8c61fa-f791-40f0-8f60-c1f3f5dca96d",
   "metadata": {},
   "source": [
    "# Building a Model"
   ]
  },
  {
   "cell_type": "code",
   "execution_count": null,
   "id": "eaa14738-1ae2-4b8a-8bfc-e913148fefcc",
   "metadata": {},
   "outputs": [],
   "source": []
  },
  {
   "cell_type": "code",
   "execution_count": null,
   "id": "d8492bc8-4e6d-4e66-b677-b184bcda4fe2",
   "metadata": {},
   "outputs": [],
   "source": []
  },
  {
   "cell_type": "code",
   "execution_count": null,
   "id": "f2bf7346-a024-43bc-9ce4-31c1dcd84ae1",
   "metadata": {},
   "outputs": [],
   "source": []
  },
  {
   "cell_type": "code",
   "execution_count": null,
   "id": "80002744-474d-4974-87f1-cdc752da9d07",
   "metadata": {},
   "outputs": [],
   "source": []
  },
  {
   "cell_type": "code",
   "execution_count": null,
   "id": "ae7cf054-37da-4e62-9174-57ea6b532ed5",
   "metadata": {},
   "outputs": [],
   "source": []
  },
  {
   "cell_type": "code",
   "execution_count": null,
   "id": "2ee6ad45-78c7-485e-9a5b-7e301db51bce",
   "metadata": {},
   "outputs": [],
   "source": []
  },
  {
   "cell_type": "code",
   "execution_count": null,
   "id": "59aa99f4-d0b0-4412-9a9c-b7061aec3c6f",
   "metadata": {},
   "outputs": [],
   "source": []
  },
  {
   "cell_type": "code",
   "execution_count": null,
   "id": "878477ae-7094-4fdd-ab1d-4a68a5c4110e",
   "metadata": {},
   "outputs": [],
   "source": []
  },
  {
   "cell_type": "code",
   "execution_count": null,
   "id": "948f062b-8dd9-41d7-878a-2ddd264ef607",
   "metadata": {},
   "outputs": [],
   "source": []
  },
  {
   "cell_type": "code",
   "execution_count": null,
   "id": "722613b1-c227-455b-8c94-f6d7636532a7",
   "metadata": {},
   "outputs": [],
   "source": []
  },
  {
   "cell_type": "code",
   "execution_count": null,
   "id": "25685fef-06ab-44a8-8e58-81b87612d98d",
   "metadata": {},
   "outputs": [],
   "source": []
  },
  {
   "cell_type": "code",
   "execution_count": null,
   "id": "293487f7-9570-4b70-a377-027c183d07cd",
   "metadata": {},
   "outputs": [],
   "source": []
  },
  {
   "cell_type": "code",
   "execution_count": null,
   "id": "a1cc8bcc-8492-41f3-b0bd-4ddd1b16f50c",
   "metadata": {},
   "outputs": [],
   "source": []
  }
 ],
 "metadata": {
  "kernelspec": {
   "display_name": "Python 3 (ipykernel)",
   "language": "python",
   "name": "python3"
  },
  "language_info": {
   "codemirror_mode": {
    "name": "ipython",
    "version": 3
   },
   "file_extension": ".py",
   "mimetype": "text/x-python",
   "name": "python",
   "nbconvert_exporter": "python",
   "pygments_lexer": "ipython3",
   "version": "3.11.3"
  }
 },
 "nbformat": 4,
 "nbformat_minor": 5
}
