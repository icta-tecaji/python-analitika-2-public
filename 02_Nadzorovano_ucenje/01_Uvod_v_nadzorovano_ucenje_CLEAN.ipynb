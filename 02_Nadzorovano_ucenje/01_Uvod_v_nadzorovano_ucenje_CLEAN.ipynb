{
 "cells": [
  {
   "cell_type": "markdown",
   "id": "50fef487",
   "metadata": {},
   "source": [
    "# Uvod v nadzorovano učenje"
   ]
  },
  {
   "cell_type": "markdown",
   "id": "25841aef",
   "metadata": {},
   "source": [
    "Supervised machine learning or more commonly, supervised learning, **refers to algorithms that learn x to y** or **input to output mappings**. "
   ]
  },
  {
   "cell_type": "markdown",
   "id": "c9aa06fc",
   "metadata": {},
   "source": [
    "- The key characteristic of supervised learning is that **you give your learning algorithm examples to learn from**."
   ]
  },
  {
   "cell_type": "markdown",
   "id": "d22ea794",
   "metadata": {},
   "source": [
    "<img src=\"./images/img01.png\"/>"
   ]
  },
  {
   "cell_type": "markdown",
   "id": "07991b72",
   "metadata": {},
   "source": [
    "<img src=\"./images/img02.png\"/>"
   ]
  },
  {
   "cell_type": "markdown",
   "id": "e9e98f87",
   "metadata": {},
   "source": [
    "## Classification and Regression"
   ]
  },
  {
   "cell_type": "markdown",
   "id": "93283523",
   "metadata": {},
   "source": [
    "### Regression"
   ]
  },
  {
   "cell_type": "markdown",
   "id": "feb7cfa5",
   "metadata": {},
   "source": [
    "`For regression tasks, the goal is to predict a continuous number, or a floating-point number in programming terms (or real number in mathematical terms).`"
   ]
  },
  {
   "cell_type": "code",
   "execution_count": null,
   "id": "2d4f665a",
   "metadata": {},
   "outputs": [],
   "source": []
  },
  {
   "cell_type": "code",
   "execution_count": null,
   "id": "52a0d1b9",
   "metadata": {},
   "outputs": [],
   "source": []
  },
  {
   "cell_type": "code",
   "execution_count": null,
   "id": "fa955d9a",
   "metadata": {},
   "outputs": [],
   "source": []
  },
  {
   "cell_type": "code",
   "execution_count": null,
   "id": "f9046a93",
   "metadata": {},
   "outputs": [],
   "source": []
  },
  {
   "cell_type": "code",
   "execution_count": null,
   "id": "dce40705",
   "metadata": {},
   "outputs": [],
   "source": []
  },
  {
   "cell_type": "code",
   "execution_count": null,
   "id": "efb9e29e",
   "metadata": {},
   "outputs": [],
   "source": []
  },
  {
   "cell_type": "markdown",
   "id": "47514f7d",
   "metadata": {},
   "source": [
    "### Classification"
   ]
  },
  {
   "cell_type": "markdown",
   "id": "eecfd25e",
   "metadata": {},
   "source": [
    "`In classification, the goal is to predict a class label, which is a choice from a predefined\n",
    "list of possibilities.`\n",
    "\n",
    "    \n",
    "    "
   ]
  },
  {
   "cell_type": "code",
   "execution_count": null,
   "id": "1c649283",
   "metadata": {},
   "outputs": [],
   "source": []
  },
  {
   "cell_type": "code",
   "execution_count": null,
   "id": "cc22394b",
   "metadata": {},
   "outputs": [],
   "source": []
  },
  {
   "cell_type": "code",
   "execution_count": null,
   "id": "98ee38ec",
   "metadata": {},
   "outputs": [],
   "source": []
  },
  {
   "cell_type": "code",
   "execution_count": null,
   "id": "72fab3a7",
   "metadata": {},
   "outputs": [],
   "source": []
  },
  {
   "cell_type": "code",
   "execution_count": null,
   "id": "9bcf9215",
   "metadata": {},
   "outputs": [],
   "source": []
  },
  {
   "cell_type": "code",
   "execution_count": null,
   "id": "e39ed51b",
   "metadata": {},
   "outputs": [],
   "source": []
  },
  {
   "cell_type": "markdown",
   "id": "ec64cd35",
   "metadata": {},
   "source": [
    "## Generalization, Overfitting, and Underfitting"
   ]
  },
  {
   "cell_type": "markdown",
   "id": "61056be0",
   "metadata": {},
   "source": [
    "**The only measure of whether an algorithm will perform well on new data is the evaluation on the test set**. \n",
    "\n",
    "\n",
    "- Building a model that is **too complex for the amount of information** we have, is called **overfitting**. \n",
    "- **Choosing too simple a model is called underfitting**."
   ]
  },
  {
   "cell_type": "code",
   "execution_count": null,
   "id": "aec65aff",
   "metadata": {},
   "outputs": [],
   "source": []
  },
  {
   "cell_type": "code",
   "execution_count": null,
   "id": "b9235527",
   "metadata": {},
   "outputs": [],
   "source": []
  },
  {
   "cell_type": "code",
   "execution_count": null,
   "id": "d4db167d",
   "metadata": {},
   "outputs": [],
   "source": []
  },
  {
   "cell_type": "code",
   "execution_count": null,
   "id": "330bbd88",
   "metadata": {},
   "outputs": [],
   "source": []
  },
  {
   "cell_type": "code",
   "execution_count": null,
   "id": "198b60ce",
   "metadata": {},
   "outputs": [],
   "source": []
  },
  {
   "cell_type": "markdown",
   "id": "d7253535",
   "metadata": {},
   "source": [
    "<img src=\"./images/overfitting.png\"/>"
   ]
  },
  {
   "cell_type": "markdown",
   "id": "ab7a945c",
   "metadata": {},
   "source": [
    "## Relation of Model Complexity to Dataset Size"
   ]
  },
  {
   "cell_type": "code",
   "execution_count": null,
   "id": "51710a8e",
   "metadata": {},
   "outputs": [],
   "source": []
  },
  {
   "cell_type": "code",
   "execution_count": null,
   "id": "7bf666aa",
   "metadata": {},
   "outputs": [],
   "source": []
  },
  {
   "cell_type": "code",
   "execution_count": null,
   "id": "25bcbccb",
   "metadata": {},
   "outputs": [],
   "source": []
  },
  {
   "cell_type": "code",
   "execution_count": null,
   "id": "4494679c",
   "metadata": {},
   "outputs": [],
   "source": []
  },
  {
   "cell_type": "code",
   "execution_count": null,
   "id": "d500eb22",
   "metadata": {},
   "outputs": [],
   "source": []
  }
 ],
 "metadata": {
  "kernelspec": {
   "display_name": "Python 3 (ipykernel)",
   "language": "python",
   "name": "python3"
  },
  "language_info": {
   "codemirror_mode": {
    "name": "ipython",
    "version": 3
   },
   "file_extension": ".py",
   "mimetype": "text/x-python",
   "name": "python",
   "nbconvert_exporter": "python",
   "pygments_lexer": "ipython3",
   "version": "3.11.4"
  }
 },
 "nbformat": 4,
 "nbformat_minor": 5
}
