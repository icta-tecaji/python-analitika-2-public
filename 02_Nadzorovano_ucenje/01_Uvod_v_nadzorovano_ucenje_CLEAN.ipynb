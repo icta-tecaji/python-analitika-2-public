{
 "cells": [
  {
   "cell_type": "markdown",
   "id": "50fef487",
   "metadata": {},
   "source": [
    "# Uvod v nadzorovano učenje"
   ]
  },
  {
   "cell_type": "markdown",
   "id": "e9e98f87",
   "metadata": {},
   "source": [
    "## Classification and Regression"
   ]
  },
  {
   "cell_type": "markdown",
   "id": "47514f7d",
   "metadata": {},
   "source": [
    "### Classification"
   ]
  },
  {
   "cell_type": "markdown",
   "id": "93283523",
   "metadata": {},
   "source": [
    "### Regression"
   ]
  },
  {
   "cell_type": "markdown",
   "id": "ec64cd35",
   "metadata": {},
   "source": [
    "## Generalization, Overfitting, and Underfitting"
   ]
  },
  {
   "cell_type": "markdown",
   "id": "d7253535",
   "metadata": {},
   "source": [
    "<img src=\"./images/overfitting.png\"/>"
   ]
  },
  {
   "cell_type": "markdown",
   "id": "ab7a945c",
   "metadata": {},
   "source": [
    "## Relation of Model Complexity to Dataset Size"
   ]
  }
 ],
 "metadata": {
  "kernelspec": {
   "display_name": "Python 3 (ipykernel)",
   "language": "python",
   "name": "python3"
  },
  "language_info": {
   "codemirror_mode": {
    "name": "ipython",
    "version": 3
   },
   "file_extension": ".py",
   "mimetype": "text/x-python",
   "name": "python",
   "nbconvert_exporter": "python",
   "pygments_lexer": "ipython3",
   "version": "3.8.10"
  }
 },
 "nbformat": 4,
 "nbformat_minor": 5
}
