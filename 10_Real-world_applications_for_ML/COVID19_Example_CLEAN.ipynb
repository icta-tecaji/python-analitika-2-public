{
 "cells": [
  {
   "cell_type": "markdown",
   "id": "8ccf7a86-a337-4b0d-93d9-98cff6b858bf",
   "metadata": {},
   "source": [
    "# Cilj"
   ]
  },
  {
   "cell_type": "markdown",
   "id": "33f97c9c-38b8-43e8-b3dc-fcfb1ba9d460",
   "metadata": {},
   "source": [
    "Naš cilj je, da ustvarimo model za klasifikacijo pacientov COVID-a. Napovedovali bomo **ali je oseba umrla zaradi COVID-a ali ne**."
   ]
  },
  {
   "cell_type": "markdown",
   "id": "fb893ddc-2869-41fb-a8a5-6a26a3836853",
   "metadata": {},
   "source": [
    "# Data"
   ]
  },
  {
   "cell_type": "markdown",
   "id": "2a807682-eecd-4f20-9748-b8b4f26cfb97",
   "metadata": {},
   "source": [
    "**The dataset was provided by the Mexican government. This dataset contains an enormous number of anonymized patient-related information including pre-conditions. The raw dataset consists of 21 unique features and 1,048,576 unique patients. In the Boolean features, 1 means \"yes\" and 2 means \"no\". values as 97 and 99 are missing data.**\r\n",
    "\n",
    "\n",
    "* `USMER`: Indicates whether the patient treated medical units of the first, second or third level\n",
    "* `MEDICAL_UNIT`: type of institution of the National Health System that provided the care medical unit\n",
    "* `SEX`: 1 for female and 2 for male\n",
    "* `PATIENT_TYPE`: type of care the patient received in the unit. 1 for returned home and 2 for hospitalization\n",
    "* `DATE_DIED`: If the patient died indicate the date of death, and 9999-99-99 otherwise\n",
    "* `INTUBED`: whether the patient was connected to the ventilator\n",
    "* `PNEUMONIA`: whether the patient already have air sacs inflammation or not\n",
    "* `AGE`: age of the patient\n",
    "* `PREGNANT`: whether the patient is pregnant or not\n",
    "* `DIABETES`: whether the patient has diabetes or not\n",
    "* `COPD`: Indicates whether the patient has Chronic obstructive pulmonary disease or not\n",
    "* `ASTHMA`: whether the patient has asthma or not\n",
    "* `INMSUPR`: whether the patient is immunosuppressed or not\n",
    "* `HIPERTENSION`: whether the patient has hypertension or not\n",
    "* `OTHER_DISEASE`: whether the patient has other disease or not\n",
    "* `CARDIOVASCULAR`: whether the patient has heart or blood vessels related disease\n",
    "* `OBESITY`: whether the patient is obese or not\n",
    "* `RENAL_CHRONIC`: whether the patient has chronic renal disease or not\n",
    "* `TOBACCO`: whether the patient is a tobacco user\n",
    "* `CLASIFFICATION_FINAL`: covid test findings. Values 1-3 mean that the patient was diagnosed with covid in different degrees. 4 or higher means that the patient is not a carrier of covid or that the test is inconclusive\n",
    "* `ICU`:Indicates whether the patient had been admitted to an Intensive Care Unit\n"
   ]
  },
  {
   "cell_type": "markdown",
   "id": "6acba558-46dd-49e5-a203-78d0f77a03d2",
   "metadata": {},
   "source": [
    "**Imports**"
   ]
  },
  {
   "cell_type": "code",
   "execution_count": null,
   "id": "6be107e7-b892-4ef1-80fd-a44699594458",
   "metadata": {},
   "outputs": [],
   "source": [
    "import pandas as pd\n",
    "import matplotlib.pyplot as plt\n",
    "import seaborn as sns"
   ]
  },
  {
   "cell_type": "code",
   "execution_count": null,
   "id": "05555e00-c462-45c7-9518-8a80e175a5c2",
   "metadata": {},
   "outputs": [],
   "source": [
    "df = pd.read_csv(\"data/Covid Data.csv\")\n",
    "print(\"Shape\", df.shape)\n",
    "df.head()"
   ]
  },
  {
   "cell_type": "markdown",
   "id": "7ceeb519-6333-4f0b-87ba-8282cd30f700",
   "metadata": {},
   "source": [
    "---"
   ]
  },
  {
   "cell_type": "markdown",
   "id": "ac7703ba-4657-4c2d-b279-670c807592ab",
   "metadata": {},
   "source": [
    "## Data Overview"
   ]
  },
  {
   "cell_type": "markdown",
   "id": "1d6158d3-6e64-4426-adc9-4b6618c17408",
   "metadata": {},
   "source": [
    "**Preglejte kakšnega datatipa so podatki**.\n",
    "* Kaj nam te tipi povejo?\n",
    "* Bomo rabili narediti kaj posebnega glede naših podatkov?"
   ]
  },
  {
   "cell_type": "code",
   "execution_count": null,
   "id": "87aa080f-23e6-451e-8514-931fb5b80b05",
   "metadata": {},
   "outputs": [],
   "source": [
    "# Rešitev:\n"
   ]
  },
  {
   "cell_type": "markdown",
   "id": "c47ebfec-35de-4ec4-b4bd-ce9f1214f17b",
   "metadata": {},
   "source": [
    "---"
   ]
  },
  {
   "cell_type": "markdown",
   "id": "6b19fdd9-ea5c-4126-abda-8d1cb5263780",
   "metadata": {},
   "source": [
    "## Preprocessing data"
   ]
  },
  {
   "cell_type": "markdown",
   "id": "57464019-d002-4f4b-b788-0287d6ddaafc",
   "metadata": {},
   "source": [
    "**Pripravimo naš `DEATH` target stolpec**\n",
    "* Ustvarimo stolpec, kjer vrednost 1 pomeni, da je oseba umrla. Vrednost 2 pomeni, da oseba ni umrla"
   ]
  },
  {
   "cell_type": "code",
   "execution_count": null,
   "id": "fecab629-d009-4719-b0ff-5706cf8acc0d",
   "metadata": {},
   "outputs": [],
   "source": [
    "# Rešitev\n"
   ]
  },
  {
   "cell_type": "markdown",
   "id": "784d8d44-2b50-411b-a8de-d1bf7ba579df",
   "metadata": {},
   "source": [
    "---"
   ]
  },
  {
   "cell_type": "markdown",
   "id": "9e56e9d1-e9e0-4e3e-ae06-db6cf0a08c03",
   "metadata": {},
   "source": [
    "**Odstranite vrstice z mankajočimi vrednostmi**"
   ]
  },
  {
   "cell_type": "code",
   "execution_count": null,
   "id": "9a1da80f-272e-4bd1-90f6-a58ec8793671",
   "metadata": {},
   "outputs": [],
   "source": [
    "# Rešitev\n"
   ]
  },
  {
   "cell_type": "markdown",
   "id": "153d7b59-40bb-4ca1-bcc4-9529a4033f80",
   "metadata": {},
   "source": [
    "---"
   ]
  },
  {
   "cell_type": "markdown",
   "id": "6e5453ce-627f-4fd6-898e-40fd2a1ae2c5",
   "metadata": {},
   "source": [
    "**Ustvarite stolpični graf vrednosti `PREGNANT` stolpca, za vsak spol**\n",
    "* Ustvarite graf\n",
    "* Popravite vrednosti v kolikor kaj ni vredu"
   ]
  },
  {
   "cell_type": "code",
   "execution_count": null,
   "id": "f6cb8060-0c4f-4c54-a557-bd6d8abdc4b2",
   "metadata": {},
   "outputs": [],
   "source": [
    "# Rešitev\n"
   ]
  },
  {
   "cell_type": "markdown",
   "id": "065ba131-0d8d-415d-bec5-360948b9c731",
   "metadata": {},
   "source": [
    "---"
   ]
  },
  {
   "cell_type": "markdown",
   "id": "3236b8ef-6b5a-4642-b6f3-95a0ad04249e",
   "metadata": {},
   "source": [
    "**Ustvarite graf za stolpca `INTUBED` in `ICU`**"
   ]
  },
  {
   "cell_type": "code",
   "execution_count": null,
   "id": "14eba110-179c-4206-8e36-6f5f2983f9ae",
   "metadata": {},
   "outputs": [],
   "source": [
    "# Rešitev:\n"
   ]
  },
  {
   "cell_type": "markdown",
   "id": "15e5453c-4cb1-40da-b23d-b04e799426b4",
   "metadata": {},
   "source": [
    "---"
   ]
  },
  {
   "cell_type": "markdown",
   "id": "65095756-921c-465e-b595-a0fae9a64483",
   "metadata": {},
   "source": [
    "## Data visualization"
   ]
  },
  {
   "cell_type": "markdown",
   "id": "df825cdd-0cdf-4f67-a5c3-403cb5412a12",
   "metadata": {},
   "source": [
    "**Ustvarite graf za stolpec `DEATH`**\n",
    "* Kaj lahko razberemo iz grafa?"
   ]
  },
  {
   "cell_type": "code",
   "execution_count": null,
   "id": "187364ac-1dfd-4548-9524-021f763d90b4",
   "metadata": {},
   "outputs": [],
   "source": [
    "# Rešitev:\n"
   ]
  },
  {
   "cell_type": "markdown",
   "id": "d55a0adf-57eb-48fe-82b3-ba9d0087a907",
   "metadata": {},
   "source": [
    "---"
   ]
  },
  {
   "cell_type": "markdown",
   "id": "e318d6e1-7da5-4b93-b946-bfaf165b4c11",
   "metadata": {},
   "source": [
    "**Plot razporeditve starosti glede na DEATH stolpec**\n",
    "* Kaj lahko razberemo iz grafa?"
   ]
  },
  {
   "cell_type": "code",
   "execution_count": null,
   "id": "3c05fa18-61da-4765-a365-ccd15accdb30",
   "metadata": {},
   "outputs": [],
   "source": [
    "# Rešitev:\n"
   ]
  },
  {
   "cell_type": "markdown",
   "id": "ec6f5e37-fb05-46f8-88f8-842d78f8f6fe",
   "metadata": {},
   "source": [
    "---"
   ]
  },
  {
   "cell_type": "markdown",
   "id": "57b928f9-89dd-40b8-b802-06e91aeac7ba",
   "metadata": {},
   "source": [
    "**Graf razporeditve starosti glede na `DEATH` in `SEX`**\n",
    "* Kaj lahko razberemo iz grafa?"
   ]
  },
  {
   "cell_type": "code",
   "execution_count": null,
   "id": "67dbc246-c572-40cc-83a7-427be6656ffb",
   "metadata": {},
   "outputs": [],
   "source": [
    "# Rešitev:\n"
   ]
  },
  {
   "cell_type": "markdown",
   "id": "961854b0-fe23-4efb-9e93-b570f0ae3b0b",
   "metadata": {},
   "source": [
    "----"
   ]
  },
  {
   "cell_type": "markdown",
   "id": "6eb7399e-1be6-4905-9f05-e82e9d31061b",
   "metadata": {},
   "source": [
    "## Model creation"
   ]
  },
  {
   "cell_type": "markdown",
   "id": "c004c604-efed-4226-ae57-0e7470e3a1d1",
   "metadata": {},
   "source": [
    "**Spremenite kategorične stolpce, ki imajo več kot 2 kategoriji**"
   ]
  },
  {
   "cell_type": "code",
   "execution_count": null,
   "id": "12565a8a-a0d6-401e-b652-93c6d76721fd",
   "metadata": {},
   "outputs": [],
   "source": [
    "# Rešitev:\n"
   ]
  },
  {
   "cell_type": "markdown",
   "id": "b8be3061-7b00-467b-930a-b1483098604e",
   "metadata": {},
   "source": [
    "---"
   ]
  },
  {
   "cell_type": "markdown",
   "id": "c39014fa-e009-4593-9916-1530567a1422",
   "metadata": {},
   "source": [
    "**Razdelite podatke na train-test**"
   ]
  },
  {
   "cell_type": "code",
   "execution_count": null,
   "id": "4c364739-e1c3-4b78-a7ae-75ca026dd551",
   "metadata": {},
   "outputs": [],
   "source": [
    "# Rešitev:\n"
   ]
  },
  {
   "cell_type": "markdown",
   "id": "d972ec2f-6c5f-41cd-82e4-61aee2f74167",
   "metadata": {},
   "source": [
    "---"
   ]
  },
  {
   "cell_type": "markdown",
   "id": "05104ffe-e1de-4d68-baf7-c2edd09bdfcd",
   "metadata": {},
   "source": [
    "**Ustvarite model**\n",
    "* izberite poljuben model"
   ]
  },
  {
   "cell_type": "code",
   "execution_count": null,
   "id": "62c470db-a9fd-470f-8531-034f2375e5d0",
   "metadata": {},
   "outputs": [],
   "source": [
    "# Rešitev:\n"
   ]
  },
  {
   "cell_type": "markdown",
   "id": "4ca841d9-a461-4b8f-8ca7-8ffb04eed315",
   "metadata": {},
   "source": [
    "---"
   ]
  },
  {
   "cell_type": "markdown",
   "id": "f1f817f2-4592-4175-86ff-5f2a785997b7",
   "metadata": {},
   "source": [
    "**Prikažite F1 score za oba razreda in confision matrix**"
   ]
  },
  {
   "cell_type": "code",
   "execution_count": null,
   "id": "5f51b791-41f8-4aaa-a132-0f378252ec3d",
   "metadata": {},
   "outputs": [],
   "source": [
    "# Rešitev\n"
   ]
  },
  {
   "cell_type": "markdown",
   "id": "7e0096d8-dabe-4015-accd-bc6e9343a29f",
   "metadata": {},
   "source": [
    "---"
   ]
  },
  {
   "cell_type": "markdown",
   "id": "d43dd65b-2916-4deb-860c-1a00952ad45a",
   "metadata": {},
   "source": [
    "**Poizkusimo izboljšati rezultat**"
   ]
  },
  {
   "cell_type": "markdown",
   "id": "d0217dbe-c153-45fb-be1f-0dca5576574b",
   "metadata": {},
   "source": [
    "Da izboljšamo rezultat lahko balanciramo naš dataset.\n",
    "\n",
    "Imamo 2 tehinki\n",
    "* Undersampling - keeping all of the data in the minority class and decreasing the size of the majority class\n",
    "* Oversampling - duplicate rows in the minority class\n",
    "\n",
    "(Uporabite undersampling)"
   ]
  },
  {
   "cell_type": "code",
   "execution_count": null,
   "id": "d2f102ec-40e9-4f5d-a16a-f446466d17c9",
   "metadata": {},
   "outputs": [],
   "source": [
    "# Rešitev:\n"
   ]
  },
  {
   "cell_type": "markdown",
   "id": "26fd4e6c-4c8d-4cc8-93a6-9bc68823b6c4",
   "metadata": {},
   "source": [
    "----"
   ]
  },
  {
   "cell_type": "markdown",
   "id": "dd4d2510-8838-4fe7-9618-2eb7b9d9ce41",
   "metadata": {},
   "source": [
    "**Uporabite nove podatke z izdelavo modela**\n",
    "\n",
    "Prikažite F1 in confusion matrix."
   ]
  },
  {
   "cell_type": "code",
   "execution_count": null,
   "id": "f67f3bf8-26ac-499a-897b-5d0e7b4fa91b",
   "metadata": {},
   "outputs": [],
   "source": [
    "# Rešitev:\n"
   ]
  },
  {
   "cell_type": "markdown",
   "id": "d78aeed8-fdff-4d89-87a6-4924f2225024",
   "metadata": {},
   "source": [
    "---"
   ]
  },
  {
   "cell_type": "code",
   "execution_count": null,
   "id": "4aec0718-05a3-4641-a3d2-51d7883d09fb",
   "metadata": {},
   "outputs": [],
   "source": []
  },
  {
   "cell_type": "code",
   "execution_count": null,
   "id": "0b6dc478-695c-408c-97e7-efa614b20802",
   "metadata": {},
   "outputs": [],
   "source": []
  },
  {
   "cell_type": "code",
   "execution_count": null,
   "id": "4c91529d-c96d-45bc-a80a-0bffa32a971c",
   "metadata": {},
   "outputs": [],
   "source": []
  }
 ],
 "metadata": {
  "kernelspec": {
   "display_name": "Python 3 (ipykernel)",
   "language": "python",
   "name": "python3"
  },
  "language_info": {
   "codemirror_mode": {
    "name": "ipython",
    "version": 3
   },
   "file_extension": ".py",
   "mimetype": "text/x-python",
   "name": "python",
   "nbconvert_exporter": "python",
   "pygments_lexer": "ipython3",
   "version": "3.11.3"
  }
 },
 "nbformat": 4,
 "nbformat_minor": 5
}
