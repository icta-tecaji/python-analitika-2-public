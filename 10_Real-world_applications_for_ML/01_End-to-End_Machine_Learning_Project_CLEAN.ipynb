{
 "cells": [
  {
   "cell_type": "markdown",
   "id": "cffbaad1",
   "metadata": {},
   "source": [
    "# End-to-End Machine Learning Project "
   ]
  },
  {
   "cell_type": "markdown",
   "id": "9f7d411d",
   "metadata": {},
   "source": [
    "## Training the model: example 1"
   ]
  },
  {
   "cell_type": "code",
   "execution_count": null,
   "id": "f2de4a0d",
   "metadata": {},
   "outputs": [],
   "source": [
    "from joblib import dump\n",
    "from sklearn import datasets\n",
    "from sklearn.pipeline import Pipeline\n",
    "from sklearn.preprocessing import MinMaxScaler\n",
    "from sklearn.model_selection import train_test_split\n",
    "from sklearn.ensemble import RandomForestClassifier"
   ]
  },
  {
   "cell_type": "code",
   "execution_count": null,
   "id": "a04994b1",
   "metadata": {},
   "outputs": [],
   "source": [
    "iris = datasets.load_iris(return_X_y=True)\n",
    "X = iris[0]\n",
    "y = iris[1]"
   ]
  },
  {
   "cell_type": "code",
   "execution_count": null,
   "id": "c05fa174",
   "metadata": {},
   "outputs": [],
   "source": [
    "X_train, X_test, y_train, y_test = train_test_split(X, y, test_size=0.1, random_state=42, shuffle=True)"
   ]
  },
  {
   "cell_type": "code",
   "execution_count": null,
   "id": "378fc73a",
   "metadata": {},
   "outputs": [],
   "source": [
    "clf_pipeline = [('scaling', MinMaxScaler()), \n",
    "                ('clf', RandomForestClassifier(random_state=42))]\n",
    "\n",
    "pipeline = Pipeline(clf_pipeline)\n",
    "\n",
    "pipeline.fit(X_train, y_train)"
   ]
  },
  {
   "cell_type": "code",
   "execution_count": null,
   "id": "a0d773ce",
   "metadata": {},
   "outputs": [],
   "source": [
    "dump(pipeline, 'data/iris_dt_v1.joblib')"
   ]
  },
  {
   "cell_type": "markdown",
   "id": "3bcaa553",
   "metadata": {},
   "source": [
    "## Creating the API: example 1"
   ]
  },
  {
   "cell_type": "markdown",
   "id": "7b78f8d0",
   "metadata": {},
   "source": [
    "https://fastapi.tiangolo.com/"
   ]
  },
  {
   "cell_type": "markdown",
   "id": "2ac08e0e",
   "metadata": {},
   "source": [
    "File: `app.py`"
   ]
  },
  {
   "cell_type": "markdown",
   "id": "f71f2b45",
   "metadata": {},
   "source": [
    "Run: `uvicorn app:app --reload`"
   ]
  },
  {
   "cell_type": "markdown",
   "id": "073ed9d1",
   "metadata": {},
   "source": [
    "Docs: `http://localhost:8000/docs`"
   ]
  },
  {
   "cell_type": "markdown",
   "id": "a28cdf2d",
   "metadata": {},
   "source": [
    "## Training the model: example 2"
   ]
  },
  {
   "cell_type": "code",
   "execution_count": null,
   "id": "58da5423",
   "metadata": {},
   "outputs": [],
   "source": [
    "from sklearn.ensemble import VotingClassifier\n",
    "from sklearn.model_selection import train_test_split\n",
    "from sklearn.linear_model import LogisticRegression\n",
    "from sklearn.tree import DecisionTreeClassifier\n",
    "from sklearn.svm import SVC\n",
    "from sklearn.preprocessing import MinMaxScaler\n",
    "from sklearn.impute import SimpleImputer\n",
    "from sklearn.pipeline import Pipeline\n",
    "import pandas as pd\n",
    "import joblib\n",
    "import gzip"
   ]
  },
  {
   "cell_type": "code",
   "execution_count": null,
   "id": "83c94b1e",
   "metadata": {},
   "outputs": [],
   "source": [
    "# Preselected feature\n",
    "selected_features = [\n",
    "    'concavity_mean',\n",
    "    'concave_points_mean',\n",
    "    'perimeter_se',\n",
    "    'area_se',\n",
    "    'texture_worst',\n",
    "    'area_worst'\n",
    "]"
   ]
  },
  {
   "cell_type": "code",
   "execution_count": null,
   "id": "44b5710b",
   "metadata": {},
   "outputs": [],
   "source": [
    "# Load the dataset\n",
    "data = pd.read_csv('data/breast_cancer.csv')\n",
    "\n",
    "# Preprocess dataset\n",
    "data = data.set_index('id')\n",
    "data['diagnosis'] = data['diagnosis'].replace(['B', 'M'], [0, 1])  # Encode y, B -> 0 , M -> 1\n",
    "\n",
    "y = data.pop('diagnosis')\n",
    "X = data\n",
    "X = X[selected_features.copy()]"
   ]
  },
  {
   "cell_type": "code",
   "execution_count": null,
   "id": "5b7be102",
   "metadata": {},
   "outputs": [],
   "source": [
    "X.head()"
   ]
  },
  {
   "cell_type": "code",
   "execution_count": null,
   "id": "a7b6415a",
   "metadata": {},
   "outputs": [],
   "source": [
    "X_train, X_test, y_train, y_test = train_test_split(X, y, test_size=0.2, random_state=42)"
   ]
  },
  {
   "cell_type": "code",
   "execution_count": null,
   "id": "e2aabbf5",
   "metadata": {},
   "outputs": [],
   "source": [
    "# Create an ensemble of 3 models\n",
    "estimators = []\n",
    "estimators.append(('logistic', LogisticRegression()))\n",
    "estimators.append(('cart', DecisionTreeClassifier()))\n",
    "estimators.append(('svm', SVC()))"
   ]
  },
  {
   "cell_type": "code",
   "execution_count": null,
   "id": "9889d025",
   "metadata": {},
   "outputs": [],
   "source": [
    "# Create the Ensemble Model\n",
    "ensemble = VotingClassifier(estimators)\n",
    "\n",
    "# Make preprocess Pipeline\n",
    "pipe = Pipeline([\n",
    "    ('imputer', SimpleImputer()),  # Missing value Imputer\n",
    "    ('scaler', MinMaxScaler(feature_range=(0, 1))),  # Min Max Scaler\n",
    "    ('model', ensemble)  # Ensemble Model\n",
    "])"
   ]
  },
  {
   "cell_type": "code",
   "execution_count": null,
   "id": "021dfdc2",
   "metadata": {},
   "outputs": [],
   "source": [
    "# Train the model\n",
    "pipe.fit(X_train, y_train)"
   ]
  },
  {
   "cell_type": "code",
   "execution_count": null,
   "id": "cf34a7f6",
   "metadata": {},
   "outputs": [],
   "source": [
    "# Test Accuracy\n",
    "print(\"Accuracy: %s%%\" % str(round(pipe.score(X_test, y_test), 3) * 100))"
   ]
  },
  {
   "cell_type": "code",
   "execution_count": null,
   "id": "79f7cd02",
   "metadata": {},
   "outputs": [],
   "source": [
    "# Export model\n",
    "joblib.dump(pipe, gzip.open('data/model_binary.dat.gz', \"wb\"))"
   ]
  },
  {
   "cell_type": "markdown",
   "id": "4b08c8a2",
   "metadata": {},
   "source": [
    "## Creating the API: example 2"
   ]
  },
  {
   "cell_type": "markdown",
   "id": "4d1b70b0",
   "metadata": {},
   "source": [
    "https://fastapi.tiangolo.com/"
   ]
  },
  {
   "cell_type": "markdown",
   "id": "a391ccb0",
   "metadata": {},
   "source": [
    "File: `app.py`"
   ]
  },
  {
   "cell_type": "markdown",
   "id": "2991870e",
   "metadata": {},
   "source": [
    "Run: `uvicorn cancer:app --reload`"
   ]
  },
  {
   "cell_type": "markdown",
   "id": "109b48be",
   "metadata": {},
   "source": [
    "Docs: `http://localhost:8000/docs`"
   ]
  },
  {
   "cell_type": "markdown",
   "id": "7e1740c4",
   "metadata": {},
   "source": [
    "    {\n",
    "      \"concavity_mean\": 0.3001,\n",
    "      \"concave_points_mean\": 0.1471,\n",
    "      \"perimeter_se\": 8.589,\n",
    "      \"area_se\": 153.4,\n",
    "      \"texture_worst\": 17.33,\n",
    "      \"area_worst\": 2019.0\n",
    "    }"
   ]
  }
 ],
 "metadata": {
  "kernelspec": {
   "display_name": "Python 3 (ipykernel)",
   "language": "python",
   "name": "python3"
  },
  "language_info": {
   "codemirror_mode": {
    "name": "ipython",
    "version": 3
   },
   "file_extension": ".py",
   "mimetype": "text/x-python",
   "name": "python",
   "nbconvert_exporter": "python",
   "pygments_lexer": "ipython3",
   "version": "3.10.7"
  }
 },
 "nbformat": 4,
 "nbformat_minor": 5
}
