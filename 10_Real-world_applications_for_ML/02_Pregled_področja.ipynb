{
 "cells": [
  {
   "cell_type": "markdown",
   "id": "f56189a2-baad-4705-9928-3a1830d0c81d",
   "metadata": {},
   "source": [
    "# Pregled področja"
   ]
  },
  {
   "cell_type": "markdown",
   "id": "13acc8ee-726d-4224-9117-24d2d4cdd6e7",
   "metadata": {},
   "source": [
    "- https://www.coursera.org/specializations/machine-learning-engineering-for-production-mlops#courses"
   ]
  },
  {
   "cell_type": "markdown",
   "id": "55f0d486-a241-442c-9bae-66d2d97dffff",
   "metadata": {},
   "source": [
    "- https://testdriven.io/blog/mlops/"
   ]
  },
  {
   "cell_type": "markdown",
   "id": "8ad254d0-5732-4dcf-8900-6dc6bebc51a9",
   "metadata": {},
   "source": [
    "- https://testdriven.io/blog/fastapi-streamlit/"
   ]
  },
  {
   "cell_type": "markdown",
   "id": "326a1c4a-8a45-4fa8-9808-c87a400c52c1",
   "metadata": {},
   "source": [
    "- https://github.com/EthicalML/awesome-production-machine-learning"
   ]
  },
  {
   "cell_type": "markdown",
   "id": "9394c884-a512-4bda-8042-47e50a0f905f",
   "metadata": {},
   "source": [
    "- https://landscape.lfai.foundation/"
   ]
  },
  {
   "cell_type": "markdown",
   "id": "83fd936d-9a21-492d-a4fd-297616c76f5e",
   "metadata": {},
   "source": [
    "- https://orangedatamining.com/"
   ]
  },
  {
   "cell_type": "markdown",
   "id": "4c3cae4b-9e32-4ea1-b68b-de6df3c18bee",
   "metadata": {},
   "source": [
    "- https://spark.apache.org/mllib/"
   ]
  },
  {
   "cell_type": "markdown",
   "id": "b560ee72-2fc2-49e1-9acb-d75aad0c1fc4",
   "metadata": {},
   "source": [
    "- https://streamlit.io/"
   ]
  },
  {
   "cell_type": "markdown",
   "id": "1faa53d8-9f46-428f-89ca-4705e570d9c7",
   "metadata": {},
   "source": [
    "- https://mlflow.org/"
   ]
  },
  {
   "cell_type": "markdown",
   "id": "48a39e7e-292f-46ef-bc15-bd587d54065a",
   "metadata": {},
   "source": [
    "- https://docs.dask.org/en/stable/"
   ]
  }
 ],
 "metadata": {
  "kernelspec": {
   "display_name": "Python 3 (ipykernel)",
   "language": "python",
   "name": "python3"
  },
  "language_info": {
   "codemirror_mode": {
    "name": "ipython",
    "version": 3
   },
   "file_extension": ".py",
   "mimetype": "text/x-python",
   "name": "python",
   "nbconvert_exporter": "python",
   "pygments_lexer": "ipython3",
   "version": "3.11.4"
  }
 },
 "nbformat": 4,
 "nbformat_minor": 5
}
